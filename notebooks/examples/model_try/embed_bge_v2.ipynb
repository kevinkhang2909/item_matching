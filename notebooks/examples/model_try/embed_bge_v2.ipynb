{
 "cells": [
  {
   "cell_type": "code",
   "id": "28f6df8c7caed3f9",
   "metadata": {
    "collapsed": false,
    "jupyter": {
     "outputs_hidden": false
    },
    "ExecuteTime": {
     "end_time": "2024-10-02T07:30:50.246062Z",
     "start_time": "2024-10-02T07:30:47.982948Z"
    }
   },
   "source": [
    "from pathlib import Path\n",
    "import polars as pl\n",
    "from datasets import Dataset\n",
    "import numpy as np\n",
    "from autofaiss import build_index\n",
    "from FlagEmbedding import BGEM3FlagModel\n",
    "from core_pro.ultilities import make_dir\n",
    "import sys\n",
    "sys.path.extend([str(Path.home() / 'PycharmProjects/item_matching')])\n",
    "\n",
    "from notebooks.benchmark.data_load import load"
   ],
   "outputs": [],
   "execution_count": 1
  },
  {
   "cell_type": "code",
   "id": "b8943115730af9e4",
   "metadata": {
    "ExecuteTime": {
     "end_time": "2024-10-02T07:30:50.880568Z",
     "start_time": "2024-10-02T07:30:50.250277Z"
    }
   },
   "source": [
    "df, col, path = load()\n",
    "df.head()"
   ],
   "outputs": [
    {
     "name": "stdout",
     "output_type": "stream",
     "text": [
      "Data Shape: (72110, 6)\n"
     ]
    },
    {
     "data": {
      "text/plain": [
       "shape: (5, 6)\n",
       "┌─────┬─────────────┬───────────────────┬───────────────────┬───────────────────┬──────────────────┐\n",
       "│ id  ┆ q_item_id   ┆ q_level1_global_b ┆ q_item_name       ┆ q_link_first_imag ┆ q_item_name_clea │\n",
       "│ --- ┆ ---         ┆ e_category        ┆ ---               ┆ e                 ┆ n                │\n",
       "│ u32 ┆ i64         ┆ ---               ┆ str               ┆ ---               ┆ ---              │\n",
       "│     ┆             ┆ str               ┆                   ┆ str               ┆ str              │\n",
       "╞═════╪═════════════╪═══════════════════╪═══════════════════╪═══════════════════╪══════════════════╡\n",
       "│ 0   ┆ 4992244030  ┆ Men Shoes         ┆ Hai Miếng Lót Đệm ┆ https://cf.shopee ┆ hai miếng lót    │\n",
       "│     ┆             ┆                   ┆ Giày Mềm Mã …     ┆ .sg/file/bfe9…    ┆ đệm giày mềm mã  │\n",
       "│     ┆             ┆                   ┆                   ┆                   ┆ …                │\n",
       "│ 1   ┆ 6655855608  ┆ Men Shoes         ┆ Ủng bảo hộ lao    ┆ https://cf.shopee ┆ ủng bảo hộ lao   │\n",
       "│     ┆             ┆                   ┆ động nam Jogger…  ┆ .sg/file/13e3…    ┆ động nam jogger… │\n",
       "│ 2   ┆ 22013169719 ┆ Men Shoes         ┆ Giày lười nam -   ┆ https://cf.shopee ┆ giày lười nam -  │\n",
       "│     ┆             ┆                   ┆ Slip on nam vả…   ┆ .sg/file/sg-1…    ┆ slip on nam vả…  │\n",
       "│ 3   ┆ 25414409766 ┆ Men Shoes         ┆ Giày Nike_AF1 Xám ┆ https://cf.shopee ┆ giày nike_af1    │\n",
       "│     ┆             ┆                   ┆ Lông Chuột, …     ┆ .sg/file/vn-1…    ┆ xám lông chuột,  │\n",
       "│     ┆             ┆                   ┆                   ┆                   ┆ …                │\n",
       "│ 4   ┆ 23275720358 ┆ Men Shoes         ┆ Dép DG Nam Phối   ┆ https://cf.shopee ┆ dép dg nam phối  │\n",
       "│     ┆             ┆                   ┆ Dây Chéo Cực Đ…   ┆ .sg/file/vn-1…    ┆ dây chéo cực đ…  │\n",
       "└─────┴─────────────┴───────────────────┴───────────────────┴───────────────────┴──────────────────┘"
      ],
      "text/html": [
       "<div><style>\n",
       ".dataframe > thead > tr,\n",
       ".dataframe > tbody > tr {\n",
       "  text-align: right;\n",
       "  white-space: pre-wrap;\n",
       "}\n",
       "</style>\n",
       "<small>shape: (5, 6)</small><table border=\"1\" class=\"dataframe\"><thead><tr><th>id</th><th>q_item_id</th><th>q_level1_global_be_category</th><th>q_item_name</th><th>q_link_first_image</th><th>q_item_name_clean</th></tr><tr><td>u32</td><td>i64</td><td>str</td><td>str</td><td>str</td><td>str</td></tr></thead><tbody><tr><td>0</td><td>4992244030</td><td>&quot;Men Shoes&quot;</td><td>&quot;Hai Miếng Lót Đệm Giày Mềm Mã …</td><td>&quot;https://cf.shopee.sg/file/bfe9…</td><td>&quot;hai miếng lót đệm giày mềm mã …</td></tr><tr><td>1</td><td>6655855608</td><td>&quot;Men Shoes&quot;</td><td>&quot;Ủng bảo hộ lao động nam Jogger…</td><td>&quot;https://cf.shopee.sg/file/13e3…</td><td>&quot;ủng bảo hộ lao động nam jogger…</td></tr><tr><td>2</td><td>22013169719</td><td>&quot;Men Shoes&quot;</td><td>&quot;Giày lười nam - Slip on nam vả…</td><td>&quot;https://cf.shopee.sg/file/sg-1…</td><td>&quot;giày lười nam - slip on nam vả…</td></tr><tr><td>3</td><td>25414409766</td><td>&quot;Men Shoes&quot;</td><td>&quot;Giày Nike_AF1 Xám Lông Chuột, …</td><td>&quot;https://cf.shopee.sg/file/vn-1…</td><td>&quot;giày nike_af1 xám lông chuột, …</td></tr><tr><td>4</td><td>23275720358</td><td>&quot;Men Shoes&quot;</td><td>&quot;Dép DG Nam Phối Dây Chéo Cực Đ…</td><td>&quot;https://cf.shopee.sg/file/vn-1…</td><td>&quot;dép dg nam phối dây chéo cực đ…</td></tr></tbody></table></div>"
      ]
     },
     "execution_count": 2,
     "metadata": {},
     "output_type": "execute_result"
    }
   ],
   "execution_count": 2
  },
  {
   "cell_type": "code",
   "id": "221b61297efcc3e0",
   "metadata": {
    "ExecuteTime": {
     "end_time": "2024-10-02T07:35:06.146661Z",
     "start_time": "2024-10-02T07:30:50.975425Z"
    }
   },
   "source": [
    "path_tmp_array = Path('tmp/array')\n",
    "path_tmp_ds = Path('tmp/ds')\n",
    "make_dir(path_tmp_ds)\n",
    "make_dir(path_tmp_array)\n",
    "\n",
    "file_embed = path_tmp_array / 'embed.npy'\n",
    "if not file_embed.exists():\n",
    "    model = BGEM3FlagModel('BAAI/bge-m3', use_fp16=False)\n",
    "    embeddings = model.encode(\n",
    "        df['q_item_name_clean'].to_list(),\n",
    "        batch_size=8,\n",
    "        max_length=80,\n",
    "        return_dense=True,\n",
    "        return_sparse=False,\n",
    "        return_colbert_vecs=False\n",
    "    )['dense_vecs']\n",
    "    np.save(file_embed, embeddings)\n",
    "else:\n",
    "    embeddings = np.load(file_embed)\n",
    "print(embeddings.shape)"
   ],
   "outputs": [
    {
     "data": {
      "text/plain": [
       "Fetching 30 files:   0%|          | 0/30 [00:00<?, ?it/s]"
      ],
      "application/vnd.jupyter.widget-view+json": {
       "version_major": 2,
       "version_minor": 0,
       "model_id": "f5b685b17e0e431bb11f9b50d4bd5901"
      }
     },
     "metadata": {},
     "output_type": "display_data"
    },
    {
     "name": "stderr",
     "output_type": "stream",
     "text": [
      "/home/kevin/miniforge3/envs/item/lib/python3.12/site-packages/FlagEmbedding/BGE_M3/modeling.py:335: FutureWarning: You are using `torch.load` with `weights_only=False` (the current default value), which uses the default pickle module implicitly. It is possible to construct malicious pickle data which will execute arbitrary code during unpickling (See https://github.com/pytorch/pytorch/blob/main/SECURITY.md#untrusted-models for more details). In a future release, the default value for `weights_only` will be flipped to `True`. This limits the functions that could be executed during unpickling. Arbitrary objects will no longer be allowed to be loaded via this mode unless they are explicitly allowlisted by the user via `torch.serialization.add_safe_globals`. We recommend you start setting `weights_only=True` for any use case where you don't have full control of the loaded file. Please open an issue on GitHub for any issues related to this experimental feature.\n",
      "  colbert_state_dict = torch.load(os.path.join(model_dir, 'colbert_linear.pt'), map_location='cpu')\n",
      "/home/kevin/miniforge3/envs/item/lib/python3.12/site-packages/FlagEmbedding/BGE_M3/modeling.py:336: FutureWarning: You are using `torch.load` with `weights_only=False` (the current default value), which uses the default pickle module implicitly. It is possible to construct malicious pickle data which will execute arbitrary code during unpickling (See https://github.com/pytorch/pytorch/blob/main/SECURITY.md#untrusted-models for more details). In a future release, the default value for `weights_only` will be flipped to `True`. This limits the functions that could be executed during unpickling. Arbitrary objects will no longer be allowed to be loaded via this mode unless they are explicitly allowlisted by the user via `torch.serialization.add_safe_globals`. We recommend you start setting `weights_only=True` for any use case where you don't have full control of the loaded file. Please open an issue on GitHub for any issues related to this experimental feature.\n",
      "  sparse_state_dict = torch.load(os.path.join(model_dir, 'sparse_linear.pt'), map_location='cpu')\n",
      "Inference Embeddings: 100%|██████████| 9014/9014 [04:13<00:00, 35.53it/s]\n"
     ]
    },
    {
     "name": "stdout",
     "output_type": "stream",
     "text": [
      "(72110, 1024)\n"
     ]
    }
   ],
   "execution_count": 3
  },
  {
   "cell_type": "code",
   "id": "b95e12aa6944cd3e",
   "metadata": {
    "collapsed": false,
    "jupyter": {
     "outputs_hidden": false
    },
    "ExecuteTime": {
     "end_time": "2024-10-02T07:35:06.613743Z",
     "start_time": "2024-10-02T07:35:06.211550Z"
    }
   },
   "source": [
    "df = df.with_columns(pl.Series(values=embeddings, name='embed'))\n",
    "dataset = Dataset.from_polars(df)\n",
    "dataset.set_format(type='numpy', columns=['embed'], output_all_columns=True)"
   ],
   "outputs": [],
   "execution_count": 4
  },
  {
   "cell_type": "code",
   "id": "96cc5afcf31a1e6a",
   "metadata": {
    "collapsed": false,
    "jupyter": {
     "outputs_hidden": false
    },
    "ExecuteTime": {
     "end_time": "2024-10-02T07:36:25.185858Z",
     "start_time": "2024-10-02T07:35:54.947681Z"
    }
   },
   "source": [
    "path_index = Path('tmp/index')\n",
    "build_index(\n",
    "    embeddings=embeddings,\n",
    "    index_path=str(path_index / f'ip.index'),\n",
    "    index_infos_path=str(path_index / f'index.json'),\n",
    "    save_on_disk=True,\n",
    "    metric_type='ip',\n",
    "    verbose=30,\n",
    ")"
   ],
   "outputs": [
    {
     "name": "stderr",
     "output_type": "stream",
     "text": [
      "100%|██████████| 1/1 [00:00<00:00, 36792.14it/s]\n",
      "100%|██████████| 6/6 [00:03<00:00,  1.76it/s]\n",
      "  0%|          | 0/1 [00:00<?, ?it/s]\n"
     ]
    },
    {
     "data": {
      "text/plain": [
       "(<faiss.swigfaiss_avx2.IndexHNSWFlat; proxy of <Swig Object of type 'faiss::IndexHNSWFlat *' at 0x75cac2117240> >,\n",
       " {'index_key': 'HNSW32',\n",
       "  'index_param': 'efSearch=866',\n",
       "  'index_path': 'tmp/index/ip.index',\n",
       "  'size in bytes': 314987402,\n",
       "  'avg_search_speed_ms': 9.663053585544278,\n",
       "  '99p_search_speed_ms': 16.96898969617905,\n",
       "  'reconstruction error %': 0.0,\n",
       "  'nb vectors': 72110,\n",
       "  'vectors dimension': 1024,\n",
       "  'compression ratio': 0.9376964225381941})"
      ]
     },
     "execution_count": 7,
     "metadata": {},
     "output_type": "execute_result"
    }
   ],
   "execution_count": 7
  },
  {
   "cell_type": "code",
   "id": "6efdce62f49c27b9",
   "metadata": {
    "collapsed": false,
    "jupyter": {
     "outputs_hidden": false
    },
    "ExecuteTime": {
     "end_time": "2024-10-02T07:36:25.398920Z",
     "start_time": "2024-10-02T07:36:25.259400Z"
    }
   },
   "source": [
    "# add index\n",
    "dataset.load_faiss_index('embed', path_index / f'ip.index')"
   ],
   "outputs": [],
   "execution_count": 8
  },
  {
   "cell_type": "code",
   "id": "3bcba75a987dd8c2",
   "metadata": {
    "collapsed": false,
    "jupyter": {
     "outputs_hidden": false
    },
    "ExecuteTime": {
     "end_time": "2024-10-02T07:37:57.408500Z",
     "start_time": "2024-10-02T07:37:55.571002Z"
    }
   },
   "source": [
    "score, result = dataset.get_nearest_examples_batch(\n",
    "    'embed',\n",
    "    np.asarray(dataset['embed']),\n",
    "    k=5\n",
    ")\n",
    "\n",
    "dict_ = {'score': [list(i) for i in score]}\n",
    "df_score = pl.DataFrame(dict_)\n",
    "df_result = (\n",
    "    pl.DataFrame(result).drop(['embed'])\n",
    "    .select(pl.all().name.prefix(f'db_'))\n",
    ")"
   ],
   "outputs": [],
   "execution_count": 11
  },
  {
   "cell_type": "code",
   "id": "ae3b4d1db34781b3",
   "metadata": {
    "collapsed": false,
    "jupyter": {
     "outputs_hidden": false
    },
    "ExecuteTime": {
     "end_time": "2024-10-02T07:38:00.212182Z",
     "start_time": "2024-10-02T07:37:59.770599Z"
    }
   },
   "source": [
    "df_match = pl.concat([df, df_result, df_score], how='horizontal')\n",
    "col_explode = [i for i in df_match.columns if 'notebooks' in i] + ['score']\n",
    "df_match = df_match.explode(col_explode)"
   ],
   "outputs": [],
   "execution_count": 12
  },
  {
   "cell_type": "code",
   "id": "c77a28d769f090a8",
   "metadata": {
    "collapsed": false,
    "jupyter": {
     "outputs_hidden": false
    },
    "ExecuteTime": {
     "end_time": "2024-10-02T07:38:00.999947Z",
     "start_time": "2024-10-02T07:38:00.996458Z"
    }
   },
   "source": [
    "df_match"
   ],
   "outputs": [
    {
     "data": {
      "text/plain": [
       "shape: (360_550, 14)\n",
       "┌───────┬────────────┬────────────┬────────────┬───┬────────────┬───────────┬───────────┬──────────┐\n",
       "│ id    ┆ q_item_id  ┆ q_level1_g ┆ q_item_nam ┆ … ┆ db_q_item_ ┆ db_q_link ┆ db_q_item ┆ score    │\n",
       "│ ---   ┆ ---        ┆ lobal_be_c ┆ e          ┆   ┆ name       ┆ _first_im ┆ _name_cle ┆ ---      │\n",
       "│ u32   ┆ i64        ┆ ategory    ┆ ---        ┆   ┆ ---        ┆ age       ┆ an        ┆ f32      │\n",
       "│       ┆            ┆ ---        ┆ str        ┆   ┆ str        ┆ ---       ┆ ---       ┆          │\n",
       "│       ┆            ┆ str        ┆            ┆   ┆            ┆ str       ┆ str       ┆          │\n",
       "╞═══════╪════════════╪════════════╪════════════╪═══╪════════════╪═══════════╪═══════════╪══════════╡\n",
       "│ 0     ┆ 4992244030 ┆ Men Shoes  ┆ Hai Miếng  ┆ … ┆ Hai Miếng  ┆ https://c ┆ hai miếng ┆ 1.0      │\n",
       "│       ┆            ┆            ┆ Lót Đệm    ┆   ┆ Lót Đệm    ┆ f.shopee. ┆ lót đệm   ┆          │\n",
       "│       ┆            ┆            ┆ Giày Mềm   ┆   ┆ Giày Mềm   ┆ sg/file/b ┆ giày mềm  ┆          │\n",
       "│       ┆            ┆            ┆ Mã …       ┆   ┆ Mã …       ┆ fe9…      ┆ mã …      ┆          │\n",
       "│ 0     ┆ 4992244030 ┆ Men Shoes  ┆ Hai Miếng  ┆ … ┆ Cặp Lót    ┆ https://c ┆ cặp lót   ┆ 0.814686 │\n",
       "│       ┆            ┆            ┆ Lót Đệm    ┆   ┆ Giày Mềm ( ┆ f.shopee. ┆ giày mềm  ┆          │\n",
       "│       ┆            ┆            ┆ Giày Mềm   ┆   ┆ Chân Phải  ┆ sg/file/a ┆ mã l03    ┆          │\n",
       "│       ┆            ┆            ┆ Mã …       ┆   ┆ +…         ┆ cd1…      ┆           ┆          │\n",
       "│ 0     ┆ 4992244030 ┆ Men Shoes  ┆ Hai Miếng  ┆ … ┆ Cặp Lót    ┆ https://c ┆ cặp lót   ┆ 0.787536 │\n",
       "│       ┆            ┆            ┆ Lót Đệm    ┆   ┆ Giày Mềm ( ┆ f.shopee. ┆ giày mềm  ┆          │\n",
       "│       ┆            ┆            ┆ Giày Mềm   ┆   ┆ Chân Phải  ┆ sg/file/v ┆ mềm mại   ┆          │\n",
       "│       ┆            ┆            ┆ Mã …       ┆   ┆ +…         ┆ n-1…      ┆           ┆          │\n",
       "│ 0     ┆ 4992244030 ┆ Men Shoes  ┆ Hai Miếng  ┆ … ┆ 2 MIẾNG    ┆ https://c ┆ 2 miếng   ┆ 0.770263 │\n",
       "│       ┆            ┆            ┆ Lót Đệm    ┆   ┆ LÓT Gót    ┆ f.shopee. ┆ lót gót   ┆          │\n",
       "│       ┆            ┆            ┆ Giày Mềm   ┆   ┆ GIÀY TĂNG  ┆ sg/file/s ┆ giày tăng ┆          │\n",
       "│       ┆            ┆            ┆ Mã …       ┆   ┆ CHIỀ…      ┆ g-1…      ┆ chiề…     ┆          │\n",
       "│ 0     ┆ 4992244030 ┆ Men Shoes  ┆ Hai Miếng  ┆ … ┆ 02 Miếng   ┆ https://c ┆ 02 miếng  ┆ 0.763561 │\n",
       "│       ┆            ┆            ┆ Lót Đệm    ┆   ┆ Lót Giày   ┆ f.shopee. ┆ lót giày  ┆          │\n",
       "│       ┆            ┆            ┆ Giày Mềm   ┆   ┆ Độn Đế     ┆ sg/file/v ┆ độn đế    ┆          │\n",
       "│       ┆            ┆            ┆ Mã …       ┆   ┆ Tăng …     ┆ n-1…      ┆ tăng …    ┆          │\n",
       "│ …     ┆ …          ┆ …          ┆ …          ┆ … ┆ …          ┆ …         ┆ …         ┆ …        │\n",
       "│ 72109 ┆ 1843218129 ┆ Men Shoes  ┆ Giày Thể   ┆ … ┆ Giày Thể   ┆ https://c ┆ giày thể  ┆ 1.0      │\n",
       "│       ┆ 6          ┆            ┆ Thao       ┆   ┆ Thao       ┆ f.shopee. ┆ thao      ┆          │\n",
       "│       ┆            ┆            ┆ Sneaker    ┆   ┆ Sneaker    ┆ sg/file/5 ┆ sneaker   ┆          │\n",
       "│       ┆            ┆            ┆ Nam Nữ 𝗝…  ┆   ┆ Nam Nữ 𝗝…  ┆ 339…      ┆ nam nữ 𝗝… ┆          │\n",
       "│ 72109 ┆ 1843218129 ┆ Men Shoes  ┆ Giày Thể   ┆ … ┆ Giày Thể   ┆ https://c ┆ giày thể  ┆ 0.960821 │\n",
       "│       ┆ 6          ┆            ┆ Thao       ┆   ┆ Thao Nam   ┆ f.shopee. ┆ thao nam  ┆          │\n",
       "│       ┆            ┆            ┆ Sneaker    ┆   ┆ Nữ 𝗝𝗼𝗿𝗱𝗮𝗻  ┆ sg/file/e ┆ nữ 𝗝𝗼𝗿𝗱𝗮𝗻 ┆          │\n",
       "│       ┆            ┆            ┆ Nam Nữ 𝗝…  ┆   ┆ Xa…        ┆ 392…      ┆ xa…       ┆          │\n",
       "│ 72109 ┆ 1843218129 ┆ Men Shoes  ┆ Giày Thể   ┆ … ┆ Giày Thể   ┆ https://c ┆ giày thể  ┆ 0.95498  │\n",
       "│       ┆ 6          ┆            ┆ Thao       ┆   ┆ Thao       ┆ f.shopee. ┆ thao      ┆          │\n",
       "│       ┆            ┆            ┆ Sneaker    ┆   ┆ Sneaker    ┆ sg/file/7 ┆ sneaker   ┆          │\n",
       "│       ┆            ┆            ┆ Nam Nữ 𝗝…  ┆   ┆ 𝗝𝗼𝗿𝗱𝗮𝗻 T…  ┆ 57e…      ┆ 𝗝𝗼𝗿𝗱𝗮𝗻 t… ┆          │\n",
       "│ 72109 ┆ 1843218129 ┆ Men Shoes  ┆ Giày Thể   ┆ … ┆ Giày       ┆ https://c ┆ giày      ┆ 0.953886 │\n",
       "│       ┆ 6          ┆            ┆ Thao       ┆   ┆ Jordan cổ  ┆ f.shopee. ┆ jordan cổ ┆          │\n",
       "│       ┆            ┆            ┆ Sneaker    ┆   ┆ thấp nam   ┆ sg/file/s ┆ thấp nam  ┆          │\n",
       "│       ┆            ┆            ┆ Nam Nữ 𝗝…  ┆   ┆ nữ màu…    ┆ g-1…      ┆ nữ màu…   ┆          │\n",
       "│ 72109 ┆ 1843218129 ┆ Men Shoes  ┆ Giày Thể   ┆ … ┆ Giày       ┆ https://c ┆ giày      ┆ 0.94881  │\n",
       "│       ┆ 6          ┆            ┆ Thao       ┆   ┆ 𝗝𝗼𝗿𝗱𝗮𝗻     ┆ f.shopee. ┆ 𝗝𝗼𝗿𝗱𝗮𝗻    ┆          │\n",
       "│       ┆            ┆            ┆ Sneaker    ┆   ┆ Xanh Thấp  ┆ sg/file/c ┆ xanh thấp ┆          │\n",
       "│       ┆            ┆            ┆ Nam Nữ 𝗝…  ┆   ┆ Cổ Nam N…  ┆ 903…      ┆ cổ nam n… ┆          │\n",
       "└───────┴────────────┴────────────┴────────────┴───┴────────────┴───────────┴───────────┴──────────┘"
      ],
      "text/html": [
       "<div><style>\n",
       ".dataframe > thead > tr,\n",
       ".dataframe > tbody > tr {\n",
       "  text-align: right;\n",
       "  white-space: pre-wrap;\n",
       "}\n",
       "</style>\n",
       "<small>shape: (360_550, 14)</small><table border=\"1\" class=\"dataframe\"><thead><tr><th>id</th><th>q_item_id</th><th>q_level1_global_be_category</th><th>q_item_name</th><th>q_link_first_image</th><th>q_item_name_clean</th><th>embed</th><th>db_id</th><th>db_q_item_id</th><th>db_q_level1_global_be_category</th><th>db_q_item_name</th><th>db_q_link_first_image</th><th>db_q_item_name_clean</th><th>score</th></tr><tr><td>u32</td><td>i64</td><td>str</td><td>str</td><td>str</td><td>str</td><td>array[f32, 1024]</td><td>i64</td><td>i64</td><td>str</td><td>str</td><td>str</td><td>str</td><td>f32</td></tr></thead><tbody><tr><td>0</td><td>4992244030</td><td>&quot;Men Shoes&quot;</td><td>&quot;Hai Miếng Lót Đệm Giày Mềm Mã …</td><td>&quot;https://cf.shopee.sg/file/bfe9…</td><td>&quot;hai miếng lót đệm giày mềm mã …</td><td>[-0.033611, 0.016315, … 0.003427]</td><td>0</td><td>4992244030</td><td>&quot;Men Shoes&quot;</td><td>&quot;Hai Miếng Lót Đệm Giày Mềm Mã …</td><td>&quot;https://cf.shopee.sg/file/bfe9…</td><td>&quot;hai miếng lót đệm giày mềm mã …</td><td>1.0</td></tr><tr><td>0</td><td>4992244030</td><td>&quot;Men Shoes&quot;</td><td>&quot;Hai Miếng Lót Đệm Giày Mềm Mã …</td><td>&quot;https://cf.shopee.sg/file/bfe9…</td><td>&quot;hai miếng lót đệm giày mềm mã …</td><td>[-0.033611, 0.016315, … 0.003427]</td><td>11781</td><td>11812317752</td><td>&quot;Men Shoes&quot;</td><td>&quot;Cặp Lót Giày Mềm ( Chân Phải +…</td><td>&quot;https://cf.shopee.sg/file/acd1…</td><td>&quot;cặp lót giày mềm  mã l03&quot;</td><td>0.814686</td></tr><tr><td>0</td><td>4992244030</td><td>&quot;Men Shoes&quot;</td><td>&quot;Hai Miếng Lót Đệm Giày Mềm Mã …</td><td>&quot;https://cf.shopee.sg/file/bfe9…</td><td>&quot;hai miếng lót đệm giày mềm mã …</td><td>[-0.033611, 0.016315, … 0.003427]</td><td>13838</td><td>17237055021</td><td>&quot;Men Shoes&quot;</td><td>&quot;Cặp Lót Giày Mềm ( Chân Phải +…</td><td>&quot;https://cf.shopee.sg/file/vn-1…</td><td>&quot;cặp lót giày mềm  mềm mại&quot;</td><td>0.787536</td></tr><tr><td>0</td><td>4992244030</td><td>&quot;Men Shoes&quot;</td><td>&quot;Hai Miếng Lót Đệm Giày Mềm Mã …</td><td>&quot;https://cf.shopee.sg/file/bfe9…</td><td>&quot;hai miếng lót đệm giày mềm mã …</td><td>[-0.033611, 0.016315, … 0.003427]</td><td>36429</td><td>852601616</td><td>&quot;Men Shoes&quot;</td><td>&quot;2 MIẾNG LÓT Gót GIÀY TĂNG CHIỀ…</td><td>&quot;https://cf.shopee.sg/file/sg-1…</td><td>&quot;2 miếng lót gót giày tăng chiề…</td><td>0.770263</td></tr><tr><td>0</td><td>4992244030</td><td>&quot;Men Shoes&quot;</td><td>&quot;Hai Miếng Lót Đệm Giày Mềm Mã …</td><td>&quot;https://cf.shopee.sg/file/bfe9…</td><td>&quot;hai miếng lót đệm giày mềm mã …</td><td>[-0.033611, 0.016315, … 0.003427]</td><td>21480</td><td>25318428920</td><td>&quot;Men Shoes&quot;</td><td>&quot;02 Miếng Lót Giày Độn Đế Tăng …</td><td>&quot;https://cf.shopee.sg/file/vn-1…</td><td>&quot;02 miếng lót giày độn đế tăng …</td><td>0.763561</td></tr><tr><td>&hellip;</td><td>&hellip;</td><td>&hellip;</td><td>&hellip;</td><td>&hellip;</td><td>&hellip;</td><td>&hellip;</td><td>&hellip;</td><td>&hellip;</td><td>&hellip;</td><td>&hellip;</td><td>&hellip;</td><td>&hellip;</td><td>&hellip;</td></tr><tr><td>72109</td><td>18432181296</td><td>&quot;Men Shoes&quot;</td><td>&quot;Giày Thể Thao Sneaker Nam Nữ 𝗝…</td><td>&quot;https://cf.shopee.sg/file/5339…</td><td>&quot;giày thể thao sneaker nam nữ 𝗝…</td><td>[-0.008872, -0.014089, … 0.00096]</td><td>72109</td><td>18432181296</td><td>&quot;Men Shoes&quot;</td><td>&quot;Giày Thể Thao Sneaker Nam Nữ 𝗝…</td><td>&quot;https://cf.shopee.sg/file/5339…</td><td>&quot;giày thể thao sneaker nam nữ 𝗝…</td><td>1.0</td></tr><tr><td>72109</td><td>18432181296</td><td>&quot;Men Shoes&quot;</td><td>&quot;Giày Thể Thao Sneaker Nam Nữ 𝗝…</td><td>&quot;https://cf.shopee.sg/file/5339…</td><td>&quot;giày thể thao sneaker nam nữ 𝗝…</td><td>[-0.008872, -0.014089, … 0.00096]</td><td>18569</td><td>17379360669</td><td>&quot;Men Shoes&quot;</td><td>&quot;Giày Thể Thao Nam Nữ 𝗝𝗼𝗿𝗱𝗮𝗻 Xa…</td><td>&quot;https://cf.shopee.sg/file/e392…</td><td>&quot;giày thể thao nam nữ 𝗝𝗼𝗿𝗱𝗮𝗻 xa…</td><td>0.960821</td></tr><tr><td>72109</td><td>18432181296</td><td>&quot;Men Shoes&quot;</td><td>&quot;Giày Thể Thao Sneaker Nam Nữ 𝗝…</td><td>&quot;https://cf.shopee.sg/file/5339…</td><td>&quot;giày thể thao sneaker nam nữ 𝗝…</td><td>[-0.008872, -0.014089, … 0.00096]</td><td>16553</td><td>19623518942</td><td>&quot;Men Shoes&quot;</td><td>&quot;Giày Thể Thao Sneaker 𝗝𝗼𝗿𝗱𝗮𝗻 T…</td><td>&quot;https://cf.shopee.sg/file/757e…</td><td>&quot;giày thể thao sneaker 𝗝𝗼𝗿𝗱𝗮𝗻 t…</td><td>0.95498</td></tr><tr><td>72109</td><td>18432181296</td><td>&quot;Men Shoes&quot;</td><td>&quot;Giày Thể Thao Sneaker Nam Nữ 𝗝…</td><td>&quot;https://cf.shopee.sg/file/5339…</td><td>&quot;giày thể thao sneaker nam nữ 𝗝…</td><td>[-0.008872, -0.014089, … 0.00096]</td><td>34017</td><td>23612991316</td><td>&quot;Men Shoes&quot;</td><td>&quot;Giày Jordan cổ thấp nam nữ màu…</td><td>&quot;https://cf.shopee.sg/file/sg-1…</td><td>&quot;giày jordan cổ thấp nam nữ màu…</td><td>0.953886</td></tr><tr><td>72109</td><td>18432181296</td><td>&quot;Men Shoes&quot;</td><td>&quot;Giày Thể Thao Sneaker Nam Nữ 𝗝…</td><td>&quot;https://cf.shopee.sg/file/5339…</td><td>&quot;giày thể thao sneaker nam nữ 𝗝…</td><td>[-0.008872, -0.014089, … 0.00096]</td><td>22880</td><td>21325666818</td><td>&quot;Men Shoes&quot;</td><td>&quot;Giày 𝗝𝗼𝗿𝗱𝗮𝗻 Xanh Thấp Cổ Nam N…</td><td>&quot;https://cf.shopee.sg/file/c903…</td><td>&quot;giày 𝗝𝗼𝗿𝗱𝗮𝗻 xanh thấp cổ nam n…</td><td>0.94881</td></tr></tbody></table></div>"
      ]
     },
     "execution_count": 13,
     "metadata": {},
     "output_type": "execute_result"
    }
   ],
   "execution_count": 13
  },
  {
   "cell_type": "code",
   "execution_count": null,
   "id": "2dacba735258ef3d",
   "metadata": {
    "collapsed": false,
    "jupyter": {
     "is_executing": true,
     "outputs_hidden": false
    }
   },
   "outputs": [],
   "source": []
  }
 ],
 "metadata": {
  "kernelspec": {
   "display_name": "Python 3 (ipykernel)",
   "language": "python",
   "name": "python3"
  },
  "language_info": {
   "codemirror_mode": {
    "name": "ipython",
    "version": 3
   },
   "file_extension": ".py",
   "mimetype": "text/x-python",
   "name": "python",
   "nbconvert_exporter": "python",
   "pygments_lexer": "ipython3",
   "version": "3.12.6"
  }
 },
 "nbformat": 4,
 "nbformat_minor": 5
}
