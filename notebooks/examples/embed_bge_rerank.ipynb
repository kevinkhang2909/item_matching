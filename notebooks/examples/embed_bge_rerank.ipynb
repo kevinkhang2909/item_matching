{
 "cells": [
  {
   "cell_type": "code",
   "source": [
    "from pathlib import Path\n",
    "import polars as pl\n",
    "from datasets import Dataset, concatenate_datasets, load_from_disk\n",
    "import numpy as np\n",
    "from autofaiss import build_index\n",
    "from src.item_matching.build_index.model import Model"
   ],
   "metadata": {
    "collapsed": false,
    "ExecuteTime": {
     "end_time": "2024-04-11T13:21:02.270849Z",
     "start_time": "2024-04-11T13:21:00.972498Z"
    }
   },
   "id": "28f6df8c7caed3f9",
   "execution_count": 2,
   "outputs": []
  },
  {
   "cell_type": "code",
   "id": "initial_id",
   "metadata": {
    "collapsed": true,
    "ExecuteTime": {
     "end_time": "2024-04-11T13:21:20.975638Z",
     "start_time": "2024-04-11T13:21:20.554960Z"
    }
   },
   "source": [
    "path = Path.home() / 'Downloads/cb'\n",
    "path_db = path / 'cb_2024-03-07.parquet'\n",
    "\n",
    "col = ['item_id', 'item_name']\n",
    "df_db = (\n",
    "    pl.read_parquet(path_db)\n",
    "    # .sort('item_id')\n",
    "    # .select(pl.col(c).name.prefix('db_') for c in col)\n",
    "    .head(10_000)\n",
    ")"
   ],
   "execution_count": 5,
   "outputs": []
  },
  {
   "metadata": {
    "ExecuteTime": {
     "end_time": "2024-04-11T13:25:12.622059Z",
     "start_time": "2024-04-11T13:25:12.615451Z"
    }
   },
   "cell_type": "code",
   "source": [
    "items = df_db['item_name'].unique().to_list()\n",
    "items[:6]"
   ],
   "id": "7157ac85eab42be3",
   "execution_count": 18,
   "outputs": []
  },
  {
   "metadata": {
    "ExecuteTime": {
     "end_time": "2024-04-11T13:22:03.796415Z",
     "start_time": "2024-04-11T13:21:23.395411Z"
    }
   },
   "cell_type": "code",
   "source": [
    "from FlagEmbedding import FlagReranker\n",
    "reranker = FlagReranker('BAAI/bge-reranker-v2-m3', use_fp16=True)"
   ],
   "id": "256902b18cf1e0af",
   "execution_count": 7,
   "outputs": []
  },
  {
   "metadata": {
    "ExecuteTime": {
     "end_time": "2024-04-11T13:26:33.780972Z",
     "start_time": "2024-04-11T13:26:33.769505Z"
    }
   },
   "cell_type": "code",
   "source": [
    "lst_pair = [(i , v) for i in items[:2] for v in items]\n",
    "lst_pair[:6]"
   ],
   "id": "96e034d2ee981cf2",
   "execution_count": 22,
   "outputs": []
  },
  {
   "metadata": {
    "ExecuteTime": {
     "end_time": "2024-04-11T13:27:17.973670Z",
     "start_time": "2024-04-11T13:26:35.175949Z"
    }
   },
   "cell_type": "code",
   "source": "score = reranker.compute_score(lst_pair, normalize=True, max_length=80)",
   "id": "39e27eb2102de28a",
   "execution_count": 23,
   "outputs": []
  },
  {
   "metadata": {
    "ExecuteTime": {
     "end_time": "2024-04-11T13:27:22.080969Z",
     "start_time": "2024-04-11T13:27:21.983080Z"
    }
   },
   "cell_type": "code",
   "source": [
    "data = (\n",
    "    pl.DataFrame(lst_pair).transpose()\n",
    "    .with_columns(pl.Series(values=score, name='score'))\n",
    "    .sort(['score'], descending=True)\n",
    ")\n",
    "data"
   ],
   "id": "83f21f0338e6a932",
   "execution_count": 25,
   "outputs": []
  },
  {
   "metadata": {},
   "cell_type": "code",
   "execution_count": null,
   "source": "",
   "id": "b9803cfd0e2a3d9",
   "outputs": []
  }
 ],
 "metadata": {
  "kernelspec": {
   "display_name": "Python 3",
   "language": "python",
   "name": "python3"
  },
  "language_info": {
   "codemirror_mode": {
    "name": "ipython",
    "version": 2
   },
   "file_extension": ".py",
   "mimetype": "text/x-python",
   "name": "python",
   "nbconvert_exporter": "python",
   "pygments_lexer": "ipython2",
   "version": "2.7.6"
  }
 },
 "nbformat": 4,
 "nbformat_minor": 5
}
