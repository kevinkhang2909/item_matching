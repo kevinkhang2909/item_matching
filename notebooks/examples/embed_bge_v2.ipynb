{
 "cells": [
  {
   "cell_type": "code",
   "execution_count": 1,
   "id": "28f6df8c7caed3f9",
   "metadata": {
    "collapsed": false,
    "jupyter": {
     "is_executing": true,
     "outputs_hidden": false
    }
   },
   "outputs": [],
   "source": [
    "from pathlib import Path\n",
    "import polars as pl\n",
    "from datasets import Dataset\n",
    "import numpy as np\n",
    "from autofaiss import build_index\n",
    "from FlagEmbedding import BGEM3FlagModel\n",
    "from core_pro.ultilities import make_dir\n",
    "import sys\n",
    "sys.path.extend([str(Path.home() / 'PycharmProjects/item_matching')])\n",
    "\n",
    "from notebooks.benchmark.data_load import load"
   ]
  },
  {
   "cell_type": "code",
   "execution_count": 2,
   "id": "b8943115730af9e4",
   "metadata": {
    "ExecuteTime": {
     "end_time": "2024-09-25T03:34:16.228783Z",
     "start_time": "2024-09-25T03:21:03.439529Z"
    }
   },
   "outputs": [
    {
     "name": "stdout",
     "output_type": "stream",
     "text": [
      "Data Shape: (72110, 6)\n"
     ]
    },
    {
     "data": {
      "text/html": [
       "<div><style>\n",
       ".dataframe > thead > tr,\n",
       ".dataframe > tbody > tr {\n",
       "  text-align: right;\n",
       "  white-space: pre-wrap;\n",
       "}\n",
       "</style>\n",
       "<small>shape: (5, 6)</small><table border=\"1\" class=\"dataframe\"><thead><tr><th>id</th><th>q_item_id</th><th>q_level1_global_be_category</th><th>q_item_name</th><th>q_link_first_image</th><th>q_item_name_clean</th></tr><tr><td>u32</td><td>i64</td><td>str</td><td>str</td><td>str</td><td>str</td></tr></thead><tbody><tr><td>0</td><td>21383090719</td><td>&quot;Men Shoes&quot;</td><td>&quot;Dép nam, nữ unisex 5 màu VAC đ…</td><td>&quot;https://cf.shopee.sg/file/vn-1…</td><td>&quot;dép nam, nữ unisex 5 màu vac đ…</td></tr><tr><td>1</td><td>20951659760</td><td>&quot;Men Shoes&quot;</td><td>&quot;Giày NB crt 300 2.0 Fullbox, G…</td><td>&quot;https://cf.shopee.sg/file/dbc7…</td><td>&quot;giày nb crt 300 2.0 fullbox, g…</td></tr><tr><td>2</td><td>19930263099</td><td>&quot;Men Shoes&quot;</td><td>&quot;GIÀY BẢO HỘ LAO ĐỘNG ĐẾ KẾP, Đ…</td><td>&quot;https://cf.shopee.sg/file/23a6…</td><td>&quot;giày bảo hộ lao động đế kếp, đ…</td></tr><tr><td>3</td><td>24673915700</td><td>&quot;Men Shoes&quot;</td><td>&quot;Dép tông nam nữ BBR chữ đế 2 l…</td><td>&quot;https://cf.shopee.sg/file/vn-1…</td><td>&quot;dép tông nam nữ bbr chữ đế 2 l…</td></tr><tr><td>4</td><td>15496457499</td><td>&quot;Men Shoes&quot;</td><td>&quot;(𝗖𝗵𝗶́𝗻𝗵 𝗵𝗮̃𝗻𝗴) Dép ADIDAS ADIL…</td><td>&quot;https://cf.shopee.sg/file/vn-1…</td><td>&quot;dép adidas adilette aqua chống…</td></tr></tbody></table></div>"
      ],
      "text/plain": [
       "shape: (5, 6)\n",
       "┌─────┬─────────────┬───────────────────┬───────────────────┬───────────────────┬──────────────────┐\n",
       "│ id  ┆ q_item_id   ┆ q_level1_global_b ┆ q_item_name       ┆ q_link_first_imag ┆ q_item_name_clea │\n",
       "│ --- ┆ ---         ┆ e_category        ┆ ---               ┆ e                 ┆ n                │\n",
       "│ u32 ┆ i64         ┆ ---               ┆ str               ┆ ---               ┆ ---              │\n",
       "│     ┆             ┆ str               ┆                   ┆ str               ┆ str              │\n",
       "╞═════╪═════════════╪═══════════════════╪═══════════════════╪═══════════════════╪══════════════════╡\n",
       "│ 0   ┆ 21383090719 ┆ Men Shoes         ┆ Dép nam, nữ       ┆ https://cf.shopee ┆ dép nam, nữ      │\n",
       "│     ┆             ┆                   ┆ unisex 5 màu VAC  ┆ .sg/file/vn-1…    ┆ unisex 5 màu vac │\n",
       "│     ┆             ┆                   ┆ đ…                ┆                   ┆ đ…               │\n",
       "│ 1   ┆ 20951659760 ┆ Men Shoes         ┆ Giày NB crt 300   ┆ https://cf.shopee ┆ giày nb crt 300  │\n",
       "│     ┆             ┆                   ┆ 2.0 Fullbox, G…   ┆ .sg/file/dbc7…    ┆ 2.0 fullbox, g…  │\n",
       "│ 2   ┆ 19930263099 ┆ Men Shoes         ┆ GIÀY BẢO HỘ LAO   ┆ https://cf.shopee ┆ giày bảo hộ lao  │\n",
       "│     ┆             ┆                   ┆ ĐỘNG ĐẾ KẾP, Đ…   ┆ .sg/file/23a6…    ┆ động đế kếp, đ…  │\n",
       "│ 3   ┆ 24673915700 ┆ Men Shoes         ┆ Dép tông nam nữ   ┆ https://cf.shopee ┆ dép tông nam nữ  │\n",
       "│     ┆             ┆                   ┆ BBR chữ đế 2 l…   ┆ .sg/file/vn-1…    ┆ bbr chữ đế 2 l…  │\n",
       "│ 4   ┆ 15496457499 ┆ Men Shoes         ┆ (𝗖𝗵𝗶́𝗻𝗵 𝗵𝗮̃𝗻𝗴) Dép  ┆ https://cf.shopee ┆ dép adidas       │\n",
       "│     ┆             ┆                   ┆ ADIDAS ADIL…      ┆ .sg/file/vn-1…    ┆ adilette aqua    │\n",
       "│     ┆             ┆                   ┆                   ┆                   ┆ chống…           │\n",
       "└─────┴─────────────┴───────────────────┴───────────────────┴───────────────────┴──────────────────┘"
      ]
     },
     "execution_count": 2,
     "metadata": {},
     "output_type": "execute_result"
    }
   ],
   "source": [
    "df, col, path = load()\n",
    "df.head()"
   ]
  },
  {
   "cell_type": "code",
   "execution_count": null,
   "id": "221b61297efcc3e0",
   "metadata": {
    "jupyter": {
     "is_executing": true
    }
   },
   "outputs": [
    {
     "data": {
      "application/vnd.jupyter.widget-view+json": {
       "model_id": "29816ceea5284764945e320c537c32ba",
       "version_major": 2,
       "version_minor": 0
      },
      "text/plain": [
       "Fetching 30 files:   0%|          | 0/30 [00:00<?, ?it/s]"
      ]
     },
     "metadata": {},
     "output_type": "display_data"
    }
   ],
   "source": [
    "path_tmp_array = Path('tmp/array')\n",
    "path_tmp_ds = Path('tmp/ds')\n",
    "make_dir(path_tmp_ds)\n",
    "make_dir(path_tmp_array)\n",
    "\n",
    "file_embed = path_tmp_array / 'embed.npy'\n",
    "if not file_embed.exists():\n",
    "    model = BGEM3FlagModel('BAAI/bge-m3', use_fp16=False)\n",
    "    embeddings = model.encode(\n",
    "        df['q_item_name_clean'].to_list(),\n",
    "        batch_size=8,\n",
    "        max_length=80,\n",
    "        return_dense=True,\n",
    "        return_sparse=False,\n",
    "        return_colbert_vecs=False\n",
    "    )['dense_vecs']\n",
    "    np.save(file_embed, embeddings)\n",
    "else:\n",
    "    embeddings = np.load(file_embed)\n",
    "print(embeddings.shape)"
   ]
  },
  {
   "cell_type": "code",
   "execution_count": null,
   "id": "b95e12aa6944cd3e",
   "metadata": {
    "collapsed": false,
    "jupyter": {
     "is_executing": true,
     "outputs_hidden": false
    }
   },
   "outputs": [],
   "source": [
    "df = df.with_columns(pl.Series(values=embeddings, name='embed'))\n",
    "dataset = Dataset.from_polars(df)\n",
    "dataset.set_format(type='numpy', columns=['embed'], output_all_columns=True)"
   ]
  },
  {
   "cell_type": "code",
   "execution_count": null,
   "id": "96cc5afcf31a1e6a",
   "metadata": {
    "collapsed": false,
    "jupyter": {
     "is_executing": true,
     "outputs_hidden": false
    }
   },
   "outputs": [],
   "source": [
    "path_index = Path('tmp/index')\n",
    "build_index(\n",
    "    str(path_tmp_array),\n",
    "    index_path=str(path_index / f'ip.index'),\n",
    "    index_infos_path=str(path_index / f'index.json'),\n",
    "    save_on_disk=True,\n",
    "    metric_type='ip',\n",
    "    verbose=30,\n",
    ")"
   ]
  },
  {
   "cell_type": "code",
   "execution_count": null,
   "id": "6efdce62f49c27b9",
   "metadata": {
    "collapsed": false,
    "jupyter": {
     "is_executing": true,
     "outputs_hidden": false
    }
   },
   "outputs": [],
   "source": [
    "# add index\n",
    "dataset.load_faiss_index('embed', path_index / f'ip.index')"
   ]
  },
  {
   "cell_type": "code",
   "execution_count": null,
   "id": "3bcba75a987dd8c2",
   "metadata": {
    "collapsed": false,
    "jupyter": {
     "is_executing": true,
     "outputs_hidden": false
    }
   },
   "outputs": [],
   "source": [
    "score, result = dataset.get_nearest_examples_batch(\n",
    "    'embed',\n",
    "    np.asarray(dataset['embed']),\n",
    "    k=5\n",
    ")\n",
    "\n",
    "dict_ = {'score': [list(i) for i in score]}\n",
    "df_score = pl.DataFrame(dict_)\n",
    "df_result = pl.DataFrame(result).drop(['embed'])"
   ]
  },
  {
   "cell_type": "code",
   "execution_count": null,
   "id": "ae3b4d1db34781b3",
   "metadata": {
    "collapsed": false,
    "jupyter": {
     "is_executing": true,
     "outputs_hidden": false
    }
   },
   "outputs": [],
   "source": [
    "df_match = pl.concat([df, df_result, df_score], how='horizontal')\n",
    "col_explode = [i for i in df_match.columns if 'db' in i] + ['score']\n",
    "df_match = df_match.explode(col_explode)"
   ]
  },
  {
   "cell_type": "code",
   "execution_count": null,
   "id": "c77a28d769f090a8",
   "metadata": {
    "collapsed": false,
    "jupyter": {
     "is_executing": true,
     "outputs_hidden": false
    }
   },
   "outputs": [],
   "source": [
    "df_match"
   ]
  },
  {
   "cell_type": "code",
   "execution_count": null,
   "id": "2dacba735258ef3d",
   "metadata": {
    "collapsed": false,
    "jupyter": {
     "is_executing": true,
     "outputs_hidden": false
    }
   },
   "outputs": [],
   "source": []
  }
 ],
 "metadata": {
  "kernelspec": {
   "display_name": "Python 3 (ipykernel)",
   "language": "python",
   "name": "python3"
  },
  "language_info": {
   "codemirror_mode": {
    "name": "ipython",
    "version": 3
   },
   "file_extension": ".py",
   "mimetype": "text/x-python",
   "name": "python",
   "nbconvert_exporter": "python",
   "pygments_lexer": "ipython3",
   "version": "3.12.6"
  }
 },
 "nbformat": 4,
 "nbformat_minor": 5
}
