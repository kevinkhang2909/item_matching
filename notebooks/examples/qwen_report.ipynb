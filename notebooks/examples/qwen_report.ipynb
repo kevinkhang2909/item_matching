{
 "cells": [
  {
   "metadata": {
    "ExecuteTime": {
     "end_time": "2024-09-30T10:01:33.568819Z",
     "start_time": "2024-09-30T10:01:31.261858Z"
    }
   },
   "cell_type": "code",
   "source": [
    "from pathlib import Path\n",
    "import polars as pl\n",
    "from autofaiss import build_index\n",
    "from FlagEmbedding import BGEM3FlagModel\n",
    "from datasets import Dataset\n",
    "import numpy as np\n",
    "from core_pro.ultilities import make_dir\n",
    "from item_matching import PipelineText"
   ],
   "id": "230ff7394515b3f6",
   "outputs": [],
   "execution_count": 1
  },
  {
   "cell_type": "code",
   "id": "initial_id",
   "metadata": {
    "collapsed": true,
    "ExecuteTime": {
     "end_time": "2024-09-30T10:01:34.370453Z",
     "start_time": "2024-09-30T10:01:34.347021Z"
    }
   },
   "source": [
    "path = Path('/media/kevin/data_4t/Test')\n",
    "file = path / 'Description_Images_summary.parquet'\n",
    "df = pl.read_parquet(file)\n",
    "print(df.shape, df['item_id'].n_unique())\n",
    "df.head()"
   ],
   "outputs": [
    {
     "name": "stdout",
     "output_type": "stream",
     "text": [
      "(200, 12) 200\n"
     ]
    },
    {
     "data": {
      "text/plain": [
       "shape: (5, 12)\n",
       "┌────────────┬────────────┬───────────┬───────────┬───┬───────────┬────────┬───────────┬───────────┐\n",
       "│ item_id    ┆ item_name  ┆ shop_id   ┆ shop_name ┆ … ┆ file_path ┆ exists ┆ img_info  ┆ text_info │\n",
       "│ ---        ┆ ---        ┆ ---       ┆ ---       ┆   ┆ ---       ┆ ---    ┆ ---       ┆ ---       │\n",
       "│ i64        ┆ str        ┆ i64       ┆ str       ┆   ┆ str       ┆ bool   ┆ str       ┆ str       │\n",
       "╞════════════╪════════════╪═══════════╪═══════════╪═══╪═══════════╪════════╪═══════════╪═══════════╡\n",
       "│ 1669328377 ┆ Hộp 10 Kẹp ┆ 936501257 ┆ nailxinh. ┆ … ┆ /media/ke ┆ true   ┆ ```json   ┆ ```json   │\n",
       "│ 6          ┆ Tóc Nhỏ    ┆           ┆ ling      ┆   ┆ vin/data_ ┆        ┆ {         ┆ {         │\n",
       "│            ┆ Bằng Nhựa  ┆           ┆           ┆   ┆ 4t/Test/d ┆        ┆ \"product_ ┆ \"product_ │\n",
       "│            ┆ B…         ┆           ┆           ┆   ┆ own…      ┆        ┆ type\":    ┆ type\":    │\n",
       "│            ┆            ┆           ┆           ┆   ┆           ┆        ┆ \"N…       ┆ \"N…       │\n",
       "│ 1728537610 ┆ Váy 2 dây  ┆ 184210921 ┆ SUTANO    ┆ … ┆ /media/ke ┆ true   ┆ ```json   ┆ ```json   │\n",
       "│ 4          ┆ dài suông  ┆           ┆ FASHION   ┆   ┆ vin/data_ ┆        ┆ {         ┆ {         │\n",
       "│            ┆ quốc dân   ┆           ┆           ┆   ┆ 4t/Test/d ┆        ┆ \"product_ ┆ \"product_ │\n",
       "│            ┆ S…         ┆           ┆           ┆   ┆ own…      ┆        ┆ type\":    ┆ type\":    │\n",
       "│            ┆            ┆           ┆           ┆   ┆           ┆        ┆ \"D…       ┆ \"D…       │\n",
       "│ 2518269567 ┆ Set đồ nữ  ┆ 128701446 ┆ TRENY_OFF ┆ … ┆ /media/ke ┆ true   ┆ ```json   ┆ ```json   │\n",
       "│ 9          ┆ áo buộc cổ ┆ 3         ┆ ICIAL     ┆   ┆ vin/data_ ┆        ┆ {         ┆ {         │\n",
       "│            ┆ cúp ngực … ┆           ┆           ┆   ┆ 4t/Test/d ┆        ┆ \"product_ ┆ \"product_ │\n",
       "│            ┆            ┆           ┆           ┆   ┆ own…      ┆        ┆ type\":    ┆ type\":    │\n",
       "│            ┆            ┆           ┆           ┆   ┆           ┆        ┆ \"D…       ┆ \"D…       │\n",
       "│ 1527343105 ┆ Quần jean  ┆ 682198966 ┆ KING77_FA ┆ … ┆ /media/ke ┆ true   ┆ {         ┆ {         │\n",
       "│ 9          ┆ nam DSQ    ┆           ┆ SHION     ┆   ┆ vin/data_ ┆        ┆ \"product_ ┆ \"product_ │\n",
       "│            ┆ xanh thêu  ┆           ┆           ┆   ┆ 4t/Test/d ┆        ┆ type\":    ┆ type\":    │\n",
       "│            ┆ lá…        ┆           ┆           ┆   ┆ own…      ┆        ┆ \"Jeans\",  ┆ \"Jeans\",  │\n",
       "│            ┆            ┆           ┆           ┆   ┆           ┆        ┆  …        ┆  …        │\n",
       "│ 2513065746 ┆ Kẹp Tóc Nơ ┆ 803276458 ┆ Girlspowe ┆ … ┆ /media/ke ┆ true   ┆ ```json   ┆ ```json   │\n",
       "│ 6          ┆ Màu Cô Gái ┆           ┆ r.vn      ┆   ┆ vin/data_ ┆        ┆ {         ┆ {         │\n",
       "│            ┆ Tam Giác…  ┆           ┆           ┆   ┆ 4t/Test/d ┆        ┆ \"product_ ┆ \"product_ │\n",
       "│            ┆            ┆           ┆           ┆   ┆ own…      ┆        ┆ type\":    ┆ type\":    │\n",
       "│            ┆            ┆           ┆           ┆   ┆           ┆        ┆ \"H…       ┆ \"H…       │\n",
       "└────────────┴────────────┴───────────┴───────────┴───┴───────────┴────────┴───────────┴───────────┘"
      ],
      "text/html": [
       "<div><style>\n",
       ".dataframe > thead > tr,\n",
       ".dataframe > tbody > tr {\n",
       "  text-align: right;\n",
       "  white-space: pre-wrap;\n",
       "}\n",
       "</style>\n",
       "<small>shape: (5, 12)</small><table border=\"1\" class=\"dataframe\"><thead><tr><th>item_id</th><th>item_name</th><th>shop_id</th><th>shop_name</th><th>level1_global_be_category</th><th>description</th><th>images</th><th>image_url</th><th>file_path</th><th>exists</th><th>img_info</th><th>text_info</th></tr><tr><td>i64</td><td>str</td><td>i64</td><td>str</td><td>str</td><td>str</td><td>str</td><td>str</td><td>str</td><td>bool</td><td>str</td><td>str</td></tr></thead><tbody><tr><td>16693283776</td><td>&quot;Hộp 10 Kẹp Tóc Nhỏ Bằng Nhựa B…</td><td>936501257</td><td>&quot;nailxinh.ling&quot;</td><td>&quot;Fashion Accessories&quot;</td><td>&quot;Hộp 10 Kẹp Tóc Nhỏ Bằng Nhựa B…</td><td>&quot;vn-11134201-23030-6scwoywxp9nv…</td><td>&quot;http://f.shopee.vn/file/vn-111…</td><td>&quot;/media/kevin/data_4t/Test/down…</td><td>true</td><td>&quot;```json\n",
       "{\n",
       "  &quot;product_type&quot;: &quot;N…</td><td>&quot;```json\n",
       "{\n",
       "  &quot;product_type&quot;: &quot;N…</td></tr><tr><td>17285376104</td><td>&quot;Váy 2 dây dài suông quốc dân S…</td><td>184210921</td><td>&quot;SUTANO FASHION&quot;</td><td>&quot;Women Clothes&quot;</td><td>&quot;[{&quot;t&quot;:&quot;Váy 2 dây dài suông quố…</td><td>&quot;sg-11134201-7rbmo-lqlqja37zjwk…</td><td>&quot;http://f.shopee.vn/file/sg-111…</td><td>&quot;/media/kevin/data_4t/Test/down…</td><td>true</td><td>&quot;```json\n",
       "{\n",
       "  &quot;product_type&quot;: &quot;D…</td><td>&quot;```json\n",
       "{\n",
       "  &quot;product_type&quot;: &quot;D…</td></tr><tr><td>25182695679</td><td>&quot;Set đồ nữ áo buộc cổ cúp ngực …</td><td>1287014463</td><td>&quot;TRENY_OFFICIAL&quot;</td><td>&quot;Women Clothes&quot;</td><td>&quot;Set đồ nữ áo buộc cổ cúp ngực …</td><td>&quot;vn-11134207-7r98o-lwz6306v2p5l…</td><td>&quot;http://f.shopee.vn/file/vn-111…</td><td>&quot;/media/kevin/data_4t/Test/down…</td><td>true</td><td>&quot;```json\n",
       "{\n",
       "  &quot;product_type&quot;: &quot;D…</td><td>&quot;```json\n",
       "{\n",
       "  &quot;product_type&quot;: &quot;D…</td></tr><tr><td>15273431059</td><td>&quot;Quần jean nam DSQ xanh thêu lá…</td><td>682198966</td><td>&quot;KING77_FASHION&quot;</td><td>&quot;Men Clothes&quot;</td><td>&quot;[{&quot;t&quot;:&quot;Chuỗi thời trang KING77…</td><td>&quot;vn-11134207-7r98o-lsr2rxp5iax0…</td><td>&quot;http://f.shopee.vn/file/vn-111…</td><td>&quot;/media/kevin/data_4t/Test/down…</td><td>true</td><td>&quot;{\n",
       "  &quot;product_type&quot;: &quot;Jeans&quot;,\n",
       " …</td><td>&quot;{\n",
       "  &quot;product_type&quot;: &quot;Jeans&quot;,\n",
       " …</td></tr><tr><td>25130657466</td><td>&quot;Kẹp Tóc Nơ Màu Cô Gái Tam Giác…</td><td>803276458</td><td>&quot;Girlspower.vn&quot;</td><td>&quot;Fashion Accessories&quot;</td><td>&quot;💗 Chào mừng đến với cửa hàng c…</td><td>&quot;sg-11134201-7rd66-lvb9le6gqnhs…</td><td>&quot;http://f.shopee.vn/file/sg-111…</td><td>&quot;/media/kevin/data_4t/Test/down…</td><td>true</td><td>&quot;```json\n",
       "{\n",
       "  &quot;product_type&quot;: &quot;H…</td><td>&quot;```json\n",
       "{\n",
       "  &quot;product_type&quot;: &quot;H…</td></tr></tbody></table></div>"
      ]
     },
     "execution_count": 2,
     "metadata": {},
     "output_type": "execute_result"
    }
   ],
   "execution_count": 2
  },
  {
   "metadata": {
    "ExecuteTime": {
     "end_time": "2024-09-30T10:01:36.336990Z",
     "start_time": "2024-09-30T10:01:36.297546Z"
    }
   },
   "cell_type": "code",
   "source": "df_q = PipelineText(mode='q').run(df)",
   "id": "1f91353423051669",
   "outputs": [
    {
     "name": "stdout",
     "output_type": "stream",
     "text": [
      "\u001B[1mINFO\u001B[0m | \u001B[36mrun\u001B[0m | \u001B[1m[Data] Base Data db: (200, 12)\u001B[0m\n"
     ]
    },
    {
     "name": "stderr",
     "output_type": "stream",
     "text": [
      "[Pipeline] Clean Text: 100%|██████████| 200/200 [00:00<00:00, 17303.59it/s]"
     ]
    },
    {
     "name": "stdout",
     "output_type": "stream",
     "text": [
      "\u001B[1mINFO\u001B[0m | \u001B[36mrun\u001B[0m | \u001B[1m[Data] Join Data db: (200, 13)\u001B[0m\n",
      "\u001B[1mINFO\u001B[0m | \u001B[36mrun\u001B[0m | \u001B[1m[Data] Base Data q: (200, 12)\u001B[0m\n"
     ]
    },
    {
     "name": "stderr",
     "output_type": "stream",
     "text": [
      "\n",
      "[Pipeline] Clean Text: 100%|██████████| 200/200 [00:00<00:00, 22612.02it/s]"
     ]
    },
    {
     "name": "stdout",
     "output_type": "stream",
     "text": [
      "\u001B[1mINFO\u001B[0m | \u001B[36mrun\u001B[0m | \u001B[1m[Data] Join Data q: (200, 13)\u001B[0m\n"
     ]
    },
    {
     "name": "stderr",
     "output_type": "stream",
     "text": [
      "\n"
     ]
    }
   ],
   "execution_count": 3
  },
  {
   "metadata": {
    "ExecuteTime": {
     "end_time": "2024-09-30T10:01:39.030979Z",
     "start_time": "2024-09-30T10:01:39.026622Z"
    }
   },
   "cell_type": "code",
   "source": "df_q",
   "id": "e3fe646c7d2a3ad5",
   "outputs": [
    {
     "data": {
      "text/plain": [
       "shape: (200, 13)\n",
       "┌───────────┬───────────┬───────────┬───────────┬───┬──────────┬───────────┬───────────┬───────────┐\n",
       "│ q_item_id ┆ q_item_na ┆ q_shop_id ┆ q_shop_na ┆ … ┆ q_exists ┆ q_img_inf ┆ q_text_in ┆ q_item_na │\n",
       "│ ---       ┆ me        ┆ ---       ┆ me        ┆   ┆ ---      ┆ o         ┆ fo        ┆ me_clean  │\n",
       "│ i64       ┆ ---       ┆ i64       ┆ ---       ┆   ┆ bool     ┆ ---       ┆ ---       ┆ ---       │\n",
       "│           ┆ str       ┆           ┆ str       ┆   ┆          ┆ str       ┆ str       ┆ str       │\n",
       "╞═══════════╪═══════════╪═══════════╪═══════════╪═══╪══════════╪═══════════╪═══════════╪═══════════╡\n",
       "│ 166932837 ┆ Hộp 10    ┆ 936501257 ┆ nailxinh. ┆ … ┆ true     ┆ ```json   ┆ ```json   ┆ hộp 10    │\n",
       "│ 76        ┆ Kẹp Tóc   ┆           ┆ ling      ┆   ┆          ┆ {         ┆ {         ┆ kẹp tóc   │\n",
       "│           ┆ Nhỏ Bằng  ┆           ┆           ┆   ┆          ┆ \"product_ ┆ \"product_ ┆ nhỏ bằng  │\n",
       "│           ┆ Nhựa B…   ┆           ┆           ┆   ┆          ┆ type\":    ┆ type\":    ┆ nhựa b…   │\n",
       "│           ┆           ┆           ┆           ┆   ┆          ┆ \"N…       ┆ \"N…       ┆           │\n",
       "│ 172853761 ┆ Váy 2 dây ┆ 184210921 ┆ SUTANO    ┆ … ┆ true     ┆ ```json   ┆ ```json   ┆ váy 2 dây │\n",
       "│ 04        ┆ dài suông ┆           ┆ FASHION   ┆   ┆          ┆ {         ┆ {         ┆ dài suông │\n",
       "│           ┆ quốc dân  ┆           ┆           ┆   ┆          ┆ \"product_ ┆ \"product_ ┆ quốc dân  │\n",
       "│           ┆ S…        ┆           ┆           ┆   ┆          ┆ type\":    ┆ type\":    ┆ s…        │\n",
       "│           ┆           ┆           ┆           ┆   ┆          ┆ \"D…       ┆ \"D…       ┆           │\n",
       "│ 251826956 ┆ Set đồ nữ ┆ 128701446 ┆ TRENY_OFF ┆ … ┆ true     ┆ ```json   ┆ ```json   ┆ set đồ nữ │\n",
       "│ 79        ┆ áo buộc   ┆ 3         ┆ ICIAL     ┆   ┆          ┆ {         ┆ {         ┆ áo buộc   │\n",
       "│           ┆ cổ cúp    ┆           ┆           ┆   ┆          ┆ \"product_ ┆ \"product_ ┆ cổ cúp    │\n",
       "│           ┆ ngực …    ┆           ┆           ┆   ┆          ┆ type\":    ┆ type\":    ┆ ngực …    │\n",
       "│           ┆           ┆           ┆           ┆   ┆          ┆ \"D…       ┆ \"D…       ┆           │\n",
       "│ 152734310 ┆ Quần jean ┆ 682198966 ┆ KING77_FA ┆ … ┆ true     ┆ {         ┆ {         ┆ quần jean │\n",
       "│ 59        ┆ nam DSQ   ┆           ┆ SHION     ┆   ┆          ┆ \"product_ ┆ \"product_ ┆ nam dsq   │\n",
       "│           ┆ xanh thêu ┆           ┆           ┆   ┆          ┆ type\":    ┆ type\":    ┆ xanh thêu │\n",
       "│           ┆ lá…       ┆           ┆           ┆   ┆          ┆ \"Jeans\",  ┆ \"Jeans\",  ┆ lá…       │\n",
       "│           ┆           ┆           ┆           ┆   ┆          ┆  …        ┆  …        ┆           │\n",
       "│ 251306574 ┆ Kẹp Tóc   ┆ 803276458 ┆ Girlspowe ┆ … ┆ true     ┆ ```json   ┆ ```json   ┆ kẹp tóc   │\n",
       "│ 66        ┆ Nơ Màu Cô ┆           ┆ r.vn      ┆   ┆          ┆ {         ┆ {         ┆ nơ màu cô │\n",
       "│           ┆ Gái Tam   ┆           ┆           ┆   ┆          ┆ \"product_ ┆ \"product_ ┆ gái tam   │\n",
       "│           ┆ Giác…     ┆           ┆           ┆   ┆          ┆ type\":    ┆ type\":    ┆ giác…     │\n",
       "│           ┆           ┆           ┆           ┆   ┆          ┆ \"H…       ┆ \"H…       ┆           │\n",
       "│ …         ┆ …         ┆ …         ┆ …         ┆ … ┆ …        ┆ …         ┆ …         ┆ …         │\n",
       "│ 261617795 ┆ [Mã       ┆ 30142553  ┆ NASU MAY  ┆ … ┆ true     ┆ ```json   ┆ ```json   ┆ áo kiểu   │\n",
       "│ 74        ┆ FADEP2709 ┆           ┆ -XƯỞNG    ┆   ┆          ┆ {         ┆ {         ┆ croptop   │\n",
       "│           ┆ giảm đến  ┆           ┆ MAY THỜI  ┆   ┆          ┆ \"product_ ┆ \"product_ ┆ trễ vai   │\n",
       "│           ┆ 30k đơn…  ┆           ┆ TRANG     ┆   ┆          ┆ type\":    ┆ type\":    ┆ kèm dâ…   │\n",
       "│           ┆           ┆           ┆           ┆   ┆          ┆ \"T…       ┆ \"T…       ┆           │\n",
       "│ 227849307 ┆ Vớ cotton ┆ 309936854 ┆ Baby Club ┆ … ┆ true     ┆ {         ┆ {         ┆ vớ cotton │\n",
       "│ 81        ┆ Mềm Ngắn  ┆           ┆           ┆   ┆          ┆ \"product_ ┆ \"product_ ┆ mềm ngắn  │\n",
       "│           ┆ 5 Màu     ┆           ┆           ┆   ┆          ┆ type\":    ┆ type\":    ┆ 5 màu     │\n",
       "│           ┆ Trơn …    ┆           ┆           ┆   ┆          ┆ \"Socks\",  ┆ \"Socks\",  ┆ trơn …    │\n",
       "│           ┆           ┆           ┆           ┆   ┆          ┆  …        ┆  …        ┆           │\n",
       "│ 246268525 ┆ Áo Polo   ┆ 504944462 ┆ Buffalo   ┆ … ┆ true     ┆ ```json   ┆ ```json   ┆ áo polo   │\n",
       "│ 88        ┆ Nam Rap   ┆           ┆ Boutique  ┆   ┆          ┆ {         ┆ {         ┆ nam rap   │\n",
       "│           ┆ Lau Rừn   ┆           ┆           ┆   ┆          ┆ \"product_ ┆ \"product_ ┆ lau rừn   │\n",
       "│           ┆ Thêu…     ┆           ┆           ┆   ┆          ┆ type\":    ┆ type\":    ┆ thêu…     │\n",
       "│           ┆           ┆           ┆           ┆   ┆          ┆ \"M…       ┆ \"M…       ┆           │\n",
       "│ 241304847 ┆ Lovito Áo ┆ 446089250 ┆ LOVITO    ┆ … ┆ true     ┆ ```json   ┆ ```json   ┆ lovito áo │\n",
       "│ 66        ┆ thun thể  ┆           ┆ OFFICIAL  ┆   ┆          ┆ {         ┆ {         ┆ thun thể  │\n",
       "│           ┆ thao kiểu ┆           ┆ STORE     ┆   ┆          ┆ \"product_ ┆ \"product_ ┆ thao kiểu │\n",
       "│           ┆ d…        ┆           ┆           ┆   ┆          ┆ type\":    ┆ type\":    ┆ d…        │\n",
       "│           ┆           ┆           ┆           ┆   ┆          ┆ \"S…       ┆ \"S…       ┆           │\n",
       "│ 217532857 ┆ Đôi Miếng ┆ 17330949  ┆ Nội Y Giá ┆ … ┆ true     ┆ ```json   ┆ ```json   ┆ đôi miếng │\n",
       "│ 7         ┆ Dán Đệm   ┆           ┆ Tốt       ┆   ┆          ┆ {         ┆ {         ┆ dán đệm   │\n",
       "│           ┆ Nâng Ngực ┆           ┆           ┆   ┆          ┆ \"product_ ┆ \"product_ ┆ nâng ngực │\n",
       "│           ┆ , …       ┆           ┆           ┆   ┆          ┆ type\":    ┆ type\":    ┆ , …       │\n",
       "│           ┆           ┆           ┆           ┆   ┆          ┆ \"b…       ┆ \"b…       ┆           │\n",
       "└───────────┴───────────┴───────────┴───────────┴───┴──────────┴───────────┴───────────┴───────────┘"
      ],
      "text/html": [
       "<div><style>\n",
       ".dataframe > thead > tr,\n",
       ".dataframe > tbody > tr {\n",
       "  text-align: right;\n",
       "  white-space: pre-wrap;\n",
       "}\n",
       "</style>\n",
       "<small>shape: (200, 13)</small><table border=\"1\" class=\"dataframe\"><thead><tr><th>q_item_id</th><th>q_item_name</th><th>q_shop_id</th><th>q_shop_name</th><th>q_level1_global_be_category</th><th>q_description</th><th>q_images</th><th>q_image_url</th><th>q_file_path</th><th>q_exists</th><th>q_img_info</th><th>q_text_info</th><th>q_item_name_clean</th></tr><tr><td>i64</td><td>str</td><td>i64</td><td>str</td><td>str</td><td>str</td><td>str</td><td>str</td><td>str</td><td>bool</td><td>str</td><td>str</td><td>str</td></tr></thead><tbody><tr><td>16693283776</td><td>&quot;Hộp 10 Kẹp Tóc Nhỏ Bằng Nhựa B…</td><td>936501257</td><td>&quot;nailxinh.ling&quot;</td><td>&quot;Fashion Accessories&quot;</td><td>&quot;Hộp 10 Kẹp Tóc Nhỏ Bằng Nhựa B…</td><td>&quot;vn-11134201-23030-6scwoywxp9nv…</td><td>&quot;http://f.shopee.vn/file/vn-111…</td><td>&quot;/media/kevin/data_4t/Test/down…</td><td>true</td><td>&quot;```json\n",
       "{\n",
       "  &quot;product_type&quot;: &quot;N…</td><td>&quot;```json\n",
       "{\n",
       "  &quot;product_type&quot;: &quot;N…</td><td>&quot;hộp 10 kẹp tóc nhỏ bằng nhựa b…</td></tr><tr><td>17285376104</td><td>&quot;Váy 2 dây dài suông quốc dân S…</td><td>184210921</td><td>&quot;SUTANO FASHION&quot;</td><td>&quot;Women Clothes&quot;</td><td>&quot;[{&quot;t&quot;:&quot;Váy 2 dây dài suông quố…</td><td>&quot;sg-11134201-7rbmo-lqlqja37zjwk…</td><td>&quot;http://f.shopee.vn/file/sg-111…</td><td>&quot;/media/kevin/data_4t/Test/down…</td><td>true</td><td>&quot;```json\n",
       "{\n",
       "  &quot;product_type&quot;: &quot;D…</td><td>&quot;```json\n",
       "{\n",
       "  &quot;product_type&quot;: &quot;D…</td><td>&quot;váy 2 dây dài suông quốc dân s…</td></tr><tr><td>25182695679</td><td>&quot;Set đồ nữ áo buộc cổ cúp ngực …</td><td>1287014463</td><td>&quot;TRENY_OFFICIAL&quot;</td><td>&quot;Women Clothes&quot;</td><td>&quot;Set đồ nữ áo buộc cổ cúp ngực …</td><td>&quot;vn-11134207-7r98o-lwz6306v2p5l…</td><td>&quot;http://f.shopee.vn/file/vn-111…</td><td>&quot;/media/kevin/data_4t/Test/down…</td><td>true</td><td>&quot;```json\n",
       "{\n",
       "  &quot;product_type&quot;: &quot;D…</td><td>&quot;```json\n",
       "{\n",
       "  &quot;product_type&quot;: &quot;D…</td><td>&quot;set đồ nữ áo buộc cổ cúp ngực …</td></tr><tr><td>15273431059</td><td>&quot;Quần jean nam DSQ xanh thêu lá…</td><td>682198966</td><td>&quot;KING77_FASHION&quot;</td><td>&quot;Men Clothes&quot;</td><td>&quot;[{&quot;t&quot;:&quot;Chuỗi thời trang KING77…</td><td>&quot;vn-11134207-7r98o-lsr2rxp5iax0…</td><td>&quot;http://f.shopee.vn/file/vn-111…</td><td>&quot;/media/kevin/data_4t/Test/down…</td><td>true</td><td>&quot;{\n",
       "  &quot;product_type&quot;: &quot;Jeans&quot;,\n",
       " …</td><td>&quot;{\n",
       "  &quot;product_type&quot;: &quot;Jeans&quot;,\n",
       " …</td><td>&quot;quần jean nam dsq xanh thêu lá…</td></tr><tr><td>25130657466</td><td>&quot;Kẹp Tóc Nơ Màu Cô Gái Tam Giác…</td><td>803276458</td><td>&quot;Girlspower.vn&quot;</td><td>&quot;Fashion Accessories&quot;</td><td>&quot;💗 Chào mừng đến với cửa hàng c…</td><td>&quot;sg-11134201-7rd66-lvb9le6gqnhs…</td><td>&quot;http://f.shopee.vn/file/sg-111…</td><td>&quot;/media/kevin/data_4t/Test/down…</td><td>true</td><td>&quot;```json\n",
       "{\n",
       "  &quot;product_type&quot;: &quot;H…</td><td>&quot;```json\n",
       "{\n",
       "  &quot;product_type&quot;: &quot;H…</td><td>&quot;kẹp tóc nơ màu cô gái tam giác…</td></tr><tr><td>&hellip;</td><td>&hellip;</td><td>&hellip;</td><td>&hellip;</td><td>&hellip;</td><td>&hellip;</td><td>&hellip;</td><td>&hellip;</td><td>&hellip;</td><td>&hellip;</td><td>&hellip;</td><td>&hellip;</td><td>&hellip;</td></tr><tr><td>26161779574</td><td>&quot;[Mã FADEP2709 giảm đến 30k đơn…</td><td>30142553</td><td>&quot;NASU MAY -XƯỞNG MAY THỜI TRANG&quot;</td><td>&quot;Women Clothes&quot;</td><td>&quot;[{&quot;t&quot;:&quot;Mô tả: Áo trễ vai kèm d…</td><td>&quot;vn-11134207-7r98o-m0cy4y5x43xp…</td><td>&quot;http://f.shopee.vn/file/vn-111…</td><td>&quot;/media/kevin/data_4t/Test/down…</td><td>true</td><td>&quot;```json\n",
       "{\n",
       "  &quot;product_type&quot;: &quot;T…</td><td>&quot;```json\n",
       "{\n",
       "  &quot;product_type&quot;: &quot;T…</td><td>&quot;áo kiểu croptop trễ vai kèm dâ…</td></tr><tr><td>22784930781</td><td>&quot;Vớ cotton Mềm Ngắn 5 Màu Trơn …</td><td>309936854</td><td>&quot;Baby Club&quot;</td><td>&quot;Baby &amp; Kids Fashion&quot;</td><td>&quot;[{&quot;t&quot;:&quot;🌟Mô tả sản phẩm🌟\\nS: 0-…</td><td>&quot;sg-11134201-7rblu-lne35gpvy1ui…</td><td>&quot;http://f.shopee.vn/file/sg-111…</td><td>&quot;/media/kevin/data_4t/Test/down…</td><td>true</td><td>&quot;{\n",
       "  &quot;product_type&quot;: &quot;Socks&quot;,\n",
       " …</td><td>&quot;{\n",
       "  &quot;product_type&quot;: &quot;Socks&quot;,\n",
       " …</td><td>&quot;vớ cotton mềm ngắn 5 màu trơn …</td></tr><tr><td>24626852588</td><td>&quot;Áo Polo Nam Rap Lau Rừn Thêu…</td><td>504944462</td><td>&quot;Buffalo Boutique&quot;</td><td>&quot;Men Clothes&quot;</td><td>&quot;Áo Polo Nam Rap Lau Rừn Thêu…</td><td>&quot;vn-11134207-7r98o-luofpopk0xlx…</td><td>&quot;http://f.shopee.vn/file/vn-111…</td><td>&quot;/media/kevin/data_4t/Test/down…</td><td>true</td><td>&quot;```json\n",
       "{\n",
       "  &quot;product_type&quot;: &quot;M…</td><td>&quot;```json\n",
       "{\n",
       "  &quot;product_type&quot;: &quot;M…</td><td>&quot;áo polo nam rap lau rừn thêu…</td></tr><tr><td>24130484766</td><td>&quot;Lovito Áo thun thể thao kiểu d…</td><td>446089250</td><td>&quot;LOVITO OFFICIAL STORE&quot;</td><td>&quot;Sports &amp; Outdoors&quot;</td><td>&quot;✅Đèn CAO \n",
       "-❤️Dòng cấu trúc \n",
       "-❤…</td><td>&quot;sg-11134201-7rdyl-m0nwmev8nidl…</td><td>&quot;http://f.shopee.vn/file/sg-111…</td><td>&quot;/media/kevin/data_4t/Test/down…</td><td>true</td><td>&quot;```json\n",
       "{\n",
       "  &quot;product_type&quot;: &quot;S…</td><td>&quot;```json\n",
       "{\n",
       "  &quot;product_type&quot;: &quot;S…</td><td>&quot;lovito áo thun thể thao kiểu d…</td></tr><tr><td>2175328577</td><td>&quot;Đôi Miếng Dán Đệm Nâng Ngực , …</td><td>17330949</td><td>&quot;Nội Y Giá Tốt&quot;</td><td>&quot;Women Clothes&quot;</td><td>&quot;đôi miếng dán bên trong áo giú…</td><td>&quot;0328d55a4a3ddaccc69a0bccf81165…</td><td>&quot;http://f.shopee.vn/file/0328d5…</td><td>&quot;/media/kevin/data_4t/Test/down…</td><td>true</td><td>&quot;```json\n",
       "{\n",
       "  &quot;product_type&quot;: &quot;b…</td><td>&quot;```json\n",
       "{\n",
       "  &quot;product_type&quot;: &quot;b…</td><td>&quot;đôi miếng dán đệm nâng ngực , …</td></tr></tbody></table></div>"
      ]
     },
     "execution_count": 4,
     "metadata": {},
     "output_type": "execute_result"
    }
   ],
   "execution_count": 4
  },
  {
   "metadata": {
    "ExecuteTime": {
     "end_time": "2024-09-30T10:01:44.228566Z",
     "start_time": "2024-09-30T10:01:41.300756Z"
    }
   },
   "cell_type": "code",
   "source": [
    "path_tmp_array = Path('tmp/array')\n",
    "path_tmp_ds = Path('tmp/ds')\n",
    "make_dir(path_tmp_ds)\n",
    "make_dir(path_tmp_array)\n",
    "\n",
    "file_embed = path_tmp_array / 'embed_item_name.npy'\n",
    "if not file_embed.exists():\n",
    "    model = BGEM3FlagModel('BAAI/bge-m3', use_fp16=False)\n",
    "    embeddings = model.encode(\n",
    "        df_q['q_item_name_clean'].to_list(),\n",
    "        batch_size=8,\n",
    "        max_length=80,\n",
    "        return_dense=True,\n",
    "        return_sparse=False,\n",
    "        return_colbert_vecs=False\n",
    "    )['dense_vecs']\n",
    "    np.save(file_embed, embeddings)\n",
    "else:\n",
    "    embeddings = np.load(file_embed)\n",
    "print(embeddings.shape)"
   ],
   "id": "755da887f6b7fbbf",
   "outputs": [
    {
     "data": {
      "text/plain": [
       "Fetching 30 files:   0%|          | 0/30 [00:00<?, ?it/s]"
      ],
      "application/vnd.jupyter.widget-view+json": {
       "version_major": 2,
       "version_minor": 0,
       "model_id": "21a590070d0f4956860ad13fe8679329"
      }
     },
     "metadata": {},
     "output_type": "display_data"
    },
    {
     "name": "stderr",
     "output_type": "stream",
     "text": [
      "/home/kevin/miniforge3/envs/item/lib/python3.12/site-packages/FlagEmbedding/BGE_M3/modeling.py:335: FutureWarning: You are using `torch.load` with `weights_only=False` (the current default value), which uses the default pickle module implicitly. It is possible to construct malicious pickle data which will execute arbitrary code during unpickling (See https://github.com/pytorch/pytorch/blob/main/SECURITY.md#untrusted-models for more details). In a future release, the default value for `weights_only` will be flipped to `True`. This limits the functions that could be executed during unpickling. Arbitrary objects will no longer be allowed to be loaded via this mode unless they are explicitly allowlisted by the user via `torch.serialization.add_safe_globals`. We recommend you start setting `weights_only=True` for any use case where you don't have full control of the loaded file. Please open an issue on GitHub for any issues related to this experimental feature.\n",
      "  colbert_state_dict = torch.load(os.path.join(model_dir, 'colbert_linear.pt'), map_location='cpu')\n",
      "/home/kevin/miniforge3/envs/item/lib/python3.12/site-packages/FlagEmbedding/BGE_M3/modeling.py:336: FutureWarning: You are using `torch.load` with `weights_only=False` (the current default value), which uses the default pickle module implicitly. It is possible to construct malicious pickle data which will execute arbitrary code during unpickling (See https://github.com/pytorch/pytorch/blob/main/SECURITY.md#untrusted-models for more details). In a future release, the default value for `weights_only` will be flipped to `True`. This limits the functions that could be executed during unpickling. Arbitrary objects will no longer be allowed to be loaded via this mode unless they are explicitly allowlisted by the user via `torch.serialization.add_safe_globals`. We recommend you start setting `weights_only=True` for any use case where you don't have full control of the loaded file. Please open an issue on GitHub for any issues related to this experimental feature.\n",
      "  sparse_state_dict = torch.load(os.path.join(model_dir, 'sparse_linear.pt'), map_location='cpu')\n"
     ]
    },
    {
     "name": "stdout",
     "output_type": "stream",
     "text": [
      "(200, 1024)\n"
     ]
    }
   ],
   "execution_count": 5
  },
  {
   "metadata": {
    "ExecuteTime": {
     "end_time": "2024-09-30T10:01:51.767899Z",
     "start_time": "2024-09-30T10:01:51.733870Z"
    }
   },
   "cell_type": "code",
   "source": [
    "df_q = df_q.with_columns(pl.Series(values=embeddings, name='embed'))\n",
    "dataset = Dataset.from_polars(df_q)\n",
    "dataset.set_format(type='numpy', columns=['embed'], output_all_columns=True)"
   ],
   "id": "601d2431bb57c44d",
   "outputs": [],
   "execution_count": 6
  },
  {
   "metadata": {
    "ExecuteTime": {
     "end_time": "2024-09-30T10:01:53.510172Z",
     "start_time": "2024-09-30T10:01:53.330180Z"
    }
   },
   "cell_type": "code",
   "source": [
    "path_index = Path('tmp/index')\n",
    "build_index(\n",
    "    str(path_tmp_array),\n",
    "    index_path=str(path_index / f'ip_item_name.index'),\n",
    "    index_infos_path=str(path_index / f'index.json'),\n",
    "    save_on_disk=True,\n",
    "    metric_type='ip',\n",
    "    verbose=30,\n",
    ")"
   ],
   "id": "26fb2fa12d1641a1",
   "outputs": [
    {
     "name": "stderr",
     "output_type": "stream",
     "text": [
      "100%|██████████| 1/1 [00:00<00:00, 9597.95it/s]\n",
      "100%|██████████| 1/1 [00:00<00:00, 50.05it/s]\n",
      "  0%|          | 0/1 [00:00<?, ?it/s]\n"
     ]
    },
    {
     "data": {
      "text/plain": [
       "(<faiss.swigfaiss_avx2.IndexFlat; proxy of <Swig Object of type 'faiss::IndexFlat *' at 0x79eb74f1bc60> >,\n",
       " {'index_key': 'Flat',\n",
       "  'index_param': '',\n",
       "  'index_path': 'tmp/index/ip_item_name.index',\n",
       "  'size in bytes': 819245,\n",
       "  'avg_search_speed_ms': 0.034973492482095025,\n",
       "  '99p_search_speed_ms': 0.16855860965733882,\n",
       "  'reconstruction error %': 0.0,\n",
       "  'nb vectors': 200,\n",
       "  'vectors dimension': 1024,\n",
       "  'compression ratio': 0.9999450713766944})"
      ]
     },
     "execution_count": 7,
     "metadata": {},
     "output_type": "execute_result"
    }
   ],
   "execution_count": 7
  },
  {
   "metadata": {
    "ExecuteTime": {
     "end_time": "2024-09-30T10:02:13.458313Z",
     "start_time": "2024-09-30T10:02:13.454975Z"
    }
   },
   "cell_type": "code",
   "source": [
    "# add index\n",
    "dataset.load_faiss_index('embed', path_index / f'ip_item_name.index')"
   ],
   "id": "59106d7f779d3e7f",
   "outputs": [],
   "execution_count": 9
  },
  {
   "metadata": {
    "ExecuteTime": {
     "end_time": "2024-09-30T10:04:27.983063Z",
     "start_time": "2024-09-30T10:04:27.895234Z"
    }
   },
   "cell_type": "code",
   "source": [
    "score, result = dataset.get_nearest_examples_batch(\n",
    "    'embed',\n",
    "    np.asarray(dataset['embed']),\n",
    "    k=5\n",
    ")\n",
    "\n",
    "dict_ = {'score': [list(i) for i in score]}\n",
    "df_score = pl.DataFrame(dict_)\n",
    "df_result = (\n",
    "    pl.DataFrame(result).drop(['embed'])\n",
    "    .select(pl.all().name.prefix(f'db_'))\n",
    ")\n",
    "\n",
    "df_match = pl.concat([df_q.drop(['embed']), df_result, df_score], how='horizontal')\n",
    "col_explode = [i for i in df_match.columns if 'db' in i] + ['score']\n",
    "df_match = df_match.explode(col_explode)"
   ],
   "id": "c337828201f8406d",
   "outputs": [],
   "execution_count": 15
  },
  {
   "metadata": {
    "ExecuteTime": {
     "end_time": "2024-09-30T10:04:28.272845Z",
     "start_time": "2024-09-30T10:04:28.261414Z"
    }
   },
   "cell_type": "code",
   "source": "df_match",
   "id": "153890a022fc9e3b",
   "outputs": [
    {
     "data": {
      "text/plain": [
       "shape: (1_000, 27)\n",
       "┌───────────┬───────────┬───────────┬───────────┬───┬───────────┬───────────┬───────────┬──────────┐\n",
       "│ q_item_id ┆ q_item_na ┆ q_shop_id ┆ q_shop_na ┆ … ┆ db_q_img_ ┆ db_q_text ┆ db_q_item ┆ score    │\n",
       "│ ---       ┆ me        ┆ ---       ┆ me        ┆   ┆ info      ┆ _info     ┆ _name_cle ┆ ---      │\n",
       "│ i64       ┆ ---       ┆ i64       ┆ ---       ┆   ┆ ---       ┆ ---       ┆ an        ┆ f32      │\n",
       "│           ┆ str       ┆           ┆ str       ┆   ┆ str       ┆ str       ┆ ---       ┆          │\n",
       "│           ┆           ┆           ┆           ┆   ┆           ┆           ┆ str       ┆          │\n",
       "╞═══════════╪═══════════╪═══════════╪═══════════╪═══╪═══════════╪═══════════╪═══════════╪══════════╡\n",
       "│ 166932837 ┆ Hộp 10    ┆ 936501257 ┆ nailxinh. ┆ … ┆ ```json   ┆ ```json   ┆ hộp 10    ┆ 1.0      │\n",
       "│ 76        ┆ Kẹp Tóc   ┆           ┆ ling      ┆   ┆ {         ┆ {         ┆ kẹp tóc   ┆          │\n",
       "│           ┆ Nhỏ Bằng  ┆           ┆           ┆   ┆ \"product_ ┆ \"product_ ┆ nhỏ bằng  ┆          │\n",
       "│           ┆ Nhựa B…   ┆           ┆           ┆   ┆ type\":    ┆ type\":    ┆ nhựa b…   ┆          │\n",
       "│           ┆           ┆           ┆           ┆   ┆ \"N…       ┆ \"N…       ┆           ┆          │\n",
       "│ 166932837 ┆ Hộp 10    ┆ 936501257 ┆ nailxinh. ┆ … ┆ ```json   ┆ ```json   ┆ haimeikan ┆ 0.669004 │\n",
       "│ 76        ┆ Kẹp Tóc   ┆           ┆ ling      ┆   ┆ {         ┆ {         ┆ g set 10  ┆          │\n",
       "│           ┆ Nhỏ Bằng  ┆           ┆           ┆   ┆ \"product_ ┆ \"product_ ┆ kẹp tóc   ┆          │\n",
       "│           ┆ Nhựa B…   ┆           ┆           ┆   ┆ type\":    ┆ type\":    ┆ nơ x…     ┆          │\n",
       "│           ┆           ┆           ┆           ┆   ┆ \"H…       ┆ \"H…       ┆           ┆          │\n",
       "│ 166932837 ┆ Hộp 10    ┆ 936501257 ┆ nailxinh. ┆ … ┆ ```json   ┆ ```json   ┆ kẹp đầu   ┆ 0.635674 │\n",
       "│ 76        ┆ Kẹp Tóc   ┆           ┆ ling      ┆   ┆ {         ┆ {         ┆ nhỏ đính  ┆          │\n",
       "│           ┆ Nhỏ Bằng  ┆           ┆           ┆   ┆ \"product_ ┆ \"product_ ┆ ngọc trai ┆          │\n",
       "│           ┆ Nhựa B…   ┆           ┆           ┆   ┆ type\":    ┆ type\":    ┆ siê…      ┆          │\n",
       "│           ┆           ┆           ┆           ┆   ┆ \"H…       ┆ \"H…       ┆           ┆          │\n",
       "│ 166932837 ┆ Hộp 10    ┆ 936501257 ┆ nailxinh. ┆ … ┆ ```json   ┆ ```json   ┆ kẹp tóc   ┆ 0.614015 │\n",
       "│ 76        ┆ Kẹp Tóc   ┆           ┆ ling      ┆   ┆ {         ┆ {         ┆ hình nơ   ┆          │\n",
       "│           ┆ Nhỏ Bằng  ┆           ┆           ┆   ┆ \"product_ ┆ \"product_ ┆ đính ngọc ┆          │\n",
       "│           ┆ Nhựa B…   ┆           ┆           ┆   ┆ type\":    ┆ type\":    ┆ trai…     ┆          │\n",
       "│           ┆           ┆           ┆           ┆   ┆ \"H…       ┆ \"H…       ┆           ┆          │\n",
       "│ 166932837 ┆ Hộp 10    ┆ 936501257 ┆ nailxinh. ┆ … ┆ ```json   ┆ ```json   ┆ kẹp tóc   ┆ 0.610962 │\n",
       "│ 76        ┆ Kẹp Tóc   ┆           ┆ ling      ┆   ┆ {         ┆ {         ┆ kiểu hoa  ┆          │\n",
       "│           ┆ Nhỏ Bằng  ┆           ┆           ┆   ┆ \"product_ ┆ \"product_ ┆ tulip 2   ┆          │\n",
       "│           ┆ Nhựa B…   ┆           ┆           ┆   ┆ type\":    ┆ type\":    ┆ đầu t…    ┆          │\n",
       "│           ┆           ┆           ┆           ┆   ┆ \"H…       ┆ \"H…       ┆           ┆          │\n",
       "│ …         ┆ …         ┆ …         ┆ …         ┆ … ┆ …         ┆ …         ┆ …         ┆ …        │\n",
       "│ 217532857 ┆ Đôi Miếng ┆ 17330949  ┆ Nội Y Giá ┆ … ┆ ```json   ┆ ```json   ┆ đôi miếng ┆ 1.0      │\n",
       "│ 7         ┆ Dán Đệm   ┆           ┆ Tốt       ┆   ┆ {         ┆ {         ┆ dán đệm   ┆          │\n",
       "│           ┆ Nâng Ngực ┆           ┆           ┆   ┆ \"product_ ┆ \"product_ ┆ nâng ngực ┆          │\n",
       "│           ┆ , …       ┆           ┆           ┆   ┆ type\":    ┆ type\":    ┆ , …       ┆          │\n",
       "│           ┆           ┆           ┆           ┆   ┆ \"b…       ┆ \"b…       ┆           ┆          │\n",
       "│ 217532857 ┆ Đôi Miếng ┆ 17330949  ┆ Nội Y Giá ┆ … ┆ ```json   ┆ ```json   ┆ áo ngực   ┆ 0.593759 │\n",
       "│ 7         ┆ Dán Đệm   ┆           ┆ Tốt       ┆   ┆ {         ┆ {         ┆ đúc su    ┆          │\n",
       "│           ┆ Nâng Ngực ┆           ┆           ┆   ┆ \"product_ ┆ \"product_ ┆ không     ┆          │\n",
       "│           ┆ , …       ┆           ┆           ┆   ┆ type\":    ┆ type\":    ┆ gọng mềm  ┆          │\n",
       "│           ┆           ┆           ┆           ┆   ┆ \"B…       ┆ \"B…       ┆ …         ┆          │\n",
       "│ 217532857 ┆ Đôi Miếng ┆ 17330949  ┆ Nội Y Giá ┆ … ┆ {         ┆ {         ┆ set       ┆ 0.588256 │\n",
       "│ 7         ┆ Dán Đệm   ┆           ┆ Tốt       ┆   ┆ \"product_ ┆ \"product_ ┆ bikini c  ┆          │\n",
       "│           ┆ Nâng Ngực ┆           ┆           ┆   ┆ type\":    ┆ type\":    ┆ k jennie  ┆          │\n",
       "│           ┆ , …       ┆           ┆           ┆   ┆ \"Swimsuit ┆ \"Swimsuit ┆ xuất dư … ┆          │\n",
       "│           ┆           ┆           ┆           ┆   ┆ \"…        ┆ \"…        ┆           ┆          │\n",
       "│ 217532857 ┆ Đôi Miếng ┆ 17330949  ┆ Nội Y Giá ┆ … ┆ {         ┆ {         ┆ mũi heo   ┆ 0.568611 │\n",
       "│ 7         ┆ Dán Đệm   ┆           ┆ Tốt       ┆   ┆ \"product_ ┆ \"product_ ┆ dán sản   ┆          │\n",
       "│           ┆ Nâng Ngực ┆           ┆           ┆   ┆ type\":    ┆ type\":    ┆ phẩm hand ┆          │\n",
       "│           ┆ , …       ┆           ┆           ┆   ┆ \"Buttons\" ┆ \"Buttons\" ┆ made/…    ┆          │\n",
       "│           ┆           ┆           ┆           ┆   ┆ ,…        ┆ ,…        ┆           ┆          │\n",
       "│ 217532857 ┆ Đôi Miếng ┆ 17330949  ┆ Nội Y Giá ┆ … ┆ ```json   ┆ ```json   ┆ áo ngực   ┆ 0.546948 │\n",
       "│ 7         ┆ Dán Đệm   ┆           ┆ Tốt       ┆   ┆ {         ┆ {         ┆ su cúp    ┆          │\n",
       "│           ┆ Nâng Ngực ┆           ┆           ┆   ┆ \"product_ ┆ \"product_ ┆ ngang mút ┆          │\n",
       "│           ┆ , …       ┆           ┆           ┆   ┆ type\":    ┆ type\":    ┆ bàn t…    ┆          │\n",
       "│           ┆           ┆           ┆           ┆   ┆ \"B…       ┆ \"B…       ┆           ┆          │\n",
       "└───────────┴───────────┴───────────┴───────────┴───┴───────────┴───────────┴───────────┴──────────┘"
      ],
      "text/html": [
       "<div><style>\n",
       ".dataframe > thead > tr,\n",
       ".dataframe > tbody > tr {\n",
       "  text-align: right;\n",
       "  white-space: pre-wrap;\n",
       "}\n",
       "</style>\n",
       "<small>shape: (1_000, 27)</small><table border=\"1\" class=\"dataframe\"><thead><tr><th>q_item_id</th><th>q_item_name</th><th>q_shop_id</th><th>q_shop_name</th><th>q_level1_global_be_category</th><th>q_description</th><th>q_images</th><th>q_image_url</th><th>q_file_path</th><th>q_exists</th><th>q_img_info</th><th>q_text_info</th><th>q_item_name_clean</th><th>db_q_item_id</th><th>db_q_item_name</th><th>db_q_shop_id</th><th>db_q_shop_name</th><th>db_q_level1_global_be_category</th><th>db_q_description</th><th>db_q_images</th><th>db_q_image_url</th><th>db_q_file_path</th><th>db_q_exists</th><th>db_q_img_info</th><th>db_q_text_info</th><th>db_q_item_name_clean</th><th>score</th></tr><tr><td>i64</td><td>str</td><td>i64</td><td>str</td><td>str</td><td>str</td><td>str</td><td>str</td><td>str</td><td>bool</td><td>str</td><td>str</td><td>str</td><td>i64</td><td>str</td><td>i64</td><td>str</td><td>str</td><td>str</td><td>str</td><td>str</td><td>str</td><td>bool</td><td>str</td><td>str</td><td>str</td><td>f32</td></tr></thead><tbody><tr><td>16693283776</td><td>&quot;Hộp 10 Kẹp Tóc Nhỏ Bằng Nhựa B…</td><td>936501257</td><td>&quot;nailxinh.ling&quot;</td><td>&quot;Fashion Accessories&quot;</td><td>&quot;Hộp 10 Kẹp Tóc Nhỏ Bằng Nhựa B…</td><td>&quot;vn-11134201-23030-6scwoywxp9nv…</td><td>&quot;http://f.shopee.vn/file/vn-111…</td><td>&quot;/media/kevin/data_4t/Test/down…</td><td>true</td><td>&quot;```json\n",
       "{\n",
       "  &quot;product_type&quot;: &quot;N…</td><td>&quot;```json\n",
       "{\n",
       "  &quot;product_type&quot;: &quot;N…</td><td>&quot;hộp 10 kẹp tóc nhỏ bằng nhựa b…</td><td>16693283776</td><td>&quot;Hộp 10 Kẹp Tóc Nhỏ Bằng Nhựa B…</td><td>936501257</td><td>&quot;nailxinh.ling&quot;</td><td>&quot;Fashion Accessories&quot;</td><td>&quot;Hộp 10 Kẹp Tóc Nhỏ Bằng Nhựa B…</td><td>&quot;vn-11134201-23030-6scwoywxp9nv…</td><td>&quot;http://f.shopee.vn/file/vn-111…</td><td>&quot;/media/kevin/data_4t/Test/down…</td><td>true</td><td>&quot;```json\n",
       "{\n",
       "  &quot;product_type&quot;: &quot;N…</td><td>&quot;```json\n",
       "{\n",
       "  &quot;product_type&quot;: &quot;N…</td><td>&quot;hộp 10 kẹp tóc nhỏ bằng nhựa b…</td><td>1.0</td></tr><tr><td>16693283776</td><td>&quot;Hộp 10 Kẹp Tóc Nhỏ Bằng Nhựa B…</td><td>936501257</td><td>&quot;nailxinh.ling&quot;</td><td>&quot;Fashion Accessories&quot;</td><td>&quot;Hộp 10 Kẹp Tóc Nhỏ Bằng Nhựa B…</td><td>&quot;vn-11134201-23030-6scwoywxp9nv…</td><td>&quot;http://f.shopee.vn/file/vn-111…</td><td>&quot;/media/kevin/data_4t/Test/down…</td><td>true</td><td>&quot;```json\n",
       "{\n",
       "  &quot;product_type&quot;: &quot;N…</td><td>&quot;```json\n",
       "{\n",
       "  &quot;product_type&quot;: &quot;N…</td><td>&quot;hộp 10 kẹp tóc nhỏ bằng nhựa b…</td><td>23752982332</td><td>&quot;Haimeikang Set 10 Kẹp Tóc Nơ X…</td><td>263746294</td><td>&quot;Haimeikang.vn&quot;</td><td>&quot;Fashion Accessories&quot;</td><td>&quot;[{&quot;i&quot;:&quot;sg-11134202-7rbk0-ll1w2…</td><td>&quot;sg-11134201-7rbk0-ll1w2fzayxaw…</td><td>&quot;http://f.shopee.vn/file/sg-111…</td><td>&quot;/media/kevin/data_4t/Test/down…</td><td>true</td><td>&quot;```json\n",
       "{\n",
       "  &quot;product_type&quot;: &quot;H…</td><td>&quot;```json\n",
       "{\n",
       "  &quot;product_type&quot;: &quot;H…</td><td>&quot;haimeikang set 10 kẹp tóc nơ x…</td><td>0.669004</td></tr><tr><td>16693283776</td><td>&quot;Hộp 10 Kẹp Tóc Nhỏ Bằng Nhựa B…</td><td>936501257</td><td>&quot;nailxinh.ling&quot;</td><td>&quot;Fashion Accessories&quot;</td><td>&quot;Hộp 10 Kẹp Tóc Nhỏ Bằng Nhựa B…</td><td>&quot;vn-11134201-23030-6scwoywxp9nv…</td><td>&quot;http://f.shopee.vn/file/vn-111…</td><td>&quot;/media/kevin/data_4t/Test/down…</td><td>true</td><td>&quot;```json\n",
       "{\n",
       "  &quot;product_type&quot;: &quot;N…</td><td>&quot;```json\n",
       "{\n",
       "  &quot;product_type&quot;: &quot;N…</td><td>&quot;hộp 10 kẹp tóc nhỏ bằng nhựa b…</td><td>23788633578</td><td>&quot;Kẹp Đầu Nhỏ Đính Ngọc Trai Siê…</td><td>1132437531</td><td>&quot;Phụ kiện tóc Yifen bán buôn&quot;</td><td>&quot;Fashion Accessories&quot;</td><td>&quot;🧨🧨🧨Chào mừng đến với Yifen Sto…</td><td>&quot;cn-11134207-7r98o-ls5h7vy2mvh9…</td><td>&quot;http://f.shopee.vn/file/cn-111…</td><td>&quot;/media/kevin/data_4t/Test/down…</td><td>true</td><td>&quot;```json\n",
       "{\n",
       "  &quot;product_type&quot;: &quot;H…</td><td>&quot;```json\n",
       "{\n",
       "  &quot;product_type&quot;: &quot;H…</td><td>&quot;kẹp đầu nhỏ đính ngọc trai siê…</td><td>0.635674</td></tr><tr><td>16693283776</td><td>&quot;Hộp 10 Kẹp Tóc Nhỏ Bằng Nhựa B…</td><td>936501257</td><td>&quot;nailxinh.ling&quot;</td><td>&quot;Fashion Accessories&quot;</td><td>&quot;Hộp 10 Kẹp Tóc Nhỏ Bằng Nhựa B…</td><td>&quot;vn-11134201-23030-6scwoywxp9nv…</td><td>&quot;http://f.shopee.vn/file/vn-111…</td><td>&quot;/media/kevin/data_4t/Test/down…</td><td>true</td><td>&quot;```json\n",
       "{\n",
       "  &quot;product_type&quot;: &quot;N…</td><td>&quot;```json\n",
       "{\n",
       "  &quot;product_type&quot;: &quot;N…</td><td>&quot;hộp 10 kẹp tóc nhỏ bằng nhựa b…</td><td>21123185268</td><td>&quot;Kẹp Tóc Hình Nơ Đính Ngọc Trai…</td><td>405832779</td><td>&quot;Hair accessories.vn&quot;</td><td>&quot;Fashion Accessories&quot;</td><td>&quot;[{&quot;t&quot;:&quot;Thời gian giao hàng ước…</td><td>&quot;e98aeb750219738b8fa4a53546cbf3…</td><td>&quot;http://f.shopee.vn/file/e98aeb…</td><td>&quot;/media/kevin/data_4t/Test/down…</td><td>true</td><td>&quot;```json\n",
       "{\n",
       "  &quot;product_type&quot;: &quot;H…</td><td>&quot;```json\n",
       "{\n",
       "  &quot;product_type&quot;: &quot;H…</td><td>&quot;kẹp tóc hình nơ đính ngọc trai…</td><td>0.614015</td></tr><tr><td>16693283776</td><td>&quot;Hộp 10 Kẹp Tóc Nhỏ Bằng Nhựa B…</td><td>936501257</td><td>&quot;nailxinh.ling&quot;</td><td>&quot;Fashion Accessories&quot;</td><td>&quot;Hộp 10 Kẹp Tóc Nhỏ Bằng Nhựa B…</td><td>&quot;vn-11134201-23030-6scwoywxp9nv…</td><td>&quot;http://f.shopee.vn/file/vn-111…</td><td>&quot;/media/kevin/data_4t/Test/down…</td><td>true</td><td>&quot;```json\n",
       "{\n",
       "  &quot;product_type&quot;: &quot;N…</td><td>&quot;```json\n",
       "{\n",
       "  &quot;product_type&quot;: &quot;N…</td><td>&quot;hộp 10 kẹp tóc nhỏ bằng nhựa b…</td><td>17777258614</td><td>&quot;Kẹp tóc kiểu hoa tulip 2 đầu t…</td><td>178706384</td><td>&quot;lovelyhome005.vn&quot;</td><td>&quot;Fashion Accessories&quot;</td><td>&quot;[{&quot;t&quot;:&quot;Thời gian giao hàng dự …</td><td>&quot;d1780cd92fdf820141c90d940abb2a…</td><td>&quot;http://f.shopee.vn/file/d1780c…</td><td>&quot;/media/kevin/data_4t/Test/down…</td><td>true</td><td>&quot;```json\n",
       "{\n",
       "  &quot;product_type&quot;: &quot;H…</td><td>&quot;```json\n",
       "{\n",
       "  &quot;product_type&quot;: &quot;H…</td><td>&quot;kẹp tóc kiểu hoa tulip 2 đầu t…</td><td>0.610962</td></tr><tr><td>&hellip;</td><td>&hellip;</td><td>&hellip;</td><td>&hellip;</td><td>&hellip;</td><td>&hellip;</td><td>&hellip;</td><td>&hellip;</td><td>&hellip;</td><td>&hellip;</td><td>&hellip;</td><td>&hellip;</td><td>&hellip;</td><td>&hellip;</td><td>&hellip;</td><td>&hellip;</td><td>&hellip;</td><td>&hellip;</td><td>&hellip;</td><td>&hellip;</td><td>&hellip;</td><td>&hellip;</td><td>&hellip;</td><td>&hellip;</td><td>&hellip;</td><td>&hellip;</td><td>&hellip;</td></tr><tr><td>2175328577</td><td>&quot;Đôi Miếng Dán Đệm Nâng Ngực , …</td><td>17330949</td><td>&quot;Nội Y Giá Tốt&quot;</td><td>&quot;Women Clothes&quot;</td><td>&quot;đôi miếng dán bên trong áo giú…</td><td>&quot;0328d55a4a3ddaccc69a0bccf81165…</td><td>&quot;http://f.shopee.vn/file/0328d5…</td><td>&quot;/media/kevin/data_4t/Test/down…</td><td>true</td><td>&quot;```json\n",
       "{\n",
       "  &quot;product_type&quot;: &quot;b…</td><td>&quot;```json\n",
       "{\n",
       "  &quot;product_type&quot;: &quot;b…</td><td>&quot;đôi miếng dán đệm nâng ngực , …</td><td>2175328577</td><td>&quot;Đôi Miếng Dán Đệm Nâng Ngực , …</td><td>17330949</td><td>&quot;Nội Y Giá Tốt&quot;</td><td>&quot;Women Clothes&quot;</td><td>&quot;đôi miếng dán bên trong áo giú…</td><td>&quot;0328d55a4a3ddaccc69a0bccf81165…</td><td>&quot;http://f.shopee.vn/file/0328d5…</td><td>&quot;/media/kevin/data_4t/Test/down…</td><td>true</td><td>&quot;```json\n",
       "{\n",
       "  &quot;product_type&quot;: &quot;b…</td><td>&quot;```json\n",
       "{\n",
       "  &quot;product_type&quot;: &quot;b…</td><td>&quot;đôi miếng dán đệm nâng ngực , …</td><td>1.0</td></tr><tr><td>2175328577</td><td>&quot;Đôi Miếng Dán Đệm Nâng Ngực , …</td><td>17330949</td><td>&quot;Nội Y Giá Tốt&quot;</td><td>&quot;Women Clothes&quot;</td><td>&quot;đôi miếng dán bên trong áo giú…</td><td>&quot;0328d55a4a3ddaccc69a0bccf81165…</td><td>&quot;http://f.shopee.vn/file/0328d5…</td><td>&quot;/media/kevin/data_4t/Test/down…</td><td>true</td><td>&quot;```json\n",
       "{\n",
       "  &quot;product_type&quot;: &quot;b…</td><td>&quot;```json\n",
       "{\n",
       "  &quot;product_type&quot;: &quot;b…</td><td>&quot;đôi miếng dán đệm nâng ngực , …</td><td>18519358803</td><td>&quot;Áo Ngực Đúc Su Không Gọng Mềm …</td><td>592040983</td><td>&quot;DORIS Thế Giới Nội Y&quot;</td><td>&quot;Women Clothes&quot;</td><td>&quot;[{&quot;t&quot;:&quot;Áo Ngực Đúc Su Không Gọ…</td><td>&quot;27af7495682ffd1c00aa64b6ff3faa…</td><td>&quot;http://f.shopee.vn/file/27af74…</td><td>&quot;/media/kevin/data_4t/Test/down…</td><td>true</td><td>&quot;```json\n",
       "{\n",
       "  &quot;product_type&quot;: &quot;B…</td><td>&quot;```json\n",
       "{\n",
       "  &quot;product_type&quot;: &quot;B…</td><td>&quot;áo ngực đúc su không gọng mềm …</td><td>0.593759</td></tr><tr><td>2175328577</td><td>&quot;Đôi Miếng Dán Đệm Nâng Ngực , …</td><td>17330949</td><td>&quot;Nội Y Giá Tốt&quot;</td><td>&quot;Women Clothes&quot;</td><td>&quot;đôi miếng dán bên trong áo giú…</td><td>&quot;0328d55a4a3ddaccc69a0bccf81165…</td><td>&quot;http://f.shopee.vn/file/0328d5…</td><td>&quot;/media/kevin/data_4t/Test/down…</td><td>true</td><td>&quot;```json\n",
       "{\n",
       "  &quot;product_type&quot;: &quot;b…</td><td>&quot;```json\n",
       "{\n",
       "  &quot;product_type&quot;: &quot;b…</td><td>&quot;đôi miếng dán đệm nâng ngực , …</td><td>23534393716</td><td>&quot;Set bikini C K jennie xuất dư …</td><td>973434359</td><td>&quot;CiCi Sài Gòn&quot;</td><td>&quot;Sports &amp; Outdoors&quot;</td><td>&quot;Chất cotton thun tăm cao cấp\n",
       "Á…</td><td>&quot;vn-11134207-7r98o-lkleybohoy5m…</td><td>&quot;http://f.shopee.vn/file/vn-111…</td><td>&quot;/media/kevin/data_4t/Test/down…</td><td>true</td><td>&quot;{\n",
       "  &quot;product_type&quot;: &quot;Swimsuit&quot;…</td><td>&quot;{\n",
       "  &quot;product_type&quot;: &quot;Swimsuit&quot;…</td><td>&quot;set bikini c k jennie xuất dư …</td><td>0.588256</td></tr><tr><td>2175328577</td><td>&quot;Đôi Miếng Dán Đệm Nâng Ngực , …</td><td>17330949</td><td>&quot;Nội Y Giá Tốt&quot;</td><td>&quot;Women Clothes&quot;</td><td>&quot;đôi miếng dán bên trong áo giú…</td><td>&quot;0328d55a4a3ddaccc69a0bccf81165…</td><td>&quot;http://f.shopee.vn/file/0328d5…</td><td>&quot;/media/kevin/data_4t/Test/down…</td><td>true</td><td>&quot;```json\n",
       "{\n",
       "  &quot;product_type&quot;: &quot;b…</td><td>&quot;```json\n",
       "{\n",
       "  &quot;product_type&quot;: &quot;b…</td><td>&quot;đôi miếng dán đệm nâng ngực , …</td><td>20487123620</td><td>&quot;Mũi heo dán sản phẩm handmade/…</td><td>197924774</td><td>&quot;Lee_minhthu shop len sợi&quot;</td><td>&quot;Fashion Accessories&quot;</td><td>&quot;Kích cỡ : 8x10mm\n",
       "📍Địa chỉ: goo…</td><td>&quot;vn-11134207-7r98o-lotbej6on023…</td><td>&quot;http://f.shopee.vn/file/vn-111…</td><td>&quot;/media/kevin/data_4t/Test/down…</td><td>true</td><td>&quot;{\n",
       "  &quot;product_type&quot;: &quot;Buttons&quot;,…</td><td>&quot;{\n",
       "  &quot;product_type&quot;: &quot;Buttons&quot;,…</td><td>&quot;mũi heo dán sản phẩm handmade/…</td><td>0.568611</td></tr><tr><td>2175328577</td><td>&quot;Đôi Miếng Dán Đệm Nâng Ngực , …</td><td>17330949</td><td>&quot;Nội Y Giá Tốt&quot;</td><td>&quot;Women Clothes&quot;</td><td>&quot;đôi miếng dán bên trong áo giú…</td><td>&quot;0328d55a4a3ddaccc69a0bccf81165…</td><td>&quot;http://f.shopee.vn/file/0328d5…</td><td>&quot;/media/kevin/data_4t/Test/down…</td><td>true</td><td>&quot;```json\n",
       "{\n",
       "  &quot;product_type&quot;: &quot;b…</td><td>&quot;```json\n",
       "{\n",
       "  &quot;product_type&quot;: &quot;b…</td><td>&quot;đôi miếng dán đệm nâng ngực , …</td><td>23112100889</td><td>&quot;Áo ngực su cúp ngang mút bàn t…</td><td>253180755</td><td>&quot;Savill Official Store&quot;</td><td>&quot;Women Clothes&quot;</td><td>&quot;[{&quot;t&quot;:&quot;Áo ngực su cúp ngang mú…</td><td>&quot;sg-11134201-22120-0swaqboqu7kv…</td><td>&quot;http://f.shopee.vn/file/sg-111…</td><td>&quot;/media/kevin/data_4t/Test/down…</td><td>true</td><td>&quot;```json\n",
       "{\n",
       "  &quot;product_type&quot;: &quot;B…</td><td>&quot;```json\n",
       "{\n",
       "  &quot;product_type&quot;: &quot;B…</td><td>&quot;áo ngực su cúp ngang mút bàn t…</td><td>0.546948</td></tr></tbody></table></div>"
      ]
     },
     "execution_count": 16,
     "metadata": {},
     "output_type": "execute_result"
    }
   ],
   "execution_count": 16
  },
  {
   "metadata": {},
   "cell_type": "code",
   "outputs": [],
   "execution_count": null,
   "source": "",
   "id": "12d920f1a179916"
  }
 ],
 "metadata": {
  "kernelspec": {
   "display_name": "Python 3",
   "language": "python",
   "name": "python3"
  },
  "language_info": {
   "codemirror_mode": {
    "name": "ipython",
    "version": 2
   },
   "file_extension": ".py",
   "mimetype": "text/x-python",
   "name": "python",
   "nbconvert_exporter": "python",
   "pygments_lexer": "ipython2",
   "version": "2.7.6"
  }
 },
 "nbformat": 4,
 "nbformat_minor": 5
}
