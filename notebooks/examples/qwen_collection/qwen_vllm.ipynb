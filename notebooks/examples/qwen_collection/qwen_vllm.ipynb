{
 "cells": [
  {
   "cell_type": "code",
   "id": "e1662b1f-aa3a-4b5b-bcde-20a62f67f2d2",
   "metadata": {
    "ExecuteTime": {
     "end_time": "2024-10-02T08:04:45.243136Z",
     "start_time": "2024-10-02T08:04:43.404866Z"
    }
   },
   "source": [
    "from transformers import AutoTokenizer\n",
    "from vllm import LLM, SamplingParams"
   ],
   "outputs": [],
   "execution_count": 1
  },
  {
   "cell_type": "code",
   "id": "d6592748-589f-4851-9d6a-cef0565364dc",
   "metadata": {
    "ExecuteTime": {
     "end_time": "2024-10-02T08:04:45.249174Z",
     "start_time": "2024-10-02T08:04:45.245966Z"
    }
   },
   "source": [
    "description = [\n",
    "    f\"\"\"\n",
    "        1, Nước tẩy trang Simple Water Boost làm sạch da và cấp ẩm ngay tức thì\n",
    "\n",
    "        Nước tẩy trang Simple Cấp Ẩm (Simple Micellar Water Boost) giúp nhẹ nhàng loại bỏ sạch lớp trang điểm và bụi bẩn hiệu quả, song song đó cũng cấp ẩm tức thì cho làn da và lưu giữ độ ẩm trên da đến 4 giờ, khiến da sạch thoáng mà không bị tình trạng khô căng.\n",
    "\n",
    "        2, Sữa rửa mặt Simple Water Boost 150ml – Làm sạch và cấp ẩm cho da\n",
    "        Giúp làm sạch da hiệu quả, loại bỏ bã nhờn, dầu thừa và bụi bẩn trên da.\n",
    "        Chứa Pentavitin TM, loại chất nhỏ hơn phân tử Hyaluronic Acid gấp 7000 lần, kết hợp cùng Panthenol (Vitamin B5) và Pro-Amino Acids giúp cấp ẩm tức thì, cho làn da đàn hồi và tươi mát.\n",
    "        Phù hợp cho cả làn da nhạy cảm nhất, không gây bít tắc lỗ chân long và đã được kiểm nghiệm trên da.\n",
    "\n",
    "        Combo KHÔNG CHỨA: hóa chất gây hại cho da, hương liệu nhân tạo, phẩm màu nhân tạo, xà phòng, cồn (Ethyl Alcohol), dầu khoáng, paraben hạn chế làm da khô - căng rát hay kích ứng\n",
    "\n",
    "        HƯỚNG DẪN SỬ DỤNG [COMBO HÈ TƯƠI SẠCH THOÁNG]\n",
    "        Bước 1: Cho một lượng nước tẩy trang vừa đủ ra bông tẩy trang. Nhẹ nhàng lau sạch lớp trang điểm và bụi bẩn. Không cần chà xát lên da & KHÔNG CẦN RỬA LẠI VỚI NƯỚC.\n",
    "        Bước 2: Cho một lượng SRM vừa đủ ra tay để tạo bọt cùng với nước. Mát-xa sản phẩm lên da rồi rửa sạch với nước. Sử dụng mỗi ngày hai lần sáng và tối.\n",
    "\n",
    "        CHÚ Ý VÀ ĐIỀU KIỆN BẢO QUẢN\n",
    "        - Tránh tiếp xúc với mắt. Nếu tiếp xúc với mắt, rửa ngay bằng nước sạch.\n",
    "        - Để xa tầm tay trẻ em. Tránh nhiệt độ cao và ánh nắng trực tiếp. Đóng nắp sau khi sử dụng.\n",
    "        - Tránh nhiệt độ cao và ánh nắng trực tiếp. Đóng nắp sau khi sử dụng.\n",
    "\n",
    "        Xuất xứ: Poland\n",
    "        Ngày sản xuất: Xem trên bao bì\n",
    "        Hạn sử dụng: 2 năm 6 tháng năm kể từ ngày sản xuất\n",
    "    \"\"\",\n",
    "    f\"\"\"\n",
    "        Thông số kỹ thuật:\n",
    "        Màn hình: OLED6.1\"Super Retina XDR\n",
    "        Hệ điều hành: iOS 15\n",
    "        Camera sau: 2 camera 12 MP\n",
    "        Camera trước: 12 MP\n",
    "        Chip: Apple A15 Bionic\n",
    "        RAM: 4 GB\n",
    "        Bộ nhớ trong: 128 GB\n",
    "        SIM: 1 Nano SIM & 1 eSIMHỗ trợ 5G\n",
    "        Pin, Sạc: 20 W\n",
    "\n",
    "        Bộ sản phẩm bao gồm: thân máy, sách hướng dẫn,...\n",
    "\n",
    "        Thông tin bảo hành\n",
    "        Bảo hành: 12 tháng kể từ ngày kích hoạt sản phẩm.\n",
    "        Kích hoạt bảo hành tại: https://checkcoverage.apple.com/vn/en/\n",
    "\n",
    "        Hướng dẫn kiểm tra địa điểm bảo hành gần nhất:\n",
    "        Bước 1: Truy cập vào đường link https://getsupport.apple.com/?caller=grl&locale=en_VN\n",
    "        Bước 2: Chọn sản phẩm.\n",
    "        Bước 3: Điền Apple ID, nhập mật khẩu.\n",
    "        Sau khi hoàn tất, hệ thống sẽ gợi ý những trung tâm bảo hành gần nhất.\n",
    "\n",
    "        Tại Việt Nam, về chính sách bảo hành và đổi trả của Apple, \"sẽ được áp dụng chung\" theo các điều khoản được liệt kê dưới đây:\n",
    "\n",
    "        1) Chính sách chung: https://www.apple.com/legal/warranty/products/warranty-rest-of-apac-vietnamese.html\n",
    "\n",
    "        2) Chính sách cho phụ kiện: https://www.apple.com/legal/warranty/products/accessory-warranty-vietnam.html\n",
    "\n",
    "        3) Các trung tâm bảo hành Apple ủy quyền tại Việt Nam: https://getsupport.apple.com/repair-locations?locale=vi_VN\n",
    "\n",
    "        Qúy khách vui lòng đọc kỹ hướng dẫn và quy định trên các trang được Apple công bố công khai, Shop chỉ có thể hỗ trợ theo đúng chính sách được đăng công khai của thương hiệu Apple tại Việt Nam,\n",
    "\n",
    "        Bài viết tham khảo chính sách hỗ trợ của nhà phân phối tiêu biểu:\n",
    "\n",
    "        https://synnexfpt.com/bao-hanh/chinh-sach-bao-hanh/?agency-group=1&agency-slug=san-pham-apple\n",
    "\n",
    "         Để thuận tiện hơn trong việc xử lý khiếu nại, đơn hàng của Brand Apple thường có giá trị cao, Qúy khách mua hàng vui lòng quay lại Clip khui mở kiện hàng (khách quan nhất có thể, đủ 6 mặt) giúp Shopee có thêm căn cứ để làm việc với các bên và đẩy nhanh tiến độ xử lý giúp Qúy khách mua hàng.\n",
    "    \"\"\",\n",
    "    f\"\"\"\n",
    "        adidas Phong cách sống Áo Thun Future Icons adidas Sportswear Nữ Đen HE0302\n",
    "\n",
    "        Bạn đang tạm rời xa phòng gym, sân bóng hay đôi giày chạy bộ của mình — nhưng bạn vẫn là một vận động viên. Hãy cho cả thế giới thấy động lực trong bạn mỗi khi diện chiếc áo thun adidas này. Họa tiết graphic ở mặt trước thể hiện rõ ràng điều đó. Chất vải cotton mềm mại cho bạn cảm giác thoải mái khi vận động cả ngày cũng như lúc nghỉ ngơi thư giãn.\n",
    "\n",
    "        Các sản phẩm cotton của chúng tôi hỗ trợ ngành trồng bông bền vững hơn.\n",
    "        - Dáng loose fit\n",
    "        - Cổ tròn có gân sọc\n",
    "        - Vải single jersey làm từ 100% cotton\n",
    "    \"\"\",\n",
    "    f\"\"\"\n",
    "        Áo Sơ Mi Nam Tay Dài Flannel Túi Đắp Kẻ Caro Form Oversize Routine - 10F23SHL030\n",
    "\n",
    "        Áo Sơ Mi Nam Tay Dài Flannel Túi Đắp Kẻ Caro Form Oversize - 10F23SHL030 mang hơi hướng hiện đại, trẻ trung là một chiếc áo “make have” trong tủ quần áo của các chàng:\n",
    "        Với chất liệu cotton hiện đại được cào 2 mặt, có độ mềm mịn và thoáng mát\n",
    "        Vải còn có khả năng đúng form, giữ nhiệt cơ thể tốt\n",
    "        Dáng áo oversize rộng rãi, thoải mái và che đi mọi khuyết điểm cơ thể Thiết kế caro hiện đại, mang vẻ đẹp trẻ trung lại cho người mặc\n",
    "        Màu sắc trung tính dễ phối đồ, phù hợp với mọi đối tượng\n",
    "        Được may thêm túi đắp và nhãn trang trí tạo điểm nhấn độc đáo, thú vị cho chiếc áo\n",
    "        Một chiếc áo có khả năng mix&match đa năng với nhiều item khác như quần short, quần jean, áo thun,...\n",
    "        Là kiểu áo sử dụng được trong mọi hoàn cảnh như đi học, đi làm, đi chơi, du lịch.\n",
    "    \"\"\",\n",
    "]"
   ],
   "outputs": [],
   "execution_count": 2
  },
  {
   "metadata": {
    "ExecuteTime": {
     "end_time": "2024-10-02T08:04:58.612017Z",
     "start_time": "2024-10-02T08:04:45.297583Z"
    }
   },
   "cell_type": "code",
   "source": [
    "model_name = 'Qwen/Qwen2.5-0.5B-Instruct'\n",
    "tokenizer = AutoTokenizer.from_pretrained(model_name)\n",
    "\n",
    "sampling_params = SamplingParams(\n",
    "    temperature=0.7, \n",
    "    top_p=0.8, \n",
    "    repetition_penalty=1.05, \n",
    "    max_tokens=256\n",
    ")\n",
    "llm = LLM(model=model_name)\n",
    "\n",
    "prompt = f\"\"\"\n",
    "You are an AI assistant specialized in creating concise and informative summaries of e-commerce product descriptions. Your task is to distill lengthy product descriptions into clear, engaging summaries that highlight the most important features and benefits for potential customers.\n",
    "\n",
    "Instructions:\n",
    "1. Read the full product description carefully.\n",
    "2. Identify the key features, specifications, and unique selling points of the product.\n",
    "3. Summarize the product, ensuring you capture the following elements:\n",
    "- Product name\n",
    "- Brief description (1-2 sentences)\n",
    "- Key features (3-5 bullet points)\n",
    "- Target audience or ideal use case (if mentioned)\n",
    "- Warranty\n",
    "- Specifications: Color, Size, Brand (Color must be in text not code)\n",
    "5. Use clear, concise language that's easy for customers to understand.\n",
    "6. Avoid using technical jargon unless it's essential to describing the product.\n",
    "7. Maintain a neutral tone, focusing on facts rather than marketing language.\n",
    "8. If there are multiple variations or models of the product, mention this briefly.\n",
    "9. Format the output as a JSON object\n",
    "\n",
    "Remember, your goal is to create a structured summary that quickly gives potential customers the most important information about the product, helping them make informed purchasing decisions, while providing the data in a format that's easy to process programmatically.\n",
    "Summarize the product description below, delimited by triple \n",
    "backticks.\n",
    "\n",
    "Description: ```{description[0]}```\n",
    "\"\"\"\n",
    "messages = [\n",
    "    {\"role\": \"system\", \"content\": \"You are a helpful assistant.\"},\n",
    "    {\"role\": \"user\", \"content\": prompt}\n",
    "]\n",
    "text = tokenizer.apply_chat_template(\n",
    "    messages,\n",
    "    tokenize=False,\n",
    "    add_generation_prompt=True\n",
    ")\n",
    "\n",
    "outputs = llm.generate([text], sampling_params)\n",
    "for output in outputs:\n",
    "    prompt = output.prompt\n",
    "    generated_text = output.outputs[0].text"
   ],
   "id": "e6b67a9a83b79ebb",
   "outputs": [
    {
     "name": "stdout",
     "output_type": "stream",
     "text": [
      "INFO 10-02 15:04:46 llm_engine.py:226] Initializing an LLM engine (v0.6.1.dev238+ge2c6e0a82) with config: model='Qwen/Qwen2.5-0.5B-Instruct', speculative_config=None, tokenizer='Qwen/Qwen2.5-0.5B-Instruct', skip_tokenizer_init=False, tokenizer_mode=auto, revision=None, override_neuron_config=None, rope_scaling=None, rope_theta=None, tokenizer_revision=None, trust_remote_code=False, dtype=torch.bfloat16, max_seq_len=32768, download_dir=None, load_format=LoadFormat.AUTO, tensor_parallel_size=1, pipeline_parallel_size=1, disable_custom_all_reduce=False, quantization=None, enforce_eager=False, kv_cache_dtype=auto, quantization_param_path=None, device_config=cuda, decoding_config=DecodingConfig(guided_decoding_backend='outlines'), observability_config=ObservabilityConfig(otlp_traces_endpoint=None, collect_model_forward_time=False, collect_model_execute_time=False), seed=0, served_model_name=Qwen/Qwen2.5-0.5B-Instruct, use_v2_block_manager=False, num_scheduler_steps=1, multi_step_stream_outputs=False, enable_prefix_caching=False, use_async_output_proc=True, use_cached_outputs=False, mm_processor_kwargs=None)\n",
      "INFO 10-02 15:04:47 model_runner.py:1014] Starting to load model Qwen/Qwen2.5-0.5B-Instruct...\n",
      "INFO 10-02 15:04:48 weight_utils.py:242] Using model weights format ['*.safetensors']\n",
      "INFO 10-02 15:04:49 weight_utils.py:287] No model.safetensors.index.json found in remote.\n"
     ]
    },
    {
     "data": {
      "text/plain": [
       "Loading safetensors checkpoint shards:   0% Completed | 0/1 [00:00<?, ?it/s]\n"
      ],
      "application/vnd.jupyter.widget-view+json": {
       "version_major": 2,
       "version_minor": 0,
       "model_id": "e1bae44df76846aab47b1b1c9566bdcd"
      }
     },
     "metadata": {},
     "output_type": "display_data"
    },
    {
     "name": "stdout",
     "output_type": "stream",
     "text": [
      "INFO 10-02 15:04:49 model_runner.py:1025] Loading model weights took 0.9276 GB\n",
      "INFO 10-02 15:04:50 gpu_executor.py:122] # GPU blocks: 22179, # CPU blocks: 21845\n",
      "INFO 10-02 15:04:51 model_runner.py:1329] Capturing the model for CUDA graphs. This may lead to unexpected consequences if the model is not static. To run the model in eager mode, set 'enforce_eager=True' or use '--enforce-eager' in the CLI.\n",
      "INFO 10-02 15:04:51 model_runner.py:1333] CUDA graphs can take additional 1~3 GiB memory per GPU. If you are running out of memory, consider decreasing `gpu_memory_utilization` or enforcing eager mode. You can also reduce the `max_num_seqs` as needed to decrease memory usage.\n",
      "INFO 10-02 15:04:57 model_runner.py:1456] Graph capturing finished in 6 secs.\n"
     ]
    },
    {
     "name": "stderr",
     "output_type": "stream",
     "text": [
      "Processed prompts: 100%|██████████| 1/1 [00:00<00:00,  1.53it/s, est. speed input: 1360.75 toks/s, output: 220.16 toks/s]\n"
     ]
    }
   ],
   "execution_count": 3
  },
  {
   "metadata": {
    "ExecuteTime": {
     "end_time": "2024-10-02T08:04:58.631186Z",
     "start_time": "2024-10-02T08:04:58.629446Z"
    }
   },
   "cell_type": "code",
   "source": "print(generated_text)",
   "id": "7d79abc7f6e5142",
   "outputs": [
    {
     "name": "stdout",
     "output_type": "stream",
     "text": [
      "```json\n",
      "{\n",
      "  \"Product Name\": \"Simple Water Boost\",\n",
      "  \"Brief Description\": \"Nước tẩy trang làm sạch da và cấp ẩm ngay tức thì.\",\n",
      "  \"Key Features\": [\n",
      "    \"Lưu ý: Tránh tiếp xúc với mắt và sử dụng sau khi tiếp xúc với mắt.\",\n",
      "    \"Color\": \"Xanh\",\n",
      "    \"Size\": \"150ml\",\n",
      "    \"Brand\": \"Simple\"\n",
      "  ],\n",
      "  \"Target Audience\": \"All skin types\",\n",
      "  \"Warranty\": \"Hàng 2 năm 6 tháng\",\n",
      "  \"Specifications\": \"Color: Xanh; Size: 150ml; Brand: Simple\"\n",
      "}\n",
      "```\n"
     ]
    }
   ],
   "execution_count": 4
  },
  {
   "metadata": {
    "ExecuteTime": {
     "end_time": "2024-10-02T08:04:58.730062Z",
     "start_time": "2024-10-02T08:04:58.727944Z"
    }
   },
   "cell_type": "code",
   "source": "",
   "id": "8b2b7490a2eb79b8",
   "outputs": [],
   "execution_count": null
  }
 ],
 "metadata": {
  "kernelspec": {
   "display_name": "Python 3 (ipykernel)",
   "language": "python",
   "name": "python3"
  },
  "language_info": {
   "codemirror_mode": {
    "name": "ipython",
    "version": 3
   },
   "file_extension": ".py",
   "mimetype": "text/x-python",
   "name": "python",
   "nbconvert_exporter": "python",
   "pygments_lexer": "ipython3",
   "version": "3.12.5"
  }
 },
 "nbformat": 4,
 "nbformat_minor": 5
}
