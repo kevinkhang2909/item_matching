{
 "cells": [
  {
   "cell_type": "code",
   "id": "initial_id",
   "metadata": {
    "collapsed": true,
    "ExecuteTime": {
     "end_time": "2024-10-02T09:03:50.340255Z",
     "start_time": "2024-10-02T09:03:48.884811Z"
    }
   },
   "source": [
    "from pathlib import Path\n",
    "import polars as pl\n",
    "from qwen_model import QwenChatInference"
   ],
   "outputs": [],
   "execution_count": 1
  },
  {
   "metadata": {
    "ExecuteTime": {
     "end_time": "2024-10-02T09:03:50.388933Z",
     "start_time": "2024-10-02T09:03:50.347185Z"
    }
   },
   "cell_type": "code",
   "source": [
    "file = Path('/home/kevin/Downloads/Temp Query 3_20241002-164744.csv')\n",
    "df = pl.read_csv(file)\n",
    "print(df.shape)\n",
    "df.head()"
   ],
   "id": "3a43a4b8b0c72418",
   "outputs": [
    {
     "name": "stdout",
     "output_type": "stream",
     "text": [
      "(182940, 2)\n"
     ]
    },
    {
     "data": {
      "text/plain": [
       "shape: (5, 2)\n",
       "┌──────────┬─────────────────────────────────┐\n",
       "│ shop_id  ┆ comment                         │\n",
       "│ ---      ┆ ---                             │\n",
       "│ i64      ┆ str                             │\n",
       "╞══════════╪═════════════════════════════════╡\n",
       "│ 23829086 ┆ Sản phẩm đủ màu. Nhưng bị lem … │\n",
       "│ 23829086 ┆ Hang nhat ma sao ma vach lai l… │\n",
       "│ 23829086 ┆  Chất lượng sản phẩm tốt        │\n",
       "│ 23829086 ┆ Hàng đẹp ạ, nhưng size hơi to … │\n",
       "│ 23829086 ┆ Áo lót bông chứ không phải lôn… │\n",
       "└──────────┴─────────────────────────────────┘"
      ],
      "text/html": [
       "<div><style>\n",
       ".dataframe > thead > tr,\n",
       ".dataframe > tbody > tr {\n",
       "  text-align: right;\n",
       "  white-space: pre-wrap;\n",
       "}\n",
       "</style>\n",
       "<small>shape: (5, 2)</small><table border=\"1\" class=\"dataframe\"><thead><tr><th>shop_id</th><th>comment</th></tr><tr><td>i64</td><td>str</td></tr></thead><tbody><tr><td>23829086</td><td>&quot;Sản phẩm đủ màu. Nhưng bị lem …</td></tr><tr><td>23829086</td><td>&quot;Hang nhat ma sao ma vach lai l…</td></tr><tr><td>23829086</td><td>&quot; Chất lượng sản phẩm tốt&quot;</td></tr><tr><td>23829086</td><td>&quot;Hàng đẹp ạ, nhưng size hơi to …</td></tr><tr><td>23829086</td><td>&quot;Áo lót bông chứ không phải lôn…</td></tr></tbody></table></div>"
      ]
     },
     "execution_count": 2,
     "metadata": {},
     "output_type": "execute_result"
    }
   ],
   "execution_count": 2
  },
  {
   "metadata": {
    "ExecuteTime": {
     "end_time": "2024-10-02T09:12:47.059532Z",
     "start_time": "2024-10-02T09:12:47.055714Z"
    }
   },
   "cell_type": "code",
   "source": "df",
   "id": "c9f11dea75469e97",
   "outputs": [
    {
     "data": {
      "text/plain": [
       "shape: (182_940, 2)\n",
       "┌──────────┬─────────────────────────────────┐\n",
       "│ shop_id  ┆ comment                         │\n",
       "│ ---      ┆ ---                             │\n",
       "│ i64      ┆ str                             │\n",
       "╞══════════╪═════════════════════════════════╡\n",
       "│ 23829086 ┆ Sản phẩm đủ màu. Nhưng bị lem … │\n",
       "│ 23829086 ┆ Hang nhat ma sao ma vach lai l… │\n",
       "│ 23829086 ┆  Chất lượng sản phẩm tốt        │\n",
       "│ 23829086 ┆ Hàng đẹp ạ, nhưng size hơi to … │\n",
       "│ 23829086 ┆ Áo lót bông chứ không phải lôn… │\n",
       "│ …        ┆ …                               │\n",
       "│ 23829086 ┆ Chuẩn bị xài thử. Hihi          │\n",
       "│ 23829086 ┆ Chất lượng sản phẩm tuyệt vời,… │\n",
       "│ 23829086 ┆ Bộ cắt móng gọn nhẹ, tiện sử d… │\n",
       "│ 23829086 ┆ Đẹp hơn mình nghĩ               │\n",
       "│ 23829086 ┆ Shop giao đủ hàng chất lượng n… │\n",
       "└──────────┴─────────────────────────────────┘"
      ],
      "text/html": [
       "<div><style>\n",
       ".dataframe > thead > tr,\n",
       ".dataframe > tbody > tr {\n",
       "  text-align: right;\n",
       "  white-space: pre-wrap;\n",
       "}\n",
       "</style>\n",
       "<small>shape: (182_940, 2)</small><table border=\"1\" class=\"dataframe\"><thead><tr><th>shop_id</th><th>comment</th></tr><tr><td>i64</td><td>str</td></tr></thead><tbody><tr><td>23829086</td><td>&quot;Sản phẩm đủ màu. Nhưng bị lem …</td></tr><tr><td>23829086</td><td>&quot;Hang nhat ma sao ma vach lai l…</td></tr><tr><td>23829086</td><td>&quot; Chất lượng sản phẩm tốt&quot;</td></tr><tr><td>23829086</td><td>&quot;Hàng đẹp ạ, nhưng size hơi to …</td></tr><tr><td>23829086</td><td>&quot;Áo lót bông chứ không phải lôn…</td></tr><tr><td>&hellip;</td><td>&hellip;</td></tr><tr><td>23829086</td><td>&quot;Chuẩn bị xài thử. Hihi&quot;</td></tr><tr><td>23829086</td><td>&quot;Chất lượng sản phẩm tuyệt vời,…</td></tr><tr><td>23829086</td><td>&quot;Bộ cắt móng gọn nhẹ, tiện sử d…</td></tr><tr><td>23829086</td><td>&quot;Đẹp hơn mình nghĩ &quot;</td></tr><tr><td>23829086</td><td>&quot;Shop giao đủ hàng chất lượng n…</td></tr></tbody></table></div>"
      ]
     },
     "execution_count": 16,
     "metadata": {},
     "output_type": "execute_result"
    }
   ],
   "execution_count": 16
  },
  {
   "metadata": {
    "ExecuteTime": {
     "end_time": "2024-10-02T09:03:50.440393Z",
     "start_time": "2024-10-02T09:03:50.438333Z"
    }
   },
   "cell_type": "code",
   "source": "', '.join(df['comment'][:100])",
   "id": "990f0e5c498daba3",
   "outputs": [
    {
     "data": {
      "text/plain": [
       "'Sản phẩm đủ màu. Nhưng bị lem bẩn. Sau shop chú ý kiểm tra trước khi đóng hàng, Hang nhat ma sao ma vach lai la trung quoc nhi,  Chất lượng sản phẩm tốt, Hàng đẹp ạ, nhưng size hơi to với em. Rất ưng ý. Cảm ơn shop. Sẽ ủng hộ nếu có nhu câu thêm, Áo lót bông chứ không phải lông, hơi mỏng xíu, đường may chắc chắn, shop phục vụ tốt, Quai đeo hơi dão,  Chất lượng sản phẩm tuyệt vời giao hàng rất chậm, Phù hợp giá tiền, Dép không giống hình. Logo facebook??, Giao size 1 thành size 2 rồi shop ơi, , chất liệu bt phù hợp giá tiền, Chất vải tạm được,  Thời gian giao hàng nhanh, Miếng lót k cố định\\xa0, Thời gian giao hàng chậm, Bộ cắt móng tay hết hàng mà shop cũng không nt cho mình biết để hôm 9.9 mình mua chổ khác.,  Chất lượng sản phẩm tạm được, Giao hàng chậm, đặt đúng 1 tuần mới nhận dc, Vải mỏng\\xa0, Khăn bị bẩn 1 chút. Đóng gói sản phẩm chắc chắn, Mình mua lần thứ 2 nhưng chất Hình như không giống nhau , E đặt số 1 mà thấy trên nhãn ghi toàn số 2, Chất lượng sản phẩm và giá cả tốt. Tuy nhiên thời gian giao hàng lâu quá, hàng có sẵn mà phải 10 ngày mới nhận được hàng.\\n, Bình sữa bị xước hết mặt ngoài trông rất cũ dù để trong hộp, Tất đàn hồi tốt nhưng mỏng., Vải ko đc mịn cho lắm, đặt 20 giao 10 . bán hàng đéo có tâm đù nt đéo tl . quần thì mỏng lừa đảo ! lần đầu mua hàng gặp phai shop nay sàm lờ 😏\\xa0, Mua 10 bịch thì giao 9 bịch, trong đơn có 1 set tất hè cũng k thấy giao! Inbox thì shop k trả lời, thật mất uy tín Shop phục vụ rất kém, Chất lượng quá kém😡\\nBị sẹp .sịt nhiều😡\\nMùi kinh k thể ngửi được 😒\\nChả lẽ lại chụp ảnh đăg nên, Shop gởi hàng chât lượnh quá ạ.., Đặt size cho bé 6,5kg mà shop gửi size 9-12, hết size cũng ko nói 1 tiếng, nt thì shop ko tl. Mua shop 2 lần mà lần này quá thất vọng.\\xa0, Chất lượng sản phẩm rất kém, hàng ko giống hình, bán hàng ko có tâm, khách chat còn đợi shop phản hồi lại xem có phản hồi ko, nhưng ko có một câu giải thích, con trai thì cho đồ con gái. Chất đểu ko bằng ngoài chợ, giá chợ còn rẻ bằng 1 nửa giá shop.\\xa0, Hàng chưa đươc kiểm chứng giao hang lại quá lâu phục vụ kém,  Thời gian giao hàng rất nhanh\\xa0\\n Chất lượng sản phẩm kém Rất không đáng tiền,  Chất lượng sản phẩm rất kém, Bán hàng kiểu lừa đảo. Hàng có hình có chữ ,có cả tin nhắn mà vẫn gửi nhầm hàng. Trong khi đó đợi lấy hàng mấy ngày trời. Chỉ có là cố tình gửi nhầm .lúc mua hàng khách nhắn tin trả lời nhanh lắm. Lúc nhầm hàng khách nhắn thì 24 nói lại một câu nhầm hả rồi lặn luôn.online liên tục mà không trả lời ., Hàng không chuẩn, màu đục như hàng giả, Hình thức đẹp, All đều hàu lòng mỗi bộ nỉ là gửi sai màu cho mình. híc , Sản phẩm tạm ổn so với giá tiền.\\xa0\\nSản phẩm tạm ổn so với giá tiền.\\xa0, Vải mỏng, không giống hình,  Chất lượng sản phẩm tốt, đã dặn bé trai mà vẫn giao màu hồng, khăn hơi kém, may ẩu và k xịn như hàng xuất. tạm,,,,,,??????,,,, Trọng lượng không đủ chỉ 230g , tạm được, Quần vải hơi mỏng . chất lượng tạm ổn  so với giá tiền rồi . đóng gói tốt, Vải mỏng hơn mình nghĩ, Aaaaasssssssssssssssssaaaaaaaaaaaaaaaaaaaaaaaaaaaaaaaaaaaaaaaaaaaaasssaaaaasssssssssssaaassssassaaaaaaaaaaaaaaaaaaaaalghkkkllllllll,  Chất lượng sản phẩm tuyệt vời, Khuyen chân thành các bạn nên mua hãng Baby Leo. Đắt hơn tí mà cotton mềm, trông cũng sướng mắt hơn, Khăn sữa tạm đc.chất ko đc dày dặn như các loại khăn sữa 4 lớp mà mình từng đặt...........................  ggjjvvkkgfjkkknn,  Good value,  Thời gian giao hàng nhanh, Ổn,  Đóng gói sản phẩm sơ sài \\nDễ bị móc mất sp\\n, sp phù hợp với giá tiền hshsnsnsnnsns bsbbsbzbnzs hsnnsnznznns nznznnznxnndb bznznnznnznznzn bzbznnznsnnsnsn, chất lượng ổn so với giá\\nđóng gói chắc chắn\\nthời gian giao hàng nhanh, Móc khá mỏng nhưng so với giá tiền thì hoàn toàn ổn, đủ số lượng móc trong 1 bịch, Vải mỏng thì không sao, nhưng đã dặn shop lấy màu cho bé trai nhưng lại có màu hồng. Giờ chưa biết cho ai., Không thích lắm ,  Shop phục vụ rất kém, Size to, ss k mặc đc, Bao bì móp méo. Nhìn đã thấy mất thiện cảm, Shop phục vụ kém, Chất lượng sản phẩm rất kém, Đặt 1 size,  giao sz khác,  mẫu giao k đúng,  Chất lượng sản phẩm rất kém, hàng ko giống hình, bán hàng ko có tâm, khách chat còn đợi shop phản hồi lại xem có phản hồi ko, nhưng ko có một câu giải thích, con trai thì cho đồ con gái. Áo chất thì Bộ quần áo chất đểu ko bằng ngoài chợ, giá chợ còn rẻ bằng 1 nửa giá shop.\\xa0, SHOP GIAO HÀNG THIẾU,  NHẮN TIN BÁO SHOP, MÌNH ĐÃ CHỜ  SHOP HƠN 2 NGÀY SAU KHI NHẬN HÀNG ĐỂ SHOP HOÀN TIỀN CHO MÌNH NHƯNG SHOP PHẢN HỒI RẤT CHẬM VÀ KHÔNG GIẢI QUYẾT. SHOP KHÔNG UY TÍN, RẤT THẤT VỌNG VỀ SHOP.  , Mua hàng 2 lần cùng 1 sp, lần đầu thì giao hàng đẹp, lần 2 mua thì giao hàng loại 2 giá rẻ ... gối nhẹ hơn lần trước rất nhiều,  Chất lượng sản phẩm rất kém, Nhựa xấu, chất lượng kém. Không dám dùng cho trẻ nhỏ,  Chất lượng sản phẩm tốt, chất lượng ổn so với giá. dây đeo hơi giãn\\xa0\\nđóng gói chắc chắn\\nthời gian giao hàng nhanh, Có 180 tờ chứ k phải 300 tờ, nhưng giá rẻ nên tiền nào của nấy thôu, Mình đã báo lấy yếm cho bé gái nhưng shop lại gửi hình ô tô,hixx, Quần rách..................................... \\nMong shop KT trc khi giao hàng, Tiền nào của nấy. Vải gối và bông đều rất tệ Chất lượng sản phẩm kém, mỏng quá, Mới móc 2lần đã bong nan ốc long hết ra .may chỉ mua 1cái. Ai mua móc treo nên suy nghĩ lại .sản phẩm tồi tệ , Bao tay ok, bao chân may hơi ẩu,  Chất lượng sản phẩm tốt, Chất lượng tạm ổn so với giá tiền.,  Chất lượng sản phẩm ổn, Có 1 chiếc bị ố vàng và 1 chiếc bị rách, shop trao đổi là nếu không dùng được sẽ bù món khác vào đơn hàng sau. Ghi nhận phản hồi của shop nên vẫn đánh 4*, Trừ quần nỉ cào,còn lại các sp khác đều ok, Mỗi gói chỉ đc 240g, gói nhiều nhất 250g., Áo đẹp nhưng vải mỏng không được ấm cho lắm. Thời gian giao hàng chậm. , nhắn với shop chọn màu bé trai,shop ok rồi mà vẫn gửi 2 cái quần màu hồng, bị lem màu và mong Shop phục vụ khá tốt, Shop gửi nhầm mẫu so với ảnh,  Shop phục vụ khá tốt, tạm được,  Thời gian giao hàng nhanh,  Đóng gói sản phẩm rất đẹp và chắc chắn,  Đáng đồng tiền, Cái lần này giao mỏng hơn lần trước đặt, Quảng cái là 300 tờ nhưng khi nhận có 150 tờ, quá thất vọng mình còn đặt hẳn 10 bịch, làm ăn bố láo, Mua 10 gói thì 2 gói bị bẩn, đồ dùng cho bé sơ sinh mà bẩn ntn thì dùng làm sao hả shop, mong là shop để ý kĩ trước khi giao hàng cho người mua, Quần chất vải nilong cực nóng, ko thấm hút mồ hôi\\xa0,  Shop phục vụ rất kém'"
      ]
     },
     "execution_count": 3,
     "metadata": {},
     "output_type": "execute_result"
    }
   ],
   "execution_count": 3
  },
  {
   "metadata": {
    "ExecuteTime": {
     "end_time": "2024-10-02T09:03:50.485897Z",
     "start_time": "2024-10-02T09:03:50.481503Z"
    }
   },
   "cell_type": "code",
   "source": [
    "prompt = f\"\"\"\n",
    "Objective: Create a concise yet comprehensive summary of customer product reviews from an e-commerce platform, \n",
    "highlighting key insights and trends to inform potential buyers and provide valuable feedback to the seller.\n",
    "\n",
    "1. Quantitative Analysis\n",
    "- Identify the most common star ratings\n",
    "- Calculate the percentage of positive (4-5 stars) vs. negative (1-2 stars) reviews\n",
    "- Note any trends in ratings over time (improving, declining, or stable)\n",
    "\n",
    "2. Key Themes\n",
    "- Identify 3-5 most frequently mentioned positive aspects of the product\n",
    "- Identify 3-5 most frequently mentioned negative aspects or concerns\n",
    "- Highlight any unique or standout comments that provide valuable insights\n",
    "\n",
    "3. Product Features\n",
    "- List the most discussed product features\n",
    "- For each key feature, provide a brief summary of customer opinions (positive and negative)\n",
    "\n",
    "4. Customer Experience\n",
    "- Summarize comments about the overall customer experience (e.g., ease of use, satisfaction level)\n",
    "- Note any frequently mentioned comparisons to similar products or brands\n",
    "\n",
    "5. Quality and Durability\n",
    "- Summarize feedback related to product quality\n",
    "- Highlight any common issues or praises regarding product longevity and durability\n",
    "\n",
    "6. Value for Money\n",
    "- Summarize opinions on the product's pricing\n",
    "- Identify whether customers generally feel the product is worth its cost\n",
    "\n",
    "7. Customer Service and Seller Performance\n",
    "- If applicable, summarize feedback about the seller's customer service\n",
    "- Note any common themes regarding shipping, packaging, or seller communication\n",
    "\n",
    "8. Pros and Cons\n",
    "- Create a concise list of pros and cons based on the review analysis\n",
    "\n",
    "9. Potential Improvements\n",
    "- Identify areas where customers frequently suggest improvements\n",
    "\n",
    "10. Reviewer Demographics\n",
    "- If discernible, note any patterns in the types of customers leaving reviews (e.g., age groups, usage patterns)\n",
    "\n",
    "11. Verify Purchase Status\n",
    "- Note the percentage of reviews from verified purchases, if this information is available\n",
    "\n",
    "12. Review Quality\n",
    "- Comment on the overall quality and helpfulness of the reviews\n",
    "- Highlight any particularly detailed or insightful reviews\n",
    "\n",
    "13. Recent Trends\n",
    "- Summarize any noticeable trends in the most recent reviews (last 1-3 months)\n",
    "\n",
    "14. Visual Content\n",
    "- Mention the presence and usefulness of customer-submitted photos or videos\n",
    "\n",
    "15. Keywords and Phrases\n",
    "- List frequently used words or phrases that capture the essence of customer sentiment\n",
    "\n",
    "Final Summary\n",
    "Provide a 2-3 sentence overall summary that captures the general customer consensus about the product, \n",
    "its standout features, and any major caveats potential buyers should be aware of.\n",
    "\n",
    "Note: \n",
    "When summarizing, strive for objectivity and balance. Represent both positive and negative \n",
    "feedback proportionally to their presence in the reviews. Avoid overgeneralizing and use qualifying language (e.g., \"many customers,\" \"some users\") when appropriate.\n",
    "\n",
    "Remember, your goal is to create a structured summary that quickly gives potential customers the most important information about the product, helping them make informed purchasing decisions, while providing the data in a format that's easy to process programmatically.\n",
    "Summarize the product description below, delimited by triple \n",
    "backticks.\n",
    "\n",
    "Reviews: ```{', '.join(df['comment'][:100])}```\n",
    "\"\"\""
   ],
   "id": "569efa93319d3a25",
   "outputs": [],
   "execution_count": 4
  },
  {
   "metadata": {
    "ExecuteTime": {
     "end_time": "2024-10-02T09:03:50.530156Z",
     "start_time": "2024-10-02T09:03:50.528254Z"
    }
   },
   "cell_type": "code",
   "source": "print(prompt)",
   "id": "1584ca6fbc6f55b3",
   "outputs": [
    {
     "name": "stdout",
     "output_type": "stream",
     "text": [
      "\n",
      "Objective: Create a concise yet comprehensive summary of customer product reviews from an e-commerce platform, \n",
      "highlighting key insights and trends to inform potential buyers and provide valuable feedback to the seller.\n",
      "\n",
      "1. Quantitative Analysis\n",
      "- Identify the most common star ratings\n",
      "- Calculate the percentage of positive (4-5 stars) vs. negative (1-2 stars) reviews\n",
      "- Note any trends in ratings over time (improving, declining, or stable)\n",
      "\n",
      "2. Key Themes\n",
      "- Identify 3-5 most frequently mentioned positive aspects of the product\n",
      "- Identify 3-5 most frequently mentioned negative aspects or concerns\n",
      "- Highlight any unique or standout comments that provide valuable insights\n",
      "\n",
      "3. Product Features\n",
      "- List the most discussed product features\n",
      "- For each key feature, provide a brief summary of customer opinions (positive and negative)\n",
      "\n",
      "4. Customer Experience\n",
      "- Summarize comments about the overall customer experience (e.g., ease of use, satisfaction level)\n",
      "- Note any frequently mentioned comparisons to similar products or brands\n",
      "\n",
      "5. Quality and Durability\n",
      "- Summarize feedback related to product quality\n",
      "- Highlight any common issues or praises regarding product longevity and durability\n",
      "\n",
      "6. Value for Money\n",
      "- Summarize opinions on the product's pricing\n",
      "- Identify whether customers generally feel the product is worth its cost\n",
      "\n",
      "7. Customer Service and Seller Performance\n",
      "- If applicable, summarize feedback about the seller's customer service\n",
      "- Note any common themes regarding shipping, packaging, or seller communication\n",
      "\n",
      "8. Pros and Cons\n",
      "- Create a concise list of pros and cons based on the review analysis\n",
      "\n",
      "9. Potential Improvements\n",
      "- Identify areas where customers frequently suggest improvements\n",
      "\n",
      "10. Reviewer Demographics\n",
      "- If discernible, note any patterns in the types of customers leaving reviews (e.g., age groups, usage patterns)\n",
      "\n",
      "11. Verify Purchase Status\n",
      "- Note the percentage of reviews from verified purchases, if this information is available\n",
      "\n",
      "12. Review Quality\n",
      "- Comment on the overall quality and helpfulness of the reviews\n",
      "- Highlight any particularly detailed or insightful reviews\n",
      "\n",
      "13. Recent Trends\n",
      "- Summarize any noticeable trends in the most recent reviews (last 1-3 months)\n",
      "\n",
      "14. Visual Content\n",
      "- Mention the presence and usefulness of customer-submitted photos or videos\n",
      "\n",
      "15. Keywords and Phrases\n",
      "- List frequently used words or phrases that capture the essence of customer sentiment\n",
      "\n",
      "Final Summary\n",
      "Provide a 2-3 sentence overall summary that captures the general customer consensus about the product, \n",
      "its standout features, and any major caveats potential buyers should be aware of.\n",
      "\n",
      "Note: \n",
      "When summarizing, strive for objectivity and balance. Represent both positive and negative \n",
      "feedback proportionally to their presence in the reviews. Avoid overgeneralizing and use qualifying language (e.g., \"many customers,\" \"some users\") when appropriate.\n",
      "\n",
      "Remember, your goal is to create a structured summary that quickly gives potential customers the most important information about the product, helping them make informed purchasing decisions, while providing the data in a format that's easy to process programmatically.\n",
      "Summarize the product description below, delimited by triple \n",
      "backticks.\n",
      "\n",
      "Reviews: ```Sản phẩm đủ màu. Nhưng bị lem bẩn. Sau shop chú ý kiểm tra trước khi đóng hàng, Hang nhat ma sao ma vach lai la trung quoc nhi,  Chất lượng sản phẩm tốt, Hàng đẹp ạ, nhưng size hơi to với em. Rất ưng ý. Cảm ơn shop. Sẽ ủng hộ nếu có nhu câu thêm, Áo lót bông chứ không phải lông, hơi mỏng xíu, đường may chắc chắn, shop phục vụ tốt, Quai đeo hơi dão,  Chất lượng sản phẩm tuyệt vời giao hàng rất chậm, Phù hợp giá tiền, Dép không giống hình. Logo facebook??, Giao size 1 thành size 2 rồi shop ơi, , chất liệu bt phù hợp giá tiền, Chất vải tạm được,  Thời gian giao hàng nhanh, Miếng lót k cố định , Thời gian giao hàng chậm, Bộ cắt móng tay hết hàng mà shop cũng không nt cho mình biết để hôm 9.9 mình mua chổ khác.,  Chất lượng sản phẩm tạm được, Giao hàng chậm, đặt đúng 1 tuần mới nhận dc, Vải mỏng , Khăn bị bẩn 1 chút. Đóng gói sản phẩm chắc chắn, Mình mua lần thứ 2 nhưng chất Hình như không giống nhau , E đặt số 1 mà thấy trên nhãn ghi toàn số 2, Chất lượng sản phẩm và giá cả tốt. Tuy nhiên thời gian giao hàng lâu quá, hàng có sẵn mà phải 10 ngày mới nhận được hàng.\n",
      ", Bình sữa bị xước hết mặt ngoài trông rất cũ dù để trong hộp, Tất đàn hồi tốt nhưng mỏng., Vải ko đc mịn cho lắm, đặt 20 giao 10 . bán hàng đéo có tâm đù nt đéo tl . quần thì mỏng lừa đảo ! lần đầu mua hàng gặp phai shop nay sàm lờ 😏 , Mua 10 bịch thì giao 9 bịch, trong đơn có 1 set tất hè cũng k thấy giao! Inbox thì shop k trả lời, thật mất uy tín Shop phục vụ rất kém, Chất lượng quá kém😡\n",
      "Bị sẹp .sịt nhiều😡\n",
      "Mùi kinh k thể ngửi được 😒\n",
      "Chả lẽ lại chụp ảnh đăg nên, Shop gởi hàng chât lượnh quá ạ.., Đặt size cho bé 6,5kg mà shop gửi size 9-12, hết size cũng ko nói 1 tiếng, nt thì shop ko tl. Mua shop 2 lần mà lần này quá thất vọng. , Chất lượng sản phẩm rất kém, hàng ko giống hình, bán hàng ko có tâm, khách chat còn đợi shop phản hồi lại xem có phản hồi ko, nhưng ko có một câu giải thích, con trai thì cho đồ con gái. Chất đểu ko bằng ngoài chợ, giá chợ còn rẻ bằng 1 nửa giá shop. , Hàng chưa đươc kiểm chứng giao hang lại quá lâu phục vụ kém,  Thời gian giao hàng rất nhanh \n",
      " Chất lượng sản phẩm kém Rất không đáng tiền,  Chất lượng sản phẩm rất kém, Bán hàng kiểu lừa đảo. Hàng có hình có chữ ,có cả tin nhắn mà vẫn gửi nhầm hàng. Trong khi đó đợi lấy hàng mấy ngày trời. Chỉ có là cố tình gửi nhầm .lúc mua hàng khách nhắn tin trả lời nhanh lắm. Lúc nhầm hàng khách nhắn thì 24 nói lại một câu nhầm hả rồi lặn luôn.online liên tục mà không trả lời ., Hàng không chuẩn, màu đục như hàng giả, Hình thức đẹp, All đều hàu lòng mỗi bộ nỉ là gửi sai màu cho mình. híc , Sản phẩm tạm ổn so với giá tiền. \n",
      "Sản phẩm tạm ổn so với giá tiền. , Vải mỏng, không giống hình,  Chất lượng sản phẩm tốt, đã dặn bé trai mà vẫn giao màu hồng, khăn hơi kém, may ẩu và k xịn như hàng xuất. tạm,,,,,,??????,,,, Trọng lượng không đủ chỉ 230g , tạm được, Quần vải hơi mỏng . chất lượng tạm ổn  so với giá tiền rồi . đóng gói tốt, Vải mỏng hơn mình nghĩ, Aaaaasssssssssssssssssaaaaaaaaaaaaaaaaaaaaaaaaaaaaaaaaaaaaaaaaaaaaasssaaaaasssssssssssaaassssassaaaaaaaaaaaaaaaaaaaaalghkkkllllllll,  Chất lượng sản phẩm tuyệt vời, Khuyen chân thành các bạn nên mua hãng Baby Leo. Đắt hơn tí mà cotton mềm, trông cũng sướng mắt hơn, Khăn sữa tạm đc.chất ko đc dày dặn như các loại khăn sữa 4 lớp mà mình từng đặt...........................  ggjjvvkkgfjkkknn,  Good value,  Thời gian giao hàng nhanh, Ổn,  Đóng gói sản phẩm sơ sài \n",
      "Dễ bị móc mất sp\n",
      ", sp phù hợp với giá tiền hshsnsnsnnsns bsbbsbzbnzs hsnnsnznznns nznznnznxnndb bznznnznnznznzn bzbznnznsnnsnsn, chất lượng ổn so với giá\n",
      "đóng gói chắc chắn\n",
      "thời gian giao hàng nhanh, Móc khá mỏng nhưng so với giá tiền thì hoàn toàn ổn, đủ số lượng móc trong 1 bịch, Vải mỏng thì không sao, nhưng đã dặn shop lấy màu cho bé trai nhưng lại có màu hồng. Giờ chưa biết cho ai., Không thích lắm ,  Shop phục vụ rất kém, Size to, ss k mặc đc, Bao bì móp méo. Nhìn đã thấy mất thiện cảm, Shop phục vụ kém, Chất lượng sản phẩm rất kém, Đặt 1 size,  giao sz khác,  mẫu giao k đúng,  Chất lượng sản phẩm rất kém, hàng ko giống hình, bán hàng ko có tâm, khách chat còn đợi shop phản hồi lại xem có phản hồi ko, nhưng ko có một câu giải thích, con trai thì cho đồ con gái. Áo chất thì Bộ quần áo chất đểu ko bằng ngoài chợ, giá chợ còn rẻ bằng 1 nửa giá shop. , SHOP GIAO HÀNG THIẾU,  NHẮN TIN BÁO SHOP, MÌNH ĐÃ CHỜ  SHOP HƠN 2 NGÀY SAU KHI NHẬN HÀNG ĐỂ SHOP HOÀN TIỀN CHO MÌNH NHƯNG SHOP PHẢN HỒI RẤT CHẬM VÀ KHÔNG GIẢI QUYẾT. SHOP KHÔNG UY TÍN, RẤT THẤT VỌNG VỀ SHOP.  , Mua hàng 2 lần cùng 1 sp, lần đầu thì giao hàng đẹp, lần 2 mua thì giao hàng loại 2 giá rẻ ... gối nhẹ hơn lần trước rất nhiều,  Chất lượng sản phẩm rất kém, Nhựa xấu, chất lượng kém. Không dám dùng cho trẻ nhỏ,  Chất lượng sản phẩm tốt, chất lượng ổn so với giá. dây đeo hơi giãn \n",
      "đóng gói chắc chắn\n",
      "thời gian giao hàng nhanh, Có 180 tờ chứ k phải 300 tờ, nhưng giá rẻ nên tiền nào của nấy thôu, Mình đã báo lấy yếm cho bé gái nhưng shop lại gửi hình ô tô,hixx, Quần rách..................................... \n",
      "Mong shop KT trc khi giao hàng, Tiền nào của nấy. Vải gối và bông đều rất tệ Chất lượng sản phẩm kém, mỏng quá, Mới móc 2lần đã bong nan ốc long hết ra .may chỉ mua 1cái. Ai mua móc treo nên suy nghĩ lại .sản phẩm tồi tệ , Bao tay ok, bao chân may hơi ẩu,  Chất lượng sản phẩm tốt, Chất lượng tạm ổn so với giá tiền.,  Chất lượng sản phẩm ổn, Có 1 chiếc bị ố vàng và 1 chiếc bị rách, shop trao đổi là nếu không dùng được sẽ bù món khác vào đơn hàng sau. Ghi nhận phản hồi của shop nên vẫn đánh 4*, Trừ quần nỉ cào,còn lại các sp khác đều ok, Mỗi gói chỉ đc 240g, gói nhiều nhất 250g., Áo đẹp nhưng vải mỏng không được ấm cho lắm. Thời gian giao hàng chậm. , nhắn với shop chọn màu bé trai,shop ok rồi mà vẫn gửi 2 cái quần màu hồng, bị lem màu và mong Shop phục vụ khá tốt, Shop gửi nhầm mẫu so với ảnh,  Shop phục vụ khá tốt, tạm được,  Thời gian giao hàng nhanh,  Đóng gói sản phẩm rất đẹp và chắc chắn,  Đáng đồng tiền, Cái lần này giao mỏng hơn lần trước đặt, Quảng cái là 300 tờ nhưng khi nhận có 150 tờ, quá thất vọng mình còn đặt hẳn 10 bịch, làm ăn bố láo, Mua 10 gói thì 2 gói bị bẩn, đồ dùng cho bé sơ sinh mà bẩn ntn thì dùng làm sao hả shop, mong là shop để ý kĩ trước khi giao hàng cho người mua, Quần chất vải nilong cực nóng, ko thấm hút mồ hôi ,  Shop phục vụ rất kém```\n",
      "\n"
     ]
    }
   ],
   "execution_count": 5
  },
  {
   "metadata": {
    "ExecuteTime": {
     "end_time": "2024-10-02T09:03:52.325024Z",
     "start_time": "2024-10-02T09:03:50.647097Z"
    }
   },
   "cell_type": "code",
   "source": "q = QwenChatInference(flash_attention_2=False, speed_up=True)",
   "id": "977c44f0d8d6a415",
   "outputs": [
    {
     "name": "stdout",
     "output_type": "stream",
     "text": [
      "[QwenChat Infer] Device: cuda:0, Flash Attention 2: False, Speedup: True\n"
     ]
    }
   ],
   "execution_count": 6
  },
  {
   "metadata": {
    "ExecuteTime": {
     "end_time": "2024-10-02T09:05:08.429523Z",
     "start_time": "2024-10-02T09:05:03.746549Z"
    }
   },
   "cell_type": "code",
   "source": "output = q.generate(prompt, verbose=True, max_new_tokens=1024)",
   "id": "37d7e3c0e5195fa4",
   "outputs": [
    {
     "name": "stdout",
     "output_type": "stream",
     "text": [
      "[Qwen Chat] \n",
      "Time: 5s \n",
      "Prompt: 2800 tokens, 600.44 tokens-per-secs\n"
     ]
    }
   ],
   "execution_count": 12
  },
  {
   "metadata": {
    "ExecuteTime": {
     "end_time": "2024-10-02T09:05:08.501470Z",
     "start_time": "2024-10-02T09:05:08.498001Z"
    }
   },
   "cell_type": "code",
   "source": "print(output)",
   "id": "dd609ca6bdebfff7",
   "outputs": [
    {
     "name": "stdout",
     "output_type": "stream",
     "text": [
      "### Summary of Customer Product Reviews\n",
      "\n",
      "#### Overview:\n",
      "The product has been reviewed by multiple customers, covering various aspects such as color retention, fit, texture, price, and more. The majority of reviews highlight positive aspects like good quality, durability, and value for money, while also noting some negatives like minor issues with sizing and color consistency.\n",
      "\n",
      "#### Positive Aspects:\n",
      "1. **Color Retention**: Many customers appreciate the product’s ability to retain colors well after being worn out, indicating durability and comfort.\n",
      "   \n",
      "2. **Fit and Texture**: Customers praise the product’s comfort and fit, especially for babies who need support during playtime.\n",
      "\n",
      "3. **Price**: The product is considered very affordable compared to other baby products on the market.\n",
      "\n",
      "4. **Value for Money**: Customers find the product to be worth its cost, even though it might not be the best buy for parents.\n",
      "\n",
      "#### Negative Aspects:\n",
      "1. **Size Issues**: Some customers report issues with sizing, specifically with the small sizes, leading to discomfort and inconvenience.\n",
      "\n",
      "2. **Color Consistency**: There were instances where the fabric did not match the picture on the packaging, causing confusion among buyers.\n",
      "\n",
      "3. **Durability Concerns**: Several customers mention that the product may wear out faster than expected due to poor construction.\n",
      "\n",
      "4. **Quality Issues**: Some customers have complained about the quality of the material, finding it too thin and prone to tearing.\n",
      "\n",
      "5. **Shipping and Delivery**: Shipping times were reported to be quite lengthy, affecting the purchase decision negatively.\n",
      "\n",
      "#### Common Themes:\n",
      "- **Customer Satisfaction**: Most reviews indicate high levels of customer satisfaction, with many praising the product’s quality and value.\n",
      "  \n",
      "- **Overall Rating**: The product was rated highly, with several customers giving it a perfect score of 4/5 stars.\n",
      "\n",
      "- **Product Features**: Key features highlighted include:\n",
      "  - Color retention\n",
      "  - Comfort and fit\n",
      "  - Durability\n",
      "  - Price point\n",
      "\n",
      "- **Comparison to Similar Products**: While some customers found the product superior, others noted that it may not meet specific needs.\n",
      "\n",
      "- **Future Considerations**: Customers expressed interest in purchasing additional items, such as diapers and clothing, but felt they needed more details before making a final decision.\n",
      "\n",
      "#### Recommendations:\n",
      "- **Future Reviews**: It would be beneficial to conduct further reviews to gather more detailed information and ensure all critical points are covered accurately.\n",
      "  \n",
      "- **Product Updates**: Manufacturers should consider updating their materials to improve durability and appearance.\n",
      "\n",
      "- **Customer Support**: Implementing better customer support mechanisms could help address\n"
     ]
    }
   ],
   "execution_count": 13
  },
  {
   "metadata": {
    "ExecuteTime": {
     "end_time": "2024-10-02T09:16:18.315357Z",
     "start_time": "2024-10-02T09:16:14.369037Z"
    }
   },
   "cell_type": "code",
   "source": [
    "prompt = f\"\"\"\n",
    "Objective: Create a concise yet comprehensive summary of customer product reviews from an e-commerce platform, \n",
    "highlighting key insights and trends to inform potential buyers and provide valuable feedback to the seller.\n",
    "\n",
    "1. Customer Experience\n",
    "- Summarize comments about the overall customer experience:\n",
    "    - Product quality\n",
    "    - Shipping\n",
    "    - Price\n",
    "    - Size\n",
    "- Note any frequently mentioned comparisons to similar products or brands\n",
    "\n",
    "2. Keywords and Phrases\n",
    "- List frequently used words or phrases that capture the essence of customer sentiment\n",
    "\n",
    "Note: \n",
    "When summarizing, strive for objectivity and balance. Represent both positive and negative \n",
    "feedback proportionally to their presence in the reviews. Avoid overgeneralizing and use qualifying language (e.g., \"many customers,\" \"some users\") when appropriate.\n",
    "\n",
    "Remember, your goal is to create a structured summary that quickly gives potential customers the most important information about the product, helping them make informed purchasing decisions, while providing the data in a format that's easy to process programmatically.\n",
    "Summarize the product description below, delimited by triple \n",
    "backticks.\n",
    "\n",
    "Reviews: ```{', '.join(df['comment'][:100])}```\n",
    "\"\"\"\n",
    "\n",
    "output = q.generate(prompt, verbose=True, max_new_tokens=1024)\n",
    "print(output)"
   ],
   "id": "2890814db3aaaa6",
   "outputs": [
    {
     "name": "stdout",
     "output_type": "stream",
     "text": [
      "[Qwen Chat] \n",
      "Time: 4s \n",
      "Prompt: 2374 tokens, 604.59 tokens-per-secs\n",
      "### Objective Summary\n",
      "\n",
      "#### 1. **Customer Experience**\n",
      "- **Overall Quality:** The product has good color, packaging, and sizing.\n",
      "- **Shipping:** The shipping was delayed due to the size being too small.\n",
      "- **Price:** The price seems reasonable but not excessively high compared to other retailers.\n",
      "- **Size:** The size fit well with the child’s age.\n",
      "\n",
      "#### 2. **Keywords and Phrases**\n",
      "- **Comparison:** \"Product quality\", \"Shipping delay\", \"Size\", \"Price\"\n",
      "- **Feedback:** \"Lemme bẩn\", \"Shops are often wrong\", \"Too big\", \"Not as good as expected\"\n",
      "\n",
      "---\n",
      "\n",
      "### Detailed Summary\n",
      "\n",
      "#### 1. **Customer Experience**\n",
      "\n",
      "**Overall Quality:** The product meets basic expectations. It looks good and fits well with the child's size.\n",
      "\n",
      "**Shipping:** The shipping was delayed because the size was too small. This issue was resolved promptly after the initial shipment.\n",
      "\n",
      "**Price:** The price seems reasonable but not excessively high compared to other retailers. However, it's higher than what I would expect from similar products.\n",
      "\n",
      "#### 2. **Key Feedback Points**\n",
      "\n",
      "**Size:** The size was found to be too small, which affected the fit and comfort of the garment. This is particularly concerning for a baby's clothing.\n",
      "\n",
      "**Shipping Delay:** The delay in shipping was frustrating, especially considering the time-sensitive nature of the order.\n",
      "\n",
      "**Quality Issues:** There were several issues with the product quality:\n",
      "\n",
      "- **Color:** The fabric appears to have faded slightly, affecting the appearance.\n",
      "- **Packaging:** The packaging is decent but could be improved for better protection.\n",
      "- **Sized Appropriately:** The size fit the child perfectly, but there was some concern about the fitting being too tight.\n",
      "\n",
      "**Service Issues:** The shopping experience was generally satisfactory, but there were a few minor complaints:\n",
      "\n",
      "- **Incorrect Shipment:** The size was shipped incorrectly, causing dissatisfaction.\n",
      "- **Reactions to Products:** Some customers expressed disappointment upon receiving the product, despite its supposed quality.\n",
      "\n",
      "**Additional Feedback:**\n",
      "- **Feedback on Clothing:** The children’s clothing was described as \"pretty cool\" and \"comfortable.\"\n",
      "- **Feedback on Shopping Experience:** The store seemed attentive and helpful, but still felt rushed at times.\n",
      "\n",
      "---\n",
      "\n",
      "This summary provides a balanced view of the customer experience, highlighting specific concerns and areas where improvements can be made.\n"
     ]
    }
   ],
   "execution_count": 17
  },
  {
   "metadata": {
    "ExecuteTime": {
     "end_time": "2024-10-02T09:36:18.247715Z",
     "start_time": "2024-10-02T09:36:14.210066Z"
    }
   },
   "cell_type": "code",
   "source": [
    "prompt = f\"\"\"\n",
    "Objective: Develop a systematic approach to identify potentially fake or manipulated reviews on e-commerce platforms and review sites, ensuring a more accurate representation of genuine customer experiences.\n",
    "\n",
    "1. Review Content Analysis\n",
    "\n",
    "Look for generic language: Vague praise or criticism without specific details\n",
    "Check for repetitive phrases: Similar wording across multiple reviews may indicate copy-pasting\n",
    "Assess detail level: Lack of product-specific information or personal experiences\n",
    "Identify irrelevant information: Reviews focusing on unrelated aspects or containing off-topic content\n",
    "Evaluate writing style: Overly formal or marketing-like language can be suspicious\n",
    "\n",
    "2. Temporal Patterns\n",
    "\n",
    "Identify review bursts: Sudden influxes of positive or negative reviews in a short time frame\n",
    "Compare to product launch dates: Many reviews immediately after product release can be suspicious\n",
    "Check for time zone inconsistencies: Reviews posted at odd hours for the supposed location of the reviewer\n",
    "\n",
    "3. Linguistic Analysis\n",
    "\n",
    "Identify non-native language patterns: Awkward phrasing or grammar inconsistent with the reviewer's supposed origin\n",
    "Look for excessive use of superlatives: Overuse of words like \"best,\" \"amazing,\" \"worst,\" etc.\n",
    "Check for brand-specific language: Use of trademark names or marketing slogans that typical customers might not use\n",
    "\n",
    "4. Sentiment vs. Rating Mismatch\n",
    "Compare written sentiment to star rating: Identify discrepancies between the review text and the given rating\n",
    "\n",
    "5. Competitor Mentions\n",
    "Identify reviews that excessively praise or criticize competitor products\n",
    "\n",
    "Final Assessment\n",
    "Combine these factors to create a \"suspicion score\" for each review. Reviews with multiple red flags should be flagged for further investigation or potential removal.\n",
    "Remember: No single factor definitively proves a review is fake. Always consider the full context and be cautious about falsely accusing genuine reviews. The goal is to identify patterns and suspicious elements that warrant closer examination.\n",
    "\n",
    "Identify the product description below, delimited by triple \n",
    "backticks.\n",
    "\n",
    "Reviews: ```{', '.join(df['comment'][:100])}```\n",
    "\"\"\"\n",
    "\n",
    "output = q.generate(prompt, verbose=True, max_new_tokens=512)\n",
    "print(output)"
   ],
   "id": "454e3cf775b48d1f",
   "outputs": [
    {
     "name": "stdout",
     "output_type": "stream",
     "text": [
      "[Qwen Chat] \n",
      "Time: 4s \n",
      "Prompt: 2540 tokens, 631.64 tokens-per-secs\n",
      "Based on the analysis of the provided product description, I have identified several potential issues:\n",
      "\n",
      "1. **Generic Language**: The review contains vague praise and criticisms without specific details, which suggests it could be fake or manipulated.\n",
      "\n",
      "2. **Repetitive Phrases**: The review uses similar wording across multiple reviews, indicating copying behavior.\n",
      "\n",
      "3. **Lack of Product Information**: The review focuses on unrelated aspects such as the size of the product and its appearance.\n",
      "\n",
      "4. **Unrelated Content**: The review mentions other products (e.g., clothing) but does not mention any real product comparisons.\n",
      "\n",
      "5. **Writing Style**: The review has an overly formal tone and includes marketing-style language, which can be suspicious.\n",
      "\n",
      "6. **Brand-Specific Language**: The review references specific brands (\"Baby Leo\") but does not provide enough context to determine if this is genuine.\n",
      "\n",
      "7. **Non-Native Language Patterns**: There are awkward phrasings and overused superlatives, which can be indicative of manipulation.\n",
      "\n",
      "8. **Size Inconsistencies**: The review mentions size inconsistencies (size 1 to size 9), suggesting the size was changed without the reviewer's knowledge.\n",
      "\n",
      "9. **Comparisons**: The review compares the product unfavorably against other products (e.g., \"vintage\" items), which implies a comparison-based attack.\n",
      "\n",
      "10. **Lack of Personal Experience**: The review lacks detailed personal experiences, making it difficult to assess the quality of the product.\n",
      "\n",
      "11. **Negative Feedback**: Multiple negative feedback points are highlighted, including issues with sizing, quality, and durability.\n",
      "\n",
      "12. **Suspicious Language**: Words like \"sép\", \"mỏng\", and \"khó chịu\" are used inappropriately, indicating manipulation.\n",
      "\n",
      "**Conclusion**: The review contains multiple red flags and appears to be a fabricated attempt to manipulate reviews. It seems to target a specific product (likely a baby garment) and criticizes other sellers. The review lacks credibility and authenticity, making it unsuitable for legitimate consumer reviews.\n"
     ]
    }
   ],
   "execution_count": 27
  },
  {
   "metadata": {
    "ExecuteTime": {
     "end_time": "2024-10-02T09:35:46.683085Z",
     "start_time": "2024-10-02T09:35:46.675415Z"
    }
   },
   "cell_type": "code",
   "source": "df['comment'][0]",
   "id": "acebcd098975776a",
   "outputs": [
    {
     "data": {
      "text/plain": [
       "'Sản phẩm đủ màu. Nhưng bị lem bẩn. Sau shop chú ý kiểm tra trước khi đóng hàng'"
      ]
     },
     "execution_count": 24,
     "metadata": {},
     "output_type": "execute_result"
    }
   ],
   "execution_count": 24
  },
  {
   "metadata": {
    "ExecuteTime": {
     "end_time": "2024-10-03T02:29:46.299339Z",
     "start_time": "2024-10-03T02:29:46.297297Z"
    }
   },
   "cell_type": "code",
   "source": "(1+0.07)**10",
   "id": "3aa89f18a6e4bd38",
   "outputs": [
    {
     "data": {
      "text/plain": [
       "1.9671513572895665"
      ]
     },
     "execution_count": 28,
     "metadata": {},
     "output_type": "execute_result"
    }
   ],
   "execution_count": 28
  },
  {
   "metadata": {},
   "cell_type": "code",
   "outputs": [],
   "execution_count": null,
   "source": "",
   "id": "6390fea69950290e"
  }
 ],
 "metadata": {
  "kernelspec": {
   "display_name": "Python 3",
   "language": "python",
   "name": "python3"
  },
  "language_info": {
   "codemirror_mode": {
    "name": "ipython",
    "version": 2
   },
   "file_extension": ".py",
   "mimetype": "text/x-python",
   "name": "python",
   "nbconvert_exporter": "python",
   "pygments_lexer": "ipython2",
   "version": "2.7.6"
  }
 },
 "nbformat": 4,
 "nbformat_minor": 5
}
