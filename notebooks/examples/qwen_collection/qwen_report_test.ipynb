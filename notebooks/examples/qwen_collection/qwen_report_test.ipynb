{
 "cells": [
  {
   "cell_type": "code",
   "id": "230ff7394515b3f6",
   "metadata": {
    "ExecuteTime": {
     "end_time": "2024-10-02T08:19:42.478070Z",
     "start_time": "2024-10-02T08:19:40.007683Z"
    }
   },
   "source": [
    "from pathlib import Path\n",
    "import polars as pl\n",
    "from datasets import Dataset\n",
    "import numpy as np\n",
    "from autofaiss import build_index\n",
    "from core_pro.ultilities import make_dir\n",
    "from sentence_transformers import SentenceTransformer"
   ],
   "outputs": [],
   "execution_count": 1
  },
  {
   "cell_type": "code",
   "id": "4c180167d75aeff5",
   "metadata": {
    "ExecuteTime": {
     "end_time": "2024-10-02T08:24:22.178676Z",
     "start_time": "2024-10-02T08:24:22.175329Z"
    }
   },
   "source": [
    "lst = [\n",
    "    \"\"\"\n",
    "    \"hộp 10 kẹp tóc nhỏ bằng nhựa bọc nhung k2 ```json\n",
    "        {\n",
    "          \"product_type\": \"Nail Art\",\n",
    "          \"shop_name\": \"Nailxinh.Ling\",\n",
    "          \"main_colors\": [\"Black\", \"Red\", \"Orange\"],\n",
    "          \"color_scheme\": \"Pastel\",\n",
    "          \"product_shape\": \"Flower-shaped\",\n",
    "          \"design\": \"Floral\",\n",
    "          \"visible_features\": [\"Flower-shaped clips with different colors and designs\"],\n",
    "          \"branding_elements\": [\"Nailxinh.Ling logo\"],\n",
    "          \"setting\": \"Studio shot\",\n",
    "          \"quality\": \"High\",\n",
    "          \"style\": \"Lifestyle\",\n",
    "          \"number_of_items\": 10,\n",
    "          \"text\": \"Nailxinh.Ling\",\n",
    "          \"unique_aspects\": [\"Pastel color scheme\", \"Floral design\", \"Flower-shaped clips\"]\n",
    "        }\n",
    "        ```\"\"\",\n",
    "    \"\"\"\n",
    "    \"hộp 10 kẹp tóc nhỏ bằng nhựa bọc nhung k2 ```json\n",
    "        {\n",
    "          \"product_type\": \"Nail Art\",\n",
    "          \"shop_name\": \"Nailxinh.Ling\",\n",
    "          \"main_colors\": [\"pink\"],\n",
    "          \"color_scheme\": \"Pastel\",\n",
    "          \"product_shape\": \"Flower-shaped\",\n",
    "          \"design\": \"Floral\",\n",
    "          \"visible_features\": [\"Flower-shaped clips with different colors and designs\"],\n",
    "          \"branding_elements\": [\"Nailxinh.Ling logo\"],\n",
    "          \"setting\": \"Studio shot\",\n",
    "          \"quality\": \"High\",\n",
    "          \"style\": \"Lifestyle\",\n",
    "          \"number_of_items\": 10,\n",
    "          \"text\": \"Nailxinh.Ling\",\n",
    "          \"unique_aspects\": [\"Pastel color scheme\", \"Floral design\", \"Flower-shaped clips\"]\n",
    "        }\n",
    "        ```\"\"\",\n",
    "    \"\"\"\n",
    "    \"haimeikang set 10 kẹp tóc nơ xinh xắn cho nữ ```json\n",
    "        {\n",
    "          \"product_type\": \"Hair accessories\",\n",
    "          \"shop_name\": \"Unbranded\",\n",
    "          \"main_colors\": [\"pink\"],\n",
    "          \"color_scheme\": \"pastel\",\n",
    "          \"product_shape\": \"bobby pins\",\n",
    "          \"visible_features\": [\"pink bobby pins\"],\n",
    "          \"branding_elements\": [\"Unbranded\"],\n",
    "          \"setting\": \"Selfie mirror\",\n",
    "          \"quality\": \"High\",\n",
    "          \"style\": \"Lifestyle\",\n",
    "          \"number_of_items\": 3,\n",
    "          \"text\": \"Unbranded\",\n",
    "          \"unique_aspects\": [\"Selfie mirror\", \"Pastel pink bobby pins\"]\n",
    "        }\n",
    "        ```\"\"\",\n",
    "]"
   ],
   "outputs": [],
   "execution_count": 10
  },
  {
   "cell_type": "code",
   "id": "fcef0ae63bc7d8b3",
   "metadata": {
    "ExecuteTime": {
     "end_time": "2024-10-02T08:24:33.686689Z",
     "start_time": "2024-10-02T08:24:25.085089Z"
    }
   },
   "source": [
    "model = SentenceTransformer(\"jinaai/jina-embeddings-v3\", trust_remote_code=True)\n",
    "task = 'text-matching'\n",
    "embeddings = model.encode(\n",
    "    lst,\n",
    "    task=task,\n",
    "    prompt_name=task,\n",
    "    show_progress_bar=True\n",
    ")\n",
    "print(embeddings.shape)"
   ],
   "outputs": [
    {
     "data": {
      "text/plain": [
       "Batches:   0%|          | 0/1 [00:00<?, ?it/s]"
      ],
      "application/vnd.jupyter.widget-view+json": {
       "version_major": 2,
       "version_minor": 0,
       "model_id": "f43f9c0859254a09ad208cecc01eeef3"
      }
     },
     "metadata": {},
     "output_type": "display_data"
    },
    {
     "name": "stderr",
     "output_type": "stream",
     "text": [
      "Flash attention implementation does not support kwargs: prompt_length\n"
     ]
    },
    {
     "name": "stdout",
     "output_type": "stream",
     "text": [
      "(3, 1024)\n"
     ]
    }
   ],
   "execution_count": 11
  },
  {
   "metadata": {
    "ExecuteTime": {
     "end_time": "2024-10-02T08:24:33.788697Z",
     "start_time": "2024-10-02T08:24:33.778974Z"
    }
   },
   "cell_type": "code",
   "source": [
    "similarities = model.similarity(embeddings, embeddings)\n",
    "print(similarities)"
   ],
   "id": "c26dc7874250b23a",
   "outputs": [
    {
     "name": "stdout",
     "output_type": "stream",
     "text": [
      "tensor([[1.0000, 0.9979, 0.7649],\n",
      "        [0.9979, 1.0000, 0.7710],\n",
      "        [0.7649, 0.7710, 1.0000]])\n"
     ]
    }
   ],
   "execution_count": 12
  },
  {
   "metadata": {},
   "cell_type": "code",
   "outputs": [],
   "execution_count": null,
   "source": "",
   "id": "ce115af2e2380a22"
  }
 ],
 "metadata": {
  "kernelspec": {
   "display_name": "Python 3 (ipykernel)",
   "language": "python",
   "name": "python3"
  },
  "language_info": {
   "codemirror_mode": {
    "name": "ipython",
    "version": 3
   },
   "file_extension": ".py",
   "mimetype": "text/x-python",
   "name": "python",
   "nbconvert_exporter": "python",
   "pygments_lexer": "ipython3",
   "version": "3.12.6"
  }
 },
 "nbformat": 4,
 "nbformat_minor": 5
}
