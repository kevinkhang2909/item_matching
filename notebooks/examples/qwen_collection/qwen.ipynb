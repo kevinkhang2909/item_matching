{
 "cells": [
  {
   "cell_type": "code",
   "execution_count": 1,
   "id": "e1662b1f-aa3a-4b5b-bcde-20a62f67f2d2",
   "metadata": {},
   "outputs": [],
   "source": "from notebooks.examples.qwen_collection.qwen_model import QwenChatInference"
  },
  {
   "cell_type": "code",
   "execution_count": 2,
   "id": "ed53e235-8166-4d2a-8933-28ac5fb8790d",
   "metadata": {},
   "outputs": [
    {
     "name": "stdout",
     "output_type": "stream",
     "text": [
      "[QwenChat Infer] Device: mps:0, Flash Attention 2: False\n"
     ]
    }
   ],
   "source": [
    "q = QwenChatInference()"
   ]
  },
  {
   "cell_type": "code",
   "execution_count": 3,
   "id": "d6592748-589f-4851-9d6a-cef0565364dc",
   "metadata": {},
   "outputs": [
    {
     "name": "stderr",
     "output_type": "stream",
     "text": [
      "Starting from v4.46, the `logits` model output will have the same type as the model (except at train time, where it will always be FP32)\n"
     ]
    },
    {
     "name": "stdout",
     "output_type": "stream",
     "text": [
      "[Summarization] Time: 25s\n",
      "```json\n",
      "{\n",
      "    \"Product\": {\n",
      "        \"Name\": \"Simple Water Boost\",\n",
      "        \"Description\": \"Tẩy trang đơn giản giúp loại bỏ bã nhờn, bụi bẩn và cấp ẩm ngay tức thì.\",\n",
      "        \"Features\": [\n",
      "            \"Sữa rửa mặt\",\n",
      "            \"Pentavitin TM\",\n",
      "            \"Panthenol (Vitamin B5)\",\n",
      "            \"Pro-Amino Acids\"\n",
      "        ],\n",
      "        \"Target Audience\": \"Đàn đề\",\n",
      "        \"Warranty\": \"Khả năng bảo hành 2 năm 6 tháng\",\n",
      "        \"Specifications\": {\n",
      "            \"Size\": \"150ml\",\n",
      "            \"Brand\": \"Simple\"\n",
      "        },\n",
      "        \"Additional Information\": {\n",
      "            \"Color\": \"Không rõ\",\n",
      "            \"Size\": \"150ml\",\n",
      "            \"Brand\": \"Simple\"\n",
      "        }\n",
      "    }\n",
      "}\n",
      "```\n"
     ]
    }
   ],
   "source": [
    "description = f\"\"\"\n",
    "\n",
    "1, Nước tẩy trang Simple Water Boost làm sạch da và cấp ẩm ngay tức thì\n",
    "\n",
    "Nước tẩy trang Simple Cấp Ẩm (Simple Micellar Water Boost) giúp nhẹ nhàng loại bỏ sạch lớp trang điểm và bụi bẩn hiệu quả, song song đó cũng cấp ẩm tức thì cho làn da và lưu giữ độ ẩm trên da đến 4 giờ, khiến da sạch thoáng mà không bị tình trạng khô căng.\n",
    "\n",
    "2, Sữa rửa mặt Simple Water Boost 150ml – Làm sạch và cấp ẩm cho da\n",
    "Giúp làm sạch da hiệu quả, loại bỏ bã nhờn, dầu thừa và bụi bẩn trên da. \n",
    "Chứa Pentavitin TM, loại chất nhỏ hơn phân tử Hyaluronic Acid gấp 7000 lần, kết hợp cùng Panthenol (Vitamin B5) và Pro-Amino Acids giúp cấp ẩm tức thì, cho làn da đàn hồi và tươi mát.\n",
    "Phù hợp cho cả làn da nhạy cảm nhất, không gây bít tắc lỗ chân long và đã được kiểm nghiệm trên da.\n",
    "\n",
    "Combo KHÔNG CHỨA: hóa chất gây hại cho da, hương liệu nhân tạo, phẩm màu nhân tạo, xà phòng, cồn (Ethyl Alcohol), dầu khoáng, paraben hạn chế làm da khô - căng rát hay kích ứng\n",
    "\n",
    "HƯỚNG DẪN SỬ DỤNG [COMBO HÈ TƯƠI SẠCH THOÁNG]\n",
    "Bước 1: Cho một lượng nước tẩy trang vừa đủ ra bông tẩy trang. Nhẹ nhàng lau sạch lớp trang điểm và bụi bẩn. Không cần chà xát lên da & KHÔNG CẦN RỬA LẠI VỚI NƯỚC.\n",
    "Bước 2: Cho một lượng SRM vừa đủ ra tay để tạo bọt cùng với nước. Mát-xa sản phẩm lên da rồi rửa sạch với nước. Sử dụng mỗi ngày hai lần sáng và tối.\n",
    "\n",
    "CHÚ Ý VÀ ĐIỀU KIỆN BẢO QUẢN \n",
    "- Tránh tiếp xúc với mắt. Nếu tiếp xúc với mắt, rửa ngay bằng nước sạch. \n",
    "- Để xa tầm tay trẻ em. Tránh nhiệt độ cao và ánh nắng trực tiếp. Đóng nắp sau khi sử dụng.\n",
    "- Tránh nhiệt độ cao và ánh nắng trực tiếp. Đóng nắp sau khi sử dụng.\n",
    "\n",
    "Xuất xứ: Poland \n",
    "Ngày sản xuất: Xem trên bao bì \n",
    "Hạn sử dụng: 2 năm 6 tháng năm kể từ ngày sản xuất\n",
    "\n",
    "\"\"\"\n",
    "\n",
    "response = q.run(description)\n",
    "print(response)\n",
    "# json_string = response.strip().strip(\"'\").strip('`')\n",
    "# json_string = json_string.split('\\n', 1)[1] \n",
    "# json.loads(json_string)"
   ]
  },
  {
   "cell_type": "code",
   "execution_count": 4,
   "id": "d9a4458f-e42c-4ab8-be04-4e4c9f2881ad",
   "metadata": {},
   "outputs": [
    {
     "name": "stdout",
     "output_type": "stream",
     "text": [
      "[Summarization] Time: 20s\n",
      "```json\n",
      "{\n",
      "  \"Product\": {\n",
      "    \"Name\": \"Apple Watch Series 8\",\n",
      "    \"Description\": \"A high-end smartwatch with a 6.1-inch OLED display, 12MP rear camera, and 12MP front camera.\",\n",
      "    \"Key Features\": [\n",
      "      \"OLED display\",\n",
      "      \"Super Retina XDR resolution\",\n",
      "      \"2 camera 12MP\",\n",
      "      \"12MP camera\",\n",
      "      \"Apple A15 Bionic processor\"\n",
      "    ],\n",
      "    \"Target Audience\": \"Tech enthusiasts, fitness enthusiasts, health-conscious individuals\",\n",
      "    \"Warranty\": \"12-month warranty from Apple\",\n",
      "    \"Specifications\": {\n",
      "      \"Color\": \"Black\",\n",
      "      \"Size\": \"5.5 inches\",\n",
      "      \"Brand\": \"Apple\",\n",
      "      \"SIM Type\": \"Nano SIM + eSIM\"\n",
      "    },\n",
      "    \"Reviews\": [],\n",
      "    \"Shipping Methods\": []\n",
      "  }\n",
      "}\n",
      "```\n"
     ]
    }
   ],
   "source": [
    "description = f\"\"\"\n",
    "Thông số kỹ thuật:\n",
    "Màn hình: OLED6.1\"Super Retina XDR\n",
    "Hệ điều hành: iOS 15\n",
    "Camera sau: 2 camera 12 MP\n",
    "Camera trước: 12 MP\n",
    "Chip: Apple A15 Bionic\n",
    "RAM: 4 GB\n",
    "Bộ nhớ trong: 128 GB\n",
    "SIM: 1 Nano SIM & 1 eSIMHỗ trợ 5G\n",
    "Pin, Sạc: 20 W\n",
    "\n",
    "Bộ sản phẩm bao gồm: thân máy, sách hướng dẫn,...\n",
    "\n",
    "Thông tin bảo hành\n",
    "Bảo hành: 12 tháng kể từ ngày kích hoạt sản phẩm.\n",
    "Kích hoạt bảo hành tại: https://checkcoverage.apple.com/vn/en/\n",
    "\n",
    "Hướng dẫn kiểm tra địa điểm bảo hành gần nhất:\n",
    "Bước 1: Truy cập vào đường link https://getsupport.apple.com/?caller=grl&locale=en_VN \n",
    "Bước 2: Chọn sản phẩm.\n",
    "Bước 3: Điền Apple ID, nhập mật khẩu.\n",
    "Sau khi hoàn tất, hệ thống sẽ gợi ý những trung tâm bảo hành gần nhất.\n",
    "\n",
    "Tại Việt Nam, về chính sách bảo hành và đổi trả của Apple, \"sẽ được áp dụng chung\" theo các điều khoản được liệt kê dưới đây:\n",
    "\n",
    "1) Chính sách chung: https://www.apple.com/legal/warranty/products/warranty-rest-of-apac-vietnamese.html\n",
    "\n",
    "2) Chính sách cho phụ kiện: https://www.apple.com/legal/warranty/products/accessory-warranty-vietnam.html\n",
    "\n",
    "3) Các trung tâm bảo hành Apple ủy quyền tại Việt Nam: https://getsupport.apple.com/repair-locations?locale=vi_VN\n",
    "\n",
    "Qúy khách vui lòng đọc kỹ hướng dẫn và quy định trên các trang được Apple công bố công khai, Shop chỉ có thể hỗ trợ theo đúng chính sách được đăng công khai của thương hiệu Apple tại Việt Nam,\n",
    "\n",
    "Bài viết tham khảo chính sách hỗ trợ của nhà phân phối tiêu biểu:\n",
    "\n",
    "https://synnexfpt.com/bao-hanh/chinh-sach-bao-hanh/?agency-group=1&agency-slug=san-pham-apple\n",
    "\n",
    " Để thuận tiện hơn trong việc xử lý khiếu nại, đơn hàng của Brand Apple thường có giá trị cao, Qúy khách mua hàng vui lòng quay lại Clip khui mở kiện hàng (khách quan nhất có thể, đủ 6 mặt) giúp Shopee có thêm căn cứ để làm việc với các bên và đẩy nhanh tiến độ xử lý giúp Qúy khách mua hàng.\n",
    "\"\"\"\n",
    "response = q.run(description)\n",
    "print(response)\n",
    "# json_string = response.strip().strip(\"'\").strip('`')\n",
    "# json_string = json_string.split('\\n', 1)[1] \n",
    "# json.loads(json_string)"
   ]
  },
  {
   "cell_type": "code",
   "execution_count": 5,
   "id": "d1c04753-a61f-42a6-bb86-b0c6bb638806",
   "metadata": {},
   "outputs": [
    {
     "name": "stdout",
     "output_type": "stream",
     "text": [
      "[Summarization] Time: 40s\n",
      "```json\n",
      "{\n",
      "  \"Product\": {\n",
      "    \"Name\": \"Adidas Phong cách sống Áo Thun Future Icons\",\n",
      "    \"Description\": \"Sản phẩm áo thun màu dãy với chất vải cotton mềm mại, phù hợp cho cả phòng tập và thời gian nghỉ ngơi.\",\n",
      "    \"Key Features\": [\n",
      "      \"Aesthetic Graphic Aesthetic Graphic\",\n",
      "      \"Fit Loose Fit\",\n",
      "      \"Breastwear Style\"\n",
      "    ],\n",
      "    \"Target Audience\": \"Gym wearers, runners, fitness enthusiasts\",\n",
      "    \"Warranty\": \"No warranty\",\n",
      "    \"Specifications\": \"Color: Dark Brown; Size: Slightly Large; Brand: Adidas; Color must be in text not code\",\n",
      "    \"Variations\": \"None\"\n",
      "  }\n",
      "}\n",
      "```\n"
     ]
    }
   ],
   "source": [
    "description = f\"\"\"\n",
    "adidas Phong cách sống Áo Thun Future Icons adidas Sportswear Nữ Đen HE0302\n",
    "\n",
    "Bạn đang tạm rời xa phòng gym, sân bóng hay đôi giày chạy bộ của mình — nhưng bạn vẫn là một vận động viên. Hãy cho cả thế giới thấy động lực trong bạn mỗi khi diện chiếc áo thun adidas này. Họa tiết graphic ở mặt trước thể hiện rõ ràng điều đó. Chất vải cotton mềm mại cho bạn cảm giác thoải mái khi vận động cả ngày cũng như lúc nghỉ ngơi thư giãn. \n",
    "\n",
    "Các sản phẩm cotton của chúng tôi hỗ trợ ngành trồng bông bền vững hơn.\n",
    "- Dáng loose fit\n",
    "- Cổ tròn có gân sọc\n",
    "- Vải single jersey làm từ 100% cotton\n",
    "\"\"\"\n",
    "response = q.run(description)\n",
    "print(response)\n",
    "# json_string = response.strip().strip(\"'\").strip('`')\n",
    "# json_string = json_string.split('\\n', 1)[1] \n",
    "# clothing_1 = json.loads(json_string)\n",
    "# clothing_1"
   ]
  },
  {
   "cell_type": "code",
   "execution_count": 6,
   "id": "c47a99b9-8e99-4940-8732-9c3a8f9af9ca",
   "metadata": {},
   "outputs": [
    {
     "name": "stdout",
     "output_type": "stream",
     "text": [
      "[Summarization] Time: 89s\n",
      "```json\n",
      "{\n",
      "    \"Product Name\": \"Áo Sơ Mi Nam Tay Dài Flannel Túi Đắp Kẻ Caro Form Oversize - 10F23SHL030\",\n",
      "    \"Brief Description\": \"Chất liệu cotton hiện đại, vải có độ mềm mịn và thoáng mát; vải còn có khả năng giữ nhiệt cơ thể tốt; áo oversize rộng rãi, thoải mái và che đi mọi khuyết điểm cơ thể; màu sắc trung tính dễ phối đồ; túi đắp và nhãn trang trí tạo điểm nhấn độc đáo; có thể mix&match đa năng với nhiều item khác như quần short, quần jean, áo thun.\",\n",
      "    \"Key Features\": [\n",
      "        \"Chất liệu cotton hiện đại\",\n",
      "        \"Vải có độ mềm mịn và thoáng mát\",\n",
      "        \"Vải còn có khả năng giữ nhiệt cơ thể tốt\",\n",
      "        \"Aos size rộng rãi, thoải mái\",\n",
      "        \"Điết kế caro hiện đại\",\n",
      "        \"Màu sắc trung tính dễ phối đồ\",\n",
      "        \"Túi đắp và nhãn trang trí tạo điểm nhấn\"\n",
      "    ],\n",
      "    \"Target Audience\": {\n",
      "        \"Gender\": \"All genders\",\n",
      "       \n"
     ]
    }
   ],
   "source": [
    "description = f\"\"\"\n",
    "Áo Sơ Mi Nam Tay Dài Flannel Túi Đắp Kẻ Caro Form Oversize Routine - 10F23SHL030\n",
    "\n",
    "Áo Sơ Mi Nam Tay Dài Flannel Túi Đắp Kẻ Caro Form Oversize - 10F23SHL030 mang hơi hướng hiện đại, trẻ trung là một chiếc áo “make have” trong tủ quần áo của các chàng:\n",
    "Với chất liệu cotton hiện đại được cào 2 mặt, có độ mềm mịn và thoáng mát\n",
    "Vải còn có khả năng đúng form, giữ nhiệt cơ thể tốt\n",
    "Dáng áo oversize rộng rãi, thoải mái và che đi mọi khuyết điểm cơ thể Thiết kế caro hiện đại, mang vẻ đẹp trẻ trung lại cho người mặc\n",
    "Màu sắc trung tính dễ phối đồ, phù hợp với mọi đối tượng\n",
    "Được may thêm túi đắp và nhãn trang trí tạo điểm nhấn độc đáo, thú vị cho chiếc áo\n",
    "Một chiếc áo có khả năng mix&match đa năng với nhiều item khác như quần short, quần jean, áo thun,...\n",
    "Là kiểu áo sử dụng được trong mọi hoàn cảnh như đi học, đi làm, đi chơi, du lịch.\n",
    "\"\"\"\n",
    "response = q.run(description)\n",
    "print(response)\n",
    "# json_string = response.strip().strip(\"'\").strip('`')\n",
    "# json_string = json_string.split('\\n', 1)[1] \n",
    "# clothing_2 = json.loads(json_string)\n",
    "# clothing_2"
   ]
  },
  {
   "cell_type": "code",
   "execution_count": null,
   "id": "2556bab0-36ff-48cb-b0c3-f08cd6ed4f1c",
   "metadata": {},
   "outputs": [],
   "source": []
  }
 ],
 "metadata": {
  "kernelspec": {
   "display_name": "Python 3 (ipykernel)",
   "language": "python",
   "name": "python3"
  },
  "language_info": {
   "codemirror_mode": {
    "name": "ipython",
    "version": 3
   },
   "file_extension": ".py",
   "mimetype": "text/x-python",
   "name": "python",
   "nbconvert_exporter": "python",
   "pygments_lexer": "ipython3",
   "version": "3.12.5"
  }
 },
 "nbformat": 4,
 "nbformat_minor": 5
}
