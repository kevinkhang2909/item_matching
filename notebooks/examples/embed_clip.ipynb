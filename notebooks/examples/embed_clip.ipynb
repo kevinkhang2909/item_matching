{
 "cells": [
  {
   "cell_type": "code",
   "id": "28f6df8c7caed3f9",
   "metadata": {
    "collapsed": false,
    "jupyter": {
     "outputs_hidden": false
    },
    "ExecuteTime": {
     "end_time": "2024-04-10T08:22:11.761716Z",
     "start_time": "2024-04-10T08:22:09.579699Z"
    }
   },
   "source": [
    "from pathlib import Path\n",
    "import polars as pl\n",
    "import duckdb\n",
    "from datasets import Dataset, concatenate_datasets, load_from_disk\n",
    "import numpy as np\n",
    "from autofaiss import build_index\n",
    "import sys\n",
    "sys.path.extend(['/home/kevin/PycharmProjects/item_matching'])\n",
    "\n",
    "from src.item_matching.build_index.func_img import PipelineImage\n",
    "from src.item_matching.build_index.model import Model\n",
    "from func import draw_images"
   ],
   "execution_count": 1,
   "outputs": []
  },
  {
   "cell_type": "markdown",
   "id": "6fb85ea4eb5faddf",
   "metadata": {
    "collapsed": false,
    "jupyter": {
     "outputs_hidden": false
    }
   },
   "source": [
    "## 1) Data \n",
    "\n",
    "Prepare 2 datasets: Database and Query"
   ]
  },
  {
   "cell_type": "code",
   "id": "initial_id",
   "metadata": {
    "ExecuteTime": {
     "end_time": "2024-04-10T08:22:36.540966Z",
     "start_time": "2024-04-10T08:22:11.762666Z"
    }
   },
   "source": [
    "path = Path('/home/kevin/Downloads/cb')\n",
    "path_db = path / 'cb_2024-03-07.parquet'\n",
    "\n",
    "# db\n",
    "query = f\"\"\"\n",
    "select *\n",
    ",concat('http://f.shopee.vn/file/', UNNEST(array_slice(string_split(images, ','), 1, 1))) image_url\n",
    "from parquet_scan('{str(path_db)}')\n",
    "order by item_id, images\n",
    "\"\"\"\n",
    "df_db = (\n",
    "    duckdb.sql(query).pl()\n",
    "    .select(pl.all().name.prefix(f'db_'))\n",
    "    .head(10_000)\n",
    ")\n",
    "pipe = PipelineImage(path, col_image='image_url')\n",
    "df_img_db = pipe.load_images('db')\n",
    "df_db = (\n",
    "    df_db.drop(['images'])\n",
    "    .join(df_img_db, on='db_image_url', how='left')\n",
    "    .filter(pl.col('db_exists'))\n",
    ")\n",
    "\n",
    "\n",
    "# q\n",
    "df_q = df_db.clone()\n",
    "df_q.columns = [f'q_{i.split('db_')[1]}' for i in df_db.columns]\n",
    "df_q.head()"
   ],
   "execution_count": 2,
   "outputs": []
  },
  {
   "cell_type": "markdown",
   "id": "539fe7f71bc59b80",
   "metadata": {
    "collapsed": false,
    "jupyter": {
     "outputs_hidden": false
    }
   },
   "source": [
    "## 2) Embeddings\n",
    "\n",
    "Use datasets and clip to transform images to vectors"
   ]
  },
  {
   "cell_type": "code",
   "id": "70a41ebe42d746ca",
   "metadata": {
    "collapsed": false,
    "jupyter": {
     "outputs_hidden": false
    },
    "ExecuteTime": {
     "end_time": "2024-04-10T08:22:41.530885Z",
     "start_time": "2024-04-10T08:22:36.541519Z"
    }
   },
   "source": [
    "img_model, img_processor = Model().get_img_model(model_id='openai/clip-vit-base-patch32')"
   ],
   "execution_count": 3,
   "outputs": []
  },
  {
   "cell_type": "code",
   "id": "b95e12aa6944cd3e",
   "metadata": {
    "collapsed": false,
    "jupyter": {
     "outputs_hidden": false
    },
    "ExecuteTime": {
     "end_time": "2024-04-10T08:23:09.538302Z",
     "start_time": "2024-04-10T08:22:41.531436Z"
    }
   },
   "source": [
    "dataset = Dataset.from_pandas(df_db.to_pandas())\n",
    "fn_kwargs = {'col': f'db_file_path', 'processor': img_processor, 'model': img_model}\n",
    "dataset = dataset.map(Model().pp_img, batched=True, batch_size=128, fn_kwargs=fn_kwargs)\n",
    "dataset.set_format(type='numpy', columns=['img_embed'], output_all_columns=True)\n",
    "\n",
    "# save to disk\n",
    "path_tmp_array = Path('tmp/array')\n",
    "path_tmp_ds = Path('tmp/ds')\n",
    "np.save(path_tmp_array / 'array.npy', dataset['img_embed'])\n",
    "dataset.save_to_disk(path_tmp_ds / 'ds')"
   ],
   "execution_count": 4,
   "outputs": []
  },
  {
   "cell_type": "markdown",
   "id": "2f5934d701125e88",
   "metadata": {
    "collapsed": false,
    "jupyter": {
     "outputs_hidden": false
    }
   },
   "source": [
    "## 3) Indexing\n",
    "\n",
    "Build index to search items"
   ]
  },
  {
   "cell_type": "code",
   "id": "96cc5afcf31a1e6a",
   "metadata": {
    "collapsed": false,
    "jupyter": {
     "outputs_hidden": false
    },
    "ExecuteTime": {
     "end_time": "2024-04-10T08:23:25.636333Z",
     "start_time": "2024-04-10T08:23:09.539323Z"
    }
   },
   "source": [
    "path_index = Path('tmp/index')\n",
    "build_index(\n",
    "    str(path_tmp_array),\n",
    "    index_path=str(path_index / f'ip.index'),\n",
    "    index_infos_path=str(path_index / f'index.json'),\n",
    "    save_on_disk=True,\n",
    "    metric_type='ip',\n",
    "    verbose=30,\n",
    ")"
   ],
   "execution_count": 5,
   "outputs": []
  },
  {
   "cell_type": "markdown",
   "id": "61b78720de597863",
   "metadata": {
    "collapsed": false,
    "jupyter": {
     "outputs_hidden": false
    }
   },
   "source": [
    "Load index into datasets"
   ]
  },
  {
   "cell_type": "code",
   "id": "6efdce62f49c27b9",
   "metadata": {
    "collapsed": false,
    "jupyter": {
     "outputs_hidden": false
    },
    "ExecuteTime": {
     "end_time": "2024-04-10T08:23:25.652527Z",
     "start_time": "2024-04-10T08:23:25.637043Z"
    }
   },
   "source": [
    "dataset_db = concatenate_datasets([\n",
    "    load_from_disk(str(f)) for f in sorted(path_tmp_ds.glob('*'))\n",
    "])\n",
    "\n",
    "# add index\n",
    "dataset_db.load_faiss_index('img_embed', path_index / f'ip.index')"
   ],
   "execution_count": 6,
   "outputs": []
  },
  {
   "cell_type": "markdown",
   "id": "1790f349c3dd80ea",
   "metadata": {
    "collapsed": false,
    "jupyter": {
     "outputs_hidden": false
    }
   },
   "source": [
    "## 4) Retrieve"
   ]
  },
  {
   "cell_type": "markdown",
   "id": "8b9699dadfcbd348",
   "metadata": {
    "collapsed": false,
    "jupyter": {
     "outputs_hidden": false
    }
   },
   "source": [
    "Batch search top-k from datasets"
   ]
  },
  {
   "cell_type": "code",
   "id": "3bcba75a987dd8c2",
   "metadata": {
    "collapsed": false,
    "jupyter": {
     "outputs_hidden": false
    },
    "ExecuteTime": {
     "end_time": "2024-04-10T08:23:28.006203Z",
     "start_time": "2024-04-10T08:23:25.653108Z"
    }
   },
   "source": [
    "score, result = dataset_db.get_nearest_examples_batch(\n",
    "    'img_embed',\n",
    "    np.asarray(dataset_db['img_embed']),\n",
    "    k=5\n",
    ")\n",
    "\n",
    "dict_ = {'score_img': [list(i) for i in score]}\n",
    "df_score = pl.DataFrame(dict_)\n",
    "df_result = pl.DataFrame(result).drop(['img_embed'])"
   ],
   "execution_count": 7,
   "outputs": []
  },
  {
   "cell_type": "markdown",
   "id": "b879e463bb688c29",
   "metadata": {
    "collapsed": false,
    "jupyter": {
     "outputs_hidden": false
    }
   },
   "source": [
    "## 5) Post process"
   ]
  },
  {
   "cell_type": "code",
   "id": "ae3b4d1db34781b3",
   "metadata": {
    "collapsed": false,
    "jupyter": {
     "outputs_hidden": false
    },
    "ExecuteTime": {
     "end_time": "2024-04-10T08:23:28.008884Z",
     "start_time": "2024-04-10T08:23:28.006782Z"
    }
   },
   "source": [
    "df_match = pl.concat([df_q, df_result, df_score], how='horizontal')\n",
    "col_explode = [i for i in df_match.columns if 'db' in i] + ['score_img']\n",
    "df_match = df_match.explode(col_explode)"
   ],
   "execution_count": 8,
   "outputs": []
  },
  {
   "cell_type": "code",
   "id": "c77a28d769f090a8",
   "metadata": {
    "collapsed": false,
    "jupyter": {
     "outputs_hidden": false
    },
    "ExecuteTime": {
     "end_time": "2024-04-10T08:23:28.022683Z",
     "start_time": "2024-04-10T08:23:28.009341Z"
    }
   },
   "source": [
    "df_match"
   ],
   "execution_count": 9,
   "outputs": []
  },
  {
   "metadata": {
    "ExecuteTime": {
     "end_time": "2024-04-10T08:23:28.422303Z",
     "start_time": "2024-04-10T08:23:28.023116Z"
    }
   },
   "cell_type": "code",
   "source": "draw_images(df_match, 2999787165)",
   "id": "8983812434526555",
   "execution_count": 10,
   "outputs": []
  },
  {
   "metadata": {
    "ExecuteTime": {
     "end_time": "2024-04-10T08:23:28.812640Z",
     "start_time": "2024-04-10T08:23:28.422946Z"
    }
   },
   "cell_type": "code",
   "source": "draw_images(df_match, 3099789245)",
   "id": "de49aa7abafc218b",
   "execution_count": 11,
   "outputs": []
  },
  {
   "metadata": {
    "ExecuteTime": {
     "end_time": "2024-04-10T08:23:29.167534Z",
     "start_time": "2024-04-10T08:23:28.813147Z"
    }
   },
   "cell_type": "code",
   "source": "draw_images(df_match, 2999838844)",
   "id": "4b4bc5bc593c2424",
   "execution_count": 12,
   "outputs": []
  },
  {
   "metadata": {
    "ExecuteTime": {
     "end_time": "2024-04-10T08:23:29.455617Z",
     "start_time": "2024-04-10T08:23:29.168089Z"
    }
   },
   "cell_type": "code",
   "source": "draw_images(df_match, 3099458499)",
   "id": "b0f0150124e4939b",
   "execution_count": 13,
   "outputs": []
  },
  {
   "cell_type": "code",
   "id": "2dacba735258ef3d",
   "metadata": {
    "collapsed": false,
    "jupyter": {
     "outputs_hidden": false
    },
    "ExecuteTime": {
     "end_time": "2024-04-10T08:23:29.456222Z",
     "start_time": "2024-04-10T08:23:29.456169Z"
    }
   },
   "source": [
    "# df_match.write_csv(path / 'match.csv')"
   ],
   "execution_count": null,
   "outputs": []
  }
 ],
 "metadata": {
  "kernelspec": {
   "display_name": "Python 3 (ipykernel)",
   "language": "python",
   "name": "python3"
  },
  "language_info": {
   "codemirror_mode": {
    "name": "ipython",
    "version": 3
   },
   "file_extension": ".py",
   "mimetype": "text/x-python",
   "name": "python",
   "nbconvert_exporter": "python",
   "pygments_lexer": "ipython3",
   "version": "3.12.2"
  }
 },
 "nbformat": 4,
 "nbformat_minor": 5
}
