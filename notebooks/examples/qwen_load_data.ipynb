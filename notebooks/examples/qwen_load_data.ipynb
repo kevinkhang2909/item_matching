{
 "cells": [
  {
   "cell_type": "code",
   "execution_count": 1,
   "id": "293ed010-f2c1-462a-b3ca-3dd05768534c",
   "metadata": {},
   "outputs": [],
   "source": [
    "from pathlib import Path\n",
    "import polars as pl\n",
    "import orjson\n",
    "from tqdm import tqdm"
   ]
  },
  {
   "cell_type": "code",
   "execution_count": 2,
   "id": "767cc368-36da-4633-ad48-9e36577bcfb5",
   "metadata": {},
   "outputs": [],
   "source": [
    "path = Path('/media/kevin/data_4t/Test')\n",
    "file = path / 'Description_Images_0.parquet'"
   ]
  },
  {
   "cell_type": "code",
   "execution_count": 3,
   "id": "103a8062-da6c-401c-9fab-284862e03661",
   "metadata": {},
   "outputs": [
    {
     "name": "stdout",
     "output_type": "stream",
     "text": [
      "(9975, 8) 9975\n"
     ]
    },
    {
     "data": {
      "text/html": [
       "<div><style>\n",
       ".dataframe > thead > tr,\n",
       ".dataframe > tbody > tr {\n",
       "  text-align: right;\n",
       "  white-space: pre-wrap;\n",
       "}\n",
       "</style>\n",
       "<small>shape: (5, 8)</small><table border=\"1\" class=\"dataframe\"><thead><tr><th>item_id</th><th>item_name</th><th>shop_id</th><th>shop_name</th><th>level1_global_be_category</th><th>description</th><th>images</th><th>image_url</th></tr><tr><td>i64</td><td>str</td><td>i64</td><td>str</td><td>str</td><td>str</td><td>str</td><td>str</td></tr></thead><tbody><tr><td>24666468469</td><td>&quot;Áo quây ngực Logo BRA co giãn …</td><td>62200279</td><td>&quot;Thời Trang Nữ Hari Queen&quot;</td><td>&quot;Women Clothes&quot;</td><td>&quot;[{&quot;t&quot;:&quot;Áo quây ngực Logo BRA c…</td><td>&quot;vn-11134201-7r98o-lsqjv11wiuz9…</td><td>&quot;http://f.shopee.vn/file/vn-111…</td></tr><tr><td>29101344575</td><td>&quot;Quần Dài Hoạt Hình Ống Rộng Cạ…</td><td>711707322</td><td>&quot;Chew Berry&quot;</td><td>&quot;Women Clothes&quot;</td><td>&quot;[{&quot;t&quot;:&quot;Quần Dài Hoạt Hình Ống …</td><td>&quot;vn-11134207-7r98o-lvwt8g82orfd…</td><td>&quot;http://f.shopee.vn/file/vn-111…</td></tr><tr><td>26700860825</td><td>&quot;Kỳ Lạ Quyến Rũ Nước Giọt Tua R…</td><td>433661313</td><td>&quot;Gorgeousxx&quot;</td><td>&quot;Fashion Accessories&quot;</td><td>&quot;[{&quot;t&quot;:&quot;♥ Cảm ơn bạn rất nhiều …</td><td>&quot;sg-11134201-7rd47-lvom7mqgh33q…</td><td>&quot;http://f.shopee.vn/file/sg-111…</td></tr><tr><td>23024162645</td><td>&quot;Quần Ống Suông Bé Gái Màu Đơn …</td><td>378303014</td><td>&quot;PiBo Official  Store&quot;</td><td>&quot;Baby &amp; Kids Fashion&quot;</td><td>&quot;[{&quot;t&quot;:&quot;Quần Ống Suông Bé Gái M…</td><td>&quot;vn-11134201-23020-n61mjongtunv…</td><td>&quot;http://f.shopee.vn/file/vn-111…</td></tr><tr><td>24632624421</td><td>&quot;1 Áo  đồ nam cộc tay mặc hè Ch…</td><td>676675628</td><td>&quot;buicongthardg_13500&quot;</td><td>&quot;Men Clothes&quot;</td><td>&quot;3\n",
       "89\n",
       "Thời Trang Unisex Kính Ch…</td><td>&quot;vn-11134201-7r98o-lwwxodum2zvb…</td><td>&quot;http://f.shopee.vn/file/vn-111…</td></tr></tbody></table></div>"
      ],
      "text/plain": [
       "shape: (5, 8)\n",
       "┌────────────┬────────────┬───────────┬────────────┬───────────┬───────────┬───────────┬───────────┐\n",
       "│ item_id    ┆ item_name  ┆ shop_id   ┆ shop_name  ┆ level1_gl ┆ descripti ┆ images    ┆ image_url │\n",
       "│ ---        ┆ ---        ┆ ---       ┆ ---        ┆ obal_be_c ┆ on        ┆ ---       ┆ ---       │\n",
       "│ i64        ┆ str        ┆ i64       ┆ str        ┆ ategory   ┆ ---       ┆ str       ┆ str       │\n",
       "│            ┆            ┆           ┆            ┆ ---       ┆ str       ┆           ┆           │\n",
       "│            ┆            ┆           ┆            ┆ str       ┆           ┆           ┆           │\n",
       "╞════════════╪════════════╪═══════════╪════════════╪═══════════╪═══════════╪═══════════╪═══════════╡\n",
       "│ 2466646846 ┆ Áo quây    ┆ 62200279  ┆ Thời Trang ┆ Women     ┆ [{\"t\":\"Áo ┆ vn-111342 ┆ http://f. │\n",
       "│ 9          ┆ ngực Logo  ┆           ┆ Nữ Hari    ┆ Clothes   ┆ quây ngực ┆ 01-7r98o- ┆ shopee.vn │\n",
       "│            ┆ BRA co     ┆           ┆ Queen      ┆           ┆ Logo BRA  ┆ lsqjv11wi ┆ /file/vn- │\n",
       "│            ┆ giãn …     ┆           ┆            ┆           ┆ c…        ┆ uz9…      ┆ 111…      │\n",
       "│ 2910134457 ┆ Quần Dài   ┆ 711707322 ┆ Chew Berry ┆ Women     ┆ [{\"t\":\"Qu ┆ vn-111342 ┆ http://f. │\n",
       "│ 5          ┆ Hoạt Hình  ┆           ┆            ┆ Clothes   ┆ ần Dài    ┆ 07-7r98o- ┆ shopee.vn │\n",
       "│            ┆ Ống Rộng   ┆           ┆            ┆           ┆ Hoạt Hình ┆ lvwt8g82o ┆ /file/vn- │\n",
       "│            ┆ Cạ…        ┆           ┆            ┆           ┆ Ống …     ┆ rfd…      ┆ 111…      │\n",
       "│ 2670086082 ┆ Kỳ Lạ      ┆ 433661313 ┆ Gorgeousxx ┆ Fashion   ┆ [{\"t\":\"♥  ┆ sg-111342 ┆ http://f. │\n",
       "│ 5          ┆ Quyến Rũ   ┆           ┆            ┆ Accessori ┆ Cảm ơn    ┆ 01-7rd47- ┆ shopee.vn │\n",
       "│            ┆ Nước Giọt  ┆           ┆            ┆ es        ┆ bạn rất   ┆ lvom7mqgh ┆ /file/sg- │\n",
       "│            ┆ Tua R…     ┆           ┆            ┆           ┆ nhiều …   ┆ 33q…      ┆ 111…      │\n",
       "│ 2302416264 ┆ Quần Ống   ┆ 378303014 ┆ PiBo       ┆ Baby &    ┆ [{\"t\":\"Qu ┆ vn-111342 ┆ http://f. │\n",
       "│ 5          ┆ Suông Bé   ┆           ┆ Official   ┆ Kids      ┆ ần Ống    ┆ 01-23020- ┆ shopee.vn │\n",
       "│            ┆ Gái Màu    ┆           ┆ Store      ┆ Fashion   ┆ Suông Bé  ┆ n61mjongt ┆ /file/vn- │\n",
       "│            ┆ Đơn …      ┆           ┆            ┆           ┆ Gái M…    ┆ unv…      ┆ 111…      │\n",
       "│ 2463262442 ┆ 1 Áo  đồ   ┆ 676675628 ┆ buicongtha ┆ Men       ┆ 3         ┆ vn-111342 ┆ http://f. │\n",
       "│ 1          ┆ nam cộc    ┆           ┆ rdg_13500  ┆ Clothes   ┆ 89        ┆ 01-7r98o- ┆ shopee.vn │\n",
       "│            ┆ tay mặc hè ┆           ┆            ┆           ┆ Thời      ┆ lwwxodum2 ┆ /file/vn- │\n",
       "│            ┆ Ch…        ┆           ┆            ┆           ┆ Trang     ┆ zvb…      ┆ 111…      │\n",
       "│            ┆            ┆           ┆            ┆           ┆ Unisex    ┆           ┆           │\n",
       "│            ┆            ┆           ┆            ┆           ┆ Kính Ch…  ┆           ┆           │\n",
       "└────────────┴────────────┴───────────┴────────────┴───────────┴───────────┴───────────┴───────────┘"
      ]
     },
     "execution_count": 3,
     "metadata": {},
     "output_type": "execute_result"
    }
   ],
   "source": [
    "df = (\n",
    "    pl.read_parquet(file)\n",
    "    .unique(subset='item_id')\n",
    ")\n",
    "print(df.shape, df['item_id'].n_unique())\n",
    "df.head()"
   ]
  },
  {
   "cell_type": "code",
   "execution_count": 4,
   "id": "6444f5e7-702c-4c1c-983e-cf5cada511ed",
   "metadata": {},
   "outputs": [
    {
     "name": "stderr",
     "output_type": "stream",
     "text": [
      "Loading json in folder: 100%|████████████████████| 10000/10000 [00:00<00:00, 142560.12it/s]\n",
      "Loading jpg in folder: 100%|████████████████████| 10000/10000 [00:00<00:00, 4427640.66it/s]\n"
     ]
    },
    {
     "data": {
      "text/html": [
       "<div><style>\n",
       ".dataframe > thead > tr,\n",
       ".dataframe > tbody > tr {\n",
       "  text-align: right;\n",
       "  white-space: pre-wrap;\n",
       "}\n",
       "</style>\n",
       "<small>shape: (5, 3)</small><table border=\"1\" class=\"dataframe\"><thead><tr><th>image_url</th><th>file_path</th><th>exists</th></tr><tr><td>str</td><td>str</td><td>bool</td></tr></thead><tbody><tr><td>&quot;http://f.shopee.vn/file/vn-111…</td><td>&quot;/media/kevin/data_4t/Test/down…</td><td>true</td></tr><tr><td>&quot;http://f.shopee.vn/file/d0bf8d…</td><td>&quot;/media/kevin/data_4t/Test/down…</td><td>true</td></tr><tr><td>&quot;http://f.shopee.vn/file/cf84c0…</td><td>&quot;/media/kevin/data_4t/Test/down…</td><td>true</td></tr><tr><td>&quot;http://f.shopee.vn/file/vn-111…</td><td>&quot;/media/kevin/data_4t/Test/down…</td><td>true</td></tr><tr><td>&quot;http://f.shopee.vn/file/vn-111…</td><td>&quot;/media/kevin/data_4t/Test/down…</td><td>true</td></tr></tbody></table></div>"
      ],
      "text/plain": [
       "shape: (5, 3)\n",
       "┌─────────────────────────────────┬─────────────────────────────────┬────────┐\n",
       "│ image_url                       ┆ file_path                       ┆ exists │\n",
       "│ ---                             ┆ ---                             ┆ ---    │\n",
       "│ str                             ┆ str                             ┆ bool   │\n",
       "╞═════════════════════════════════╪═════════════════════════════════╪════════╡\n",
       "│ http://f.shopee.vn/file/vn-111… ┆ /media/kevin/data_4t/Test/down… ┆ true   │\n",
       "│ http://f.shopee.vn/file/d0bf8d… ┆ /media/kevin/data_4t/Test/down… ┆ true   │\n",
       "│ http://f.shopee.vn/file/cf84c0… ┆ /media/kevin/data_4t/Test/down… ┆ true   │\n",
       "│ http://f.shopee.vn/file/vn-111… ┆ /media/kevin/data_4t/Test/down… ┆ true   │\n",
       "│ http://f.shopee.vn/file/vn-111… ┆ /media/kevin/data_4t/Test/down… ┆ true   │\n",
       "└─────────────────────────────────┴─────────────────────────────────┴────────┘"
      ]
     },
     "execution_count": 4,
     "metadata": {},
     "output_type": "execute_result"
    }
   ],
   "source": [
    "path_img = path / f'/media/kevin/data_4t/Test/download_img/img_Description_Images'\n",
    "lst_json = sorted(path_img.glob('*/*.json'))\n",
    "lst_file = [orjson.loads(open(str(i), \"r\").read())['url'] for i in tqdm(lst_json, desc='Loading json in folder')]\n",
    "lst_img = [str(i) for i in tqdm(sorted(path_img.glob('*/*.jpg')), desc='Loading jpg in folder')]\n",
    "df_img = pl.DataFrame({\n",
    "    f'image_url': lst_file,\n",
    "    f'file_path': lst_img,\n",
    "    f'exists': [True] * len(lst_file),\n",
    "})\n",
    "df_img.head()"
   ]
  },
  {
   "cell_type": "code",
   "execution_count": 5,
   "id": "49d2ca53-c5b1-4c13-a5e9-c229bb45c6c7",
   "metadata": {},
   "outputs": [
    {
     "name": "stdout",
     "output_type": "stream",
     "text": [
      "(9975, 10) 9975\n"
     ]
    },
    {
     "data": {
      "text/html": [
       "<div><style>\n",
       ".dataframe > thead > tr,\n",
       ".dataframe > tbody > tr {\n",
       "  text-align: right;\n",
       "  white-space: pre-wrap;\n",
       "}\n",
       "</style>\n",
       "<small>shape: (5, 10)</small><table border=\"1\" class=\"dataframe\"><thead><tr><th>item_id</th><th>item_name</th><th>shop_id</th><th>shop_name</th><th>level1_global_be_category</th><th>description</th><th>images</th><th>image_url</th><th>file_path</th><th>exists</th></tr><tr><td>i64</td><td>str</td><td>i64</td><td>str</td><td>str</td><td>str</td><td>str</td><td>str</td><td>str</td><td>bool</td></tr></thead><tbody><tr><td>16693283776</td><td>&quot;Hộp 10 Kẹp Tóc Nhỏ Bằng Nhựa B…</td><td>936501257</td><td>&quot;nailxinh.ling&quot;</td><td>&quot;Fashion Accessories&quot;</td><td>&quot;Hộp 10 Kẹp Tóc Nhỏ Bằng Nhựa B…</td><td>&quot;vn-11134201-23030-6scwoywxp9nv…</td><td>&quot;http://f.shopee.vn/file/vn-111…</td><td>&quot;/media/kevin/data_4t/Test/down…</td><td>true</td></tr><tr><td>17285376104</td><td>&quot;Váy 2 dây dài suông quốc dân S…</td><td>184210921</td><td>&quot;SUTANO FASHION&quot;</td><td>&quot;Women Clothes&quot;</td><td>&quot;[{&quot;t&quot;:&quot;Váy 2 dây dài suông quố…</td><td>&quot;sg-11134201-7rbmo-lqlqja37zjwk…</td><td>&quot;http://f.shopee.vn/file/sg-111…</td><td>&quot;/media/kevin/data_4t/Test/down…</td><td>true</td></tr><tr><td>25182695679</td><td>&quot;Set đồ nữ áo buộc cổ cúp ngực …</td><td>1287014463</td><td>&quot;TRENY_OFFICIAL&quot;</td><td>&quot;Women Clothes&quot;</td><td>&quot;Set đồ nữ áo buộc cổ cúp ngực …</td><td>&quot;vn-11134207-7r98o-lwz6306v2p5l…</td><td>&quot;http://f.shopee.vn/file/vn-111…</td><td>&quot;/media/kevin/data_4t/Test/down…</td><td>true</td></tr><tr><td>15273431059</td><td>&quot;Quần jean nam DSQ xanh thêu lá…</td><td>682198966</td><td>&quot;KING77_FASHION&quot;</td><td>&quot;Men Clothes&quot;</td><td>&quot;[{&quot;t&quot;:&quot;Chuỗi thời trang KING77…</td><td>&quot;vn-11134207-7r98o-lsr2rxp5iax0…</td><td>&quot;http://f.shopee.vn/file/vn-111…</td><td>&quot;/media/kevin/data_4t/Test/down…</td><td>true</td></tr><tr><td>25130657466</td><td>&quot;Kẹp Tóc Nơ Màu Cô Gái Tam Giác…</td><td>803276458</td><td>&quot;Girlspower.vn&quot;</td><td>&quot;Fashion Accessories&quot;</td><td>&quot;💗 Chào mừng đến với cửa hàng c…</td><td>&quot;sg-11134201-7rd66-lvb9le6gqnhs…</td><td>&quot;http://f.shopee.vn/file/sg-111…</td><td>&quot;/media/kevin/data_4t/Test/down…</td><td>true</td></tr></tbody></table></div>"
      ],
      "text/plain": [
       "shape: (5, 10)\n",
       "┌────────────┬────────────┬───────────┬───────────┬───┬───────────┬───────────┬───────────┬────────┐\n",
       "│ item_id    ┆ item_name  ┆ shop_id   ┆ shop_name ┆ … ┆ images    ┆ image_url ┆ file_path ┆ exists │\n",
       "│ ---        ┆ ---        ┆ ---       ┆ ---       ┆   ┆ ---       ┆ ---       ┆ ---       ┆ ---    │\n",
       "│ i64        ┆ str        ┆ i64       ┆ str       ┆   ┆ str       ┆ str       ┆ str       ┆ bool   │\n",
       "╞════════════╪════════════╪═══════════╪═══════════╪═══╪═══════════╪═══════════╪═══════════╪════════╡\n",
       "│ 1669328377 ┆ Hộp 10 Kẹp ┆ 936501257 ┆ nailxinh. ┆ … ┆ vn-111342 ┆ http://f. ┆ /media/ke ┆ true   │\n",
       "│ 6          ┆ Tóc Nhỏ    ┆           ┆ ling      ┆   ┆ 01-23030- ┆ shopee.vn ┆ vin/data_ ┆        │\n",
       "│            ┆ Bằng Nhựa  ┆           ┆           ┆   ┆ 6scwoywxp ┆ /file/vn- ┆ 4t/Test/d ┆        │\n",
       "│            ┆ B…         ┆           ┆           ┆   ┆ 9nv…      ┆ 111…      ┆ own…      ┆        │\n",
       "│ 1728537610 ┆ Váy 2 dây  ┆ 184210921 ┆ SUTANO    ┆ … ┆ sg-111342 ┆ http://f. ┆ /media/ke ┆ true   │\n",
       "│ 4          ┆ dài suông  ┆           ┆ FASHION   ┆   ┆ 01-7rbmo- ┆ shopee.vn ┆ vin/data_ ┆        │\n",
       "│            ┆ quốc dân   ┆           ┆           ┆   ┆ lqlqja37z ┆ /file/sg- ┆ 4t/Test/d ┆        │\n",
       "│            ┆ S…         ┆           ┆           ┆   ┆ jwk…      ┆ 111…      ┆ own…      ┆        │\n",
       "│ 2518269567 ┆ Set đồ nữ  ┆ 128701446 ┆ TRENY_OFF ┆ … ┆ vn-111342 ┆ http://f. ┆ /media/ke ┆ true   │\n",
       "│ 9          ┆ áo buộc cổ ┆ 3         ┆ ICIAL     ┆   ┆ 07-7r98o- ┆ shopee.vn ┆ vin/data_ ┆        │\n",
       "│            ┆ cúp ngực … ┆           ┆           ┆   ┆ lwz6306v2 ┆ /file/vn- ┆ 4t/Test/d ┆        │\n",
       "│            ┆            ┆           ┆           ┆   ┆ p5l…      ┆ 111…      ┆ own…      ┆        │\n",
       "│ 1527343105 ┆ Quần jean  ┆ 682198966 ┆ KING77_FA ┆ … ┆ vn-111342 ┆ http://f. ┆ /media/ke ┆ true   │\n",
       "│ 9          ┆ nam DSQ    ┆           ┆ SHION     ┆   ┆ 07-7r98o- ┆ shopee.vn ┆ vin/data_ ┆        │\n",
       "│            ┆ xanh thêu  ┆           ┆           ┆   ┆ lsr2rxp5i ┆ /file/vn- ┆ 4t/Test/d ┆        │\n",
       "│            ┆ lá…        ┆           ┆           ┆   ┆ ax0…      ┆ 111…      ┆ own…      ┆        │\n",
       "│ 2513065746 ┆ Kẹp Tóc Nơ ┆ 803276458 ┆ Girlspowe ┆ … ┆ sg-111342 ┆ http://f. ┆ /media/ke ┆ true   │\n",
       "│ 6          ┆ Màu Cô Gái ┆           ┆ r.vn      ┆   ┆ 01-7rd66- ┆ shopee.vn ┆ vin/data_ ┆        │\n",
       "│            ┆ Tam Giác…  ┆           ┆           ┆   ┆ lvb9le6gq ┆ /file/sg- ┆ 4t/Test/d ┆        │\n",
       "│            ┆            ┆           ┆           ┆   ┆ nhs…      ┆ 111…      ┆ own…      ┆        │\n",
       "└────────────┴────────────┴───────────┴───────────┴───┴───────────┴───────────┴───────────┴────────┘"
      ]
     },
     "execution_count": 5,
     "metadata": {},
     "output_type": "execute_result"
    }
   ],
   "source": [
    "df = (\n",
    "    df.join(df_img, how='left', on='image_url')\n",
    "    .filter(pl.col('exists'))\n",
    "    .unique(subset='item_id')\n",
    "    .drop(['exists', 'images']\n",
    ")\n",
    "print(df.shape, df['item_id'].n_unique())\n",
    "df.head()"
   ]
  },
  {
   "cell_type": "code",
   "execution_count": 6,
   "id": "9d6c8d14-bee0-49f1-a229-43faa2bda8da",
   "metadata": {},
   "outputs": [],
   "source": [
    "df.write_parquet(path / 'Description_Images_clean.parquet')"
   ]
  },
  {
   "cell_type": "code",
   "execution_count": null,
   "id": "122158e5-fc54-472a-8685-1ea1a392455f",
   "metadata": {},
   "outputs": [],
   "source": []
  }
 ],
 "metadata": {
  "kernelspec": {
   "display_name": "Python 3 (ipykernel)",
   "language": "python",
   "name": "python3"
  },
  "language_info": {
   "codemirror_mode": {
    "name": "ipython",
    "version": 3
   },
   "file_extension": ".py",
   "mimetype": "text/x-python",
   "name": "python",
   "nbconvert_exporter": "python",
   "pygments_lexer": "ipython3",
   "version": "3.12.5"
  }
 },
 "nbformat": 4,
 "nbformat_minor": 5
}
