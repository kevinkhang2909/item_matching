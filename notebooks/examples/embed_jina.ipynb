{
 "cells": [
  {
   "cell_type": "code",
   "execution_count": 1,
   "id": "28f6df8c7caed3f9",
   "metadata": {
    "collapsed": false,
    "jupyter": {
     "is_executing": true,
     "outputs_hidden": false
    }
   },
   "outputs": [],
   "source": [
    "from pathlib import Path\n",
    "import polars as pl\n",
    "from datasets import Dataset\n",
    "import numpy as np\n",
    "from autofaiss import build_index\n",
    "from core_pro.ultilities import make_dir\n",
    "from sentence_transformers import SentenceTransformer\n",
    "import sys\n",
    "sys.path.extend([str(Path.home() / 'PycharmProjects/item_matching')])\n",
    "\n",
    "from notebooks.benchmark.data_load import load"
   ]
  },
  {
   "cell_type": "code",
   "execution_count": 2,
   "id": "b8943115730af9e4",
   "metadata": {
    "jupyter": {
     "is_executing": true
    }
   },
   "outputs": [
    {
     "name": "stdout",
     "output_type": "stream",
     "text": [
      "Data Shape: (72110, 6)\n"
     ]
    },
    {
     "data": {
      "text/html": [
       "<div><style>\n",
       ".dataframe > thead > tr,\n",
       ".dataframe > tbody > tr {\n",
       "  text-align: right;\n",
       "  white-space: pre-wrap;\n",
       "}\n",
       "</style>\n",
       "<small>shape: (5, 6)</small><table border=\"1\" class=\"dataframe\"><thead><tr><th>id</th><th>q_item_id</th><th>q_level1_global_be_category</th><th>q_item_name</th><th>q_link_first_image</th><th>q_item_name_clean</th></tr><tr><td>u32</td><td>i64</td><td>str</td><td>str</td><td>str</td><td>str</td></tr></thead><tbody><tr><td>0</td><td>21681018628</td><td>&quot;Men Shoes&quot;</td><td>&quot;[OUTLET] Giày Sandal Quai Chéo…</td><td>&quot;https://cf.shopee.sg/file/vn-1…</td><td>&quot;giày sandal quai chéo nam nữ u…</td></tr><tr><td>1</td><td>7669916630</td><td>&quot;Men Shoes&quot;</td><td>&quot;Giày Sneaker Nam Đế Cao Su Non…</td><td>&quot;https://cf.shopee.sg/file/d771…</td><td>&quot;giày sneaker nam đế cao su non…</td></tr><tr><td>2</td><td>24932452924</td><td>&quot;Men Shoes&quot;</td><td>&quot;Giày thể thao bán chạy*_Adidas…</td><td>&quot;https://cf.shopee.sg/file/sg-1…</td><td>&quot;giày thể thao bán chạy*_adidas…</td></tr><tr><td>3</td><td>26805107273</td><td>&quot;Men Shoes&quot;</td><td>&quot;sandal nam DÙ BITIS ❤️DRM03850…</td><td>&quot;https://cf.shopee.sg/file/vn-1…</td><td>&quot;sandal nam dù bitis ❤️drm03850…</td></tr><tr><td>4</td><td>26301825297</td><td>&quot;Men Shoes&quot;</td><td>&quot;（Best Quality）Giày Thể Thao Na…</td><td>&quot;https://cf.shopee.sg/file/sg-1…</td><td>&quot;（best quality）giày thể thao na…</td></tr></tbody></table></div>"
      ],
      "text/plain": [
       "shape: (5, 6)\n",
       "┌─────┬─────────────┬───────────────────┬───────────────────┬───────────────────┬──────────────────┐\n",
       "│ id  ┆ q_item_id   ┆ q_level1_global_b ┆ q_item_name       ┆ q_link_first_imag ┆ q_item_name_clea │\n",
       "│ --- ┆ ---         ┆ e_category        ┆ ---               ┆ e                 ┆ n                │\n",
       "│ u32 ┆ i64         ┆ ---               ┆ str               ┆ ---               ┆ ---              │\n",
       "│     ┆             ┆ str               ┆                   ┆ str               ┆ str              │\n",
       "╞═════╪═════════════╪═══════════════════╪═══════════════════╪═══════════════════╪══════════════════╡\n",
       "│ 0   ┆ 21681018628 ┆ Men Shoes         ┆ [OUTLET] Giày     ┆ https://cf.shopee ┆ giày sandal quai │\n",
       "│     ┆             ┆                   ┆ Sandal Quai Chéo… ┆ .sg/file/vn-1…    ┆ chéo nam nữ u…   │\n",
       "│ 1   ┆ 7669916630  ┆ Men Shoes         ┆ Giày Sneaker Nam  ┆ https://cf.shopee ┆ giày sneaker nam │\n",
       "│     ┆             ┆                   ┆ Đế Cao Su Non…    ┆ .sg/file/d771…    ┆ đế cao su non…   │\n",
       "│ 2   ┆ 24932452924 ┆ Men Shoes         ┆ Giày thể thao bán ┆ https://cf.shopee ┆ giày thể thao    │\n",
       "│     ┆             ┆                   ┆ chạy*_Adidas…     ┆ .sg/file/sg-1…    ┆ bán              │\n",
       "│     ┆             ┆                   ┆                   ┆                   ┆ chạy*_adidas…    │\n",
       "│ 3   ┆ 26805107273 ┆ Men Shoes         ┆ sandal nam DÙ     ┆ https://cf.shopee ┆ sandal nam dù    │\n",
       "│     ┆             ┆                   ┆ BITIS ❤️DRM03850… ┆ .sg/file/vn-1…    ┆ bitis            │\n",
       "│     ┆             ┆                   ┆                   ┆                   ┆ ❤️drm03850…      │\n",
       "│ 4   ┆ 26301825297 ┆ Men Shoes         ┆ （Best            ┆ https://cf.shopee ┆ （best           │\n",
       "│     ┆             ┆                   ┆ Quality）Giày Thể ┆ .sg/file/sg-1…    ┆ quality）giày    │\n",
       "│     ┆             ┆                   ┆ Thao Na…          ┆                   ┆ thể thao na…     │\n",
       "└─────┴─────────────┴───────────────────┴───────────────────┴───────────────────┴──────────────────┘"
      ]
     },
     "execution_count": 2,
     "metadata": {},
     "output_type": "execute_result"
    }
   ],
   "source": [
    "df, col, path = load()\n",
    "df.head()"
   ]
  },
  {
   "cell_type": "code",
   "execution_count": null,
   "id": "221b61297efcc3e0",
   "metadata": {
    "jupyter": {
     "is_executing": true
    }
   },
   "outputs": [],
   "source": [
    "path_tmp_array = Path('tmp/array')\n",
    "path_tmp_ds = Path('tmp/ds')\n",
    "make_dir(path_tmp_ds)\n",
    "make_dir(path_tmp_array)\n",
    "\n",
    "file_embed = path_tmp_array / f'jina_embed.npy'\n",
    "if not file_embed.exists():\n",
    "    model = SentenceTransformer(\"jinaai/jina-embeddings-v3\", trust_remote_code=True)\n",
    "    task = 'text-matching'\n",
    "    embeddings = model.encode(\n",
    "        df['q_item_name_clean'].to_list(),\n",
    "        task=task,\n",
    "        prompt_name=task,\n",
    "    )\n",
    "    np.save(file_embed, embeddings)\n",
    "else:\n",
    "    embeddings = np.load(file_embed)\n",
    "print(embeddings.shape)"
   ]
  },
  {
   "cell_type": "code",
   "execution_count": null,
   "id": "b95e12aa6944cd3e",
   "metadata": {
    "collapsed": false,
    "jupyter": {
     "is_executing": true,
     "outputs_hidden": false
    }
   },
   "outputs": [],
   "source": [
    "df = df.with_columns(pl.Series(values=embeddings, name='embed'))\n",
    "dataset = Dataset.from_polars(df)\n",
    "dataset.set_format(type='numpy', columns=['embed'], output_all_columns=True)"
   ]
  },
  {
   "cell_type": "code",
   "execution_count": null,
   "id": "96cc5afcf31a1e6a",
   "metadata": {
    "collapsed": false,
    "jupyter": {
     "is_executing": true,
     "outputs_hidden": false
    }
   },
   "outputs": [],
   "source": [
    "path_index = Path('tmp/index')\n",
    "build_index(\n",
    "    str(path_tmp_array),\n",
    "    index_path=str(path_index / f'ip.index'),\n",
    "    index_infos_path=str(path_index / f'index.json'),\n",
    "    save_on_disk=True,\n",
    "    metric_type='ip',\n",
    "    verbose=30,\n",
    ")"
   ]
  },
  {
   "cell_type": "code",
   "execution_count": null,
   "id": "6efdce62f49c27b9",
   "metadata": {
    "collapsed": false,
    "jupyter": {
     "is_executing": true,
     "outputs_hidden": false
    }
   },
   "outputs": [],
   "source": [
    "# add index\n",
    "dataset.load_faiss_index('embed', path_index / f'ip.index')"
   ]
  },
  {
   "cell_type": "code",
   "execution_count": null,
   "id": "3bcba75a987dd8c2",
   "metadata": {
    "collapsed": false,
    "jupyter": {
     "is_executing": true,
     "outputs_hidden": false
    }
   },
   "outputs": [],
   "source": [
    "score, result = dataset.get_nearest_examples_batch(\n",
    "    'embed',\n",
    "    np.asarray(dataset['embed']),\n",
    "    k=5\n",
    ")\n",
    "\n",
    "dict_ = {'score': [list(i) for i in score]}\n",
    "df_score = pl.DataFrame(dict_)\n",
    "df_result = pl.DataFrame(result).drop(['embed'])"
   ]
  },
  {
   "cell_type": "code",
   "execution_count": null,
   "id": "ae3b4d1db34781b3",
   "metadata": {
    "collapsed": false,
    "jupyter": {
     "is_executing": true,
     "outputs_hidden": false
    }
   },
   "outputs": [],
   "source": [
    "df_match = pl.concat([df, df_result, df_score], how='horizontal')\n",
    "col_explode = [i for i in df_match.columns if 'db' in i] + ['score']\n",
    "df_match = df_match.explode(col_explode)"
   ]
  },
  {
   "cell_type": "code",
   "execution_count": null,
   "id": "c77a28d769f090a8",
   "metadata": {
    "collapsed": false,
    "jupyter": {
     "is_executing": true,
     "outputs_hidden": false
    }
   },
   "outputs": [],
   "source": [
    "df_match"
   ]
  },
  {
   "cell_type": "code",
   "execution_count": null,
   "id": "2dacba735258ef3d",
   "metadata": {
    "collapsed": false,
    "jupyter": {
     "is_executing": true,
     "outputs_hidden": false
    }
   },
   "outputs": [],
   "source": []
  }
 ],
 "metadata": {
  "kernelspec": {
   "display_name": "Python 3 (ipykernel)",
   "language": "python",
   "name": "python3"
  },
  "language_info": {
   "codemirror_mode": {
    "name": "ipython",
    "version": 3
   },
   "file_extension": ".py",
   "mimetype": "text/x-python",
   "name": "python",
   "nbconvert_exporter": "python",
   "pygments_lexer": "ipython3",
   "version": "3.12.6"
  }
 },
 "nbformat": 4,
 "nbformat_minor": 5
}
