{
 "cells": [
  {
   "cell_type": "code",
   "id": "initial_id",
   "metadata": {
    "ExecuteTime": {
     "end_time": "2025-01-14T07:12:24.120562Z",
     "start_time": "2025-01-14T07:12:24.118926Z"
    }
   },
   "source": [
    "from datasets import Dataset\n",
    "from time import perf_counter\n",
    "from autofaiss import build_index\n",
    "from tqdm import tqdm\n",
    "import polars as pl\n",
    "import numpy as np\n",
    "from core_pro.ultilities import make_sync_folder"
   ],
   "outputs": [],
   "execution_count": 29
  },
  {
   "cell_type": "code",
   "id": "6bcba965c08b9f7e",
   "metadata": {
    "ExecuteTime": {
     "end_time": "2025-01-14T07:12:24.631293Z",
     "start_time": "2025-01-14T07:12:24.434622Z"
    }
   },
   "source": [
    "path = make_sync_folder('dataset/item_matching')\n",
    "file = path / 'data_sample_FMCG_clean.parquet'\n",
    "\n",
    "df = pl.read_parquet(file)\n",
    "df.head()"
   ],
   "outputs": [
    {
     "data": {
      "text/plain": [
       "shape: (5, 14)\n",
       "┌───────┬────────────┬────────────┬────────────┬───┬───────────┬───────────┬───────────┬───────────┐\n",
       "│ index ┆ item_id    ┆ item_name  ┆ shop_id    ┆ … ┆ images    ┆ image_url ┆ item_name ┆ file_path │\n",
       "│ ---   ┆ ---        ┆ ---        ┆ ---        ┆   ┆ ---       ┆ ---       ┆ _clean    ┆ ---       │\n",
       "│ u32   ┆ i64        ┆ str        ┆ i64        ┆   ┆ str       ┆ str       ┆ ---       ┆ str       │\n",
       "│       ┆            ┆            ┆            ┆   ┆           ┆           ┆ str       ┆           │\n",
       "╞═══════╪════════════╪════════════╪════════════╪═══╪═══════════╪═══════════╪═══════════╪═══════════╡\n",
       "│ 0     ┆ 1909227190 ┆ LINEABON   ┆ 1053944724 ┆ … ┆ vn-111342 ┆ http://f. ┆ lineabon  ┆ /media/ke │\n",
       "│       ┆ 7          ┆ K2D3 nhập  ┆            ┆   ┆ 07-7ras8- ┆ shopee.vn ┆ k2d3 nhập ┆ vin/data_ │\n",
       "│       ┆            ┆ khẩu châu  ┆            ┆   ┆ m49p5xv9e ┆ /file/vn- ┆ khẩu châu ┆ 4t/datase │\n",
       "│       ┆            ┆ â…         ┆            ┆   ┆ cb3…      ┆ 111…      ┆ â…        ┆ t/i…      │\n",
       "│ 1     ┆ 1739858772 ┆ [MKB Gift] ┆ 63522286   ┆ … ┆ eb26f55f7 ┆ http://f. ┆ bộ 3 khăn ┆ /media/ke │\n",
       "│       ┆ 3          ┆ Bộ 3 Khăn  ┆            ┆   ┆ 359e0de33 ┆ shopee.vn ┆ ướt moony ┆ vin/data_ │\n",
       "│       ┆            ┆ ướt Moony… ┆            ┆   ┆ 3f0c34e26 ┆ /file/eb2 ┆ 50        ┆ 4t/datase │\n",
       "│       ┆            ┆            ┆            ┆   ┆ 19f…      ┆ 6f5…      ┆ miếng/g…  ┆ t/i…      │\n",
       "│ 2     ┆ 1911129959 ┆ Bàn Chải   ┆ 170502615  ┆ … ┆ vn-111342 ┆ http://f. ┆ bàn chải  ┆ /media/ke │\n",
       "│       ┆ 6          ┆ Đánh Răng  ┆            ┆   ┆ 07-7ras8- ┆ shopee.vn ┆ đánh răng ┆ vin/data_ │\n",
       "│       ┆            ┆ Lipzo      ┆            ┆   ┆ m2kwpjg8v ┆ /file/vn- ┆ lipzo     ┆ 4t/datase │\n",
       "│       ┆            ┆ Sensi…     ┆            ┆   ┆ b46…      ┆ 111…      ┆ sensi…    ┆ t/i…      │\n",
       "│ 3     ┆ 2558341276 ┆ Rong biển  ┆ 119247917  ┆ … ┆ vn-111342 ┆ http://f. ┆ rong biển ┆ /media/ke │\n",
       "│       ┆ 0          ┆ ăn liền    ┆            ┆   ┆ 07-7r98o- ┆ shopee.vn ┆ ăn liền   ┆ vin/data_ │\n",
       "│       ┆            ┆ Bibizan    ┆            ┆   ┆ lxqfhxwp3 ┆ /file/vn- ┆ bibizan   ┆ 4t/datase │\n",
       "│       ┆            ┆ siêu…      ┆            ┆   ┆ h0b…      ┆ 111…      ┆ siêu…     ┆ t/i…      │\n",
       "│ 4     ┆ 1593015076 ┆ (MUA 2 SON ┆ 181790483  ┆ … ┆ vn-111342 ┆ http://f. ┆ son tint  ┆ /media/ke │\n",
       "│       ┆ 4          ┆ TẶNG 1     ┆            ┆   ┆ 07-7r98o- ┆ shopee.vn ┆ bóng      ┆ vin/data_ │\n",
       "│       ┆            ┆ TÚI, 1     ┆            ┆   ┆ lyrll7tp7 ┆ /file/vn- ┆ espoir    ┆ 4t/datase │\n",
       "│       ┆            ┆ CUSHI…     ┆            ┆   ┆ 1y9…      ┆ 111…      ┆ couture   ┆ t/i…      │\n",
       "│       ┆            ┆            ┆            ┆   ┆           ┆           ┆ l…        ┆           │\n",
       "└───────┴────────────┴────────────┴────────────┴───┴───────────┴───────────┴───────────┴───────────┘"
      ],
      "text/html": [
       "<div><style>\n",
       ".dataframe > thead > tr,\n",
       ".dataframe > tbody > tr {\n",
       "  text-align: right;\n",
       "  white-space: pre-wrap;\n",
       "}\n",
       "</style>\n",
       "<small>shape: (5, 14)</small><table border=\"1\" class=\"dataframe\"><thead><tr><th>index</th><th>item_id</th><th>item_name</th><th>shop_id</th><th>shop_name</th><th>level1_global_be_category</th><th>level2_global_be_category</th><th>level3_global_be_category</th><th>cluster</th><th>description</th><th>images</th><th>image_url</th><th>item_name_clean</th><th>file_path</th></tr><tr><td>u32</td><td>i64</td><td>str</td><td>i64</td><td>str</td><td>str</td><td>str</td><td>str</td><td>str</td><td>str</td><td>str</td><td>str</td><td>str</td><td>str</td></tr></thead><tbody><tr><td>0</td><td>19092271907</td><td>&quot;LINEABON K2D3 nhập khẩu châu â…</td><td>1053944724</td><td>&quot;ChiChi.Kids17&quot;</td><td>&quot;Mom &amp; Baby&quot;</td><td>&quot;Baby Healthcare&quot;</td><td>&quot;Baby Vitamins &amp; Supplements&quot;</td><td>&quot;FMCG&quot;</td><td>&quot;Nguồn gốc xuất xứ\n",
       "K2 D3 Lineab…</td><td>&quot;vn-11134207-7ras8-m49p5xv9ecb3…</td><td>&quot;http://f.shopee.vn/file/vn-111…</td><td>&quot;lineabon k2d3 nhập khẩu châu â…</td><td>&quot;/media/kevin/data_4t/dataset/i…</td></tr><tr><td>1</td><td>17398587723</td><td>&quot;[MKB Gift] Bộ 3 Khăn ướt Moony…</td><td>63522286</td><td>&quot;Moony - Gian Hàng Chính Hãng&quot;</td><td>&quot;Mom &amp; Baby&quot;</td><td>&quot;Bath &amp; Body Care&quot;</td><td>&quot;Wipes&quot;</td><td>&quot;FMCG&quot;</td><td>&quot;[{&quot;t&quot;:&quot;Bộ 3 khăn ướt Moony 50 …</td><td>&quot;eb26f55f7359e0de333f0c34e2619f…</td><td>&quot;http://f.shopee.vn/file/eb26f5…</td><td>&quot;bộ 3 khăn ướt moony 50 miếng/g…</td><td>&quot;/media/kevin/data_4t/dataset/i…</td></tr><tr><td>2</td><td>19111299596</td><td>&quot;Bàn Chải Đánh Răng Lipzo Sensi…</td><td>170502615</td><td>&quot;Niva Lipzo Official Store&quot;</td><td>&quot;Health&quot;</td><td>&quot;Personal Care&quot;</td><td>&quot;Oral Care&quot;</td><td>&quot;FMCG&quot;</td><td>&quot;[{&quot;t&quot;:&quot;BÀN CHẢI ĐÁNH RĂNG LIPZ…</td><td>&quot;vn-11134207-7ras8-m2kwpjg8vb46…</td><td>&quot;http://f.shopee.vn/file/vn-111…</td><td>&quot;bàn chải đánh răng lipzo sensi…</td><td>&quot;/media/kevin/data_4t/dataset/i…</td></tr><tr><td>3</td><td>25583412760</td><td>&quot;Rong biển ăn liền Bibizan siêu…</td><td>119247917</td><td>&quot;King 21&quot;</td><td>&quot;Food &amp; Beverages&quot;</td><td>&quot;Snacks&quot;</td><td>&quot;Seaweed&quot;</td><td>&quot;FMCG&quot;</td><td>&quot;NGÀY IN TRÊN BAO BÌ LÀ NGÀY SẢ…</td><td>&quot;vn-11134207-7r98o-lxqfhxwp3h0b…</td><td>&quot;http://f.shopee.vn/file/vn-111…</td><td>&quot;rong biển ăn liền bibizan siêu…</td><td>&quot;/media/kevin/data_4t/dataset/i…</td></tr><tr><td>4</td><td>15930150764</td><td>&quot;(MUA 2 SON TẶNG 1 TÚI, 1 CUSHI…</td><td>181790483</td><td>&quot;Lam Thảo Cosmetics&quot;</td><td>&quot;Beauty&quot;</td><td>&quot;Makeup&quot;</td><td>&quot;Lips&quot;</td><td>&quot;FMCG&quot;</td><td>&quot;Son Tint Bóng Espoir Couture L…</td><td>&quot;vn-11134207-7r98o-lyrll7tp71y9…</td><td>&quot;http://f.shopee.vn/file/vn-111…</td><td>&quot;son tint bóng espoir couture l…</td><td>&quot;/media/kevin/data_4t/dataset/i…</td></tr></tbody></table></div>"
      ]
     },
     "execution_count": 30,
     "metadata": {},
     "output_type": "execute_result"
    }
   ],
   "execution_count": 30
  },
  {
   "metadata": {
    "ExecuteTime": {
     "end_time": "2025-01-14T07:27:16.298479Z",
     "start_time": "2025-01-14T07:27:16.176252Z"
    }
   },
   "cell_type": "code",
   "source": [
    "path_array = path / 'tmp/array/bge/embed.npy'\n",
    "vectors = np.load(path_array)\n",
    "items = df[['item_id', 'item_name']].to_numpy().tolist()"
   ],
   "id": "b94a3e6d0b0cc05b",
   "outputs": [],
   "execution_count": 66
  },
  {
   "metadata": {
    "ExecuteTime": {
     "end_time": "2025-01-14T07:30:59.103343Z",
     "start_time": "2025-01-14T07:30:58.729105Z"
    }
   },
   "cell_type": "code",
   "source": [
    "from vicinity import Vicinity, Backend, Metric\n",
    "\n",
    "vicinity = Vicinity.from_vectors_and_items(\n",
    "    vectors=vectors,\n",
    "    items=items,\n",
    "    backend_type=Backend.FAISS,\n",
    "    metric=Metric.COSINE\n",
    ")"
   ],
   "id": "bb190154006d9383",
   "outputs": [],
   "execution_count": 88
  },
  {
   "metadata": {
    "ExecuteTime": {
     "end_time": "2025-01-14T07:30:59.123124Z",
     "start_time": "2025-01-14T07:30:59.105665Z"
    }
   },
   "cell_type": "code",
   "source": "results = vicinity.query(vectors[:5], k=5)",
   "id": "159a7678d8b22f20",
   "outputs": [],
   "execution_count": 89
  },
  {
   "metadata": {
    "ExecuteTime": {
     "end_time": "2025-01-14T07:30:59.458163Z",
     "start_time": "2025-01-14T07:30:59.454913Z"
    }
   },
   "cell_type": "code",
   "source": [
    "(\n",
    "    pl.DataFrame()\n",
    "    .with_columns(\n",
    "        pl.Series('match', [[i[0][0] for i in _] for _ in results]),\n",
    "        pl.Series('item_name', [[i[0][-1] for i in _] for _ in results]),\n",
    "        pl.Series('score', [[i[-1] for i in _] for _ in results])\n",
    "    )\n",
    "    .explode(['match', 'item_name', 'score'])\n",
    ")"
   ],
   "id": "23368f8cab3446c9",
   "outputs": [
    {
     "data": {
      "text/plain": [
       "shape: (25, 3)\n",
       "┌─────────────┬─────────────────────────────────┬──────────┐\n",
       "│ match       ┆ item_name                       ┆ score    │\n",
       "│ ---         ┆ ---                             ┆ ---      │\n",
       "│ i64         ┆ str                             ┆ f32      │\n",
       "╞═════════════╪═════════════════════════════════╪══════════╡\n",
       "│ 19092271907 ┆ LINEABON K2D3 nhập khẩu châu â… ┆ 1.000008 │\n",
       "│ 7820117814  ┆ D3 K2 Lineabon bổ sung vitamin… ┆ 0.816858 │\n",
       "│ 29755293447 ┆ D3 K2 Lineabon bổ sung Vitamin… ┆ 0.800006 │\n",
       "│ 29561676142 ┆ [Mẫu mới 15ml] LineaBon vitami… ┆ 0.799012 │\n",
       "│ 16154798905 ┆ Vitamin lineabon k2 d3 bổ sung… ┆ 0.790578 │\n",
       "│ …           ┆ …                               ┆ …        │\n",
       "│ 15930150764 ┆ (MUA 2 SON TẶNG 1 TÚI, 1 CUSHI… ┆ 0.999896 │\n",
       "│ 16126980507 ┆ SON TINT BÓNG ESPOIR COUTURE L… ┆ 0.987997 │\n",
       "│ 15369528293 ┆ Son Kem Espoir Couture Lip Tin… ┆ 0.863823 │\n",
       "│ 21702787756 ┆ Son Tint Bóng Lì Espoir Coutur… ┆ 0.863424 │\n",
       "│ 22488391068 ┆ Son Tint Bóng Espoir Couture L… ┆ 0.854597 │\n",
       "└─────────────┴─────────────────────────────────┴──────────┘"
      ],
      "text/html": [
       "<div><style>\n",
       ".dataframe > thead > tr,\n",
       ".dataframe > tbody > tr {\n",
       "  text-align: right;\n",
       "  white-space: pre-wrap;\n",
       "}\n",
       "</style>\n",
       "<small>shape: (25, 3)</small><table border=\"1\" class=\"dataframe\"><thead><tr><th>match</th><th>item_name</th><th>score</th></tr><tr><td>i64</td><td>str</td><td>f32</td></tr></thead><tbody><tr><td>19092271907</td><td>&quot;LINEABON K2D3 nhập khẩu châu â…</td><td>1.000008</td></tr><tr><td>7820117814</td><td>&quot;D3 K2 Lineabon bổ sung vitamin…</td><td>0.816858</td></tr><tr><td>29755293447</td><td>&quot;D3 K2 Lineabon bổ sung Vitamin…</td><td>0.800006</td></tr><tr><td>29561676142</td><td>&quot;[Mẫu mới 15ml] LineaBon vitami…</td><td>0.799012</td></tr><tr><td>16154798905</td><td>&quot;Vitamin lineabon k2 d3 bổ sung…</td><td>0.790578</td></tr><tr><td>&hellip;</td><td>&hellip;</td><td>&hellip;</td></tr><tr><td>15930150764</td><td>&quot;(MUA 2 SON TẶNG 1 TÚI, 1 CUSHI…</td><td>0.999896</td></tr><tr><td>16126980507</td><td>&quot;SON TINT BÓNG ESPOIR COUTURE L…</td><td>0.987997</td></tr><tr><td>15369528293</td><td>&quot;Son Kem Espoir Couture Lip Tin…</td><td>0.863823</td></tr><tr><td>21702787756</td><td>&quot;Son Tint Bóng Lì Espoir Coutur…</td><td>0.863424</td></tr><tr><td>22488391068</td><td>&quot;Son Tint Bóng Espoir Couture L…</td><td>0.854597</td></tr></tbody></table></div>"
      ]
     },
     "execution_count": 90,
     "metadata": {},
     "output_type": "execute_result"
    }
   ],
   "execution_count": 90
  },
  {
   "metadata": {},
   "cell_type": "code",
   "outputs": [],
   "execution_count": null,
   "source": "",
   "id": "17f1c8c9db83b2fe"
  }
 ],
 "metadata": {
  "kernelspec": {
   "display_name": "Python 3 (ipykernel)",
   "language": "python",
   "name": "python3"
  },
  "language_info": {
   "codemirror_mode": {
    "name": "ipython",
    "version": 3
   },
   "file_extension": ".py",
   "mimetype": "text/x-python",
   "name": "python",
   "nbconvert_exporter": "python",
   "pygments_lexer": "ipython3",
   "version": "3.12.6"
  }
 },
 "nbformat": 4,
 "nbformat_minor": 5
}
