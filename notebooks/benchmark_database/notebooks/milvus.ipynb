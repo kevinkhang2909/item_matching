{
 "cells": [
  {
   "cell_type": "code",
   "id": "initial_id",
   "metadata": {
    "ExecuteTime": {
     "end_time": "2025-01-14T07:38:04.908279Z",
     "start_time": "2025-01-14T07:38:04.906480Z"
    }
   },
   "source": [
    "from tqdm import tqdm\n",
    "from time import perf_counter\n",
    "from pymilvus import MilvusClient\n",
    "import polars as pl\n",
    "import numpy as np\n",
    "from core_pro.ultilities import make_sync_folder, create_batch_index"
   ],
   "outputs": [],
   "execution_count": 6
  },
  {
   "cell_type": "code",
   "id": "6bcba965c08b9f7e",
   "metadata": {
    "ExecuteTime": {
     "end_time": "2025-01-14T07:39:19.853606Z",
     "start_time": "2025-01-14T07:39:19.659373Z"
    }
   },
   "source": [
    "path = make_sync_folder('dataset/item_matching')\n",
    "file = path / 'data_sample_FMCG_clean.parquet'\n",
    "\n",
    "df = (\n",
    "    pl.read_parquet(file)\n",
    "    .with_row_index('id')\n",
    ")\n",
    "df.head()"
   ],
   "outputs": [
    {
     "data": {
      "text/plain": [
       "shape: (5, 15)\n",
       "┌─────┬───────┬─────────────┬─────────────┬───┬─────────────┬────────────┬────────────┬────────────┐\n",
       "│ id  ┆ index ┆ item_id     ┆ item_name   ┆ … ┆ images      ┆ image_url  ┆ item_name_ ┆ file_path  │\n",
       "│ --- ┆ ---   ┆ ---         ┆ ---         ┆   ┆ ---         ┆ ---        ┆ clean      ┆ ---        │\n",
       "│ u32 ┆ u32   ┆ i64         ┆ str         ┆   ┆ str         ┆ str        ┆ ---        ┆ str        │\n",
       "│     ┆       ┆             ┆             ┆   ┆             ┆            ┆ str        ┆            │\n",
       "╞═════╪═══════╪═════════════╪═════════════╪═══╪═════════════╪════════════╪════════════╪════════════╡\n",
       "│ 0   ┆ 0     ┆ 19092271907 ┆ LINEABON    ┆ … ┆ vn-11134207 ┆ http://f.s ┆ lineabon   ┆ /media/kev │\n",
       "│     ┆       ┆             ┆ K2D3 nhập   ┆   ┆ -7ras8-m49p ┆ hopee.vn/f ┆ k2d3 nhập  ┆ in/data_4t │\n",
       "│     ┆       ┆             ┆ khẩu châu   ┆   ┆ 5xv9ecb3…   ┆ ile/vn-111 ┆ khẩu châu  ┆ /dataset/i │\n",
       "│     ┆       ┆             ┆ â…          ┆   ┆             ┆ …          ┆ â…         ┆ …          │\n",
       "│ 1   ┆ 1     ┆ 17398587723 ┆ [MKB Gift]  ┆ … ┆ eb26f55f735 ┆ http://f.s ┆ bộ 3 khăn  ┆ /media/kev │\n",
       "│     ┆       ┆             ┆ Bộ 3 Khăn   ┆   ┆ 9e0de333f0c ┆ hopee.vn/f ┆ ướt moony  ┆ in/data_4t │\n",
       "│     ┆       ┆             ┆ ướt Moony…  ┆   ┆ 34e2619f…   ┆ ile/eb26f5 ┆ 50         ┆ /dataset/i │\n",
       "│     ┆       ┆             ┆             ┆   ┆             ┆ …          ┆ miếng/g…   ┆ …          │\n",
       "│ 2   ┆ 2     ┆ 19111299596 ┆ Bàn Chải    ┆ … ┆ vn-11134207 ┆ http://f.s ┆ bàn chải   ┆ /media/kev │\n",
       "│     ┆       ┆             ┆ Đánh Răng   ┆   ┆ -7ras8-m2kw ┆ hopee.vn/f ┆ đánh răng  ┆ in/data_4t │\n",
       "│     ┆       ┆             ┆ Lipzo       ┆   ┆ pjg8vb46…   ┆ ile/vn-111 ┆ lipzo      ┆ /dataset/i │\n",
       "│     ┆       ┆             ┆ Sensi…      ┆   ┆             ┆ …          ┆ sensi…     ┆ …          │\n",
       "│ 3   ┆ 3     ┆ 25583412760 ┆ Rong biển   ┆ … ┆ vn-11134207 ┆ http://f.s ┆ rong biển  ┆ /media/kev │\n",
       "│     ┆       ┆             ┆ ăn liền     ┆   ┆ -7r98o-lxqf ┆ hopee.vn/f ┆ ăn liền    ┆ in/data_4t │\n",
       "│     ┆       ┆             ┆ Bibizan     ┆   ┆ hxwp3h0b…   ┆ ile/vn-111 ┆ bibizan    ┆ /dataset/i │\n",
       "│     ┆       ┆             ┆ siêu…       ┆   ┆             ┆ …          ┆ siêu…      ┆ …          │\n",
       "│ 4   ┆ 4     ┆ 15930150764 ┆ (MUA 2 SON  ┆ … ┆ vn-11134207 ┆ http://f.s ┆ son tint   ┆ /media/kev │\n",
       "│     ┆       ┆             ┆ TẶNG 1 TÚI, ┆   ┆ -7r98o-lyrl ┆ hopee.vn/f ┆ bóng       ┆ in/data_4t │\n",
       "│     ┆       ┆             ┆ 1 CUSHI…    ┆   ┆ l7tp71y9…   ┆ ile/vn-111 ┆ espoir     ┆ /dataset/i │\n",
       "│     ┆       ┆             ┆             ┆   ┆             ┆ …          ┆ couture l… ┆ …          │\n",
       "└─────┴───────┴─────────────┴─────────────┴───┴─────────────┴────────────┴────────────┴────────────┘"
      ],
      "text/html": [
       "<div><style>\n",
       ".dataframe > thead > tr,\n",
       ".dataframe > tbody > tr {\n",
       "  text-align: right;\n",
       "  white-space: pre-wrap;\n",
       "}\n",
       "</style>\n",
       "<small>shape: (5, 15)</small><table border=\"1\" class=\"dataframe\"><thead><tr><th>id</th><th>index</th><th>item_id</th><th>item_name</th><th>shop_id</th><th>shop_name</th><th>level1_global_be_category</th><th>level2_global_be_category</th><th>level3_global_be_category</th><th>cluster</th><th>description</th><th>images</th><th>image_url</th><th>item_name_clean</th><th>file_path</th></tr><tr><td>u32</td><td>u32</td><td>i64</td><td>str</td><td>i64</td><td>str</td><td>str</td><td>str</td><td>str</td><td>str</td><td>str</td><td>str</td><td>str</td><td>str</td><td>str</td></tr></thead><tbody><tr><td>0</td><td>0</td><td>19092271907</td><td>&quot;LINEABON K2D3 nhập khẩu châu â…</td><td>1053944724</td><td>&quot;ChiChi.Kids17&quot;</td><td>&quot;Mom &amp; Baby&quot;</td><td>&quot;Baby Healthcare&quot;</td><td>&quot;Baby Vitamins &amp; Supplements&quot;</td><td>&quot;FMCG&quot;</td><td>&quot;Nguồn gốc xuất xứ\n",
       "K2 D3 Lineab…</td><td>&quot;vn-11134207-7ras8-m49p5xv9ecb3…</td><td>&quot;http://f.shopee.vn/file/vn-111…</td><td>&quot;lineabon k2d3 nhập khẩu châu â…</td><td>&quot;/media/kevin/data_4t/dataset/i…</td></tr><tr><td>1</td><td>1</td><td>17398587723</td><td>&quot;[MKB Gift] Bộ 3 Khăn ướt Moony…</td><td>63522286</td><td>&quot;Moony - Gian Hàng Chính Hãng&quot;</td><td>&quot;Mom &amp; Baby&quot;</td><td>&quot;Bath &amp; Body Care&quot;</td><td>&quot;Wipes&quot;</td><td>&quot;FMCG&quot;</td><td>&quot;[{&quot;t&quot;:&quot;Bộ 3 khăn ướt Moony 50 …</td><td>&quot;eb26f55f7359e0de333f0c34e2619f…</td><td>&quot;http://f.shopee.vn/file/eb26f5…</td><td>&quot;bộ 3 khăn ướt moony 50 miếng/g…</td><td>&quot;/media/kevin/data_4t/dataset/i…</td></tr><tr><td>2</td><td>2</td><td>19111299596</td><td>&quot;Bàn Chải Đánh Răng Lipzo Sensi…</td><td>170502615</td><td>&quot;Niva Lipzo Official Store&quot;</td><td>&quot;Health&quot;</td><td>&quot;Personal Care&quot;</td><td>&quot;Oral Care&quot;</td><td>&quot;FMCG&quot;</td><td>&quot;[{&quot;t&quot;:&quot;BÀN CHẢI ĐÁNH RĂNG LIPZ…</td><td>&quot;vn-11134207-7ras8-m2kwpjg8vb46…</td><td>&quot;http://f.shopee.vn/file/vn-111…</td><td>&quot;bàn chải đánh răng lipzo sensi…</td><td>&quot;/media/kevin/data_4t/dataset/i…</td></tr><tr><td>3</td><td>3</td><td>25583412760</td><td>&quot;Rong biển ăn liền Bibizan siêu…</td><td>119247917</td><td>&quot;King 21&quot;</td><td>&quot;Food &amp; Beverages&quot;</td><td>&quot;Snacks&quot;</td><td>&quot;Seaweed&quot;</td><td>&quot;FMCG&quot;</td><td>&quot;NGÀY IN TRÊN BAO BÌ LÀ NGÀY SẢ…</td><td>&quot;vn-11134207-7r98o-lxqfhxwp3h0b…</td><td>&quot;http://f.shopee.vn/file/vn-111…</td><td>&quot;rong biển ăn liền bibizan siêu…</td><td>&quot;/media/kevin/data_4t/dataset/i…</td></tr><tr><td>4</td><td>4</td><td>15930150764</td><td>&quot;(MUA 2 SON TẶNG 1 TÚI, 1 CUSHI…</td><td>181790483</td><td>&quot;Lam Thảo Cosmetics&quot;</td><td>&quot;Beauty&quot;</td><td>&quot;Makeup&quot;</td><td>&quot;Lips&quot;</td><td>&quot;FMCG&quot;</td><td>&quot;Son Tint Bóng Espoir Couture L…</td><td>&quot;vn-11134207-7r98o-lyrll7tp71y9…</td><td>&quot;http://f.shopee.vn/file/vn-111…</td><td>&quot;son tint bóng espoir couture l…</td><td>&quot;/media/kevin/data_4t/dataset/i…</td></tr></tbody></table></div>"
      ]
     },
     "execution_count": 9,
     "metadata": {},
     "output_type": "execute_result"
    }
   ],
   "execution_count": 9
  },
  {
   "cell_type": "code",
   "id": "281bb77e71eb2e06",
   "metadata": {
    "ExecuteTime": {
     "end_time": "2025-01-14T07:39:28.936721Z",
     "start_time": "2025-01-14T07:39:28.820341Z"
    }
   },
   "source": [
    "item = df['item_name_clean'].to_list()\n",
    "path_array = path / 'tmp/array/bge/embed.npy'\n",
    "embeddings = np.load(path_array)"
   ],
   "outputs": [],
   "execution_count": 10
  },
  {
   "cell_type": "code",
   "id": "4be31aa53424b95a",
   "metadata": {
    "ExecuteTime": {
     "end_time": "2025-01-14T07:39:30.819167Z",
     "start_time": "2025-01-14T07:39:30.274041Z"
    }
   },
   "source": [
    "client = MilvusClient(\"milvus_demo.db\")\n",
    "\n",
    "collection = 'demo_collection'\n",
    "if client.has_collection(collection_name=collection):\n",
    "    client.drop_collection(collection_name=collection)\n",
    "    \n",
    "client.create_collection(\n",
    "    collection_name=collection,\n",
    "    dimension=embeddings.shape[1],\n",
    "    metric_type=\"IP\"\n",
    ")"
   ],
   "outputs": [],
   "execution_count": 11
  },
  {
   "cell_type": "code",
   "id": "d0421af6-2db3-4a90-bb5c-00cb7b458ccf",
   "metadata": {
    "ExecuteTime": {
     "end_time": "2025-01-14T07:39:32.181129Z",
     "start_time": "2025-01-14T07:39:31.392581Z"
    }
   },
   "source": [
    "data = df.to_dicts()"
   ],
   "outputs": [],
   "execution_count": 12
  },
  {
   "cell_type": "code",
   "id": "006c0c1b-2169-42d3-892b-63cac31aff50",
   "metadata": {
    "ExecuteTime": {
     "end_time": "2025-01-14T07:39:32.301687Z",
     "start_time": "2025-01-14T07:39:32.186366Z"
    }
   },
   "source": [
    "start = perf_counter()\n",
    "\n",
    "total_sample = len(data)\n",
    "QUERY_SIZE = 20_000\n",
    "run = create_batch_index(len(embeddings), QUERY_SIZE)\n",
    "for i, val in run.items():\n",
    "    start_idx, end_idx = val[0], val[-1]\n",
    "    batch = data[start_idx:end_idx]\n",
    "    res = client.insert(collection_name=\"demo_collection\", data=batch)\n",
    "    \n",
    "end = perf_counter() - start\n",
    "print(f'Total Index Time: {end:,.0f}s')"
   ],
   "outputs": [
    {
     "name": "stderr",
     "output_type": "stream",
     "text": [
      "2025-01-14 14:39:32,188 [ERROR][handler]: RPC error: [insert_rows], <DataNotMatchException: (code=1, message=Insert missed an field `vector` to collection without set nullable==true or set default_value)>, <Time:{'RPC start': '2025-01-14 14:39:32.188135', 'RPC error': '2025-01-14 14:39:32.188893'}> (decorators.py:140)\n"
     ]
    },
    {
     "ename": "DataNotMatchException",
     "evalue": "<DataNotMatchException: (code=1, message=Insert missed an field `vector` to collection without set nullable==true or set default_value)>",
     "output_type": "error",
     "traceback": [
      "\u001B[0;31m---------------------------------------------------------------------------\u001B[0m",
      "\u001B[0;31mDataNotMatchException\u001B[0m                     Traceback (most recent call last)",
      "    \u001B[0;31m[... skipping hidden 1 frame]\u001B[0m\n",
      "Cell \u001B[0;32mIn[13], line 9\u001B[0m\n\u001B[1;32m      8\u001B[0m     batch \u001B[38;5;241m=\u001B[39m data[start_idx:end_idx]\n\u001B[0;32m----> 9\u001B[0m     res \u001B[38;5;241m=\u001B[39m \u001B[43mclient\u001B[49m\u001B[38;5;241;43m.\u001B[39;49m\u001B[43minsert\u001B[49m\u001B[43m(\u001B[49m\u001B[43mcollection_name\u001B[49m\u001B[38;5;241;43m=\u001B[39;49m\u001B[38;5;124;43m\"\u001B[39;49m\u001B[38;5;124;43mdemo_collection\u001B[39;49m\u001B[38;5;124;43m\"\u001B[39;49m\u001B[43m,\u001B[49m\u001B[43m \u001B[49m\u001B[43mdata\u001B[49m\u001B[38;5;241;43m=\u001B[39;49m\u001B[43mbatch\u001B[49m\u001B[43m)\u001B[49m\n\u001B[1;32m     11\u001B[0m end \u001B[38;5;241m=\u001B[39m perf_counter() \u001B[38;5;241m-\u001B[39m start\n",
      "File \u001B[0;32m~/miniforge3/envs/item_v2/lib/python3.12/site-packages/pymilvus/milvus_client/milvus_client.py:231\u001B[0m, in \u001B[0;36mMilvusClient.insert\u001B[0;34m(self, collection_name, data, timeout, partition_name, **kwargs)\u001B[0m\n\u001B[1;32m    230\u001B[0m \u001B[38;5;28;01mexcept\u001B[39;00m \u001B[38;5;167;01mException\u001B[39;00m \u001B[38;5;28;01mas\u001B[39;00m ex:\n\u001B[0;32m--> 231\u001B[0m     \u001B[38;5;28;01mraise\u001B[39;00m ex \u001B[38;5;28;01mfrom\u001B[39;00m\u001B[38;5;250m \u001B[39m\u001B[38;5;21;01mex\u001B[39;00m\n\u001B[1;32m    232\u001B[0m \u001B[38;5;28;01mreturn\u001B[39;00m OmitZeroDict(\n\u001B[1;32m    233\u001B[0m     {\n\u001B[1;32m    234\u001B[0m         \u001B[38;5;124m\"\u001B[39m\u001B[38;5;124minsert_count\u001B[39m\u001B[38;5;124m\"\u001B[39m: res\u001B[38;5;241m.\u001B[39minsert_count,\n\u001B[0;32m   (...)\u001B[0m\n\u001B[1;32m    237\u001B[0m     }\n\u001B[1;32m    238\u001B[0m )\n",
      "File \u001B[0;32m~/miniforge3/envs/item_v2/lib/python3.12/site-packages/pymilvus/milvus_client/milvus_client.py:227\u001B[0m, in \u001B[0;36mMilvusClient.insert\u001B[0;34m(self, collection_name, data, timeout, partition_name, **kwargs)\u001B[0m\n\u001B[1;32m    226\u001B[0m \u001B[38;5;28;01mtry\u001B[39;00m:\n\u001B[0;32m--> 227\u001B[0m     res \u001B[38;5;241m=\u001B[39m \u001B[43mconn\u001B[49m\u001B[38;5;241;43m.\u001B[39;49m\u001B[43minsert_rows\u001B[49m\u001B[43m(\u001B[49m\n\u001B[1;32m    228\u001B[0m \u001B[43m        \u001B[49m\u001B[43mcollection_name\u001B[49m\u001B[43m,\u001B[49m\u001B[43m \u001B[49m\u001B[43mdata\u001B[49m\u001B[43m,\u001B[49m\u001B[43m \u001B[49m\u001B[43mpartition_name\u001B[49m\u001B[38;5;241;43m=\u001B[39;49m\u001B[43mpartition_name\u001B[49m\u001B[43m,\u001B[49m\u001B[43m \u001B[49m\u001B[43mtimeout\u001B[49m\u001B[38;5;241;43m=\u001B[39;49m\u001B[43mtimeout\u001B[49m\n\u001B[1;32m    229\u001B[0m \u001B[43m    \u001B[49m\u001B[43m)\u001B[49m\n\u001B[1;32m    230\u001B[0m \u001B[38;5;28;01mexcept\u001B[39;00m \u001B[38;5;167;01mException\u001B[39;00m \u001B[38;5;28;01mas\u001B[39;00m ex:\n",
      "File \u001B[0;32m~/miniforge3/envs/item_v2/lib/python3.12/site-packages/pymilvus/decorators.py:141\u001B[0m, in \u001B[0;36merror_handler.<locals>.wrapper.<locals>.handler\u001B[0;34m(*args, **kwargs)\u001B[0m\n\u001B[1;32m    140\u001B[0m     LOGGER\u001B[38;5;241m.\u001B[39merror(\u001B[38;5;124mf\u001B[39m\u001B[38;5;124m\"\u001B[39m\u001B[38;5;124mRPC error: [\u001B[39m\u001B[38;5;132;01m{\u001B[39;00minner_name\u001B[38;5;132;01m}\u001B[39;00m\u001B[38;5;124m], \u001B[39m\u001B[38;5;132;01m{\u001B[39;00me\u001B[38;5;132;01m}\u001B[39;00m\u001B[38;5;124m, <Time:\u001B[39m\u001B[38;5;132;01m{\u001B[39;00mrecord_dict\u001B[38;5;132;01m}\u001B[39;00m\u001B[38;5;124m>\u001B[39m\u001B[38;5;124m\"\u001B[39m)\n\u001B[0;32m--> 141\u001B[0m     \u001B[38;5;28;01mraise\u001B[39;00m e \u001B[38;5;28;01mfrom\u001B[39;00m\u001B[38;5;250m \u001B[39m\u001B[38;5;21;01me\u001B[39;00m\n\u001B[1;32m    142\u001B[0m \u001B[38;5;28;01mexcept\u001B[39;00m grpc\u001B[38;5;241m.\u001B[39mFutureTimeoutError \u001B[38;5;28;01mas\u001B[39;00m e:\n",
      "File \u001B[0;32m~/miniforge3/envs/item_v2/lib/python3.12/site-packages/pymilvus/decorators.py:137\u001B[0m, in \u001B[0;36merror_handler.<locals>.wrapper.<locals>.handler\u001B[0;34m(*args, **kwargs)\u001B[0m\n\u001B[1;32m    136\u001B[0m     record_dict[\u001B[38;5;124m\"\u001B[39m\u001B[38;5;124mRPC start\u001B[39m\u001B[38;5;124m\"\u001B[39m] \u001B[38;5;241m=\u001B[39m \u001B[38;5;28mstr\u001B[39m(datetime\u001B[38;5;241m.\u001B[39mdatetime\u001B[38;5;241m.\u001B[39mnow())\n\u001B[0;32m--> 137\u001B[0m     \u001B[38;5;28;01mreturn\u001B[39;00m \u001B[43mfunc\u001B[49m\u001B[43m(\u001B[49m\u001B[38;5;241;43m*\u001B[39;49m\u001B[43margs\u001B[49m\u001B[43m,\u001B[49m\u001B[43m \u001B[49m\u001B[38;5;241;43m*\u001B[39;49m\u001B[38;5;241;43m*\u001B[39;49m\u001B[43mkwargs\u001B[49m\u001B[43m)\u001B[49m\n\u001B[1;32m    138\u001B[0m \u001B[38;5;28;01mexcept\u001B[39;00m MilvusException \u001B[38;5;28;01mas\u001B[39;00m e:\n",
      "File \u001B[0;32m~/miniforge3/envs/item_v2/lib/python3.12/site-packages/pymilvus/decorators.py:176\u001B[0m, in \u001B[0;36mtracing_request.<locals>.wrapper.<locals>.handler\u001B[0;34m(self, *args, **kwargs)\u001B[0m\n\u001B[1;32m    175\u001B[0m     \u001B[38;5;28mself\u001B[39m\u001B[38;5;241m.\u001B[39mset_onetime_request_id(req_id)\n\u001B[0;32m--> 176\u001B[0m \u001B[38;5;28;01mreturn\u001B[39;00m \u001B[43mfunc\u001B[49m\u001B[43m(\u001B[49m\u001B[38;5;28;43mself\u001B[39;49m\u001B[43m,\u001B[49m\u001B[43m \u001B[49m\u001B[38;5;241;43m*\u001B[39;49m\u001B[43margs\u001B[49m\u001B[43m,\u001B[49m\u001B[43m \u001B[49m\u001B[38;5;241;43m*\u001B[39;49m\u001B[38;5;241;43m*\u001B[39;49m\u001B[43mkwargs\u001B[49m\u001B[43m)\u001B[49m\n",
      "File \u001B[0;32m~/miniforge3/envs/item_v2/lib/python3.12/site-packages/pymilvus/decorators.py:116\u001B[0m, in \u001B[0;36mretry_on_rpc_failure.<locals>.wrapper.<locals>.handler\u001B[0;34m(*args, **kwargs)\u001B[0m\n\u001B[1;32m    115\u001B[0m     \u001B[38;5;28;01melse\u001B[39;00m:\n\u001B[0;32m--> 116\u001B[0m         \u001B[38;5;28;01mraise\u001B[39;00m e \u001B[38;5;28;01mfrom\u001B[39;00m\u001B[38;5;250m \u001B[39m\u001B[38;5;21;01me\u001B[39;00m\n\u001B[1;32m    117\u001B[0m \u001B[38;5;28;01mexcept\u001B[39;00m \u001B[38;5;167;01mException\u001B[39;00m \u001B[38;5;28;01mas\u001B[39;00m e:\n",
      "File \u001B[0;32m~/miniforge3/envs/item_v2/lib/python3.12/site-packages/pymilvus/decorators.py:86\u001B[0m, in \u001B[0;36mretry_on_rpc_failure.<locals>.wrapper.<locals>.handler\u001B[0;34m(*args, **kwargs)\u001B[0m\n\u001B[1;32m     85\u001B[0m \u001B[38;5;28;01mtry\u001B[39;00m:\n\u001B[0;32m---> 86\u001B[0m     \u001B[38;5;28;01mreturn\u001B[39;00m \u001B[43mfunc\u001B[49m\u001B[43m(\u001B[49m\u001B[38;5;241;43m*\u001B[39;49m\u001B[43margs\u001B[49m\u001B[43m,\u001B[49m\u001B[43m \u001B[49m\u001B[38;5;241;43m*\u001B[39;49m\u001B[38;5;241;43m*\u001B[39;49m\u001B[43mkwargs\u001B[49m\u001B[43m)\u001B[49m\n\u001B[1;32m     87\u001B[0m \u001B[38;5;28;01mexcept\u001B[39;00m grpc\u001B[38;5;241m.\u001B[39mRpcError \u001B[38;5;28;01mas\u001B[39;00m e:\n\u001B[1;32m     88\u001B[0m     \u001B[38;5;66;03m# Do not retry on these codes\u001B[39;00m\n",
      "File \u001B[0;32m~/miniforge3/envs/item_v2/lib/python3.12/site-packages/pymilvus/client/grpc_handler.py:525\u001B[0m, in \u001B[0;36mGrpcHandler.insert_rows\u001B[0;34m(self, collection_name, entities, partition_name, schema, timeout, **kwargs)\u001B[0m\n\u001B[1;32m    515\u001B[0m \u001B[38;5;129m@retry_on_rpc_failure\u001B[39m()\n\u001B[1;32m    516\u001B[0m \u001B[38;5;28;01mdef\u001B[39;00m\u001B[38;5;250m \u001B[39m\u001B[38;5;21minsert_rows\u001B[39m(\n\u001B[1;32m    517\u001B[0m     \u001B[38;5;28mself\u001B[39m,\n\u001B[0;32m   (...)\u001B[0m\n\u001B[1;32m    523\u001B[0m     \u001B[38;5;241m*\u001B[39m\u001B[38;5;241m*\u001B[39mkwargs,\n\u001B[1;32m    524\u001B[0m ):\n\u001B[0;32m--> 525\u001B[0m     request \u001B[38;5;241m=\u001B[39m \u001B[38;5;28;43mself\u001B[39;49m\u001B[38;5;241;43m.\u001B[39;49m\u001B[43m_prepare_row_insert_request\u001B[49m\u001B[43m(\u001B[49m\n\u001B[1;32m    526\u001B[0m \u001B[43m        \u001B[49m\u001B[43mcollection_name\u001B[49m\u001B[43m,\u001B[49m\u001B[43m \u001B[49m\u001B[43mentities\u001B[49m\u001B[43m,\u001B[49m\u001B[43m \u001B[49m\u001B[43mpartition_name\u001B[49m\u001B[43m,\u001B[49m\u001B[43m \u001B[49m\u001B[43mschema\u001B[49m\u001B[43m,\u001B[49m\u001B[43m \u001B[49m\u001B[43mtimeout\u001B[49m\u001B[43m,\u001B[49m\u001B[43m \u001B[49m\u001B[38;5;241;43m*\u001B[39;49m\u001B[38;5;241;43m*\u001B[39;49m\u001B[43mkwargs\u001B[49m\n\u001B[1;32m    527\u001B[0m \u001B[43m    \u001B[49m\u001B[43m)\u001B[49m\n\u001B[1;32m    528\u001B[0m     resp \u001B[38;5;241m=\u001B[39m \u001B[38;5;28mself\u001B[39m\u001B[38;5;241m.\u001B[39m_stub\u001B[38;5;241m.\u001B[39mInsert(request\u001B[38;5;241m=\u001B[39mrequest, timeout\u001B[38;5;241m=\u001B[39mtimeout)\n",
      "File \u001B[0;32m~/miniforge3/envs/item_v2/lib/python3.12/site-packages/pymilvus/client/grpc_handler.py:551\u001B[0m, in \u001B[0;36mGrpcHandler._prepare_row_insert_request\u001B[0;34m(self, collection_name, entity_rows, partition_name, schema, timeout, **kwargs)\u001B[0m\n\u001B[1;32m    549\u001B[0m enable_dynamic \u001B[38;5;241m=\u001B[39m schema\u001B[38;5;241m.\u001B[39mget(\u001B[38;5;124m\"\u001B[39m\u001B[38;5;124menable_dynamic_field\u001B[39m\u001B[38;5;124m\"\u001B[39m, \u001B[38;5;28;01mFalse\u001B[39;00m)\n\u001B[0;32m--> 551\u001B[0m \u001B[38;5;28;01mreturn\u001B[39;00m \u001B[43mPrepare\u001B[49m\u001B[38;5;241;43m.\u001B[39;49m\u001B[43mrow_insert_param\u001B[49m\u001B[43m(\u001B[49m\n\u001B[1;32m    552\u001B[0m \u001B[43m    \u001B[49m\u001B[43mcollection_name\u001B[49m\u001B[43m,\u001B[49m\n\u001B[1;32m    553\u001B[0m \u001B[43m    \u001B[49m\u001B[43mentity_rows\u001B[49m\u001B[43m,\u001B[49m\n\u001B[1;32m    554\u001B[0m \u001B[43m    \u001B[49m\u001B[43mpartition_name\u001B[49m\u001B[43m,\u001B[49m\n\u001B[1;32m    555\u001B[0m \u001B[43m    \u001B[49m\u001B[43mfields_info\u001B[49m\u001B[43m,\u001B[49m\n\u001B[1;32m    556\u001B[0m \u001B[43m    \u001B[49m\u001B[43menable_dynamic\u001B[49m\u001B[38;5;241;43m=\u001B[39;49m\u001B[43menable_dynamic\u001B[49m\u001B[43m,\u001B[49m\n\u001B[1;32m    557\u001B[0m \u001B[43m\u001B[49m\u001B[43m)\u001B[49m\n",
      "File \u001B[0;32m~/miniforge3/envs/item_v2/lib/python3.12/site-packages/pymilvus/client/prepare.py:622\u001B[0m, in \u001B[0;36mPrepare.row_insert_param\u001B[0;34m(cls, collection_name, entities, partition_name, fields_info, enable_dynamic)\u001B[0m\n\u001B[1;32m    616\u001B[0m request \u001B[38;5;241m=\u001B[39m milvus_types\u001B[38;5;241m.\u001B[39mInsertRequest(\n\u001B[1;32m    617\u001B[0m     collection_name\u001B[38;5;241m=\u001B[39mcollection_name,\n\u001B[1;32m    618\u001B[0m     partition_name\u001B[38;5;241m=\u001B[39mp_name,\n\u001B[1;32m    619\u001B[0m     num_rows\u001B[38;5;241m=\u001B[39m\u001B[38;5;28mlen\u001B[39m(entities),\n\u001B[1;32m    620\u001B[0m )\n\u001B[0;32m--> 622\u001B[0m \u001B[38;5;28;01mreturn\u001B[39;00m \u001B[38;5;28;43mcls\u001B[39;49m\u001B[38;5;241;43m.\u001B[39;49m\u001B[43m_parse_row_request\u001B[49m\u001B[43m(\u001B[49m\u001B[43mrequest\u001B[49m\u001B[43m,\u001B[49m\u001B[43m \u001B[49m\u001B[43mfields_info\u001B[49m\u001B[43m,\u001B[49m\u001B[43m \u001B[49m\u001B[43menable_dynamic\u001B[49m\u001B[43m,\u001B[49m\u001B[43m \u001B[49m\u001B[43mentities\u001B[49m\u001B[43m)\u001B[49m\n",
      "File \u001B[0;32m~/miniforge3/envs/item_v2/lib/python3.12/site-packages/pymilvus/client/prepare.py:483\u001B[0m, in \u001B[0;36mPrepare._parse_row_request\u001B[0;34m(request, fields_info, enable_dynamic, entities)\u001B[0m\n\u001B[1;32m    482\u001B[0m     \u001B[38;5;28;01melse\u001B[39;00m:\n\u001B[0;32m--> 483\u001B[0m         \u001B[38;5;28;01mraise\u001B[39;00m DataNotMatchException(\n\u001B[1;32m    484\u001B[0m             message\u001B[38;5;241m=\u001B[39mExceptionsMessage\u001B[38;5;241m.\u001B[39mInsertMissedField \u001B[38;5;241m%\u001B[39m key\n\u001B[1;32m    485\u001B[0m         )\n\u001B[1;32m    486\u001B[0m json_dict \u001B[38;5;241m=\u001B[39m {\n\u001B[1;32m    487\u001B[0m     k: v \u001B[38;5;28;01mfor\u001B[39;00m k, v \u001B[38;5;129;01min\u001B[39;00m entity\u001B[38;5;241m.\u001B[39mitems() \u001B[38;5;28;01mif\u001B[39;00m k \u001B[38;5;129;01mnot\u001B[39;00m \u001B[38;5;129;01min\u001B[39;00m fields_data \u001B[38;5;129;01mand\u001B[39;00m enable_dynamic\n\u001B[1;32m    488\u001B[0m }\n",
      "\u001B[0;31mDataNotMatchException\u001B[0m: <DataNotMatchException: (code=1, message=Insert missed an field `vector` to collection without set nullable==true or set default_value)>",
      "\nThe above exception was the direct cause of the following exception:\n",
      "\u001B[0;31mDataNotMatchException\u001B[0m                     Traceback (most recent call last)",
      "    \u001B[0;31m[... skipping hidden 1 frame]\u001B[0m\n",
      "Cell \u001B[0;32mIn[13], line 9\u001B[0m\n\u001B[1;32m      8\u001B[0m     batch \u001B[38;5;241m=\u001B[39m data[start_idx:end_idx]\n\u001B[0;32m----> 9\u001B[0m     res \u001B[38;5;241m=\u001B[39m \u001B[43mclient\u001B[49m\u001B[38;5;241;43m.\u001B[39;49m\u001B[43minsert\u001B[49m\u001B[43m(\u001B[49m\u001B[43mcollection_name\u001B[49m\u001B[38;5;241;43m=\u001B[39;49m\u001B[38;5;124;43m\"\u001B[39;49m\u001B[38;5;124;43mdemo_collection\u001B[39;49m\u001B[38;5;124;43m\"\u001B[39;49m\u001B[43m,\u001B[49m\u001B[43m \u001B[49m\u001B[43mdata\u001B[49m\u001B[38;5;241;43m=\u001B[39;49m\u001B[43mbatch\u001B[49m\u001B[43m)\u001B[49m\n\u001B[1;32m     11\u001B[0m end \u001B[38;5;241m=\u001B[39m perf_counter() \u001B[38;5;241m-\u001B[39m start\n",
      "File \u001B[0;32m~/miniforge3/envs/item_v2/lib/python3.12/site-packages/pymilvus/milvus_client/milvus_client.py:231\u001B[0m, in \u001B[0;36mMilvusClient.insert\u001B[0;34m(self, collection_name, data, timeout, partition_name, **kwargs)\u001B[0m\n\u001B[1;32m    230\u001B[0m \u001B[38;5;28;01mexcept\u001B[39;00m \u001B[38;5;167;01mException\u001B[39;00m \u001B[38;5;28;01mas\u001B[39;00m ex:\n\u001B[0;32m--> 231\u001B[0m     \u001B[38;5;28;01mraise\u001B[39;00m ex \u001B[38;5;28;01mfrom\u001B[39;00m\u001B[38;5;250m \u001B[39m\u001B[38;5;21;01mex\u001B[39;00m\n\u001B[1;32m    232\u001B[0m \u001B[38;5;28;01mreturn\u001B[39;00m OmitZeroDict(\n\u001B[1;32m    233\u001B[0m     {\n\u001B[1;32m    234\u001B[0m         \u001B[38;5;124m\"\u001B[39m\u001B[38;5;124minsert_count\u001B[39m\u001B[38;5;124m\"\u001B[39m: res\u001B[38;5;241m.\u001B[39minsert_count,\n\u001B[0;32m   (...)\u001B[0m\n\u001B[1;32m    237\u001B[0m     }\n\u001B[1;32m    238\u001B[0m )\n",
      "File \u001B[0;32m~/miniforge3/envs/item_v2/lib/python3.12/site-packages/pymilvus/milvus_client/milvus_client.py:227\u001B[0m, in \u001B[0;36mMilvusClient.insert\u001B[0;34m(self, collection_name, data, timeout, partition_name, **kwargs)\u001B[0m\n\u001B[1;32m    226\u001B[0m \u001B[38;5;28;01mtry\u001B[39;00m:\n\u001B[0;32m--> 227\u001B[0m     res \u001B[38;5;241m=\u001B[39m \u001B[43mconn\u001B[49m\u001B[38;5;241;43m.\u001B[39;49m\u001B[43minsert_rows\u001B[49m\u001B[43m(\u001B[49m\n\u001B[1;32m    228\u001B[0m \u001B[43m        \u001B[49m\u001B[43mcollection_name\u001B[49m\u001B[43m,\u001B[49m\u001B[43m \u001B[49m\u001B[43mdata\u001B[49m\u001B[43m,\u001B[49m\u001B[43m \u001B[49m\u001B[43mpartition_name\u001B[49m\u001B[38;5;241;43m=\u001B[39;49m\u001B[43mpartition_name\u001B[49m\u001B[43m,\u001B[49m\u001B[43m \u001B[49m\u001B[43mtimeout\u001B[49m\u001B[38;5;241;43m=\u001B[39;49m\u001B[43mtimeout\u001B[49m\n\u001B[1;32m    229\u001B[0m \u001B[43m    \u001B[49m\u001B[43m)\u001B[49m\n\u001B[1;32m    230\u001B[0m \u001B[38;5;28;01mexcept\u001B[39;00m \u001B[38;5;167;01mException\u001B[39;00m \u001B[38;5;28;01mas\u001B[39;00m ex:\n",
      "File \u001B[0;32m~/miniforge3/envs/item_v2/lib/python3.12/site-packages/pymilvus/decorators.py:141\u001B[0m, in \u001B[0;36merror_handler.<locals>.wrapper.<locals>.handler\u001B[0;34m(*args, **kwargs)\u001B[0m\n\u001B[1;32m    140\u001B[0m     LOGGER\u001B[38;5;241m.\u001B[39merror(\u001B[38;5;124mf\u001B[39m\u001B[38;5;124m\"\u001B[39m\u001B[38;5;124mRPC error: [\u001B[39m\u001B[38;5;132;01m{\u001B[39;00minner_name\u001B[38;5;132;01m}\u001B[39;00m\u001B[38;5;124m], \u001B[39m\u001B[38;5;132;01m{\u001B[39;00me\u001B[38;5;132;01m}\u001B[39;00m\u001B[38;5;124m, <Time:\u001B[39m\u001B[38;5;132;01m{\u001B[39;00mrecord_dict\u001B[38;5;132;01m}\u001B[39;00m\u001B[38;5;124m>\u001B[39m\u001B[38;5;124m\"\u001B[39m)\n\u001B[0;32m--> 141\u001B[0m     \u001B[38;5;28;01mraise\u001B[39;00m e \u001B[38;5;28;01mfrom\u001B[39;00m\u001B[38;5;250m \u001B[39m\u001B[38;5;21;01me\u001B[39;00m\n\u001B[1;32m    142\u001B[0m \u001B[38;5;28;01mexcept\u001B[39;00m grpc\u001B[38;5;241m.\u001B[39mFutureTimeoutError \u001B[38;5;28;01mas\u001B[39;00m e:\n",
      "File \u001B[0;32m~/miniforge3/envs/item_v2/lib/python3.12/site-packages/pymilvus/decorators.py:137\u001B[0m, in \u001B[0;36merror_handler.<locals>.wrapper.<locals>.handler\u001B[0;34m(*args, **kwargs)\u001B[0m\n\u001B[1;32m    136\u001B[0m     record_dict[\u001B[38;5;124m\"\u001B[39m\u001B[38;5;124mRPC start\u001B[39m\u001B[38;5;124m\"\u001B[39m] \u001B[38;5;241m=\u001B[39m \u001B[38;5;28mstr\u001B[39m(datetime\u001B[38;5;241m.\u001B[39mdatetime\u001B[38;5;241m.\u001B[39mnow())\n\u001B[0;32m--> 137\u001B[0m     \u001B[38;5;28;01mreturn\u001B[39;00m \u001B[43mfunc\u001B[49m\u001B[43m(\u001B[49m\u001B[38;5;241;43m*\u001B[39;49m\u001B[43margs\u001B[49m\u001B[43m,\u001B[49m\u001B[43m \u001B[49m\u001B[38;5;241;43m*\u001B[39;49m\u001B[38;5;241;43m*\u001B[39;49m\u001B[43mkwargs\u001B[49m\u001B[43m)\u001B[49m\n\u001B[1;32m    138\u001B[0m \u001B[38;5;28;01mexcept\u001B[39;00m MilvusException \u001B[38;5;28;01mas\u001B[39;00m e:\n",
      "File \u001B[0;32m~/miniforge3/envs/item_v2/lib/python3.12/site-packages/pymilvus/decorators.py:176\u001B[0m, in \u001B[0;36mtracing_request.<locals>.wrapper.<locals>.handler\u001B[0;34m(self, *args, **kwargs)\u001B[0m\n\u001B[1;32m    175\u001B[0m     \u001B[38;5;28mself\u001B[39m\u001B[38;5;241m.\u001B[39mset_onetime_request_id(req_id)\n\u001B[0;32m--> 176\u001B[0m \u001B[38;5;28;01mreturn\u001B[39;00m \u001B[43mfunc\u001B[49m\u001B[43m(\u001B[49m\u001B[38;5;28;43mself\u001B[39;49m\u001B[43m,\u001B[49m\u001B[43m \u001B[49m\u001B[38;5;241;43m*\u001B[39;49m\u001B[43margs\u001B[49m\u001B[43m,\u001B[49m\u001B[43m \u001B[49m\u001B[38;5;241;43m*\u001B[39;49m\u001B[38;5;241;43m*\u001B[39;49m\u001B[43mkwargs\u001B[49m\u001B[43m)\u001B[49m\n",
      "File \u001B[0;32m~/miniforge3/envs/item_v2/lib/python3.12/site-packages/pymilvus/decorators.py:116\u001B[0m, in \u001B[0;36mretry_on_rpc_failure.<locals>.wrapper.<locals>.handler\u001B[0;34m(*args, **kwargs)\u001B[0m\n\u001B[1;32m    115\u001B[0m     \u001B[38;5;28;01melse\u001B[39;00m:\n\u001B[0;32m--> 116\u001B[0m         \u001B[38;5;28;01mraise\u001B[39;00m e \u001B[38;5;28;01mfrom\u001B[39;00m\u001B[38;5;250m \u001B[39m\u001B[38;5;21;01me\u001B[39;00m\n\u001B[1;32m    117\u001B[0m \u001B[38;5;28;01mexcept\u001B[39;00m \u001B[38;5;167;01mException\u001B[39;00m \u001B[38;5;28;01mas\u001B[39;00m e:\n",
      "File \u001B[0;32m~/miniforge3/envs/item_v2/lib/python3.12/site-packages/pymilvus/decorators.py:86\u001B[0m, in \u001B[0;36mretry_on_rpc_failure.<locals>.wrapper.<locals>.handler\u001B[0;34m(*args, **kwargs)\u001B[0m\n\u001B[1;32m     85\u001B[0m \u001B[38;5;28;01mtry\u001B[39;00m:\n\u001B[0;32m---> 86\u001B[0m     \u001B[38;5;28;01mreturn\u001B[39;00m \u001B[43mfunc\u001B[49m\u001B[43m(\u001B[49m\u001B[38;5;241;43m*\u001B[39;49m\u001B[43margs\u001B[49m\u001B[43m,\u001B[49m\u001B[43m \u001B[49m\u001B[38;5;241;43m*\u001B[39;49m\u001B[38;5;241;43m*\u001B[39;49m\u001B[43mkwargs\u001B[49m\u001B[43m)\u001B[49m\n\u001B[1;32m     87\u001B[0m \u001B[38;5;28;01mexcept\u001B[39;00m grpc\u001B[38;5;241m.\u001B[39mRpcError \u001B[38;5;28;01mas\u001B[39;00m e:\n\u001B[1;32m     88\u001B[0m     \u001B[38;5;66;03m# Do not retry on these codes\u001B[39;00m\n",
      "File \u001B[0;32m~/miniforge3/envs/item_v2/lib/python3.12/site-packages/pymilvus/client/grpc_handler.py:525\u001B[0m, in \u001B[0;36mGrpcHandler.insert_rows\u001B[0;34m(self, collection_name, entities, partition_name, schema, timeout, **kwargs)\u001B[0m\n\u001B[1;32m    515\u001B[0m \u001B[38;5;129m@retry_on_rpc_failure\u001B[39m()\n\u001B[1;32m    516\u001B[0m \u001B[38;5;28;01mdef\u001B[39;00m\u001B[38;5;250m \u001B[39m\u001B[38;5;21minsert_rows\u001B[39m(\n\u001B[1;32m    517\u001B[0m     \u001B[38;5;28mself\u001B[39m,\n\u001B[0;32m   (...)\u001B[0m\n\u001B[1;32m    523\u001B[0m     \u001B[38;5;241m*\u001B[39m\u001B[38;5;241m*\u001B[39mkwargs,\n\u001B[1;32m    524\u001B[0m ):\n\u001B[0;32m--> 525\u001B[0m     request \u001B[38;5;241m=\u001B[39m \u001B[38;5;28;43mself\u001B[39;49m\u001B[38;5;241;43m.\u001B[39;49m\u001B[43m_prepare_row_insert_request\u001B[49m\u001B[43m(\u001B[49m\n\u001B[1;32m    526\u001B[0m \u001B[43m        \u001B[49m\u001B[43mcollection_name\u001B[49m\u001B[43m,\u001B[49m\u001B[43m \u001B[49m\u001B[43mentities\u001B[49m\u001B[43m,\u001B[49m\u001B[43m \u001B[49m\u001B[43mpartition_name\u001B[49m\u001B[43m,\u001B[49m\u001B[43m \u001B[49m\u001B[43mschema\u001B[49m\u001B[43m,\u001B[49m\u001B[43m \u001B[49m\u001B[43mtimeout\u001B[49m\u001B[43m,\u001B[49m\u001B[43m \u001B[49m\u001B[38;5;241;43m*\u001B[39;49m\u001B[38;5;241;43m*\u001B[39;49m\u001B[43mkwargs\u001B[49m\n\u001B[1;32m    527\u001B[0m \u001B[43m    \u001B[49m\u001B[43m)\u001B[49m\n\u001B[1;32m    528\u001B[0m     resp \u001B[38;5;241m=\u001B[39m \u001B[38;5;28mself\u001B[39m\u001B[38;5;241m.\u001B[39m_stub\u001B[38;5;241m.\u001B[39mInsert(request\u001B[38;5;241m=\u001B[39mrequest, timeout\u001B[38;5;241m=\u001B[39mtimeout)\n",
      "File \u001B[0;32m~/miniforge3/envs/item_v2/lib/python3.12/site-packages/pymilvus/client/grpc_handler.py:551\u001B[0m, in \u001B[0;36mGrpcHandler._prepare_row_insert_request\u001B[0;34m(self, collection_name, entity_rows, partition_name, schema, timeout, **kwargs)\u001B[0m\n\u001B[1;32m    549\u001B[0m enable_dynamic \u001B[38;5;241m=\u001B[39m schema\u001B[38;5;241m.\u001B[39mget(\u001B[38;5;124m\"\u001B[39m\u001B[38;5;124menable_dynamic_field\u001B[39m\u001B[38;5;124m\"\u001B[39m, \u001B[38;5;28;01mFalse\u001B[39;00m)\n\u001B[0;32m--> 551\u001B[0m \u001B[38;5;28;01mreturn\u001B[39;00m \u001B[43mPrepare\u001B[49m\u001B[38;5;241;43m.\u001B[39;49m\u001B[43mrow_insert_param\u001B[49m\u001B[43m(\u001B[49m\n\u001B[1;32m    552\u001B[0m \u001B[43m    \u001B[49m\u001B[43mcollection_name\u001B[49m\u001B[43m,\u001B[49m\n\u001B[1;32m    553\u001B[0m \u001B[43m    \u001B[49m\u001B[43mentity_rows\u001B[49m\u001B[43m,\u001B[49m\n\u001B[1;32m    554\u001B[0m \u001B[43m    \u001B[49m\u001B[43mpartition_name\u001B[49m\u001B[43m,\u001B[49m\n\u001B[1;32m    555\u001B[0m \u001B[43m    \u001B[49m\u001B[43mfields_info\u001B[49m\u001B[43m,\u001B[49m\n\u001B[1;32m    556\u001B[0m \u001B[43m    \u001B[49m\u001B[43menable_dynamic\u001B[49m\u001B[38;5;241;43m=\u001B[39;49m\u001B[43menable_dynamic\u001B[49m\u001B[43m,\u001B[49m\n\u001B[1;32m    557\u001B[0m \u001B[43m\u001B[49m\u001B[43m)\u001B[49m\n",
      "File \u001B[0;32m~/miniforge3/envs/item_v2/lib/python3.12/site-packages/pymilvus/client/prepare.py:622\u001B[0m, in \u001B[0;36mPrepare.row_insert_param\u001B[0;34m(cls, collection_name, entities, partition_name, fields_info, enable_dynamic)\u001B[0m\n\u001B[1;32m    616\u001B[0m request \u001B[38;5;241m=\u001B[39m milvus_types\u001B[38;5;241m.\u001B[39mInsertRequest(\n\u001B[1;32m    617\u001B[0m     collection_name\u001B[38;5;241m=\u001B[39mcollection_name,\n\u001B[1;32m    618\u001B[0m     partition_name\u001B[38;5;241m=\u001B[39mp_name,\n\u001B[1;32m    619\u001B[0m     num_rows\u001B[38;5;241m=\u001B[39m\u001B[38;5;28mlen\u001B[39m(entities),\n\u001B[1;32m    620\u001B[0m )\n\u001B[0;32m--> 622\u001B[0m \u001B[38;5;28;01mreturn\u001B[39;00m \u001B[38;5;28;43mcls\u001B[39;49m\u001B[38;5;241;43m.\u001B[39;49m\u001B[43m_parse_row_request\u001B[49m\u001B[43m(\u001B[49m\u001B[43mrequest\u001B[49m\u001B[43m,\u001B[49m\u001B[43m \u001B[49m\u001B[43mfields_info\u001B[49m\u001B[43m,\u001B[49m\u001B[43m \u001B[49m\u001B[43menable_dynamic\u001B[49m\u001B[43m,\u001B[49m\u001B[43m \u001B[49m\u001B[43mentities\u001B[49m\u001B[43m)\u001B[49m\n",
      "File \u001B[0;32m~/miniforge3/envs/item_v2/lib/python3.12/site-packages/pymilvus/client/prepare.py:483\u001B[0m, in \u001B[0;36mPrepare._parse_row_request\u001B[0;34m(request, fields_info, enable_dynamic, entities)\u001B[0m\n\u001B[1;32m    482\u001B[0m     \u001B[38;5;28;01melse\u001B[39;00m:\n\u001B[0;32m--> 483\u001B[0m         \u001B[38;5;28;01mraise\u001B[39;00m DataNotMatchException(\n\u001B[1;32m    484\u001B[0m             message\u001B[38;5;241m=\u001B[39mExceptionsMessage\u001B[38;5;241m.\u001B[39mInsertMissedField \u001B[38;5;241m%\u001B[39m key\n\u001B[1;32m    485\u001B[0m         )\n\u001B[1;32m    486\u001B[0m json_dict \u001B[38;5;241m=\u001B[39m {\n\u001B[1;32m    487\u001B[0m     k: v \u001B[38;5;28;01mfor\u001B[39;00m k, v \u001B[38;5;129;01min\u001B[39;00m entity\u001B[38;5;241m.\u001B[39mitems() \u001B[38;5;28;01mif\u001B[39;00m k \u001B[38;5;129;01mnot\u001B[39;00m \u001B[38;5;129;01min\u001B[39;00m fields_data \u001B[38;5;129;01mand\u001B[39;00m enable_dynamic\n\u001B[1;32m    488\u001B[0m }\n",
      "\u001B[0;31mDataNotMatchException\u001B[0m: <DataNotMatchException: (code=1, message=Insert missed an field `vector` to collection without set nullable==true or set default_value)>",
      "\nThe above exception was the direct cause of the following exception:\n",
      "\u001B[0;31mDataNotMatchException\u001B[0m                     Traceback (most recent call last)",
      "Cell \u001B[0;32mIn[13], line 9\u001B[0m\n\u001B[1;32m      7\u001B[0m     start_idx, end_idx \u001B[38;5;241m=\u001B[39m val[\u001B[38;5;241m0\u001B[39m], val[\u001B[38;5;241m-\u001B[39m\u001B[38;5;241m1\u001B[39m]\n\u001B[1;32m      8\u001B[0m     batch \u001B[38;5;241m=\u001B[39m data[start_idx:end_idx]\n\u001B[0;32m----> 9\u001B[0m     res \u001B[38;5;241m=\u001B[39m \u001B[43mclient\u001B[49m\u001B[38;5;241;43m.\u001B[39;49m\u001B[43minsert\u001B[49m\u001B[43m(\u001B[49m\u001B[43mcollection_name\u001B[49m\u001B[38;5;241;43m=\u001B[39;49m\u001B[38;5;124;43m\"\u001B[39;49m\u001B[38;5;124;43mdemo_collection\u001B[39;49m\u001B[38;5;124;43m\"\u001B[39;49m\u001B[43m,\u001B[49m\u001B[43m \u001B[49m\u001B[43mdata\u001B[49m\u001B[38;5;241;43m=\u001B[39;49m\u001B[43mbatch\u001B[49m\u001B[43m)\u001B[49m\n\u001B[1;32m     11\u001B[0m end \u001B[38;5;241m=\u001B[39m perf_counter() \u001B[38;5;241m-\u001B[39m start\n\u001B[1;32m     12\u001B[0m \u001B[38;5;28mprint\u001B[39m(\u001B[38;5;124mf\u001B[39m\u001B[38;5;124m'\u001B[39m\u001B[38;5;124mTotal Index Time: \u001B[39m\u001B[38;5;132;01m{\u001B[39;00mend\u001B[38;5;132;01m:\u001B[39;00m\u001B[38;5;124m,.0f\u001B[39m\u001B[38;5;132;01m}\u001B[39;00m\u001B[38;5;124ms\u001B[39m\u001B[38;5;124m'\u001B[39m)\n",
      "File \u001B[0;32m~/miniforge3/envs/item_v2/lib/python3.12/site-packages/pymilvus/milvus_client/milvus_client.py:231\u001B[0m, in \u001B[0;36mMilvusClient.insert\u001B[0;34m(self, collection_name, data, timeout, partition_name, **kwargs)\u001B[0m\n\u001B[1;32m    227\u001B[0m     res \u001B[38;5;241m=\u001B[39m conn\u001B[38;5;241m.\u001B[39minsert_rows(\n\u001B[1;32m    228\u001B[0m         collection_name, data, partition_name\u001B[38;5;241m=\u001B[39mpartition_name, timeout\u001B[38;5;241m=\u001B[39mtimeout\n\u001B[1;32m    229\u001B[0m     )\n\u001B[1;32m    230\u001B[0m \u001B[38;5;28;01mexcept\u001B[39;00m \u001B[38;5;167;01mException\u001B[39;00m \u001B[38;5;28;01mas\u001B[39;00m ex:\n\u001B[0;32m--> 231\u001B[0m     \u001B[38;5;28;01mraise\u001B[39;00m ex \u001B[38;5;28;01mfrom\u001B[39;00m\u001B[38;5;250m \u001B[39m\u001B[38;5;21;01mex\u001B[39;00m\n\u001B[1;32m    232\u001B[0m \u001B[38;5;28;01mreturn\u001B[39;00m OmitZeroDict(\n\u001B[1;32m    233\u001B[0m     {\n\u001B[1;32m    234\u001B[0m         \u001B[38;5;124m\"\u001B[39m\u001B[38;5;124minsert_count\u001B[39m\u001B[38;5;124m\"\u001B[39m: res\u001B[38;5;241m.\u001B[39minsert_count,\n\u001B[0;32m   (...)\u001B[0m\n\u001B[1;32m    237\u001B[0m     }\n\u001B[1;32m    238\u001B[0m )\n",
      "File \u001B[0;32m~/miniforge3/envs/item_v2/lib/python3.12/site-packages/pymilvus/milvus_client/milvus_client.py:227\u001B[0m, in \u001B[0;36mMilvusClient.insert\u001B[0;34m(self, collection_name, data, timeout, partition_name, **kwargs)\u001B[0m\n\u001B[1;32m    225\u001B[0m \u001B[38;5;66;03m# Insert into the collection.\u001B[39;00m\n\u001B[1;32m    226\u001B[0m \u001B[38;5;28;01mtry\u001B[39;00m:\n\u001B[0;32m--> 227\u001B[0m     res \u001B[38;5;241m=\u001B[39m \u001B[43mconn\u001B[49m\u001B[38;5;241;43m.\u001B[39;49m\u001B[43minsert_rows\u001B[49m\u001B[43m(\u001B[49m\n\u001B[1;32m    228\u001B[0m \u001B[43m        \u001B[49m\u001B[43mcollection_name\u001B[49m\u001B[43m,\u001B[49m\u001B[43m \u001B[49m\u001B[43mdata\u001B[49m\u001B[43m,\u001B[49m\u001B[43m \u001B[49m\u001B[43mpartition_name\u001B[49m\u001B[38;5;241;43m=\u001B[39;49m\u001B[43mpartition_name\u001B[49m\u001B[43m,\u001B[49m\u001B[43m \u001B[49m\u001B[43mtimeout\u001B[49m\u001B[38;5;241;43m=\u001B[39;49m\u001B[43mtimeout\u001B[49m\n\u001B[1;32m    229\u001B[0m \u001B[43m    \u001B[49m\u001B[43m)\u001B[49m\n\u001B[1;32m    230\u001B[0m \u001B[38;5;28;01mexcept\u001B[39;00m \u001B[38;5;167;01mException\u001B[39;00m \u001B[38;5;28;01mas\u001B[39;00m ex:\n\u001B[1;32m    231\u001B[0m     \u001B[38;5;28;01mraise\u001B[39;00m ex \u001B[38;5;28;01mfrom\u001B[39;00m\u001B[38;5;250m \u001B[39m\u001B[38;5;21;01mex\u001B[39;00m\n",
      "File \u001B[0;32m~/miniforge3/envs/item_v2/lib/python3.12/site-packages/pymilvus/decorators.py:141\u001B[0m, in \u001B[0;36merror_handler.<locals>.wrapper.<locals>.handler\u001B[0;34m(*args, **kwargs)\u001B[0m\n\u001B[1;32m    139\u001B[0m     record_dict[\u001B[38;5;124m\"\u001B[39m\u001B[38;5;124mRPC error\u001B[39m\u001B[38;5;124m\"\u001B[39m] \u001B[38;5;241m=\u001B[39m \u001B[38;5;28mstr\u001B[39m(datetime\u001B[38;5;241m.\u001B[39mdatetime\u001B[38;5;241m.\u001B[39mnow())\n\u001B[1;32m    140\u001B[0m     LOGGER\u001B[38;5;241m.\u001B[39merror(\u001B[38;5;124mf\u001B[39m\u001B[38;5;124m\"\u001B[39m\u001B[38;5;124mRPC error: [\u001B[39m\u001B[38;5;132;01m{\u001B[39;00minner_name\u001B[38;5;132;01m}\u001B[39;00m\u001B[38;5;124m], \u001B[39m\u001B[38;5;132;01m{\u001B[39;00me\u001B[38;5;132;01m}\u001B[39;00m\u001B[38;5;124m, <Time:\u001B[39m\u001B[38;5;132;01m{\u001B[39;00mrecord_dict\u001B[38;5;132;01m}\u001B[39;00m\u001B[38;5;124m>\u001B[39m\u001B[38;5;124m\"\u001B[39m)\n\u001B[0;32m--> 141\u001B[0m     \u001B[38;5;28;01mraise\u001B[39;00m e \u001B[38;5;28;01mfrom\u001B[39;00m\u001B[38;5;250m \u001B[39m\u001B[38;5;21;01me\u001B[39;00m\n\u001B[1;32m    142\u001B[0m \u001B[38;5;28;01mexcept\u001B[39;00m grpc\u001B[38;5;241m.\u001B[39mFutureTimeoutError \u001B[38;5;28;01mas\u001B[39;00m e:\n\u001B[1;32m    143\u001B[0m     record_dict[\u001B[38;5;124m\"\u001B[39m\u001B[38;5;124mgRPC timeout\u001B[39m\u001B[38;5;124m\"\u001B[39m] \u001B[38;5;241m=\u001B[39m \u001B[38;5;28mstr\u001B[39m(datetime\u001B[38;5;241m.\u001B[39mdatetime\u001B[38;5;241m.\u001B[39mnow())\n",
      "File \u001B[0;32m~/miniforge3/envs/item_v2/lib/python3.12/site-packages/pymilvus/decorators.py:137\u001B[0m, in \u001B[0;36merror_handler.<locals>.wrapper.<locals>.handler\u001B[0;34m(*args, **kwargs)\u001B[0m\n\u001B[1;32m    135\u001B[0m \u001B[38;5;28;01mtry\u001B[39;00m:\n\u001B[1;32m    136\u001B[0m     record_dict[\u001B[38;5;124m\"\u001B[39m\u001B[38;5;124mRPC start\u001B[39m\u001B[38;5;124m\"\u001B[39m] \u001B[38;5;241m=\u001B[39m \u001B[38;5;28mstr\u001B[39m(datetime\u001B[38;5;241m.\u001B[39mdatetime\u001B[38;5;241m.\u001B[39mnow())\n\u001B[0;32m--> 137\u001B[0m     \u001B[38;5;28;01mreturn\u001B[39;00m \u001B[43mfunc\u001B[49m\u001B[43m(\u001B[49m\u001B[38;5;241;43m*\u001B[39;49m\u001B[43margs\u001B[49m\u001B[43m,\u001B[49m\u001B[43m \u001B[49m\u001B[38;5;241;43m*\u001B[39;49m\u001B[38;5;241;43m*\u001B[39;49m\u001B[43mkwargs\u001B[49m\u001B[43m)\u001B[49m\n\u001B[1;32m    138\u001B[0m \u001B[38;5;28;01mexcept\u001B[39;00m MilvusException \u001B[38;5;28;01mas\u001B[39;00m e:\n\u001B[1;32m    139\u001B[0m     record_dict[\u001B[38;5;124m\"\u001B[39m\u001B[38;5;124mRPC error\u001B[39m\u001B[38;5;124m\"\u001B[39m] \u001B[38;5;241m=\u001B[39m \u001B[38;5;28mstr\u001B[39m(datetime\u001B[38;5;241m.\u001B[39mdatetime\u001B[38;5;241m.\u001B[39mnow())\n",
      "File \u001B[0;32m~/miniforge3/envs/item_v2/lib/python3.12/site-packages/pymilvus/decorators.py:176\u001B[0m, in \u001B[0;36mtracing_request.<locals>.wrapper.<locals>.handler\u001B[0;34m(self, *args, **kwargs)\u001B[0m\n\u001B[1;32m    174\u001B[0m \u001B[38;5;28;01mif\u001B[39;00m req_id:\n\u001B[1;32m    175\u001B[0m     \u001B[38;5;28mself\u001B[39m\u001B[38;5;241m.\u001B[39mset_onetime_request_id(req_id)\n\u001B[0;32m--> 176\u001B[0m \u001B[38;5;28;01mreturn\u001B[39;00m \u001B[43mfunc\u001B[49m\u001B[43m(\u001B[49m\u001B[38;5;28;43mself\u001B[39;49m\u001B[43m,\u001B[49m\u001B[43m \u001B[49m\u001B[38;5;241;43m*\u001B[39;49m\u001B[43margs\u001B[49m\u001B[43m,\u001B[49m\u001B[43m \u001B[49m\u001B[38;5;241;43m*\u001B[39;49m\u001B[38;5;241;43m*\u001B[39;49m\u001B[43mkwargs\u001B[49m\u001B[43m)\u001B[49m\n",
      "File \u001B[0;32m~/miniforge3/envs/item_v2/lib/python3.12/site-packages/pymilvus/decorators.py:116\u001B[0m, in \u001B[0;36mretry_on_rpc_failure.<locals>.wrapper.<locals>.handler\u001B[0;34m(*args, **kwargs)\u001B[0m\n\u001B[1;32m    114\u001B[0m         back_off \u001B[38;5;241m=\u001B[39m \u001B[38;5;28mmin\u001B[39m(back_off \u001B[38;5;241m*\u001B[39m back_off_multiplier, max_back_off)\n\u001B[1;32m    115\u001B[0m     \u001B[38;5;28;01melse\u001B[39;00m:\n\u001B[0;32m--> 116\u001B[0m         \u001B[38;5;28;01mraise\u001B[39;00m e \u001B[38;5;28;01mfrom\u001B[39;00m\u001B[38;5;250m \u001B[39m\u001B[38;5;21;01me\u001B[39;00m\n\u001B[1;32m    117\u001B[0m \u001B[38;5;28;01mexcept\u001B[39;00m \u001B[38;5;167;01mException\u001B[39;00m \u001B[38;5;28;01mas\u001B[39;00m e:\n\u001B[1;32m    118\u001B[0m     \u001B[38;5;28;01mraise\u001B[39;00m e \u001B[38;5;28;01mfrom\u001B[39;00m\u001B[38;5;250m \u001B[39m\u001B[38;5;21;01me\u001B[39;00m\n",
      "File \u001B[0;32m~/miniforge3/envs/item_v2/lib/python3.12/site-packages/pymilvus/decorators.py:86\u001B[0m, in \u001B[0;36mretry_on_rpc_failure.<locals>.wrapper.<locals>.handler\u001B[0;34m(*args, **kwargs)\u001B[0m\n\u001B[1;32m     84\u001B[0m \u001B[38;5;28;01mwhile\u001B[39;00m \u001B[38;5;28;01mTrue\u001B[39;00m:\n\u001B[1;32m     85\u001B[0m     \u001B[38;5;28;01mtry\u001B[39;00m:\n\u001B[0;32m---> 86\u001B[0m         \u001B[38;5;28;01mreturn\u001B[39;00m \u001B[43mfunc\u001B[49m\u001B[43m(\u001B[49m\u001B[38;5;241;43m*\u001B[39;49m\u001B[43margs\u001B[49m\u001B[43m,\u001B[49m\u001B[43m \u001B[49m\u001B[38;5;241;43m*\u001B[39;49m\u001B[38;5;241;43m*\u001B[39;49m\u001B[43mkwargs\u001B[49m\u001B[43m)\u001B[49m\n\u001B[1;32m     87\u001B[0m     \u001B[38;5;28;01mexcept\u001B[39;00m grpc\u001B[38;5;241m.\u001B[39mRpcError \u001B[38;5;28;01mas\u001B[39;00m e:\n\u001B[1;32m     88\u001B[0m         \u001B[38;5;66;03m# Do not retry on these codes\u001B[39;00m\n\u001B[1;32m     89\u001B[0m         \u001B[38;5;28;01mif\u001B[39;00m e\u001B[38;5;241m.\u001B[39mcode() \u001B[38;5;129;01min\u001B[39;00m IGNORE_RETRY_CODES:\n",
      "File \u001B[0;32m~/miniforge3/envs/item_v2/lib/python3.12/site-packages/pymilvus/client/grpc_handler.py:525\u001B[0m, in \u001B[0;36mGrpcHandler.insert_rows\u001B[0;34m(self, collection_name, entities, partition_name, schema, timeout, **kwargs)\u001B[0m\n\u001B[1;32m    515\u001B[0m \u001B[38;5;129m@retry_on_rpc_failure\u001B[39m()\n\u001B[1;32m    516\u001B[0m \u001B[38;5;28;01mdef\u001B[39;00m\u001B[38;5;250m \u001B[39m\u001B[38;5;21minsert_rows\u001B[39m(\n\u001B[1;32m    517\u001B[0m     \u001B[38;5;28mself\u001B[39m,\n\u001B[0;32m   (...)\u001B[0m\n\u001B[1;32m    523\u001B[0m     \u001B[38;5;241m*\u001B[39m\u001B[38;5;241m*\u001B[39mkwargs,\n\u001B[1;32m    524\u001B[0m ):\n\u001B[0;32m--> 525\u001B[0m     request \u001B[38;5;241m=\u001B[39m \u001B[38;5;28;43mself\u001B[39;49m\u001B[38;5;241;43m.\u001B[39;49m\u001B[43m_prepare_row_insert_request\u001B[49m\u001B[43m(\u001B[49m\n\u001B[1;32m    526\u001B[0m \u001B[43m        \u001B[49m\u001B[43mcollection_name\u001B[49m\u001B[43m,\u001B[49m\u001B[43m \u001B[49m\u001B[43mentities\u001B[49m\u001B[43m,\u001B[49m\u001B[43m \u001B[49m\u001B[43mpartition_name\u001B[49m\u001B[43m,\u001B[49m\u001B[43m \u001B[49m\u001B[43mschema\u001B[49m\u001B[43m,\u001B[49m\u001B[43m \u001B[49m\u001B[43mtimeout\u001B[49m\u001B[43m,\u001B[49m\u001B[43m \u001B[49m\u001B[38;5;241;43m*\u001B[39;49m\u001B[38;5;241;43m*\u001B[39;49m\u001B[43mkwargs\u001B[49m\n\u001B[1;32m    527\u001B[0m \u001B[43m    \u001B[49m\u001B[43m)\u001B[49m\n\u001B[1;32m    528\u001B[0m     resp \u001B[38;5;241m=\u001B[39m \u001B[38;5;28mself\u001B[39m\u001B[38;5;241m.\u001B[39m_stub\u001B[38;5;241m.\u001B[39mInsert(request\u001B[38;5;241m=\u001B[39mrequest, timeout\u001B[38;5;241m=\u001B[39mtimeout)\n\u001B[1;32m    529\u001B[0m     check_status(resp\u001B[38;5;241m.\u001B[39mstatus)\n",
      "File \u001B[0;32m~/miniforge3/envs/item_v2/lib/python3.12/site-packages/pymilvus/client/grpc_handler.py:551\u001B[0m, in \u001B[0;36mGrpcHandler._prepare_row_insert_request\u001B[0;34m(self, collection_name, entity_rows, partition_name, schema, timeout, **kwargs)\u001B[0m\n\u001B[1;32m    548\u001B[0m fields_info \u001B[38;5;241m=\u001B[39m schema\u001B[38;5;241m.\u001B[39mget(\u001B[38;5;124m\"\u001B[39m\u001B[38;5;124mfields\u001B[39m\u001B[38;5;124m\"\u001B[39m)\n\u001B[1;32m    549\u001B[0m enable_dynamic \u001B[38;5;241m=\u001B[39m schema\u001B[38;5;241m.\u001B[39mget(\u001B[38;5;124m\"\u001B[39m\u001B[38;5;124menable_dynamic_field\u001B[39m\u001B[38;5;124m\"\u001B[39m, \u001B[38;5;28;01mFalse\u001B[39;00m)\n\u001B[0;32m--> 551\u001B[0m \u001B[38;5;28;01mreturn\u001B[39;00m \u001B[43mPrepare\u001B[49m\u001B[38;5;241;43m.\u001B[39;49m\u001B[43mrow_insert_param\u001B[49m\u001B[43m(\u001B[49m\n\u001B[1;32m    552\u001B[0m \u001B[43m    \u001B[49m\u001B[43mcollection_name\u001B[49m\u001B[43m,\u001B[49m\n\u001B[1;32m    553\u001B[0m \u001B[43m    \u001B[49m\u001B[43mentity_rows\u001B[49m\u001B[43m,\u001B[49m\n\u001B[1;32m    554\u001B[0m \u001B[43m    \u001B[49m\u001B[43mpartition_name\u001B[49m\u001B[43m,\u001B[49m\n\u001B[1;32m    555\u001B[0m \u001B[43m    \u001B[49m\u001B[43mfields_info\u001B[49m\u001B[43m,\u001B[49m\n\u001B[1;32m    556\u001B[0m \u001B[43m    \u001B[49m\u001B[43menable_dynamic\u001B[49m\u001B[38;5;241;43m=\u001B[39;49m\u001B[43menable_dynamic\u001B[49m\u001B[43m,\u001B[49m\n\u001B[1;32m    557\u001B[0m \u001B[43m\u001B[49m\u001B[43m)\u001B[49m\n",
      "File \u001B[0;32m~/miniforge3/envs/item_v2/lib/python3.12/site-packages/pymilvus/client/prepare.py:622\u001B[0m, in \u001B[0;36mPrepare.row_insert_param\u001B[0;34m(cls, collection_name, entities, partition_name, fields_info, enable_dynamic)\u001B[0m\n\u001B[1;32m    615\u001B[0m p_name \u001B[38;5;241m=\u001B[39m partition_name \u001B[38;5;28;01mif\u001B[39;00m \u001B[38;5;28misinstance\u001B[39m(partition_name, \u001B[38;5;28mstr\u001B[39m) \u001B[38;5;28;01melse\u001B[39;00m \u001B[38;5;124m\"\u001B[39m\u001B[38;5;124m\"\u001B[39m\n\u001B[1;32m    616\u001B[0m request \u001B[38;5;241m=\u001B[39m milvus_types\u001B[38;5;241m.\u001B[39mInsertRequest(\n\u001B[1;32m    617\u001B[0m     collection_name\u001B[38;5;241m=\u001B[39mcollection_name,\n\u001B[1;32m    618\u001B[0m     partition_name\u001B[38;5;241m=\u001B[39mp_name,\n\u001B[1;32m    619\u001B[0m     num_rows\u001B[38;5;241m=\u001B[39m\u001B[38;5;28mlen\u001B[39m(entities),\n\u001B[1;32m    620\u001B[0m )\n\u001B[0;32m--> 622\u001B[0m \u001B[38;5;28;01mreturn\u001B[39;00m \u001B[38;5;28;43mcls\u001B[39;49m\u001B[38;5;241;43m.\u001B[39;49m\u001B[43m_parse_row_request\u001B[49m\u001B[43m(\u001B[49m\u001B[43mrequest\u001B[49m\u001B[43m,\u001B[49m\u001B[43m \u001B[49m\u001B[43mfields_info\u001B[49m\u001B[43m,\u001B[49m\u001B[43m \u001B[49m\u001B[43menable_dynamic\u001B[49m\u001B[43m,\u001B[49m\u001B[43m \u001B[49m\u001B[43mentities\u001B[49m\u001B[43m)\u001B[49m\n",
      "File \u001B[0;32m~/miniforge3/envs/item_v2/lib/python3.12/site-packages/pymilvus/client/prepare.py:483\u001B[0m, in \u001B[0;36mPrepare._parse_row_request\u001B[0;34m(request, fields_info, enable_dynamic, entities)\u001B[0m\n\u001B[1;32m    481\u001B[0m         entity_helper\u001B[38;5;241m.\u001B[39mpack_field_value_to_field_data(\u001B[38;5;28;01mNone\u001B[39;00m, field_data, field_info)\n\u001B[1;32m    482\u001B[0m     \u001B[38;5;28;01melse\u001B[39;00m:\n\u001B[0;32m--> 483\u001B[0m         \u001B[38;5;28;01mraise\u001B[39;00m DataNotMatchException(\n\u001B[1;32m    484\u001B[0m             message\u001B[38;5;241m=\u001B[39mExceptionsMessage\u001B[38;5;241m.\u001B[39mInsertMissedField \u001B[38;5;241m%\u001B[39m key\n\u001B[1;32m    485\u001B[0m         )\n\u001B[1;32m    486\u001B[0m json_dict \u001B[38;5;241m=\u001B[39m {\n\u001B[1;32m    487\u001B[0m     k: v \u001B[38;5;28;01mfor\u001B[39;00m k, v \u001B[38;5;129;01min\u001B[39;00m entity\u001B[38;5;241m.\u001B[39mitems() \u001B[38;5;28;01mif\u001B[39;00m k \u001B[38;5;129;01mnot\u001B[39;00m \u001B[38;5;129;01min\u001B[39;00m fields_data \u001B[38;5;129;01mand\u001B[39;00m enable_dynamic\n\u001B[1;32m    488\u001B[0m }\n\u001B[1;32m    490\u001B[0m \u001B[38;5;28;01mif\u001B[39;00m enable_dynamic:\n",
      "\u001B[0;31mDataNotMatchException\u001B[0m: <DataNotMatchException: (code=1, message=Insert missed an field `vector` to collection without set nullable==true or set default_value)>"
     ]
    }
   ],
   "execution_count": 13
  },
  {
   "cell_type": "code",
   "execution_count": 7,
   "id": "0d3057d2-f2f8-48e4-80b1-eec3d4d562b1",
   "metadata": {},
   "outputs": [
    {
     "name": "stdout",
     "output_type": "stream",
     "text": [
      "Total batches: 722, Batch size: 100\n"
     ]
    },
    {
     "name": "stderr",
     "output_type": "stream",
     "text": [
      "100%|████████████████████████████████████████████████████| 722/722 [01:16<00:00,  9.47it/s]"
     ]
    },
    {
     "name": "stdout",
     "output_type": "stream",
     "text": [
      "Total Query Time: 76s\n"
     ]
    },
    {
     "name": "stderr",
     "output_type": "stream",
     "text": [
      "\n"
     ]
    }
   ],
   "source": [
    "start = perf_counter()\n",
    "\n",
    "batch_size = 100\n",
    "num_batches = (total_sample + batch_size) // batch_size\n",
    "print(f'Total batches: {num_batches}, Batch size: {batch_size:,.0f}')\n",
    "for i, idx in tqdm(enumerate(range(num_batches), start=1), total=num_batches):\n",
    "    start_idx = idx * batch_size\n",
    "    end_idx = min(start_idx + batch_size, total_sample)\n",
    "    batch = embeddings[start_idx:end_idx].tolist()\n",
    "    res = client.search(\n",
    "        collection_name=collection,\n",
    "        data=batch,\n",
    "        limit=10,\n",
    "        search_params={\"metric_type\": \"IP\", \"params\": {}},\n",
    "        output_fields=col\n",
    "    )\n",
    "\n",
    "end = perf_counter() - start\n",
    "print(f'Total Query Time: {end:,.0f}s')"
   ]
  },
  {
   "cell_type": "code",
   "execution_count": 10,
   "id": "2cec0b77-69bb-4d25-9dad-34fe598e5930",
   "metadata": {},
   "outputs": [
    {
     "data": {
      "text/html": [
       "<div><style>\n",
       ".dataframe > thead > tr,\n",
       ".dataframe > tbody > tr {\n",
       "  text-align: right;\n",
       "  white-space: pre-wrap;\n",
       "}\n",
       "</style>\n",
       "<small>shape: (5, 7)</small><table border=\"1\" class=\"dataframe\"><thead><tr><th>id</th><th>q_item_id</th><th>q_level1_global_be_category</th><th>q_item_name</th><th>q_link_first_image</th><th>q_item_name_clean</th><th>vector</th></tr><tr><td>u32</td><td>i64</td><td>str</td><td>str</td><td>str</td><td>str</td><td>array[f32, 1024]</td></tr></thead><tbody><tr><td>72100</td><td>29352685061</td><td>&quot;Men Shoes&quot;</td><td>&quot;（100% Auth ）Giày Sneaker Nam N…</td><td>&quot;https://cf.shopee.sg/file/sg-1…</td><td>&quot;（100% auth ）giày sneaker nam n…</td><td>[0.039612, -0.024429, … 0.011963]</td></tr><tr><td>72101</td><td>25680344702</td><td>&quot;Men Shoes&quot;</td><td>&quot;Bình xịt khử mùi giày,tất bình…</td><td>&quot;https://cf.shopee.sg/file/vn-1…</td><td>&quot;bình xịt khử mùi giày,tất bình…</td><td>[0.017593, -0.000049, … 0.007217]</td></tr><tr><td>72102</td><td>5465959941</td><td>&quot;Men Shoes&quot;</td><td>&quot;Giày thể thao sneaker ultra bo…</td><td>&quot;https://cf.shopee.sg/file/f200…</td><td>&quot;giày thể thao sneaker ultra bo…</td><td>[0.015053, -0.012138, … 0.065979]</td></tr><tr><td>72103</td><td>19089276484</td><td>&quot;Men Shoes&quot;</td><td>&quot;Xịt khử mùi hôi giày dép công …</td><td>&quot;https://cf.shopee.sg/file/vn-1…</td><td>&quot;xịt khử mùi hôi giày dép công …</td><td>[-0.017456, -0.049622, … 0.01416]</td></tr><tr><td>72104</td><td>28402589440</td><td>&quot;Men Shoes&quot;</td><td>&quot;（100% Auth ）Giày Sneaker Nam N…</td><td>&quot;https://cf.shopee.sg/file/sg-1…</td><td>&quot;（100% auth ）giày sneaker nam n…</td><td>[-0.010597, -0.008514, … 0.000468]</td></tr></tbody></table></div>"
      ],
      "text/plain": [
       "shape: (5, 7)\n",
       "┌───────┬─────────────┬───────────────┬───────────────┬──────────────┬──────────────┬──────────────┐\n",
       "│ id    ┆ q_item_id   ┆ q_level1_glob ┆ q_item_name   ┆ q_link_first ┆ q_item_name_ ┆ vector       │\n",
       "│ ---   ┆ ---         ┆ al_be_categor ┆ ---           ┆ _image       ┆ clean        ┆ ---          │\n",
       "│ u32   ┆ i64         ┆ y             ┆ str           ┆ ---          ┆ ---          ┆ array[f32,   │\n",
       "│       ┆             ┆ ---           ┆               ┆ str          ┆ str          ┆ 1024]        │\n",
       "│       ┆             ┆ str           ┆               ┆              ┆              ┆              │\n",
       "╞═══════╪═════════════╪═══════════════╪═══════════════╪══════════════╪══════════════╪══════════════╡\n",
       "│ 72100 ┆ 29352685061 ┆ Men Shoes     ┆ （100% Auth   ┆ https://cf.s ┆ （100% auth  ┆ [0.039612,   │\n",
       "│       ┆             ┆               ┆ ）Giày        ┆ hopee.sg/fil ┆ ）giày       ┆ -0.024429, … │\n",
       "│       ┆             ┆               ┆ Sneaker Nam   ┆ e/sg-1…      ┆ sneaker nam  ┆ 0.0119…      │\n",
       "│       ┆             ┆               ┆ N…            ┆              ┆ n…           ┆              │\n",
       "│ 72101 ┆ 25680344702 ┆ Men Shoes     ┆ Bình xịt khử  ┆ https://cf.s ┆ bình xịt khử ┆ [0.017593,   │\n",
       "│       ┆             ┆               ┆ mùi giày,tất  ┆ hopee.sg/fil ┆ mùi giày,tất ┆ -0.000049, … │\n",
       "│       ┆             ┆               ┆ bình…         ┆ e/vn-1…      ┆ bình…        ┆ 0.0072…      │\n",
       "│ 72102 ┆ 5465959941  ┆ Men Shoes     ┆ Giày thể thao ┆ https://cf.s ┆ giày thể     ┆ [0.015053,   │\n",
       "│       ┆             ┆               ┆ sneaker ultra ┆ hopee.sg/fil ┆ thao sneaker ┆ -0.012138, … │\n",
       "│       ┆             ┆               ┆ bo…           ┆ e/f200…      ┆ ultra bo…    ┆ 0.0659…      │\n",
       "│ 72103 ┆ 19089276484 ┆ Men Shoes     ┆ Xịt khử mùi   ┆ https://cf.s ┆ xịt khử mùi  ┆ [-0.017456,  │\n",
       "│       ┆             ┆               ┆ hôi giày dép  ┆ hopee.sg/fil ┆ hôi giày dép ┆ -0.049622, … │\n",
       "│       ┆             ┆               ┆ công …        ┆ e/vn-1…      ┆ công …       ┆ 0.014…       │\n",
       "│ 72104 ┆ 28402589440 ┆ Men Shoes     ┆ （100% Auth   ┆ https://cf.s ┆ （100% auth  ┆ [-0.010597,  │\n",
       "│       ┆             ┆               ┆ ）Giày        ┆ hopee.sg/fil ┆ ）giày       ┆ -0.008514, … │\n",
       "│       ┆             ┆               ┆ Sneaker Nam   ┆ e/sg-1…      ┆ sneaker nam  ┆ 0.000…       │\n",
       "│       ┆             ┆               ┆ N…            ┆              ┆ n…           ┆              │\n",
       "└───────┴─────────────┴───────────────┴───────────────┴──────────────┴──────────────┴──────────────┘"
      ]
     },
     "execution_count": 10,
     "metadata": {},
     "output_type": "execute_result"
    }
   ],
   "source": [
    "df[start_idx:end_idx].head()"
   ]
  },
  {
   "cell_type": "code",
   "execution_count": 8,
   "id": "632cb71e-666a-42ac-b895-a5ea13feaf55",
   "metadata": {},
   "outputs": [
    {
     "data": {
      "text/plain": [
       "[{'id': 72101,\n",
       "  'distance': 0.9998304843902588,\n",
       "  'entity': {'q_item_id': 25680344702,\n",
       "   'q_level1_global_be_category': 'Men Shoes',\n",
       "   'q_item_name': 'Bình xịt khử mùi giày,tất bình xịt thể thao khử mùi hôi chân thơm mát,kháng khuẩn',\n",
       "   'q_link_first_image': 'https://cf.shopee.sg/file/vn-11134207-7r98o-lv92vrtokxrte1',\n",
       "   'q_item_name_clean': 'bình xịt khử mùi giày,tất bình xịt thể thao khử mùi hôi chân thơm mát,kháng khuẩn'}},\n",
       " {'id': 17097,\n",
       "  'distance': 0.9708941578865051,\n",
       "  'entity': {'q_item_id': 26954717704,\n",
       "   'q_level1_global_be_category': 'Men Shoes',\n",
       "   'q_item_name': 'Giày nam Da bò Lacos da trơn màu đen bản da cực mềm và êm chân, có kèm ảnh tại shop ảnh khách thử',\n",
       "   'q_link_first_image': 'https://cf.shopee.sg/file/vn-11134207-7r98o-lxf4462eu9qx7a',\n",
       "   'q_item_name_clean': 'giày nam da bò lacos da trơn màu đen bản da cực mềm và êm chân, có kèm ảnh tại shop ảnh khách thử'}},\n",
       " {'id': 48462,\n",
       "  'distance': 0.953707218170166,\n",
       "  'entity': {'q_item_id': 11064010076,\n",
       "   'q_level1_global_be_category': 'Men Shoes',\n",
       "   'q_item_name': 'HỒNG THẠNH - Giày Tây Xỏ Giả Cột Dây - 0187',\n",
       "   'q_link_first_image': 'https://cf.shopee.sg/file/vn-11134207-7r98o-lxji02joq5ll7d',\n",
       "   'q_item_name_clean': 'hồng thạnh - giày tây xỏ giả cột dây - 0187'}},\n",
       " {'id': 51369,\n",
       "  'distance': 0.9413108825683594,\n",
       "  'entity': {'q_item_id': 25072545553,\n",
       "   'q_level1_global_be_category': 'Men Shoes',\n",
       "   'q_item_name': 'Giày Adi.das Sam.ba Vàng Classic White, Giày Sam.ba Da Lộn Đủ Mẫu Hot Trend Đủ Size Nam Nữ 2024.',\n",
       "   'q_link_first_image': 'https://cf.shopee.sg/file/vn-11134201-7r98o-ltqt5w24uuj3a3',\n",
       "   'q_item_name_clean': 'giày adi.das sam.ba vàng classic white, giày sam.ba da lộn đủ mẫu hot trend đủ size nam nữ 2024'}},\n",
       " {'id': 8784,\n",
       "  'distance': 0.9399144649505615,\n",
       "  'entity': {'q_item_id': 28204560309,\n",
       "   'q_level1_global_be_category': 'Men Shoes',\n",
       "   'q_item_name': '| Classical | Giày *_Du.nk Low OW Lot 48 of 50 - 42 | Cao Cấp  / Full Box |',\n",
       "   'q_link_first_image': 'https://cf.shopee.sg/file/sg-11134201-7rd41-lxbzhn8yxfvja2',\n",
       "   'q_item_name_clean': '| classical | giày *_du.nk low ow lot 48 of 50 - 42 | cao cấp  / full box |'}},\n",
       " {'id': 44299,\n",
       "  'distance': 0.9382732510566711,\n",
       "  'entity': {'q_item_id': 698862203,\n",
       "   'q_level1_global_be_category': 'Men Shoes',\n",
       "   'q_item_name': 'Giày sandal nam 2 quai ngang Vento NV4906B màu đen',\n",
       "   'q_link_first_image': 'https://cf.shopee.sg/file/vn-11134201-7qukw-lfcp94dl8dpxc6',\n",
       "   'q_item_name_clean': 'giày sandal nam 2 quai ngang vento nv4906b màu đen'}},\n",
       " {'id': 24426,\n",
       "  'distance': 0.9380488395690918,\n",
       "  'entity': {'q_item_id': 26750977630,\n",
       "   'q_level1_global_be_category': 'Men Shoes',\n",
       "   'q_item_name': 'Dép Sandal Xỏ Ngón  Đế Dày, Mềm Mại ,Chống Trơn Trượt Thời Trang Mùa Hè 2024',\n",
       "   'q_link_first_image': 'https://cf.shopee.sg/file/vn-11134207-7r98o-ly373i4u3sux56',\n",
       "   'q_item_name_clean': 'dép sandal xỏ ngón  đế dày, mềm mại ,chống trơn trượt thời trang mùa hè 2024'}},\n",
       " {'id': 36454,\n",
       "  'distance': 0.9360968470573425,\n",
       "  'entity': {'q_item_id': 28200023877,\n",
       "   'q_level1_global_be_category': 'Men Shoes',\n",
       "   'q_item_name': 'Bàn chải đánh giày cao cấp cực bền,dụng cụ vệ sinh đồ da sạch sẽ, nên kết hợp với xi đánh giày để đạt hiệu quả cao nhất',\n",
       "   'q_link_first_image': 'https://cf.shopee.sg/file/vn-11134207-7r98o-lvbqld11x9ic54',\n",
       "   'q_item_name_clean': 'bàn chải đánh giày cao cấp cực bền,dụng cụ vệ sinh đồ da sạch sẽ, nên kết hợp với xi đánh giày để đạt hiệu quả cao nhất'}},\n",
       " {'id': 31077,\n",
       "  'distance': 0.9325118660926819,\n",
       "  'entity': {'q_item_id': 22987397082,\n",
       "   'q_level1_global_be_category': 'Men Shoes',\n",
       "   'q_item_name': 'Loafer Lucius Classic Brown - Giày lười nam da bò, đế khâu',\n",
       "   'q_link_first_image': 'https://cf.shopee.sg/file/vn-11134207-7r98o-lop3mb9m8qq8b6',\n",
       "   'q_item_name_clean': 'loafer lucius classic brown - giày lười nam da bò, đế khâu'}},\n",
       " {'id': 12632,\n",
       "  'distance': 0.9258083701133728,\n",
       "  'entity': {'q_item_id': 3391492905,\n",
       "   'q_level1_global_be_category': 'Men Shoes',\n",
       "   'q_item_name': '[Uy tín-bh 5 năm] Giày nam thể thao snekear cao cấp, giày nam da bò hàng nhập khẩu chính hãng asia, đế cao su khâu',\n",
       "   'q_link_first_image': 'https://cf.shopee.sg/file/823a2bb887e67122a6b6f6fcaa18dfd2',\n",
       "   'q_item_name_clean': 'giày nam thể thao snekear cao cấp, giày nam da bò hàng nhập khẩu chính hãng asia, đế cao su khâu'}}]"
      ]
     },
     "execution_count": 8,
     "metadata": {},
     "output_type": "execute_result"
    }
   ],
   "source": [
    "res[1]"
   ]
  },
  {
   "cell_type": "code",
   "execution_count": null,
   "id": "b1fa07b9-a596-44a0-88bf-6b5f9a7c403e",
   "metadata": {},
   "outputs": [],
   "source": []
  }
 ],
 "metadata": {
  "kernelspec": {
   "display_name": "Python 3 (ipykernel)",
   "language": "python",
   "name": "python3"
  },
  "language_info": {
   "codemirror_mode": {
    "name": "ipython",
    "version": 3
   },
   "file_extension": ".py",
   "mimetype": "text/x-python",
   "name": "python",
   "nbconvert_exporter": "python",
   "pygments_lexer": "ipython3",
   "version": "3.12.6"
  }
 },
 "nbformat": 4,
 "nbformat_minor": 5
}
