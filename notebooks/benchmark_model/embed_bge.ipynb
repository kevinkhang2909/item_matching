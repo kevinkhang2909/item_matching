{
 "cells": [
  {
   "cell_type": "code",
   "id": "28f6df8c7caed3f9",
   "metadata": {
    "collapsed": false,
    "jupyter": {
     "outputs_hidden": false
    },
    "ExecuteTime": {
     "end_time": "2025-01-11T07:05:57.190271Z",
     "start_time": "2025-01-11T07:05:42.112881Z"
    }
   },
   "source": [
    "from pathlib import Path\n",
    "import polars as pl\n",
    "import duckdb\n",
    "from datasets import Dataset\n",
    "import numpy as np\n",
    "from autofaiss import build_index\n",
    "from FlagEmbedding import BGEM3FlagModel\n",
    "from core_pro.ultilities import make_dir, make_sync_folder"
   ],
   "outputs": [],
   "execution_count": 1
  },
  {
   "cell_type": "code",
   "id": "5c3e4a05690aebce",
   "metadata": {
    "ExecuteTime": {
     "end_time": "2025-01-11T07:05:57.314133Z",
     "start_time": "2025-01-11T07:05:57.207482Z"
    }
   },
   "source": [
    "path = make_sync_folder('Item_Matching_Test')\n",
    "file = path / 'clean.parquet'\n",
    "\n",
    "query = f\"\"\"select * from read_parquet('{file}')\"\"\"\n",
    "df = duckdb.sql(query).pl()\n",
    "df.head()"
   ],
   "outputs": [
    {
     "data": {
      "text/plain": [
       "shape: (5, 11)\n",
       "┌────────────┬────────────┬───────────┬───────────┬───┬───────────┬───────────┬───────────┬────────┐\n",
       "│ item_id    ┆ item_name  ┆ shop_id   ┆ shop_name ┆ … ┆ image_url ┆ item_name ┆ file_path ┆ exists │\n",
       "│ ---        ┆ ---        ┆ ---       ┆ ---       ┆   ┆ ---       ┆ _clean    ┆ ---       ┆ ---    │\n",
       "│ i64        ┆ str        ┆ i64       ┆ str       ┆   ┆ str       ┆ ---       ┆ str       ┆ bool   │\n",
       "│            ┆            ┆           ┆           ┆   ┆           ┆ str       ┆           ┆        │\n",
       "╞════════════╪════════════╪═══════════╪═══════════╪═══╪═══════════╪═══════════╪═══════════╪════════╡\n",
       "│ 2233335455 ┆ chân váy   ┆ 691586816 ┆ Jeanshop_ ┆ … ┆ http://f. ┆ chân váy  ┆ /Users/ke ┆ true   │\n",
       "│ 8          ┆ jean bò nữ ┆           ┆ 0603      ┆   ┆ shopee.vn ┆ jean bò   ┆ vinkhang/ ┆        │\n",
       "│            ┆ chữ a      ┆           ┆           ┆   ┆ /file/vn- ┆ nữ chữ a  ┆ Downloads ┆        │\n",
       "│            ┆ jean…      ┆           ┆           ┆   ┆ 111…      ┆ jean…     ┆ /Da…      ┆        │\n",
       "│ 1968396550 ┆ Quần ống   ┆ 24751730  ┆ Lylyshop  ┆ … ┆ http://f. ┆ quần ống  ┆ /Users/ke ┆ true   │\n",
       "│ 2          ┆ rộng vải   ┆           ┆ Unisex Cơ ┆   ┆ shopee.vn ┆ rộng vải  ┆ vinkhang/ ┆        │\n",
       "│            ┆ tăm lạnh   ┆           ┆ sở 1      ┆   ┆ /file/vn- ┆ tăm lạnh  ┆ Downloads ┆        │\n",
       "│            ┆ mềm…       ┆           ┆           ┆   ┆ 111…      ┆ mềm…      ┆ /Da…      ┆        │\n",
       "│ 2920829088 ┆ Đầm 2s     ┆ 158092907 ┆ Loulou    ┆ … ┆ http://f. ┆ đầm 2s    ┆ /Users/ke ┆ true   │\n",
       "│ 5          ┆ maxi phối  ┆           ┆ Clothing  ┆   ┆ shopee.vn ┆ maxi phối ┆ vinkhang/ ┆        │\n",
       "│            ┆ ren cúp    ┆           ┆           ┆   ┆ /file/vn- ┆ ren cúp   ┆ Downloads ┆        │\n",
       "│            ┆ ngực …     ┆           ┆           ┆   ┆ 111…      ┆ ngực …    ┆ /Da…      ┆        │\n",
       "│ 2532973027 ┆ Set Bộ Đồ  ┆ 390933323 ┆ HÀ-THU    ┆ … ┆ http://f. ┆ set bộ đồ ┆ /Users/ke ┆ true   │\n",
       "│ 9          ┆ Nữ Thun    ┆           ┆ SHOP      ┆   ┆ shopee.vn ┆ nữ thun   ┆ vinkhang/ ┆        │\n",
       "│            ┆ Gân Tăm    ┆           ┆           ┆   ┆ /file/vn- ┆ gân tăm   ┆ Downloads ┆        │\n",
       "│            ┆ Lạnh…      ┆           ┆           ┆   ┆ 111…      ┆ lạnh…     ┆ /Da…      ┆        │\n",
       "│ 2203117891 ┆ Quần jean  ┆ 965335291 ┆ Daisy-Clo ┆ … ┆ http://f. ┆ quần jean ┆ /Users/ke ┆ true   │\n",
       "│ 3          ┆ nữ ống     ┆           ┆ thing     ┆   ┆ shopee.vn ┆ nữ ống    ┆ vinkhang/ ┆        │\n",
       "│            ┆ suông rộng ┆           ┆           ┆   ┆ /file/vn- ┆ suông     ┆ Downloads ┆        │\n",
       "│            ┆ Cạ…        ┆           ┆           ┆   ┆ 111…      ┆ rộng cạ…  ┆ /Da…      ┆        │\n",
       "└────────────┴────────────┴───────────┴───────────┴───┴───────────┴───────────┴───────────┴────────┘"
      ],
      "text/html": [
       "<div><style>\n",
       ".dataframe > thead > tr,\n",
       ".dataframe > tbody > tr {\n",
       "  text-align: right;\n",
       "  white-space: pre-wrap;\n",
       "}\n",
       "</style>\n",
       "<small>shape: (5, 11)</small><table border=\"1\" class=\"dataframe\"><thead><tr><th>item_id</th><th>item_name</th><th>shop_id</th><th>shop_name</th><th>level1_global_be_category</th><th>description</th><th>images</th><th>image_url</th><th>item_name_clean</th><th>file_path</th><th>exists</th></tr><tr><td>i64</td><td>str</td><td>i64</td><td>str</td><td>str</td><td>str</td><td>str</td><td>str</td><td>str</td><td>str</td><td>bool</td></tr></thead><tbody><tr><td>22333354558</td><td>&quot;chân váy jean bò nữ chữ a jean…</td><td>691586816</td><td>&quot;Jeanshop_0603&quot;</td><td>&quot;Women Clothes&quot;</td><td>&quot;1. Thông tin sản phẩm: Chân vá…</td><td>&quot;vn-11134207-7r98o-lsnlwcvto3ic…</td><td>&quot;http://f.shopee.vn/file/vn-111…</td><td>&quot;chân váy jean bò nữ chữ a jean…</td><td>&quot;/Users/kevinkhang/Downloads/Da…</td><td>true</td></tr><tr><td>19683965502</td><td>&quot;Quần ống rộng vải tăm lạnh mềm…</td><td>24751730</td><td>&quot;Lylyshop Unisex Cơ sở 1&quot;</td><td>&quot;Women Clothes&quot;</td><td>&quot;[{&quot;t&quot;:&quot;QUẦN FORM UNISEX DÀNH C…</td><td>&quot;vn-11134207-7r98o-lmwyou2s1qsf…</td><td>&quot;http://f.shopee.vn/file/vn-111…</td><td>&quot;quần ống rộng vải tăm lạnh mềm…</td><td>&quot;/Users/kevinkhang/Downloads/Da…</td><td>true</td></tr><tr><td>29208290885</td><td>&quot;Đầm 2s maxi phối ren cúp ngực …</td><td>158092907</td><td>&quot;Loulou Clothing&quot;</td><td>&quot;Women Clothes&quot;</td><td>&quot;[{&quot;t&quot;:&quot;Chất larong phối ren. \\…</td><td>&quot;vn-11134207-7r98o-lz4yagwociw1…</td><td>&quot;http://f.shopee.vn/file/vn-111…</td><td>&quot;đầm 2s maxi phối ren cúp ngực …</td><td>&quot;/Users/kevinkhang/Downloads/Da…</td><td>true</td></tr><tr><td>25329730279</td><td>&quot;Set Bộ Đồ Nữ Thun Gân Tăm Lạnh…</td><td>390933323</td><td>&quot;HÀ-THU SHOP&quot;</td><td>&quot;Women Clothes&quot;</td><td>&quot;[{&quot;t&quot;:&quot;Set bộ ống rộng thun gâ…</td><td>&quot;vn-11134207-7r98o-lv4h7q6slbx6…</td><td>&quot;http://f.shopee.vn/file/vn-111…</td><td>&quot;set bộ đồ nữ thun gân tăm lạnh…</td><td>&quot;/Users/kevinkhang/Downloads/Da…</td><td>true</td></tr><tr><td>22031178913</td><td>&quot;Quần jean nữ ống suông rộng Cạ…</td><td>965335291</td><td>&quot;Daisy-Clothing&quot;</td><td>&quot;Women Clothes&quot;</td><td>&quot;Quần jean nữ ống suông rộng Cạ…</td><td>&quot;vn-11134207-7r98o-lsqfyrydb1cp…</td><td>&quot;http://f.shopee.vn/file/vn-111…</td><td>&quot;quần jean nữ ống suông rộng cạ…</td><td>&quot;/Users/kevinkhang/Downloads/Da…</td><td>true</td></tr></tbody></table></div>"
      ]
     },
     "execution_count": 2,
     "metadata": {},
     "output_type": "execute_result"
    }
   ],
   "execution_count": 2
  },
  {
   "cell_type": "code",
   "id": "221b61297efcc3e0",
   "metadata": {
    "ExecuteTime": {
     "end_time": "2024-11-21T03:47:31.522068Z",
     "start_time": "2024-11-21T03:47:31.512100Z"
    }
   },
   "source": [
    "name = 'bge'\n",
    "path_tmp_array = Path(path / f'tmp/array/{name}')\n",
    "path_tmp_ds = Path(path / f'tmp/ds/{name}')\n",
    "make_dir(path_tmp_ds)\n",
    "make_dir(path_tmp_array)\n",
    "\n",
    "file_embed = path_tmp_array / 'embed.npy'\n",
    "if not file_embed.exists():\n",
    "    model = BGEM3FlagModel('BAAI/bge-m3', use_fp16=False)\n",
    "    embeddings = model.encode(\n",
    "        df['item_name_clean'].to_list(),\n",
    "        batch_size=8,\n",
    "        max_length=80,\n",
    "        return_dense=True,\n",
    "        return_sparse=False,\n",
    "        return_colbert_vecs=False\n",
    "    )['dense_vecs']\n",
    "    np.save(file_embed, embeddings)\n",
    "else:\n",
    "    embeddings = np.load(file_embed)\n",
    "print(embeddings.shape)"
   ],
   "outputs": [
    {
     "name": "stdout",
     "output_type": "stream",
     "text": [
      "(9936, 1024)\n"
     ]
    }
   ],
   "execution_count": 3
  },
  {
   "cell_type": "code",
   "id": "b95e12aa6944cd3e",
   "metadata": {
    "collapsed": false,
    "jupyter": {
     "outputs_hidden": false
    },
    "ExecuteTime": {
     "end_time": "2024-11-21T03:47:31.669279Z",
     "start_time": "2024-11-21T03:47:31.556995Z"
    }
   },
   "source": [
    "df = df.with_columns(pl.Series(values=embeddings, name='embed'))\n",
    "dataset = Dataset.from_polars(df)\n",
    "dataset.set_format(type='numpy', columns=['embed'], output_all_columns=True)"
   ],
   "outputs": [],
   "execution_count": 4
  },
  {
   "cell_type": "code",
   "id": "96cc5afcf31a1e6a",
   "metadata": {
    "collapsed": false,
    "jupyter": {
     "outputs_hidden": false
    },
    "ExecuteTime": {
     "end_time": "2024-11-21T03:47:49.419037Z",
     "start_time": "2024-11-21T03:47:31.679352Z"
    }
   },
   "source": [
    "path_index = Path(path / 'tmp/index')\n",
    "build_index(\n",
    "    embeddings=embeddings,\n",
    "    index_path=str(path_index / f'ip.index'),\n",
    "    index_infos_path=str(path_index / f'index.json'),\n",
    "    save_on_disk=True,\n",
    "    metric_type='ip',\n",
    "    verbose=30,\n",
    ")"
   ],
   "outputs": [
    {
     "name": "stderr",
     "output_type": "stream",
     "text": [
      "100%|██████████| 1/1 [00:00<00:00, 2743.17it/s]\n",
      "100%|██████████| 1/1 [00:00<00:00,  6.35it/s]\n",
      "  0%|          | 0/1 [00:00<?, ?it/s]\n"
     ]
    },
    {
     "data": {
      "text/plain": [
       "(<faiss.swigfaiss_avx2.IndexHNSWFlat; proxy of <Swig Object of type 'faiss::IndexHNSWFlat *' at 0x7b8858053ea0> >,\n",
       " {'index_key': 'HNSW15',\n",
       "  'index_param': 'efSearch=5226',\n",
       "  'index_path': '/home/kevin/Downloads/Item_Matching_Test/tmp/index/ip.index',\n",
       "  'size in bytes': 42050218,\n",
       "  'avg_search_speed_ms': 9.97823628438878,\n",
       "  '99p_search_speed_ms': 10.557658101897687,\n",
       "  'reconstruction error %': 0.0,\n",
       "  'nb vectors': 9936,\n",
       "  'vectors dimension': 1024,\n",
       "  'compression ratio': 0.9678393581693203})"
      ]
     },
     "execution_count": 5,
     "metadata": {},
     "output_type": "execute_result"
    }
   ],
   "execution_count": 5
  },
  {
   "cell_type": "code",
   "id": "6efdce62f49c27b9",
   "metadata": {
    "collapsed": false,
    "jupyter": {
     "outputs_hidden": false
    },
    "ExecuteTime": {
     "end_time": "2024-11-21T03:47:49.444017Z",
     "start_time": "2024-11-21T03:47:49.423495Z"
    }
   },
   "source": [
    "# add index\n",
    "dataset.load_faiss_index('embed', path_index / f'ip.index')"
   ],
   "outputs": [],
   "execution_count": 6
  },
  {
   "cell_type": "code",
   "id": "3bcba75a987dd8c2",
   "metadata": {
    "collapsed": false,
    "jupyter": {
     "outputs_hidden": false
    },
    "ExecuteTime": {
     "end_time": "2024-11-21T03:48:21.516840Z",
     "start_time": "2024-11-21T03:47:49.465298Z"
    }
   },
   "source": [
    "score, result = dataset.get_nearest_examples_batch(\n",
    "    'embed',\n",
    "    np.asarray(dataset['embed']),\n",
    "    k=5\n",
    ")\n",
    "\n",
    "dict_ = {'score': [list(i) for i in score]}\n",
    "df_score = pl.DataFrame(dict_)\n",
    "df_result = (\n",
    "    pl.DataFrame(result).drop(['embed'])\n",
    "    .select(pl.all().name.prefix(f'db_'))\n",
    ")"
   ],
   "outputs": [],
   "execution_count": 7
  },
  {
   "cell_type": "code",
   "id": "ae3b4d1db34781b3",
   "metadata": {
    "collapsed": false,
    "jupyter": {
     "outputs_hidden": false
    },
    "ExecuteTime": {
     "end_time": "2024-11-21T03:48:21.523477Z",
     "start_time": "2024-11-21T03:48:21.522065Z"
    }
   },
   "source": [
    "df_match = pl.concat([df, df_result, df_score], how='horizontal')\n",
    "col_explode = [i for i in df_match.columns if 'notebooks' in i] + ['score']"
   ],
   "outputs": [],
   "execution_count": 8
  },
  {
   "cell_type": "code",
   "id": "c77a28d769f090a8",
   "metadata": {
    "collapsed": false,
    "jupyter": {
     "outputs_hidden": false
    },
    "ExecuteTime": {
     "end_time": "2024-11-21T03:49:47.981189Z",
     "start_time": "2024-11-21T03:49:47.462896Z"
    }
   },
   "source": [
    "path_export = path / 'text_match'\n",
    "make_dir(path_export)\n",
    "df_match.write_parquet(path_export / f'{name}.parquet')"
   ],
   "outputs": [],
   "execution_count": 10
  },
  {
   "cell_type": "code",
   "id": "2dacba735258ef3d",
   "metadata": {
    "collapsed": false,
    "jupyter": {
     "outputs_hidden": false
    },
    "ExecuteTime": {
     "end_time": "2024-11-21T03:48:21.608328439Z",
     "start_time": "2024-11-21T03:45:55.640192Z"
    }
   },
   "source": [],
   "outputs": [],
   "execution_count": null
  }
 ],
 "metadata": {
  "kernelspec": {
   "display_name": "Python 3 (ipykernel)",
   "language": "python",
   "name": "python3"
  },
  "language_info": {
   "codemirror_mode": {
    "name": "ipython",
    "version": 3
   },
   "file_extension": ".py",
   "mimetype": "text/x-python",
   "name": "python",
   "nbconvert_exporter": "python",
   "pygments_lexer": "ipython3",
   "version": "3.12.7"
  }
 },
 "nbformat": 4,
 "nbformat_minor": 5
}
