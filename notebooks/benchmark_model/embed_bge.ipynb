{
 "cells": [
  {
   "cell_type": "code",
   "id": "28f6df8c7caed3f9",
   "metadata": {
    "collapsed": false,
    "jupyter": {
     "outputs_hidden": false
    },
    "ExecuteTime": {
     "end_time": "2024-11-21T03:47:31.369691Z",
     "start_time": "2024-11-21T03:47:29.444486Z"
    }
   },
   "source": [
    "from pathlib import Path\n",
    "import polars as pl\n",
    "import duckdb\n",
    "from datasets import Dataset\n",
    "import numpy as np\n",
    "from autofaiss import build_index\n",
    "from FlagEmbedding import BGEM3FlagModel\n",
    "from core_pro.ultilities import make_dir, make_sync_folder"
   ],
   "outputs": [],
   "execution_count": 1
  },
  {
   "cell_type": "code",
   "id": "5c3e4a05690aebce",
   "metadata": {
    "ExecuteTime": {
     "end_time": "2024-11-21T03:47:31.451921Z",
     "start_time": "2024-11-21T03:47:31.378799Z"
    }
   },
   "source": [
    "path = make_sync_folder('Item_Matching_Test')\n",
    "file = path / 'clean.parquet'\n",
    "\n",
    "query = f\"\"\"select * from read_parquet('{file}')\"\"\"\n",
    "df = duckdb.sql(query).pl()\n",
    "df.head()"
   ],
   "outputs": [
    {
     "data": {
      "text/plain": [
       "shape: (5, 11)\n",
       "┌────────────┬────────────┬───────────┬───────────┬───┬───────────┬───────────┬───────────┬────────┐\n",
       "│ item_id    ┆ item_name  ┆ shop_id   ┆ shop_name ┆ … ┆ image_url ┆ item_name ┆ file_path ┆ exists │\n",
       "│ ---        ┆ ---        ┆ ---       ┆ ---       ┆   ┆ ---       ┆ _clean    ┆ ---       ┆ ---    │\n",
       "│ i64        ┆ str        ┆ i64       ┆ str       ┆   ┆ str       ┆ ---       ┆ str       ┆ bool   │\n",
       "│            ┆            ┆           ┆           ┆   ┆           ┆ str       ┆           ┆        │\n",
       "╞════════════╪════════════╪═══════════╪═══════════╪═══╪═══════════╪═══════════╪═══════════╪════════╡\n",
       "│ 2582362917 ┆ Kẹp Tóc    ┆ 851157471 ┆ Shopee    ┆ … ┆ http://f. ┆ kẹp tóc   ┆ /home/kev ┆ true   │\n",
       "│ 1          ┆ càng cua   ┆           ┆ Choice    ┆   ┆ shopee.vn ┆ càng cua  ┆ in/Downlo ┆        │\n",
       "│            ┆ Choice     ┆           ┆ Việt Nam  ┆   ┆ /file/sg- ┆ choice    ┆ ads/Item_ ┆        │\n",
       "│            ┆ Việt N…    ┆           ┆           ┆   ┆ 111…      ┆ việt n…   ┆ Mat…      ┆        │\n",
       "│ 2910814553 ┆ Áo dây CÚP ┆ 107431696 ┆ Honestss  ┆ … ┆ http://f. ┆ áo dây    ┆ /home/kev ┆ true   │\n",
       "│ 1          ┆ ngực phối  ┆ 7         ┆           ┆   ┆ shopee.vn ┆ cúp ngực  ┆ in/Downlo ┆        │\n",
       "│            ┆ ren sexy … ┆           ┆           ┆   ┆ /file/vn- ┆ phối ren  ┆ ads/Item_ ┆        │\n",
       "│            ┆            ┆           ┆           ┆   ┆ 111…      ┆ sexy …    ┆ Mat…      ┆        │\n",
       "│ 6092976691 ┆ Miếng Dán  ┆ 275954116 ┆ Dan       ┆ … ┆ http://f. ┆ miếng dán ┆ /home/kev ┆ true   │\n",
       "│            ┆ Ngực ❤️FREE ┆           ┆ Bikini    ┆   ┆ shopee.vn ┆ ngực      ┆ in/Downlo ┆        │\n",
       "│            ┆ SHIP❤️ Hộ… ┆           ┆           ┆   ┆ /file/vn- ┆ freeship  ┆ ads/Item_ ┆        │\n",
       "│            ┆            ┆           ┆           ┆   ┆ 111…      ┆ hộp 5 …   ┆ Mat…      ┆        │\n",
       "│ 2332837174 ┆ Găng tay   ┆ 960970699 ┆ Winter Ma ┆ … ┆ http://f. ┆ găng tay  ┆ /home/kev ┆ true   │\n",
       "│ 7          ┆ phao nam   ┆           ┆ rket      ┆   ┆ shopee.vn ┆ phao nam  ┆ in/Downlo ┆        │\n",
       "│            ┆ chống lạnh ┆           ┆           ┆   ┆ /file/vn- ┆ chống     ┆ ads/Item_ ┆        │\n",
       "│            ┆ s…         ┆           ┆           ┆   ┆ 111…      ┆ lạnh s…   ┆ Mat…      ┆        │\n",
       "│ 1359945053 ┆ Quần Dài   ┆ 704317817 ┆ KHOUSE-한 ┆ … ┆ http://f. ┆ quần dài  ┆ /home/kev ┆ true   │\n",
       "│ 6          ┆ Thể Thao   ┆           ┆ 국 여성   ┆   ┆ shopee.vn ┆ thể thao  ┆ in/Downlo ┆        │\n",
       "│            ┆ Chống Nắng ┆           ┆ 패션      ┆   ┆ /file/sg- ┆ chống     ┆ ads/Item_ ┆        │\n",
       "│            ┆ D…         ┆           ┆           ┆   ┆ 111…      ┆ nắng d…   ┆ Mat…      ┆        │\n",
       "└────────────┴────────────┴───────────┴───────────┴───┴───────────┴───────────┴───────────┴────────┘"
      ],
      "text/html": [
       "<div><style>\n",
       ".dataframe > thead > tr,\n",
       ".dataframe > tbody > tr {\n",
       "  text-align: right;\n",
       "  white-space: pre-wrap;\n",
       "}\n",
       "</style>\n",
       "<small>shape: (5, 11)</small><table border=\"1\" class=\"dataframe\"><thead><tr><th>item_id</th><th>item_name</th><th>shop_id</th><th>shop_name</th><th>level1_global_be_category</th><th>description</th><th>images</th><th>image_url</th><th>item_name_clean</th><th>file_path</th><th>exists</th></tr><tr><td>i64</td><td>str</td><td>i64</td><td>str</td><td>str</td><td>str</td><td>str</td><td>str</td><td>str</td><td>str</td><td>bool</td></tr></thead><tbody><tr><td>25823629171</td><td>&quot;Kẹp&nbsp;Tóc&nbsp;càng&nbsp;cua&nbsp;Choice&nbsp;Việt&nbsp;N…</td><td>851157471</td><td>&quot;Shopee&nbsp;Choice&nbsp;Việt&nbsp;Nam&quot;</td><td>&quot;Fashion&nbsp;Accessories&quot;</td><td>&quot;[{&quot;t&quot;:&quot;✪&nbsp;THÔNG&nbsp;TIN&nbsp;SẢN&nbsp;PHẨM&nbsp;\\n…</td><td>&quot;sg-11134301-7rd4i-lvolqk5ptysj…</td><td>&quot;http://f.shopee.vn/file/sg-111…</td><td>&quot;kẹp&nbsp;tóc&nbsp;càng&nbsp;cua&nbsp;choice&nbsp;việt&nbsp;n…</td><td>&quot;/home/kevin/Downloads/Item_Mat…</td><td>true</td></tr><tr><td>29108145531</td><td>&quot;Áo&nbsp;dây&nbsp;CÚP&nbsp;ngực&nbsp;phối&nbsp;ren&nbsp;sexy&nbsp;…</td><td>1074316967</td><td>&quot;Honestss&quot;</td><td>&quot;Women&nbsp;Clothes&quot;</td><td>&quot;Áo&nbsp;dây&nbsp;CÚP&nbsp;ngực&nbsp;phối&nbsp;ren&nbsp;sexy&nbsp;…</td><td>&quot;vn-11134207-7r98o-lz1svcz309xp…</td><td>&quot;http://f.shopee.vn/file/vn-111…</td><td>&quot;áo&nbsp;dây&nbsp;cúp&nbsp;ngực&nbsp;phối&nbsp;ren&nbsp;sexy&nbsp;…</td><td>&quot;/home/kevin/Downloads/Item_Mat…</td><td>true</td></tr><tr><td>6092976691</td><td>&quot;Miếng&nbsp;Dán&nbsp;Ngực&nbsp;❤️FREESHIP❤️&nbsp;Hộ…</td><td>275954116</td><td>&quot;Dan&nbsp;Bikini&quot;</td><td>&quot;Women&nbsp;Clothes&quot;</td><td>&quot;MIẾNG&nbsp;DÁN&nbsp;NGỰC&nbsp;SILICON&nbsp;HÀN&nbsp;QUỐ…</td><td>&quot;vn-11134201-7r98o-lyynyaibhgv5…</td><td>&quot;http://f.shopee.vn/file/vn-111…</td><td>&quot;miếng&nbsp;dán&nbsp;ngực&nbsp;freeship&nbsp;hộp&nbsp;5&nbsp;…</td><td>&quot;/home/kevin/Downloads/Item_Mat…</td><td>true</td></tr><tr><td>23328371747</td><td>&quot;Găng&nbsp;tay&nbsp;phao&nbsp;nam&nbsp;chống&nbsp;lạnh&nbsp;s…</td><td>960970699</td><td>&quot;Winter Market&quot;</td><td>&quot;Fashion&nbsp;Accessories&quot;</td><td>&quot;Găng&nbsp;tay&nbsp;phao,&nbsp;bao&nbsp;tay&nbsp;phao&nbsp;đi…</td><td>&quot;vn-11134211-7r98o-ln8wlsop9p7c…</td><td>&quot;http://f.shopee.vn/file/vn-111…</td><td>&quot;găng&nbsp;tay&nbsp;phao&nbsp;nam&nbsp;chống&nbsp;lạnh&nbsp;s…</td><td>&quot;/home/kevin/Downloads/Item_Mat…</td><td>true</td></tr><tr><td>13599450536</td><td>&quot;Quần&nbsp;Dài&nbsp;Thể&nbsp;Thao&nbsp;Chống&nbsp;Nắng&nbsp;D…</td><td>704317817</td><td>&quot;KHOUSE-한국&nbsp;여성&nbsp;패션&quot;</td><td>&quot;Women&nbsp;Clothes&quot;</td><td>&quot;[{&quot;t&quot;:&quot;Xuất&nbsp;xứ:&nbsp;Thâm&nbsp;Quyến\\nTấ…</td><td>&quot;sg-11134201-7qveg-lgomar6dayh8…</td><td>&quot;http://f.shopee.vn/file/sg-111…</td><td>&quot;quần&nbsp;dài&nbsp;thể&nbsp;thao&nbsp;chống&nbsp;nắng&nbsp;d…</td><td>&quot;/home/kevin/Downloads/Item_Mat…</td><td>true</td></tr></tbody></table></div>"
      ]
     },
     "execution_count": 2,
     "metadata": {},
     "output_type": "execute_result"
    }
   ],
   "execution_count": 2
  },
  {
   "cell_type": "code",
   "id": "221b61297efcc3e0",
   "metadata": {
    "ExecuteTime": {
     "end_time": "2024-11-21T03:47:31.522068Z",
     "start_time": "2024-11-21T03:47:31.512100Z"
    }
   },
   "source": [
    "name = 'bge'\n",
    "path_tmp_array = Path(path / f'tmp/array/{name}')\n",
    "path_tmp_ds = Path(path / f'tmp/ds/{name}')\n",
    "make_dir(path_tmp_ds)\n",
    "make_dir(path_tmp_array)\n",
    "\n",
    "file_embed = path_tmp_array / 'embed.npy'\n",
    "if not file_embed.exists():\n",
    "    model = BGEM3FlagModel('BAAI/bge-m3', use_fp16=False)\n",
    "    embeddings = model.encode(\n",
    "        df['item_name_clean'].to_list(),\n",
    "        batch_size=8,\n",
    "        max_length=80,\n",
    "        return_dense=True,\n",
    "        return_sparse=False,\n",
    "        return_colbert_vecs=False\n",
    "    )['dense_vecs']\n",
    "    np.save(file_embed, embeddings)\n",
    "else:\n",
    "    embeddings = np.load(file_embed)\n",
    "print(embeddings.shape)"
   ],
   "outputs": [
    {
     "name": "stdout",
     "output_type": "stream",
     "text": [
      "(9936, 1024)\n"
     ]
    }
   ],
   "execution_count": 3
  },
  {
   "cell_type": "code",
   "id": "b95e12aa6944cd3e",
   "metadata": {
    "collapsed": false,
    "jupyter": {
     "outputs_hidden": false
    },
    "ExecuteTime": {
     "end_time": "2024-11-21T03:47:31.669279Z",
     "start_time": "2024-11-21T03:47:31.556995Z"
    }
   },
   "source": [
    "df = df.with_columns(pl.Series(values=embeddings, name='embed'))\n",
    "dataset = Dataset.from_polars(df)\n",
    "dataset.set_format(type='numpy', columns=['embed'], output_all_columns=True)"
   ],
   "outputs": [],
   "execution_count": 4
  },
  {
   "cell_type": "code",
   "id": "96cc5afcf31a1e6a",
   "metadata": {
    "collapsed": false,
    "jupyter": {
     "outputs_hidden": false
    },
    "ExecuteTime": {
     "end_time": "2024-11-21T03:47:49.419037Z",
     "start_time": "2024-11-21T03:47:31.679352Z"
    }
   },
   "source": [
    "path_index = Path(path / 'tmp/index')\n",
    "build_index(\n",
    "    embeddings=embeddings,\n",
    "    index_path=str(path_index / f'ip.index'),\n",
    "    index_infos_path=str(path_index / f'index.json'),\n",
    "    save_on_disk=True,\n",
    "    metric_type='ip',\n",
    "    verbose=30,\n",
    ")"
   ],
   "outputs": [
    {
     "name": "stderr",
     "output_type": "stream",
     "text": [
      "100%|██████████| 1/1 [00:00<00:00, 2743.17it/s]\n",
      "100%|██████████| 1/1 [00:00<00:00,  6.35it/s]\n",
      "  0%|          | 0/1 [00:00<?, ?it/s]\n"
     ]
    },
    {
     "data": {
      "text/plain": [
       "(<faiss.swigfaiss_avx2.IndexHNSWFlat; proxy of <Swig Object of type 'faiss::IndexHNSWFlat *' at 0x7b8858053ea0> >,\n",
       " {'index_key': 'HNSW15',\n",
       "  'index_param': 'efSearch=5226',\n",
       "  'index_path': '/home/kevin/Downloads/Item_Matching_Test/tmp/index/ip.index',\n",
       "  'size in bytes': 42050218,\n",
       "  'avg_search_speed_ms': 9.97823628438878,\n",
       "  '99p_search_speed_ms': 10.557658101897687,\n",
       "  'reconstruction error %': 0.0,\n",
       "  'nb vectors': 9936,\n",
       "  'vectors dimension': 1024,\n",
       "  'compression ratio': 0.9678393581693203})"
      ]
     },
     "execution_count": 5,
     "metadata": {},
     "output_type": "execute_result"
    }
   ],
   "execution_count": 5
  },
  {
   "cell_type": "code",
   "id": "6efdce62f49c27b9",
   "metadata": {
    "collapsed": false,
    "jupyter": {
     "outputs_hidden": false
    },
    "ExecuteTime": {
     "end_time": "2024-11-21T03:47:49.444017Z",
     "start_time": "2024-11-21T03:47:49.423495Z"
    }
   },
   "source": [
    "# add index\n",
    "dataset.load_faiss_index('embed', path_index / f'ip.index')"
   ],
   "outputs": [],
   "execution_count": 6
  },
  {
   "cell_type": "code",
   "id": "3bcba75a987dd8c2",
   "metadata": {
    "collapsed": false,
    "jupyter": {
     "outputs_hidden": false
    },
    "ExecuteTime": {
     "end_time": "2024-11-21T03:48:21.516840Z",
     "start_time": "2024-11-21T03:47:49.465298Z"
    }
   },
   "source": [
    "score, result = dataset.get_nearest_examples_batch(\n",
    "    'embed',\n",
    "    np.asarray(dataset['embed']),\n",
    "    k=5\n",
    ")\n",
    "\n",
    "dict_ = {'score': [list(i) for i in score]}\n",
    "df_score = pl.DataFrame(dict_)\n",
    "df_result = (\n",
    "    pl.DataFrame(result).drop(['embed'])\n",
    "    .select(pl.all().name.prefix(f'db_'))\n",
    ")"
   ],
   "outputs": [],
   "execution_count": 7
  },
  {
   "cell_type": "code",
   "id": "ae3b4d1db34781b3",
   "metadata": {
    "collapsed": false,
    "jupyter": {
     "outputs_hidden": false
    },
    "ExecuteTime": {
     "end_time": "2024-11-21T03:48:21.523477Z",
     "start_time": "2024-11-21T03:48:21.522065Z"
    }
   },
   "source": [
    "df_match = pl.concat([df, df_result, df_score], how='horizontal')\n",
    "col_explode = [i for i in df_match.columns if 'notebooks' in i] + ['score']"
   ],
   "outputs": [],
   "execution_count": 8
  },
  {
   "cell_type": "code",
   "id": "c77a28d769f090a8",
   "metadata": {
    "collapsed": false,
    "jupyter": {
     "outputs_hidden": false
    },
    "ExecuteTime": {
     "end_time": "2024-11-21T03:49:47.981189Z",
     "start_time": "2024-11-21T03:49:47.462896Z"
    }
   },
   "source": [
    "path_export = path / 'text_match'\n",
    "make_dir(path_export)\n",
    "df_match.write_parquet(path_export / f'{name}.parquet')"
   ],
   "outputs": [],
   "execution_count": 10
  },
  {
   "cell_type": "code",
   "id": "2dacba735258ef3d",
   "metadata": {
    "collapsed": false,
    "jupyter": {
     "outputs_hidden": false
    },
    "ExecuteTime": {
     "end_time": "2024-11-21T03:48:21.608328439Z",
     "start_time": "2024-11-21T03:45:55.640192Z"
    }
   },
   "source": [],
   "outputs": [],
   "execution_count": null
  }
 ],
 "metadata": {
  "kernelspec": {
   "display_name": "Python 3 (ipykernel)",
   "language": "python",
   "name": "python3"
  },
  "language_info": {
   "codemirror_mode": {
    "name": "ipython",
    "version": 3
   },
   "file_extension": ".py",
   "mimetype": "text/x-python",
   "name": "python",
   "nbconvert_exporter": "python",
   "pygments_lexer": "ipython3",
   "version": "3.12.7"
  }
 },
 "nbformat": 4,
 "nbformat_minor": 5
}
