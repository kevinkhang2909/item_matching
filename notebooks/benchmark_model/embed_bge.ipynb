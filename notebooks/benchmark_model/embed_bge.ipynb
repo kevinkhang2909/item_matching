{
 "cells": [
  {
   "cell_type": "code",
   "id": "28f6df8c7caed3f9",
   "metadata": {
    "collapsed": false,
    "jupyter": {
     "outputs_hidden": false
    },
    "ExecuteTime": {
     "end_time": "2025-04-04T08:27:27.149212Z",
     "start_time": "2025-04-04T08:27:24.646099Z"
    }
   },
   "source": [
    "from pathlib import Path\n",
    "import polars as pl\n",
    "import duckdb\n",
    "from datasets import Dataset\n",
    "import numpy as np\n",
    "from autofaiss import build_index\n",
    "from FlagEmbedding import BGEM3FlagModel\n",
    "from core_pro.ultilities import make_dir, make_sync_folder\n"
   ],
   "outputs": [],
   "execution_count": 1
  },
  {
   "cell_type": "code",
   "id": "5c3e4a05690aebce",
   "metadata": {
    "ExecuteTime": {
     "end_time": "2025-04-04T08:27:27.170724Z",
     "start_time": "2025-04-04T08:27:27.152971Z"
    }
   },
   "source": [
    "path = make_sync_folder(\"dataset/item_matching\")\n",
    "file = path / \"data_sample_FMCG_clean.parquet\"\n",
    "\n",
    "query = f\"\"\"\n",
    "select item_id\n",
    ", item_name\n",
    "from read_parquet('{file}')\n",
    "limit 10000\n",
    "\"\"\"\n",
    "df = duckdb.sql(query).pl()\n",
    "df.head()"
   ],
   "outputs": [
    {
     "data": {
      "text/plain": [
       "shape: (5, 2)\n",
       "┌─────────────┬─────────────────────────────────┐\n",
       "│ item_id     ┆ item_name                       │\n",
       "│ ---         ┆ ---                             │\n",
       "│ i64         ┆ str                             │\n",
       "╞═════════════╪═════════════════════════════════╡\n",
       "│ 14019452100 ┆ Mắt Mèo Cầu Vồng Huaxi 7 Màu T… │\n",
       "│ 25423506264 ┆ *FREESHIP* Miếng Dán Trang Trí… │\n",
       "│ 25650112647 ┆ (Trụ vừa) Mi trụ katun, trụ wi… │\n",
       "│ 10158281345 ┆ Mascara Chuốt Mi JUDYDOLL 2g D… │\n",
       "│ 2486662254  ┆ Bột lắc sữa Bledina Pháp (Date… │\n",
       "└─────────────┴─────────────────────────────────┘"
      ],
      "text/html": [
       "<div><style>\n",
       ".dataframe > thead > tr,\n",
       ".dataframe > tbody > tr {\n",
       "  text-align: right;\n",
       "  white-space: pre-wrap;\n",
       "}\n",
       "</style>\n",
       "<small>shape: (5, 2)</small><table border=\"1\" class=\"dataframe\"><thead><tr><th>item_id</th><th>item_name</th></tr><tr><td>i64</td><td>str</td></tr></thead><tbody><tr><td>14019452100</td><td>&quot;Mắt Mèo Cầu Vồng Huaxi 7 Màu T…</td></tr><tr><td>25423506264</td><td>&quot;*FREESHIP* Miếng Dán Trang Trí…</td></tr><tr><td>25650112647</td><td>&quot;(Trụ vừa) Mi trụ katun, trụ wi…</td></tr><tr><td>10158281345</td><td>&quot;Mascara Chuốt Mi JUDYDOLL 2g D…</td></tr><tr><td>2486662254</td><td>&quot;Bột lắc sữa Bledina Pháp (Date…</td></tr></tbody></table></div>"
      ]
     },
     "execution_count": 2,
     "metadata": {},
     "output_type": "execute_result"
    }
   ],
   "execution_count": 2
  },
  {
   "cell_type": "code",
   "id": "221b61297efcc3e0",
   "metadata": {
    "ExecuteTime": {
     "end_time": "2025-04-04T08:27:27.239157Z",
     "start_time": "2025-04-04T08:27:27.237205Z"
    }
   },
   "source": [
    "def create_search_result(file_embed, data):\n",
    "    embeddings = np.load(file_embed)\n",
    "    print(embeddings.shape)\n",
    "\n",
    "    data = data.with_columns(pl.Series(values=embeddings, name=\"embed\"))\n",
    "    dataset = Dataset.from_polars(data)\n",
    "    dataset.set_format(type=\"numpy\", columns=[\"embed\"], output_all_columns=True)\n",
    "\n",
    "    path_index = Path(path / f\"index_{file_embed.stem}\")\n",
    "    build_index(\n",
    "        embeddings=embeddings,\n",
    "        index_path=str(path_index),\n",
    "        save_on_disk=True,\n",
    "        metric_type=\"ip\",\n",
    "        verbose=30,\n",
    "    )\n",
    "    dataset.load_faiss_index(\"embed\", path_index)\n",
    "\n",
    "    score, result = dataset.get_nearest_examples_batch(\n",
    "        \"embed\", dataset[\"embed\"], k=5\n",
    "    )\n",
    "    for i in result:\n",
    "        del i[\"embed\"]\n",
    "\n",
    "    dict_ = {\"score\": [list(i) for i in score]}\n",
    "    df_score = pl.DataFrame(dict_)\n",
    "    df_result = (\n",
    "        pl.DataFrame(result).select(pl.all().name.prefix(f\"db_\"))\n",
    "    )\n",
    "    df_match = pl.concat([df, df_result, df_score], how=\"horizontal\")\n",
    "    return df_match"
   ],
   "outputs": [],
   "execution_count": 3
  },
  {
   "cell_type": "code",
   "id": "96cc5afcf31a1e6a",
   "metadata": {
    "collapsed": false,
    "jupyter": {
     "outputs_hidden": false
    },
    "ExecuteTime": {
     "end_time": "2025-04-04T08:28:00.474295Z",
     "start_time": "2025-04-04T08:27:27.270745Z"
    }
   },
   "source": [
    "file_embed = path / \"bi_encode.npy\"\n",
    "df_match = create_search_result(file_embed, df)"
   ],
   "outputs": [
    {
     "name": "stdout",
     "output_type": "stream",
     "text": [
      "(10000, 768)\n"
     ]
    },
    {
     "name": "stderr",
     "output_type": "stream",
     "text": [
      "100%|██████████| 1/1 [00:00<00:00, 33825.03it/s]\n",
      "100%|██████████| 2/2 [00:00<00:00, 21.07it/s]\n",
      "  0%|          | 0/1 [00:00<?, ?it/s]\n"
     ]
    }
   ],
   "execution_count": 4
  },
  {
   "metadata": {
    "ExecuteTime": {
     "end_time": "2025-04-04T08:28:37.820536Z",
     "start_time": "2025-04-04T08:28:00.485307Z"
    }
   },
   "cell_type": "code",
   "source": [
    "file_embed = path / \"bge_encode.npy\"\n",
    "df_match_bge = create_search_result(file_embed, df)"
   ],
   "id": "25dcda02e0f98511",
   "outputs": [
    {
     "name": "stdout",
     "output_type": "stream",
     "text": [
      "(10000, 1024)\n"
     ]
    },
    {
     "name": "stderr",
     "output_type": "stream",
     "text": [
      "100%|██████████| 1/1 [00:00<00:00, 6384.02it/s]\n",
      "100%|██████████| 2/2 [00:00<00:00, 14.63it/s]\n",
      "  0%|          | 0/1 [00:00<?, ?it/s]\n"
     ]
    }
   ],
   "execution_count": 5
  },
  {
   "metadata": {
    "ExecuteTime": {
     "end_time": "2025-04-04T08:28:37.829497Z",
     "start_time": "2025-04-04T08:28:37.822975Z"
    }
   },
   "cell_type": "code",
   "source": [
    "rename_cols = {\"db_item_id\": \"db_bi_item_id\", \"db_item_name\": \"db_bi_item_name\", \"score\": \"score_bi\"}\n",
    "df_final = df.join(df_match.drop([\"item_name\"]).rename(rename_cols), how=\"left\", on=\"item_id\")\n",
    "\n",
    "rename_cols = {\"db_item_id\": \"db_bge_item_id\", \"db_item_name\": \"db_bge_item_name\", \"score\": \"score_bi\"}\n",
    "df_final = df_final.join(df_match_bge.drop([\"item_name\"]).rename(rename_cols), how=\"left\", on=\"item_id\")"
   ],
   "id": "486ced8721132b0d",
   "outputs": [],
   "execution_count": 6
  },
  {
   "metadata": {
    "ExecuteTime": {
     "end_time": "2025-04-04T08:28:37.921841Z",
     "start_time": "2025-04-04T08:28:37.866608Z"
    }
   },
   "cell_type": "code",
   "source": [
    "dif = [set(i[\"db_bi_item_name\"]) ^ set(i[\"db_bge_item_name\"]) for i in df_final[[\"db_bi_item_name\", \"db_bge_item_name\"]].to_dicts()]\n",
    "df_final = df_final.with_columns(\n",
    "    pl.Series(\"dif\", dif),\n",
    "    pl.Series(\"dif_len\", [len(_) for _ in dif]),\n",
    ")"
   ],
   "id": "f837e59417c7ff33",
   "outputs": [],
   "execution_count": 7
  },
  {
   "metadata": {
    "ExecuteTime": {
     "end_time": "2025-04-04T08:28:37.967979Z",
     "start_time": "2025-04-04T08:28:37.964737Z"
    }
   },
   "cell_type": "code",
   "source": "df_final",
   "id": "573bc2904efad44e",
   "outputs": [
    {
     "data": {
      "text/plain": [
       "shape: (10_000, 10)\n",
       "┌────────────┬───────────┬───────────┬───────────┬───┬───────────┬───────────┬───────────┬─────────┐\n",
       "│ item_id    ┆ item_name ┆ db_bi_ite ┆ db_bi_ite ┆ … ┆ db_bge_it ┆ score_bi_ ┆ dif       ┆ dif_len │\n",
       "│ ---        ┆ ---       ┆ m_id      ┆ m_name    ┆   ┆ em_name   ┆ right     ┆ ---       ┆ ---     │\n",
       "│ i64        ┆ str       ┆ ---       ┆ ---       ┆   ┆ ---       ┆ ---       ┆ object    ┆ i64     │\n",
       "│            ┆           ┆ list[i64] ┆ list[str] ┆   ┆ list[str] ┆ list[f32] ┆           ┆         │\n",
       "╞════════════╪═══════════╪═══════════╪═══════════╪═══╪═══════════╪═══════════╪═══════════╪═════════╡\n",
       "│ 1401945210 ┆ Mắt Mèo   ┆ [14019452 ┆ [\"Mắt Mèo ┆ … ┆ [\"Mắt Mèo ┆ [1.000086 ┆ {'YADORNO ┆ 6       │\n",
       "│ 0          ┆ Cầu Vồng  ┆ 100, 2927 ┆ Cầu Vồng  ┆   ┆ Cầu Vồng  ┆ ,         ┆ S 24      ┆         │\n",
       "│            ┆ Huaxi 7   ┆ 1686341,  ┆ Huaxi 7   ┆   ┆ Huaxi 7   ┆ 0.744827, ┆ Chiếc Thỏ ┆         │\n",
       "│            ┆ Màu T…    ┆ … 2…      ┆ Màu…      ┆   ┆ Màu…      ┆ …         ┆ Ngọt H…   ┆         │\n",
       "│            ┆           ┆           ┆           ┆   ┆           ┆ 0.64525…  ┆           ┆         │\n",
       "│ 2542350626 ┆ *FREESHIP ┆ [25423506 ┆ [\"*FREESH ┆ … ┆ [\"*FREESH ┆ [1.00047, ┆ {'CỌ      ┆ 8       │\n",
       "│ 4          ┆ * Miếng   ┆ 264, 2057 ┆ IP* Miếng ┆   ┆ IP* Miếng ┆ 0.596681, ┆ (CHỔI)    ┆         │\n",
       "│            ┆ Dán Trang ┆ 9970043,  ┆ Dán Trang ┆   ┆ Dán Trang ┆ …         ┆ QUÉT MẶT  ┆         │\n",
       "│            ┆ Trí…      ┆ … 2…      ┆ T…        ┆   ┆ T…        ┆ 0.575912… ┆ NẠ - TAY  ┆         │\n",
       "│            ┆           ┆           ┆           ┆   ┆           ┆           ┆ …         ┆         │\n",
       "│ 2565011264 ┆ (Trụ vừa) ┆ [25650112 ┆ [\"(Trụ    ┆ … ┆ [\"(Trụ    ┆ [1.000265 ┆ {'Pink    ┆ 2       │\n",
       "│ 7          ┆ Mi trụ    ┆ 647, 1173 ┆ vừa) Mi   ┆   ┆ vừa) Mi   ┆ ,         ┆ coco Son  ┆         │\n",
       "│            ┆ katun,    ┆ 0202896,  ┆ trụ       ┆   ┆ trụ       ┆ 0.809663, ┆ bóng màu  ┆         │\n",
       "│            ┆ trụ wi…   ┆ … 8…      ┆ katun,    ┆   ┆ katun,    ┆ …         ┆ hồng …    ┆         │\n",
       "│            ┆           ┆           ┆ trụ …     ┆   ┆ trụ …     ┆ 0.66048…  ┆           ┆         │\n",
       "│ 1015828134 ┆ Mascara   ┆ [10158281 ┆ [\"Mascara ┆ … ┆ [\"Mascara ┆ [0.99954, ┆ {'Gel Rửa ┆ 6       │\n",
       "│ 5          ┆ Chuốt Mi  ┆ 345, 2536 ┆ Chuốt Mi  ┆   ┆ Chuốt Mi  ┆ 0.964407, ┆ Mặt SVR   ┆         │\n",
       "│            ┆ JUDYDOLL  ┆ 4580727,  ┆ JUDYDOLL  ┆   ┆ JUDYDOLL  ┆ …         ┆ Sebiaclea ┆         │\n",
       "│            ┆ 2g D…     ┆ … 2…      ┆ 2g…       ┆   ┆ 2g…       ┆ 0.649622… ┆ r G…      ┆         │\n",
       "│ 2486662254 ┆ Bột lắc   ┆ [24866622 ┆ [\"Bột lắc ┆ … ┆ [\"Bột lắc ┆ [1.000473 ┆ {'Hộp 200 ┆ 6       │\n",
       "│            ┆ sữa       ┆ 54, 23466 ┆ sữa       ┆   ┆ sữa       ┆ ,         ┆ cây tăm   ┆         │\n",
       "│            ┆ Bledina   ┆ 354851, … ┆ Bledina   ┆   ┆ Bledina   ┆ 0.726839, ┆ bông tự   ┆         │\n",
       "│            ┆ Pháp      ┆ 24…       ┆ Pháp (Da… ┆   ┆ Pháp (Da… ┆ …         ┆ nhiê…     ┆         │\n",
       "│            ┆ (Date…    ┆           ┆           ┆   ┆           ┆ 0.71083…  ┆           ┆         │\n",
       "│ …          ┆ …         ┆ …         ┆ …         ┆ … ┆ …         ┆ …         ┆ …         ┆ …       │\n",
       "│ 2810529281 ┆ Nước Hoa  ┆ [28105292 ┆ [\"Nước    ┆ … ┆ [\"Nước    ┆ [0.99943, ┆ {'Meikode ┆ 8       │\n",
       "│ 5          ┆ Hồng      ┆ 815, 4650 ┆ Hoa Hồng  ┆   ┆ Hoa Hồng  ┆ 0.711178, ┆ ft 50     ┆         │\n",
       "│            ┆ Không Mùi ┆ 684395, … ┆ Không Mùi ┆   ┆ Không Mùi ┆ …         ┆ Chiếc     ┆         │\n",
       "│            ┆ Dành C…   ┆ 27…       ┆ Dành…     ┆   ┆ Dành…     ┆ 0.68011]  ┆ Trắng     ┆         │\n",
       "│            ┆           ┆           ┆           ┆   ┆           ┆           ┆ Tro…      ┆         │\n",
       "│ 2906614755 ┆ anpn      ┆ [29066147 ┆ [\"anpn    ┆ … ┆ [\"anpn    ┆ [1.000273 ┆ {'Combo 2 ┆ 2       │\n",
       "│ 6          ┆ Thanh Lăn ┆ 556, 2651 ┆ Thanh Lăn ┆   ┆ Thanh Lăn ┆ ,         ┆ Kẹp Bấm   ┆         │\n",
       "│            ┆ Mặt Nạ    ┆ 3412247,  ┆ Mặt Nạ    ┆   ┆ Mặt Nạ    ┆ 0.772987, ┆ Mi Choice ┆         │\n",
       "│            ┆ Đất Sét … ┆ … 2…      ┆ Đất Sé…   ┆   ┆ Đất Sé…   ┆ …         ┆ TR…       ┆         │\n",
       "│            ┆           ┆           ┆           ┆   ┆           ┆ 0.72608…  ┆           ┆         │\n",
       "│ 2344635668 ┆ Sơn gel   ┆ [23446356 ┆ [\"Sơn gel ┆ … ┆ [\"Sơn gel ┆ [0.999794 ┆ set()     ┆ 0       │\n",
       "│ 0          ┆ Ngọc Trai ┆ 680, 2532 ┆ Ngọc Trai ┆   ┆ Ngọc Trai ┆ ,         ┆           ┆         │\n",
       "│            ┆ B281 sơn  ┆ 1902320,  ┆ B281 sơn  ┆   ┆ B281 sơn  ┆ 0.895277, ┆           ┆         │\n",
       "│            ┆ ánh…      ┆ … 2…      ┆ á…        ┆   ┆ á…        ┆ …         ┆           ┆         │\n",
       "│            ┆           ┆           ┆           ┆   ┆           ┆ 0.84256…  ┆           ┆         │\n",
       "│ 1978395800 ┆ Gối Hơi   ┆ [19783958 ┆ [\"Gối Hơi ┆ … ┆ [\"Gối Hơi ┆ [0.999705 ┆ {'Cắm cọ  ┆ 6       │\n",
       "│ 2          ┆ Văn Phòng ┆ 002, 1959 ┆ Văn Phòng ┆   ┆ Văn Phòng ┆ ,         ┆ mica, ống ┆         │\n",
       "│            ┆ tiện dụng ┆ 4661282,  ┆ tiện      ┆   ┆ tiện      ┆ 0.732126, ┆ cắm cọ,   ┆         │\n",
       "│            ┆           ┆ … 2…      ┆ dụng\"…    ┆   ┆ dụng\"…    ┆ …         ┆ cắm…      ┆         │\n",
       "│            ┆           ┆           ┆           ┆   ┆           ┆ 0.58941…  ┆           ┆         │\n",
       "│ 1439827979 ┆ Máy cạo   ┆ [14398279 ┆ [\"Máy cạo ┆ … ┆ [\"Máy cạo ┆ [0.999809 ┆ {'Son     ┆ 6       │\n",
       "│ 3          ┆ râu Cắt   ┆ 793, 2760 ┆ râu Cắt   ┆   ┆ râu Cắt   ┆ ,         ┆ Tint Bóng ┆         │\n",
       "│            ┆ Tóc Không ┆ 7897564,  ┆ Tóc Không ┆   ┆ Tóc Không ┆ 0.56816,  ┆ Peripera  ┆         │\n",
       "│            ┆ Dây …     ┆ … 2…      ┆ Dâ…       ┆   ┆ Dâ…       ┆ …         ┆ Ink G…    ┆         │\n",
       "│            ┆           ┆           ┆           ┆   ┆           ┆ 0.547715… ┆           ┆         │\n",
       "└────────────┴───────────┴───────────┴───────────┴───┴───────────┴───────────┴───────────┴─────────┘"
      ],
      "text/html": [
       "<div><style>\n",
       ".dataframe > thead > tr,\n",
       ".dataframe > tbody > tr {\n",
       "  text-align: right;\n",
       "  white-space: pre-wrap;\n",
       "}\n",
       "</style>\n",
       "<small>shape: (10_000, 10)</small><table border=\"1\" class=\"dataframe\"><thead><tr><th>item_id</th><th>item_name</th><th>db_bi_item_id</th><th>db_bi_item_name</th><th>score_bi</th><th>db_bge_item_id</th><th>db_bge_item_name</th><th>score_bi_right</th><th>dif</th><th>dif_len</th></tr><tr><td>i64</td><td>str</td><td>list[i64]</td><td>list[str]</td><td>list[f32]</td><td>list[i64]</td><td>list[str]</td><td>list[f32]</td><td>object</td><td>i64</td></tr></thead><tbody><tr><td>14019452100</td><td>&quot;Mắt Mèo Cầu Vồng Huaxi 7 Màu T…</td><td>[14019452100, 29271686341, … 24039668933]</td><td>[&quot;Mắt Mèo Cầu Vồng Huaxi 7 Màu Tạo Hiệu Ứng 9D ( Siêu Hót )&quot;, &quot;Nấm Ngoài Da Cho Gà Đá , Chó ,Mèo Ketomycine Vàng Tuýp 25g&quot;, … &quot;Nước Hoa Nữ Delina Exclusif Chính Hãng - Mùi Hương Ngọt Ngào, Uy Quyền, Sang Trọng&quot;]</td><td>[0.999534, 0.735134, … 0.569959]</td><td>[14019452100, 29271686341, … 27400189915]</td><td>[&quot;Mắt Mèo Cầu Vồng Huaxi 7 Màu Tạo Hiệu Ứng 9D ( Siêu Hót )&quot;, &quot;Nấm Ngoài Da Cho Gà Đá , Chó ,Mèo Ketomycine Vàng Tuýp 25g&quot;, … &quot;YADORNOS 24 Chiếc Thỏ Ngọt Hoa Camellia Kim Cương Giả Ngọc Trai Bé Gái Móng Tay Giả Nghệ Thuật&quot;]</td><td>[1.000086, 0.744827, … 0.645257]</td><td>{&#x27;YADORNOS 24 Chiếc Thỏ Ngọt Hoa Camellia Kim Cương Giả Ngọc Trai Bé Gái Móng Tay Giả Nghệ Thuật&#x27;, &#x27;Thức Ăn Sấy Thú Cưng Mix Nhiều Vị - Dùng Được Cho Chó Và Mèo&#x27;, &#x27;Son dưỡng môi mỡ hươu Astrid Tái tạo môi khô Dưỡng môi mềm mại, Son Astrid&#x27;, &#x27;Phủ đen mi - lông mày, Thuốc nhuộm SABBUHA (3 màu: Nâu, Coffee, Đen) - Phan Dũng&#x27;, &#x27;Nước Hoa Nữ Delina Exclusif Chính Hãng - Mùi Hương Ngọt Ngào, Uy Quyền, Sang Trọng&#x27;, &#x27;Nailbox thiết kế c232 mẫu đơn giản chụp kỉ yếu đi học, đi chơi Cebi.nailbox&#x27;}</td><td>6</td></tr><tr><td>25423506264</td><td>&quot;*FREESHIP* Miếng Dán Trang Trí…</td><td>[25423506264, 20579970043, … 26817874290]</td><td>[&quot;*FREESHIP* Miếng Dán Trang Trí Móng Tay Chống Thấm Nước Hoạt Hình Dễ Thương&nbsp;&nbsp;không thấm nước cho bé&quot;, &quot;Xịt Dưỡng Tóc Hask Curl Care Argan oil 5-in-1 Leave-in Spray 175ml Phục Hồi Tóc Khỏi Hư Tổn Mềm Mượt Tóc Hàng Úc&quot;, … &quot;Hộp 32 túi mù moi moi, rùa babythree, crybaby, mộng kuromi full box túi mù rùa moimoi quà tặng cho bé&quot;]</td><td>[0.999482, 0.499663, … 0.429144]</td><td>[25423506264, 24970535248, … 17765522937]</td><td>[&quot;*FREESHIP* Miếng Dán Trang Trí Móng Tay Chống Thấm Nước Hoạt Hình Dễ Thương&nbsp;&nbsp;không thấm nước cho bé&quot;, &quot;Bộ 5 Đế Gắn Móng Quân Cờ Tập Vẽ Làm Nail | Đế Acrylic 5 Móng Nailbox Dễ Dàng Sử Dụng&quot;, … &quot;[TẶNG MÚT CHE KHUYẾT ĐIỂM] MẪU MỚI - Kem Che Khuyết Điểm CKĐ The Saem Cover Perfection Tip Concealer SPF28 PA++ 6.5g&quot;]</td><td>[1.00047, 0.596681, … 0.575912]</td><td>{&#x27;CỌ (CHỔI) QUÉT MẶT NẠ - TAY CẦM NHỰA TRONG SUỐT - TAY CẦM CÁN GỖ - CÓ THỂ SỬ DỤNG NHIỀU LẦN TIỆN LỢI 💓💓💓💓💓&#x27;, &#x27;Set 15 đầu mài giấy nhám chuyên dụng cho dân làm móng&#x27;, &#x27;(GWP) Cọ trang điểm 3CE đa năng 3CE Brush Makeup Brush 15.7cm&#x27;, &#x27;Bộ 5 Đế Gắn Móng Quân Cờ Tập Vẽ Làm Nail | Đế Acrylic 5 Móng Nailbox Dễ Dàng Sử Dụng&#x27;, &#x27;Hộp 32 túi mù moi moi, rùa babythree, crybaby, mộng kuromi full box túi mù rùa moimoi quà tặng cho bé&#x27;, &#x27;Túi xách trang điểm UNMEGONI, Túi đựng mỹ phẩm dung tích lớn bằng lưới, Túi đựng đồ vệ sinh có dây kéo hai lớp di động Du lịch&#x27;, &#x27;Xịt Dưỡng Tóc Hask Curl Care Argan oil 5-in-1 Leave-in Spray 175ml Phục Hồi Tóc Khỏi Hư Tổn Mềm Mượt Tóc Hàng Úc&#x27;, &#x27;[TẶNG MÚT CHE KHUYẾT ĐIỂM] MẪU MỚI - Kem Che Khuyết Điểm CKĐ The Saem Cover Perfection Tip Concealer SPF28 PA++ 6.5g&#x27;}</td><td>8</td></tr><tr><td>25650112647</td><td>&quot;(Trụ vừa) Mi trụ katun, trụ wi…</td><td>[25650112647, 11730202896, … 8270710040]</td><td>[&quot;(Trụ vừa) Mi trụ katun, trụ wispy SEDUIRE dùng để nối mi mắt ướt đầy đủ size (dụng cụ nối mi)&quot;, &quot;Bát ăn chống gù cho mèo chó thú cưng&quot;, … &quot;Pink coco Son bóng màu hồng dễ thương Bề mặt gương dưỡng ẩm Dưỡng ẩm thiên nhiên lâu trôi Son môi&quot;]</td><td>[1.000652, 0.771219, … 0.615231]</td><td>[25650112647, 25935229965, … 25472011611]</td><td>[&quot;(Trụ vừa) Mi trụ katun, trụ wispy SEDUIRE dùng để nối mi mắt ướt đầy đủ size (dụng cụ nối mi)&quot;, &quot;Bọt mềm tạo kiểu tóc xoăn Bloom 300ml&quot;, … &quot;Móng chân giả NGẮN màu nude ML02 nhạt nail box chân GIÁ RẺ đẹp đơn giản thích hợp đi chơi tặng keo dán móng MC053&quot;]</td><td>[1.000265, 0.809663, … 0.660487]</td><td>{&#x27;Pink coco Son bóng màu hồng dễ thương Bề mặt gương dưỡng ẩm Dưỡng ẩm thiên nhiên lâu trôi Son môi&#x27;, &#x27;Móng chân giả NGẮN màu nude ML02 nhạt nail box chân GIÁ RẺ đẹp đơn giản thích hợp đi chơi tặng keo dán móng MC053&#x27;}</td><td>2</td></tr><tr><td>10158281345</td><td>&quot;Mascara Chuốt Mi JUDYDOLL 2g D…</td><td>[10158281345, 25364580727, … 27402150482]</td><td>[&quot;Mascara Chuốt Mi JUDYDOLL 2g Dày Dài Siêu Cong Lâu Trôi Chống Thấm Nước Suốt 24h Curling Iron Mascara&quot;, &quot;Thùng 48 hộp sữa lúa mạch Nestlé MILO x 110ml (12x4x110ml)&quot;, … &quot;Kem Dưỡng Da Dưỡng Ẩm, Mềm Mịn Chống Nứt Nẻ Da Johnson&#x27;s Baby 50g&quot;]</td><td>[1.000034, 0.996156, … 0.526873]</td><td>[10158281345, 25364580727, … 17013806157]</td><td>[&quot;Mascara Chuốt Mi JUDYDOLL 2g Dày Dài Siêu Cong Lâu Trôi Chống Thấm Nước Suốt 24h Curling Iron Mascara&quot;, &quot;Thùng 48 hộp sữa lúa mạch Nestlé MILO x 110ml (12x4x110ml)&quot;, … &quot;Gel Rửa Mặt SVR Sebiaclear Gel Moussant Hasaki Sản Phẩm Chính Hãng&quot;]</td><td>[0.99954, 0.964407, … 0.649622]</td><td>{&#x27;Gel Rửa Mặt SVR Sebiaclear Gel Moussant Hasaki Sản Phẩm Chính Hãng&#x27;, &#x27;Combo đi sinh CB03 đầy đủ đồ dùng thiết cho mẹ và bé đi sinh-Tặng thau tắm bé,gối chống trào&#x27;, &#x27;Nước tẩy trang bí đao Cocoon tẩy sạch makeup cho da dầu mụn| Cherry Beauty&#x27;, &#x27;Sáp Khử Mùi Nữ Dove Moisturizers 74gr Mỹ - Ngăn Tiết Mồ Hôi 24h&#x27;, &quot;Kem Dưỡng Da Dưỡng Ẩm, Mềm Mịn Chống Nứt Nẻ Da Johnson&#x27;s Baby 50g&quot;, &#x27;Kem Chống Rát Da Đầu Khi Làm Hóa Chất Ziemlich | Chenglovehair, Chenglovehairs&#x27;}</td><td>6</td></tr><tr><td>2486662254</td><td>&quot;Bột lắc sữa Bledina Pháp (Date…</td><td>[2486662254, 23466354851, … 24405812537]</td><td>[&quot;Bột lắc sữa Bledina Pháp (Date 2025)&quot;, &quot;Mặt Nạ Sủi Bọt Thải Độc Chiết Xuất Bơ Sạch Sâu Lỗ Chân Lông, Hỗ Trợ Giảm Hết Mụn, Nhờn, Mềm Mịn Da&quot;, … &quot;Cây Chà Gót Chân Tẩy Da Chết 2 Mặt - Cây Mài Gót Chân Tẩy Tế Bào Chết Tại Nhà&quot;]</td><td>[1.0003, 0.624504, … 0.563621]</td><td>[2486662254, 24672948554, … 25230361735]</td><td>[&quot;Bột lắc sữa Bledina Pháp (Date 2025)&quot;, &quot;gạo séng cù tròn điện biên dẻo ngon đậm vị bao 5kg&quot;, … &quot;Kem Face Đêm X3 Đông Trùng Hạ Thảo 15g [Hàng Công Ty] Hỗ Trợ Dưỡng Trắng Da, Giữ Ẩm, Ngừa Lão Hóa Da&quot;]</td><td>[1.000473, 0.726839, … 0.710833]</td><td>{&#x27;Hộp 200 cây tăm bông tự nhiên ngoáy tai 2 đầu an toàn&#x27;, &#x27;Mặt Nạ Sủi Bọt Thải Độc Chiết Xuất Bơ Sạch Sâu Lỗ Chân Lông, Hỗ Trợ Giảm Hết Mụn, Nhờn, Mềm Mịn Da&#x27;, &#x27;Kem Face Đêm X3 Đông Trùng Hạ Thảo 15g [Hàng Công Ty] Hỗ Trợ Dưỡng Trắng Da, Giữ Ẩm, Ngừa Lão Hóa Da&#x27;, &#x27;gạo séng cù tròn điện biên dẻo ngon đậm vị bao 5kg&#x27;, &#x27;Cây Chà Gót Chân Tẩy Da Chết 2 Mặt - Cây Mài Gót Chân Tẩy Tế Bào Chết Tại Nhà&#x27;, &#x27;Combo 2 Son Tint Nước Mịn Lì Thuần Chay SUGARPLUM MistyNow Blurring Tint (2 x 3.8g)&#x27;}</td><td>6</td></tr><tr><td>&hellip;</td><td>&hellip;</td><td>&hellip;</td><td>&hellip;</td><td>&hellip;</td><td>&hellip;</td><td>&hellip;</td><td>&hellip;</td><td>&hellip;</td><td>&hellip;</td></tr><tr><td>28105292815</td><td>&quot;Nước Hoa Hồng Không Mùi Dành C…</td><td>[28105292815, 4650684395, … 27601130165]</td><td>[&quot;Nước Hoa Hồng Không Mùi Dành Cho Da Nhạy Cảm Klairs Supple Preparation Unscented Toner 180ml&quot;, &quot;Tã dạng chân váy làm bằng cotton chống thấm nước dành cho bé thiết kế chất lượng cao&quot;, … &quot;Meikodeft 50 Chiếc Trắng Trong Suốt Series Móng Tay Kim Cương Giả Flatback Pha Lê Đá Quý 3D Lấp Lánh Móng Tay Nghệ Thuật Trang Trí VN&quot;]</td><td>[0.999682, 0.559834, … 0.54208]</td><td>[28105292815, 26106417599, … 9665792755]</td><td>[&quot;Nước Hoa Hồng Không Mùi Dành Cho Da Nhạy Cảm Klairs Supple Preparation Unscented Toner 180ml&quot;, &quot;[Handmade] 10 Chiếc Móng Tay Giả Thiết Kế Mắt Mèo Với Kích Cỡ Khác Nhau, Thiết Kế Tinh Tế Và Dày Hơn Với Keo Thạch&quot;, … &quot;Son Dưỡng Mediheal Làm Mờ Thâm Môi, Mềm Môi, Hồng Môi Labocare Healbalm 10ml&quot;]</td><td>[0.99943, 0.711178, … 0.68011]</td><td>{&#x27;Meikodeft 50 Chiếc Trắng Trong Suốt Series Móng Tay Kim Cương Giả Flatback Pha Lê Đá Quý 3D Lấp Lánh Móng Tay Nghệ Thuật Trang Trí VN&#x27;, &#x27;Son Dưỡng Mediheal Làm Mờ Thâm Môi, Mềm Môi, Hồng Môi Labocare Healbalm 10ml&#x27;, &#x27;[MUA 5 Tặng 2] Combo&nbsp;&nbsp;7 bịch Cơm cháy siêu chà bông siêu ngon&#x27;, &quot;Gel Dưỡng Cấp Nước I&#x27;m From Vitamin Tree Water Gel 75g&quot;, &#x27;[Handmade] 10 Chiếc Móng Tay Giả Thiết Kế Mắt Mèo Với Kích Cỡ Khác Nhau, Thiết Kế Tinh Tế Và Dày Hơn Với Keo Thạch&#x27;, &#x27;Tã dạng chân váy làm bằng cotton chống thấm nước dành cho bé thiết kế chất lượng cao&#x27;, &#x27;【Hương Quế】Xà Bông Handmade 100% Dầu Dừa Tự Nhiên Làm Ấm và Giảm Mụn&#x27;, &#x27;BÔNG CẮT SẴN 1200 MIẾNG Không Xơ Dệt Dành Cho Phun Xăm&#x27;}</td><td>8</td></tr><tr><td>29066147556</td><td>&quot;anpn Thanh Lăn Mặt Nạ Đất Sét …</td><td>[29066147556, 26513412247, … 23284832121]</td><td>[&quot;anpn Thanh Lăn Mặt Nạ Đất Sét Bùn Khoáng Xanh Với Chiết Xuất Bột Trà Xanh Và Rau Má Clay Stick Mask 40g&quot;, &quot;[YJ022] Sơn gel Xeijayi chính hãng siêu đặc màu nâu rêu mã YJ022 15ml&quot;, … &quot;[HỘP 750g] Hạt dinh dưỡng cao cấp Bổ sung DHA + Phô Mai Khô GULU FOODS&quot;]</td><td>[0.999359, 0.787585, … 0.761288]</td><td>[29066147556, 10398530262, … 24134278749]</td><td>[&quot;anpn Thanh Lăn Mặt Nạ Đất Sét Bùn Khoáng Xanh Với Chiết Xuất Bột Trà Xanh Và Rau Má Clay Stick Mask 40g&quot;, &quot;Socola tươi Melty Kiss Meiji Nội Địa Nhật&quot;, … &quot;Combo 2 Kẹp Bấm Mi Choice TR1-23740-3 Siêu Cong Inox Cao Cấp Bấm Êm Tặng Kèm 1 Đệm Kẹp&quot;]</td><td>[1.000273, 0.772987, … 0.726087]</td><td>{&#x27;Combo 2 Kẹp Bấm Mi Choice TR1-23740-3 Siêu Cong Inox Cao Cấp Bấm Êm Tặng Kèm 1 Đệm Kẹp&#x27;, &#x27;Túi Da Đựng Mỹ Phẩm M.O.I [QUÀ TẶNG]&#x27;}</td><td>2</td></tr><tr><td>23446356680</td><td>&quot;Sơn gel Ngọc Trai B281 sơn ánh…</td><td>[23446356680, 25321902320, … 23224005652]</td><td>[&quot;Sơn gel Ngọc Trai B281 sơn ánh trai chất đậm đặc, sơn mướt lên màu cực chuẩn cho móng tay&quot;, &quot;Cappuvini Heart Pink Lip Gloss, Màu sắc sống động, Kết thúc mọng nước &amp; bóng, Men dưỡng ẩm lâu trôi Màu sắc cao, Trang điểm trong suốt &amp; tự nhiên, Son bóng môi&quot;, … &quot;Bấm móng tay đa năng&quot;]</td><td>[1.000353, 0.773589, … 0.701994]</td><td>[23446356680, 27359796718, … 23224005652]</td><td>[&quot;Sơn gel Ngọc Trai B281 sơn ánh trai chất đậm đặc, sơn mướt lên màu cực chuẩn cho móng tay&quot;, &quot;Sticker 5D hình dán móng tay hoạ tiết ngôi sao 5 cánh đính đá cao cấp phong cách Y2K phụ kiện trang trí móng tay nail&quot;, … &quot;Bấm móng tay đa năng&quot;]</td><td>[0.999794, 0.895277, … 0.842562]</td><td>set()</td><td>0</td></tr><tr><td>19783958002</td><td>&quot;Gối Hơi Văn Phòng tiện dụng&quot;</td><td>[19783958002, 19594661282, … 27502880405]</td><td>[&quot;Gối Hơi Văn Phòng tiện dụng&quot;, &quot;Xương Uốn Tóc - DỤng Cụ Hỗ Trợ Làm Tóc&quot;, … &quot;Máy Triệt Lông Vĩnh Viễn Cầm Tay Tại Nhà Parsion&quot;]</td><td>[1.000325, 0.591591, … 0.446051]</td><td>[19783958002, 19594661282, … 20248518085]</td><td>[&quot;Gối Hơi Văn Phòng tiện dụng&quot;, &quot;Xương Uốn Tóc - DỤng Cụ Hỗ Trợ Làm Tóc&quot;, … &quot;Cắm cọ mica, ống cắm cọ, cắm bút&quot;]</td><td>[0.999705, 0.732126, … 0.589415]</td><td>{&#x27;Cắm cọ mica, ống cắm cọ, cắm bút&#x27;, &#x27;Nước tẩy trang bí đao Cocoon tẩy sạch makeup cho da dầu mụn| Cherry Beauty&#x27;, &#x27;Máy Triệt Lông Vĩnh Viễn Cầm Tay Tại Nhà Parsion&#x27;, &#x27;Bàn chải trang điểm Bàn chải trang điểm cá nhân Bàn chải che khuyết điểm Bàn chải trang điểm bút kẻ mắt Bàn chải trang điểm&#x27;, &#x27;Meso dạng bôi giúp da trắng mịn căng bóng (10ml) - Lamer&#x27;, &#x27;Dao thép không gỉ gọt cắt tỉa 2 đầu hỗ trợ cho epoxy putty kết hợp pha trộn sơn - model trimming knife - Dụng cụ mô hình&#x27;}</td><td>6</td></tr><tr><td>14398279793</td><td>&quot;Máy cạo râu Cắt Tóc Không Dây …</td><td>[14398279793, 27607897564, … 23089865016]</td><td>[&quot;Máy cạo râu Cắt Tóc Không Dây Có Thể Sạc Lại Tiện Dụng&quot;, &quot;🍧Pudding🍧Lô cuốn uốn tóc mái bay tự dính xoăn Hàn Quốc iLita đủ size to nhỏ&quot;, … &quot;Combo 5 Mặt nạ chăm sóc da chuyên sâu Wonjin DR Wonjin các loại 30ml x5&quot;]</td><td>[1.000149, 0.539177, … 0.529381]</td><td>[14398279793, 26261967768, … 24725731827]</td><td>[&quot;Máy cạo râu Cắt Tóc Không Dây Có Thể Sạc Lại Tiện Dụng&quot;, &quot;[Fullbox]Hộp Mù Blind Box Labubu V2 - Hộp Mù Móc Khóa Labubu Macaron Pop Mart V2 Rep 1:1&quot;, … &quot;Son Tint Bóng Peripera Ink Glasting Lip Gloss (đầy đủ mã màu)&quot;]</td><td>[0.999809, 0.56816, … 0.547715]</td><td>{&#x27;Son Tint Bóng Peripera Ink Glasting Lip Gloss (đầy đủ mã màu)&#x27;, &#x27;Combo 5 Mặt nạ chăm sóc da chuyên sâu Wonjin DR Wonjin các loại 30ml x5&#x27;, &#x27;🍧Pudding🍧Lô cuốn uốn tóc mái bay tự dính xoăn Hàn Quốc iLita đủ size to nhỏ&#x27;, &#x27;Lương khô nhiều vị fucuco 400gr, lương khô SBT 285gr bổ sung năng lượng cho bữa ăn&#x27;, &#x27;[Fullbox]Hộp Mù Blind Box Labubu V2 - Hộp Mù Móc Khóa Labubu Macaron Pop Mart V2 Rep 1:1&#x27;, &#x27;Nước Tẩy Sơn Móng Aceton&#x27;}</td><td>6</td></tr></tbody></table></div>"
      ]
     },
     "execution_count": 8,
     "metadata": {},
     "output_type": "execute_result"
    }
   ],
   "execution_count": 8
  },
  {
   "metadata": {
    "ExecuteTime": {
     "end_time": "2025-04-04T08:34:26.242693Z",
     "start_time": "2025-04-04T08:34:25.804752Z"
    }
   },
   "cell_type": "code",
   "source": [
    "for n in [\"item_name\", \"db_bi_item_name\", \"db_bge_item_name\", \"dif\"]:\n",
    "    print(\"=\" * 20)\n",
    "    print(df_final.to_dicts()[3][n])"
   ],
   "id": "a0e4aaa1b659e562",
   "outputs": [
    {
     "name": "stdout",
     "output_type": "stream",
     "text": [
      "====================\n",
      "Mascara Chuốt Mi JUDYDOLL 2g Dày Dài Siêu Cong Lâu Trôi Chống Thấm Nước Suốt 24h Curling Iron Mascara\n",
      "====================\n",
      "['Mascara Chuốt Mi JUDYDOLL 2g Dày Dài Siêu Cong Lâu Trôi Chống Thấm Nước Suốt 24h Curling Iron Mascara', 'Thùng 48 hộp sữa lúa mạch Nestlé MILO x 110ml (12x4x110ml)', 'Combo đi sinh CB03 đầy đủ đồ dùng thiết cho mẹ và bé đi sinh-Tặng thau tắm bé,gối chống trào', 'Kem Chống Rát Da Đầu Khi Làm Hóa Chất Ziemlich | Chenglovehair, Chenglovehairs', \"Kem Dưỡng Da Dưỡng Ẩm, Mềm Mịn Chống Nứt Nẻ Da Johnson's Baby 50g\"]\n",
      "====================\n",
      "['Mascara Chuốt Mi JUDYDOLL 2g Dày Dài Siêu Cong Lâu Trôi Chống Thấm Nước Suốt 24h Curling Iron Mascara', 'Thùng 48 hộp sữa lúa mạch Nestlé MILO x 110ml (12x4x110ml)', 'Nước tẩy trang bí đao Cocoon tẩy sạch makeup cho da dầu mụn| Cherry Beauty', 'Sáp Khử Mùi Nữ Dove Moisturizers 74gr Mỹ - Ngăn Tiết Mồ Hôi 24h', 'Gel Rửa Mặt SVR Sebiaclear Gel Moussant Hasaki Sản Phẩm Chính Hãng']\n",
      "====================\n",
      "{'Gel Rửa Mặt SVR Sebiaclear Gel Moussant Hasaki Sản Phẩm Chính Hãng', 'Combo đi sinh CB03 đầy đủ đồ dùng thiết cho mẹ và bé đi sinh-Tặng thau tắm bé,gối chống trào', 'Nước tẩy trang bí đao Cocoon tẩy sạch makeup cho da dầu mụn| Cherry Beauty', 'Sáp Khử Mùi Nữ Dove Moisturizers 74gr Mỹ - Ngăn Tiết Mồ Hôi 24h', \"Kem Dưỡng Da Dưỡng Ẩm, Mềm Mịn Chống Nứt Nẻ Da Johnson's Baby 50g\", 'Kem Chống Rát Da Đầu Khi Làm Hóa Chất Ziemlich | Chenglovehair, Chenglovehairs'}\n"
     ]
    }
   ],
   "execution_count": 19
  },
  {
   "metadata": {
    "ExecuteTime": {
     "end_time": "2025-04-04T08:29:45.610039Z",
     "start_time": "2025-04-04T08:29:45.607867Z"
    }
   },
   "cell_type": "code",
   "source": "df_final[\"db_bi_item_name\"][0]",
   "id": "63c66c7691cb2743",
   "outputs": [
    {
     "data": {
      "text/plain": [
       "shape: (5,)\n",
       "Series: '' [str]\n",
       "[\n",
       "\t\"Mắt Mèo Cầu Vồng Huaxi 7 Màu T…\n",
       "\t\"Nấm Ngoài Da Cho Gà Đá , Chó ,…\n",
       "\t\"Son dưỡng môi mỡ hươu Astrid T…\n",
       "\t\"Thức Ăn Sấy Thú Cưng Mix Nhiều…\n",
       "\t\"Nước Hoa Nữ Delina Exclusif Ch…\n",
       "]"
      ],
      "text/html": [
       "<div><style>\n",
       ".dataframe > thead > tr,\n",
       ".dataframe > tbody > tr {\n",
       "  text-align: right;\n",
       "  white-space: pre-wrap;\n",
       "}\n",
       "</style>\n",
       "<small>shape: (5,)</small><table border=\"1\" class=\"dataframe\"><thead><tr><th></th></tr><tr><td>str</td></tr></thead><tbody><tr><td>&quot;Mắt Mèo Cầu Vồng Huaxi 7 Màu T…</td></tr><tr><td>&quot;Nấm Ngoài Da Cho Gà Đá , Chó ,…</td></tr><tr><td>&quot;Son dưỡng môi mỡ hươu Astrid T…</td></tr><tr><td>&quot;Thức Ăn Sấy Thú Cưng Mix Nhiều…</td></tr><tr><td>&quot;Nước Hoa Nữ Delina Exclusif Ch…</td></tr></tbody></table></div>"
      ]
     },
     "execution_count": 10,
     "metadata": {},
     "output_type": "execute_result"
    }
   ],
   "execution_count": 10
  },
  {
   "metadata": {},
   "cell_type": "code",
   "outputs": [],
   "execution_count": null,
   "source": "",
   "id": "793a3ab93c973fc1"
  }
 ],
 "metadata": {
  "kernelspec": {
   "display_name": "Python 3 (ipykernel)",
   "language": "python",
   "name": "python3"
  },
  "language_info": {
   "codemirror_mode": {
    "name": "ipython",
    "version": 3
   },
   "file_extension": ".py",
   "mimetype": "text/x-python",
   "name": "python",
   "nbconvert_exporter": "python",
   "pygments_lexer": "ipython3",
   "version": "3.12.7"
  }
 },
 "nbformat": 4,
 "nbformat_minor": 5
}
