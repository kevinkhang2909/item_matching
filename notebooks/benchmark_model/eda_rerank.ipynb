{
 "cells": [
  {
   "cell_type": "code",
   "id": "initial_id",
   "metadata": {
    "collapsed": true,
    "ExecuteTime": {
     "end_time": "2024-11-25T10:23:22.107085Z",
     "start_time": "2024-11-25T10:23:22.105069Z"
    }
   },
   "source": [
    "from core_pro.ultilities import make_sync_folder, update_df\n",
    "import duckdb"
   ],
   "outputs": [],
   "execution_count": 4
  },
  {
   "metadata": {
    "ExecuteTime": {
     "end_time": "2024-11-25T10:23:22.157066Z",
     "start_time": "2024-11-25T10:23:22.150449Z"
    }
   },
   "cell_type": "code",
   "source": [
    "path = make_sync_folder('Item_Matching_Test')\n",
    "file = path / 'result_match_rerank/Fashion Accessories__Additional Accessories__Charms, Pendants & Ornaments.parquet'\n",
    "\n",
    "query = f\"\"\"\n",
    "select * exclude(q_images, db_images, q_description, db_description)\n",
    "from read_parquet('{file}')\n",
    "where score_mean >= .8\n",
    "\"\"\"\n",
    "df = duckdb.sql(query).pl()\n",
    "df.head()"
   ],
   "id": "c6be0264096ce7bf",
   "outputs": [
    {
     "data": {
      "text/plain": [
       "shape: (5, 20)\n",
       "┌────────────┬───────────┬───────────┬───────────┬───┬───────────┬───────────┬───────────┬─────────┐\n",
       "│ q_category ┆ q_cluster ┆ q_item_id ┆ q_item_na ┆ … ┆ score_ima ┆ score_mea ┆ score_tex ┆ ranking │\n",
       "│ ---        ┆ ---       ┆ ---       ┆ me        ┆   ┆ ge        ┆ n         ┆ t         ┆ ---     │\n",
       "│ str        ┆ str       ┆ i64       ┆ ---       ┆   ┆ ---       ┆ ---       ┆ ---       ┆ i64     │\n",
       "│            ┆           ┆           ┆ str       ┆   ┆ f64       ┆ f64       ┆ f64       ┆         │\n",
       "╞════════════╪═══════════╪═══════════╪═══════════╪═══╪═══════════╪═══════════╪═══════════╪═════════╡\n",
       "│ Fashion    ┆ Fashion   ┆ 255073650 ┆ Bộ 5 Mặt  ┆ … ┆ 0.890272  ┆ 0.821208  ┆ 0.752143  ┆ 1       │\n",
       "│ Accessorie ┆           ┆ 77        ┆ Dây       ┆   ┆           ┆           ┆           ┆         │\n",
       "│ s__Additio ┆           ┆           ┆ Chuyền    ┆   ┆           ┆           ┆           ┆         │\n",
       "│ na…        ┆           ┆           ┆ Hình Đầu  ┆   ┆           ┆           ┆           ┆         │\n",
       "│            ┆           ┆           ┆ L…        ┆   ┆           ┆           ┆           ┆         │\n",
       "│ Fashion    ┆ Fashion   ┆ 288024261 ┆ St.       ┆ … ┆ 0.83589   ┆ 0.831394  ┆ 0.826897  ┆ 1       │\n",
       "│ Accessorie ┆           ┆ 34        ┆ kunkka    ┆   ┆           ┆           ┆           ┆         │\n",
       "│ s__Additio ┆           ┆           ┆ 100-200   ┆   ┆           ┆           ┆           ┆         │\n",
       "│ na…        ┆           ┆           ┆ Chiếc     ┆   ┆           ┆           ┆           ┆         │\n",
       "│            ┆           ┆           ┆ Acryl…    ┆   ┆           ┆           ┆           ┆         │\n",
       "│ Fashion    ┆ Fashion   ┆ 295613770 ┆ Đính Hạt  ┆ … ┆ 0.821503  ┆ 0.82711   ┆ 0.832718  ┆ 1       │\n",
       "│ Accessorie ┆           ┆ 94        ┆ Thẳng Lỗ  ┆   ┆           ┆           ┆           ┆         │\n",
       "│ s__Additio ┆           ┆           ┆ Tự Làm    ┆   ┆           ┆           ┆           ┆         │\n",
       "│ na…        ┆           ┆           ┆ Phụ K…    ┆   ┆           ┆           ┆           ┆         │\n",
       "│ Fashion    ┆ Fashion   ┆ 295613770 ┆ Đính Hạt  ┆ … ┆ 0.84116   ┆ 0.808107  ┆ 0.775054  ┆ 2       │\n",
       "│ Accessorie ┆           ┆ 94        ┆ Thẳng Lỗ  ┆   ┆           ┆           ┆           ┆         │\n",
       "│ s__Additio ┆           ┆           ┆ Tự Làm    ┆   ┆           ┆           ┆           ┆         │\n",
       "│ na…        ┆           ┆           ┆ Phụ K…    ┆   ┆           ┆           ┆           ┆         │\n",
       "│ Fashion    ┆ Fashion   ┆ 273143539 ┆ Charm Moi ┆ … ┆ 0.874399  ┆ 0.802209  ┆ 0.73002   ┆ 1       │\n",
       "│ Accessorie ┆           ┆ 92        ┆ Trái Cây  ┆   ┆           ┆           ┆           ┆         │\n",
       "│ s__Additio ┆           ┆           ┆ Em Bé     ┆   ┆           ┆           ┆           ┆         │\n",
       "│ na…        ┆           ┆           ┆ Ngồi …    ┆   ┆           ┆           ┆           ┆         │\n",
       "└────────────┴───────────┴───────────┴───────────┴───┴───────────┴───────────┴───────────┴─────────┘"
      ],
      "text/html": [
       "<div><style>\n",
       ".dataframe > thead > tr,\n",
       ".dataframe > tbody > tr {\n",
       "  text-align: right;\n",
       "  white-space: pre-wrap;\n",
       "}\n",
       "</style>\n",
       "<small>shape: (5, 20)</small><table border=\"1\" class=\"dataframe\"><thead><tr><th>q_category</th><th>q_cluster</th><th>q_item_id</th><th>q_item_name</th><th>q_shop_id</th><th>q_shop_name</th><th>q_url</th><th>db_category</th><th>db_cluster</th><th>db_item_id</th><th>db_item_name</th><th>db_shop_id</th><th>db_shop_name</th><th>db_url</th><th>q_image_url</th><th>db_image_url</th><th>score_image</th><th>score_mean</th><th>score_text</th><th>ranking</th></tr><tr><td>str</td><td>str</td><td>i64</td><td>str</td><td>i64</td><td>str</td><td>str</td><td>str</td><td>str</td><td>i64</td><td>str</td><td>i64</td><td>str</td><td>str</td><td>str</td><td>str</td><td>f64</td><td>f64</td><td>f64</td><td>i64</td></tr></thead><tbody><tr><td>&quot;Fashion&nbsp;Accessories__Additiona…</td><td>&quot;Fashion&quot;</td><td>25507365077</td><td>&quot;Bộ&nbsp;5&nbsp;Mặt&nbsp;Dây&nbsp;Chuyền&nbsp;Hình&nbsp;Đầu&nbsp;L…</td><td>379903869</td><td>&quot;Zigufly&nbsp;Official&nbsp;Store&quot;</td><td>&quot;https://shopee.vn/product/3799…</td><td>&quot;Fashion&nbsp;Accessories__Additiona…</td><td>&quot;Fashion&quot;</td><td>25201497879</td><td>&quot;St.&nbsp;kunkka&nbsp;30&nbsp;Mặt&nbsp;Dây&nbsp;Chuyền&nbsp;B…</td><td>284378953</td><td>&quot;St.Kunkka&nbsp;Boutique&nbsp;Beads&quot;</td><td>&quot;https://shopee.vn/product/2843…</td><td>&quot;=IMAGE(&quot;http://f.shopee.vn/fil…</td><td>&quot;=IMAGE(&quot;http://f.shopee.vn/fil…</td><td>0.890272</td><td>0.821208</td><td>0.752143</td><td>1</td></tr><tr><td>&quot;Fashion&nbsp;Accessories__Additiona…</td><td>&quot;Fashion&quot;</td><td>28802426134</td><td>&quot;St.&nbsp;kunkka&nbsp;100-200&nbsp;Chiếc&nbsp;Acryl…</td><td>284378953</td><td>&quot;St.Kunkka&nbsp;Boutique&nbsp;Beads&quot;</td><td>&quot;https://shopee.vn/product/2843…</td><td>&quot;Fashion&nbsp;Accessories__Additiona…</td><td>&quot;Fashion&quot;</td><td>26054048605</td><td>&quot;St.&nbsp;kunkka&nbsp;8mm&nbsp;Acrylic&nbsp;Hạt&nbsp;Tro…</td><td>284378953</td><td>&quot;St.Kunkka&nbsp;Boutique&nbsp;Beads&quot;</td><td>&quot;https://shopee.vn/product/2843…</td><td>&quot;=IMAGE(&quot;http://f.shopee.vn/fil…</td><td>&quot;=IMAGE(&quot;http://f.shopee.vn/fil…</td><td>0.83589</td><td>0.831394</td><td>0.826897</td><td>1</td></tr><tr><td>&quot;Fashion&nbsp;Accessories__Additiona…</td><td>&quot;Fashion&quot;</td><td>29561377094</td><td>&quot;Đính&nbsp;Hạt&nbsp;Thẳng&nbsp;Lỗ&nbsp;Tự&nbsp;Làm&nbsp;Phụ&nbsp;K…</td><td>1141590283</td><td>&quot;yellowblue.vn&quot;</td><td>&quot;https://shopee.vn/product/1141…</td><td>&quot;Fashion&nbsp;Accessories__Additiona…</td><td>&quot;Fashion&quot;</td><td>28111317200</td><td>&quot;Đính&nbsp;Hạt&nbsp;Miếng&nbsp;Đệm&nbsp;Tròn&nbsp;Đính&nbsp;H…</td><td>1141590283</td><td>&quot;yellowblue.vn&quot;</td><td>&quot;https://shopee.vn/product/1141…</td><td>&quot;=IMAGE(&quot;http://f.shopee.vn/fil…</td><td>&quot;=IMAGE(&quot;http://f.shopee.vn/fil…</td><td>0.821503</td><td>0.82711</td><td>0.832718</td><td>1</td></tr><tr><td>&quot;Fashion&nbsp;Accessories__Additiona…</td><td>&quot;Fashion&quot;</td><td>29561377094</td><td>&quot;Đính&nbsp;Hạt&nbsp;Thẳng&nbsp;Lỗ&nbsp;Tự&nbsp;Làm&nbsp;Phụ&nbsp;K…</td><td>1141590283</td><td>&quot;yellowblue.vn&quot;</td><td>&quot;https://shopee.vn/product/1141…</td><td>&quot;Fashion&nbsp;Accessories__Additiona…</td><td>&quot;Fashion&quot;</td><td>28416438009</td><td>&quot;Bút&nbsp;Hạt&nbsp;Full&nbsp;Kim&nbsp;Cương&nbsp;Lỗ&nbsp;Thẳn…</td><td>1141590283</td><td>&quot;yellowblue.vn&quot;</td><td>&quot;https://shopee.vn/product/1141…</td><td>&quot;=IMAGE(&quot;http://f.shopee.vn/fil…</td><td>&quot;=IMAGE(&quot;http://f.shopee.vn/fil…</td><td>0.84116</td><td>0.808107</td><td>0.775054</td><td>2</td></tr><tr><td>&quot;Fashion&nbsp;Accessories__Additiona…</td><td>&quot;Fashion&quot;</td><td>27314353992</td><td>&quot;Charm&nbsp;Moi&nbsp;Trái&nbsp;Cây&nbsp;Em&nbsp;Bé&nbsp;Ngồi&nbsp;…</td><td>63165003</td><td>&quot;Bách&nbsp;Hóa&nbsp;Emmie&quot;</td><td>&quot;https://shopee.vn/product/6316…</td><td>&quot;Fashion&nbsp;Accessories__Additiona…</td><td>&quot;Fashion&quot;</td><td>28411442681</td><td>&quot;Charm&nbsp;DIY&nbsp;Em&nbsp;Bé&nbsp;Trái&nbsp;Cây&nbsp;MOI&nbsp;N…</td><td>1119333203</td><td>&quot;NaBii&nbsp;Phụ&nbsp;kiện&nbsp;&amp;&nbsp;Quà&nbsp;tặng&quot;</td><td>&quot;https://shopee.vn/product/1119…</td><td>&quot;=IMAGE(&quot;http://f.shopee.vn/fil…</td><td>&quot;=IMAGE(&quot;http://f.shopee.vn/fil…</td><td>0.874399</td><td>0.802209</td><td>0.73002</td><td>1</td></tr></tbody></table></div>"
      ]
     },
     "execution_count": 5,
     "metadata": {},
     "output_type": "execute_result"
    }
   ],
   "execution_count": 5
  },
  {
   "metadata": {
    "ExecuteTime": {
     "end_time": "2024-11-25T10:23:24.404619Z",
     "start_time": "2024-11-25T10:23:22.207351Z"
    }
   },
   "cell_type": "code",
   "source": [
    "sh = '1JQiN33Z8hTPd_ENBAoqToMKXGr2Qp5ZU0rjvFPHCTAI'\n",
    "update_df(df.head(1000), 'sample', sh)"
   ],
   "id": "7ffa1b43fc792ba4",
   "outputs": [
    {
     "data": {
      "text/plain": [
       "\u001B[38;5;40m🐶 Sheet\u001B[0m Update values at: sample!A1:T\n"
      ],
      "text/html": [
       "<pre style=\"white-space:pre;overflow-x:auto;line-height:normal;font-family:Menlo,'DejaVu Sans Mono',consolas,'Courier New',monospace\"><span style=\"color: #00d700; text-decoration-color: #00d700\">🐶 Sheet</span> Update values at: sample!A1:T\n",
       "</pre>\n"
      ]
     },
     "metadata": {},
     "output_type": "display_data"
    }
   ],
   "execution_count": 6
  },
  {
   "metadata": {
    "ExecuteTime": {
     "end_time": "2024-11-25T10:26:08.055957Z",
     "start_time": "2024-11-25T10:26:04.989093Z"
    }
   },
   "cell_type": "code",
   "source": [
    "path = make_sync_folder('Item_Matching_Test')\n",
    "file = path / 'result_match_rerank/Baby & Kids Fashion__Boy Shoes__Sneakers.parquet'\n",
    "\n",
    "query = f\"\"\"\n",
    "select * exclude(q_images, db_images, q_description, db_description)\n",
    "from read_parquet('{file}')\n",
    "where score_mean >= .8\n",
    "\"\"\"\n",
    "df = duckdb.sql(query).pl()\n",
    "update_df(df.head(1000), 'sample_2', sh)"
   ],
   "id": "4ecbad74818a17a0",
   "outputs": [
    {
     "data": {
      "text/plain": [
       "\u001B[38;5;40m🐶 Sheet\u001B[0m Create New Sheet: sample_2\n"
      ],
      "text/html": [
       "<pre style=\"white-space:pre;overflow-x:auto;line-height:normal;font-family:Menlo,'DejaVu Sans Mono',consolas,'Courier New',monospace\"><span style=\"color: #00d700; text-decoration-color: #00d700\">🐶 Sheet</span> Create New Sheet: sample_2\n",
       "</pre>\n"
      ]
     },
     "metadata": {},
     "output_type": "display_data"
    },
    {
     "data": {
      "text/plain": [
       "\u001B[38;5;40m🐶 Sheet\u001B[0m Update values at: sample_2!A1:T\n"
      ],
      "text/html": [
       "<pre style=\"white-space:pre;overflow-x:auto;line-height:normal;font-family:Menlo,'DejaVu Sans Mono',consolas,'Courier New',monospace\"><span style=\"color: #00d700; text-decoration-color: #00d700\">🐶 Sheet</span> Update values at: sample_2!A1:T\n",
       "</pre>\n"
      ]
     },
     "metadata": {},
     "output_type": "display_data"
    }
   ],
   "execution_count": 7
  },
  {
   "metadata": {},
   "cell_type": "code",
   "outputs": [],
   "execution_count": null,
   "source": "",
   "id": "38630b3994c5bb5d"
  },
  {
   "metadata": {
    "ExecuteTime": {
     "end_time": "2024-11-25T10:23:24.531402Z",
     "start_time": "2024-11-25T10:23:24.529520Z"
    }
   },
   "cell_type": "code",
   "source": "",
   "id": "5741602acfbb3030",
   "outputs": [],
   "execution_count": null
  }
 ],
 "metadata": {
  "kernelspec": {
   "display_name": "Python 3",
   "language": "python",
   "name": "python3"
  },
  "language_info": {
   "codemirror_mode": {
    "name": "ipython",
    "version": 2
   },
   "file_extension": ".py",
   "mimetype": "text/x-python",
   "name": "python",
   "nbconvert_exporter": "python",
   "pygments_lexer": "ipython2",
   "version": "2.7.6"
  }
 },
 "nbformat": 4,
 "nbformat_minor": 5
}
