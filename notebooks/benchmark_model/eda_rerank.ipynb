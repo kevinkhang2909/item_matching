{
 "cells": [
  {
   "cell_type": "code",
   "id": "initial_id",
   "metadata": {
    "collapsed": true,
    "ExecuteTime": {
     "end_time": "2024-11-25T10:04:04.111849Z",
     "start_time": "2024-11-25T10:04:04.109786Z"
    }
   },
   "source": [
    "from core_pro.ultilities import make_sync_folder, update_df\n",
    "import polars as pl\n",
    "import duckdb"
   ],
   "outputs": [],
   "execution_count": 7
  },
  {
   "metadata": {
    "ExecuteTime": {
     "end_time": "2024-11-25T10:09:40.636613Z",
     "start_time": "2024-11-25T10:09:40.622367Z"
    }
   },
   "cell_type": "code",
   "source": [
    "path = make_sync_folder('Item_Matching_Test')\n",
    "file = path / 'result_match_rerank/Fashion Accessories__Additional Accessories__Charms, Pendants & Ornaments.parquet'\n",
    "\n",
    "query = f\"\"\"\n",
    "select * exclude(q_images, db_images, q_description, db_description)\n",
    "from read_parquet('{file}')\n",
    "\"\"\"\n",
    "df = duckdb.sql(query).pl()\n",
    "df.head()"
   ],
   "id": "c6be0264096ce7bf",
   "outputs": [
    {
     "data": {
      "text/plain": [
       "shape: (5, 21)\n",
       "┌───────────┬───────────┬───────────┬───────────┬───┬───────────┬───────────┬───────────┬──────────┐\n",
       "│ q_categor ┆ q_cluster ┆ q_item_id ┆ q_item_na ┆ … ┆ score_max ┆ score_mea ┆ score_rer ┆ score_te │\n",
       "│ y         ┆ ---       ┆ ---       ┆ me        ┆   ┆ ---       ┆ n         ┆ ank       ┆ xt       │\n",
       "│ ---       ┆ str       ┆ i64       ┆ ---       ┆   ┆ f64       ┆ ---       ┆ ---       ┆ ---      │\n",
       "│ str       ┆           ┆           ┆ str       ┆   ┆           ┆ f64       ┆ i64       ┆ f64      │\n",
       "╞═══════════╪═══════════╪═══════════╪═══════════╪═══╪═══════════╪═══════════╪═══════════╪══════════╡\n",
       "│ Fashion   ┆ Fashion   ┆ 279174151 ┆ Hạt charm ┆ … ┆ 0.843398  ┆ 0.843398  ┆ 1         ┆ null     │\n",
       "│ Accessori ┆           ┆ 9         ┆ Bamoer    ┆   ┆           ┆           ┆           ┆          │\n",
       "│ es__Addit ┆           ┆           ┆ hình tròn ┆   ┆           ┆           ┆           ┆          │\n",
       "│ iona…     ┆           ┆           ┆ phố…      ┆   ┆           ┆           ┆           ┆          │\n",
       "│ Fashion   ┆ Fashion   ┆ 279174151 ┆ Hạt charm ┆ … ┆ 0.801297  ┆ 0.801297  ┆ 2         ┆ null     │\n",
       "│ Accessori ┆           ┆ 9         ┆ Bamoer    ┆   ┆           ┆           ┆           ┆          │\n",
       "│ es__Addit ┆           ┆           ┆ hình tròn ┆   ┆           ┆           ┆           ┆          │\n",
       "│ iona…     ┆           ┆           ┆ phố…      ┆   ┆           ┆           ┆           ┆          │\n",
       "│ Fashion   ┆ Fashion   ┆ 279174151 ┆ Hạt charm ┆ … ┆ 0.779117  ┆ 0.779117  ┆ 3         ┆ null     │\n",
       "│ Accessori ┆           ┆ 9         ┆ Bamoer    ┆   ┆           ┆           ┆           ┆          │\n",
       "│ es__Addit ┆           ┆           ┆ hình tròn ┆   ┆           ┆           ┆           ┆          │\n",
       "│ iona…     ┆           ┆           ┆ phố…      ┆   ┆           ┆           ┆           ┆          │\n",
       "│ Fashion   ┆ Fashion   ┆ 279174151 ┆ Hạt charm ┆ … ┆ 0.775454  ┆ 0.775454  ┆ 4         ┆ null     │\n",
       "│ Accessori ┆           ┆ 9         ┆ Bamoer    ┆   ┆           ┆           ┆           ┆          │\n",
       "│ es__Addit ┆           ┆           ┆ hình tròn ┆   ┆           ┆           ┆           ┆          │\n",
       "│ iona…     ┆           ┆           ┆ phố…      ┆   ┆           ┆           ┆           ┆          │\n",
       "│ Fashion   ┆ Fashion   ┆ 279174151 ┆ Hạt charm ┆ … ┆ 0.833308  ┆ 0.772246  ┆ 5         ┆ 0.711185 │\n",
       "│ Accessori ┆           ┆ 9         ┆ Bamoer    ┆   ┆           ┆           ┆           ┆          │\n",
       "│ es__Addit ┆           ┆           ┆ hình tròn ┆   ┆           ┆           ┆           ┆          │\n",
       "│ iona…     ┆           ┆           ┆ phố…      ┆   ┆           ┆           ┆           ┆          │\n",
       "└───────────┴───────────┴───────────┴───────────┴───┴───────────┴───────────┴───────────┴──────────┘"
      ],
      "text/html": [
       "<div><style>\n",
       ".dataframe > thead > tr,\n",
       ".dataframe > tbody > tr {\n",
       "  text-align: right;\n",
       "  white-space: pre-wrap;\n",
       "}\n",
       "</style>\n",
       "<small>shape: (5, 21)</small><table border=\"1\" class=\"dataframe\"><thead><tr><th>q_category</th><th>q_cluster</th><th>q_item_id</th><th>q_item_name</th><th>q_shop_id</th><th>q_shop_name</th><th>q_url</th><th>db_category</th><th>db_cluster</th><th>db_item_id</th><th>db_item_name</th><th>db_shop_id</th><th>db_shop_name</th><th>db_url</th><th>q_image_url</th><th>db_image_url</th><th>score_image</th><th>score_max</th><th>score_mean</th><th>score_rerank</th><th>score_text</th></tr><tr><td>str</td><td>str</td><td>i64</td><td>str</td><td>i64</td><td>str</td><td>str</td><td>str</td><td>str</td><td>i64</td><td>str</td><td>i64</td><td>str</td><td>str</td><td>str</td><td>str</td><td>f64</td><td>f64</td><td>f64</td><td>i64</td><td>f64</td></tr></thead><tbody><tr><td>&quot;Fashion&nbsp;Accessories__Additiona…</td><td>&quot;Fashion&quot;</td><td>2791741519</td><td>&quot;Hạt&nbsp;charm&nbsp;Bamoer&nbsp;hình&nbsp;tròn&nbsp;phố…</td><td>146933636</td><td>&quot;Bamoer&nbsp;Cửa&nbsp;Hàng&nbsp;Trang&nbsp;Sức&quot;</td><td>&quot;https://shopee.vn/product/1469…</td><td>&quot;Fashion&nbsp;Accessories__Additiona…</td><td>&quot;Fashion&quot;</td><td>25569727894</td><td>&quot;Bamoer&nbsp;925&nbsp;Sterling&nbsp;Sliver&nbsp;Cha…</td><td>146933636</td><td>&quot;Bamoer&nbsp;Cửa&nbsp;Hàng&nbsp;Trang&nbsp;Sức&quot;</td><td>&quot;https://shopee.vn/product/1469…</td><td>&quot;=IMAGE(&quot;http://f.shopee.vn/fil…</td><td>&quot;=IMAGE(&quot;http://f.shopee.vn/fil…</td><td>0.843398</td><td>0.843398</td><td>0.843398</td><td>1</td><td>null</td></tr><tr><td>&quot;Fashion&nbsp;Accessories__Additiona…</td><td>&quot;Fashion&quot;</td><td>2791741519</td><td>&quot;Hạt&nbsp;charm&nbsp;Bamoer&nbsp;hình&nbsp;tròn&nbsp;phố…</td><td>146933636</td><td>&quot;Bamoer&nbsp;Cửa&nbsp;Hàng&nbsp;Trang&nbsp;Sức&quot;</td><td>&quot;https://shopee.vn/product/1469…</td><td>&quot;Fashion&nbsp;Accessories__Additiona…</td><td>&quot;Fashion&quot;</td><td>27456287605</td><td>&quot;Bamoer&nbsp;Bạc&nbsp;925&nbsp;Quyến&nbsp;Rũ&nbsp;Mẹ&nbsp;Tìn…</td><td>146933636</td><td>&quot;Bamoer&nbsp;Cửa&nbsp;Hàng&nbsp;Trang&nbsp;Sức&quot;</td><td>&quot;https://shopee.vn/product/1469…</td><td>&quot;=IMAGE(&quot;http://f.shopee.vn/fil…</td><td>&quot;=IMAGE(&quot;http://f.shopee.vn/fil…</td><td>0.801297</td><td>0.801297</td><td>0.801297</td><td>2</td><td>null</td></tr><tr><td>&quot;Fashion&nbsp;Accessories__Additiona…</td><td>&quot;Fashion&quot;</td><td>2791741519</td><td>&quot;Hạt&nbsp;charm&nbsp;Bamoer&nbsp;hình&nbsp;tròn&nbsp;phố…</td><td>146933636</td><td>&quot;Bamoer&nbsp;Cửa&nbsp;Hàng&nbsp;Trang&nbsp;Sức&quot;</td><td>&quot;https://shopee.vn/product/1469…</td><td>&quot;Fashion&nbsp;Accessories__Additiona…</td><td>&quot;Fashion&quot;</td><td>19976443010</td><td>&quot;Charm&nbsp;Pandora&nbsp;bạc&nbsp;925&nbsp;nhiều&nbsp;mẫ…</td><td>891822380</td><td>&quot;Fashion&nbsp;jewelry.vn&quot;</td><td>&quot;https://shopee.vn/product/8918…</td><td>&quot;=IMAGE(&quot;http://f.shopee.vn/fil…</td><td>&quot;=IMAGE(&quot;http://f.shopee.vn/fil…</td><td>0.779117</td><td>0.779117</td><td>0.779117</td><td>3</td><td>null</td></tr><tr><td>&quot;Fashion&nbsp;Accessories__Additiona…</td><td>&quot;Fashion&quot;</td><td>2791741519</td><td>&quot;Hạt&nbsp;charm&nbsp;Bamoer&nbsp;hình&nbsp;tròn&nbsp;phố…</td><td>146933636</td><td>&quot;Bamoer&nbsp;Cửa&nbsp;Hàng&nbsp;Trang&nbsp;Sức&quot;</td><td>&quot;https://shopee.vn/product/1469…</td><td>&quot;Fashion&nbsp;Accessories__Additiona…</td><td>&quot;Fashion&quot;</td><td>17522108446</td><td>&quot;Mặt&nbsp;phụ&nbsp;kiện&nbsp;Bamoer&nbsp;AIC02&nbsp;họa&nbsp;…</td><td>146933636</td><td>&quot;Bamoer&nbsp;Cửa&nbsp;Hàng&nbsp;Trang&nbsp;Sức&quot;</td><td>&quot;https://shopee.vn/product/1469…</td><td>&quot;=IMAGE(&quot;http://f.shopee.vn/fil…</td><td>&quot;=IMAGE(&quot;http://f.shopee.vn/fil…</td><td>0.775454</td><td>0.775454</td><td>0.775454</td><td>4</td><td>null</td></tr><tr><td>&quot;Fashion&nbsp;Accessories__Additiona…</td><td>&quot;Fashion&quot;</td><td>2791741519</td><td>&quot;Hạt&nbsp;charm&nbsp;Bamoer&nbsp;hình&nbsp;tròn&nbsp;phố…</td><td>146933636</td><td>&quot;Bamoer&nbsp;Cửa&nbsp;Hàng&nbsp;Trang&nbsp;Sức&quot;</td><td>&quot;https://shopee.vn/product/1469…</td><td>&quot;Fashion&nbsp;Accessories__Additiona…</td><td>&quot;Fashion&quot;</td><td>27565485996</td><td>&quot;Bamoer&nbsp;925&nbsp;Sterling&nbsp;Sliver&nbsp;Cha…</td><td>146933636</td><td>&quot;Bamoer&nbsp;Cửa&nbsp;Hàng&nbsp;Trang&nbsp;Sức&quot;</td><td>&quot;https://shopee.vn/product/1469…</td><td>&quot;=IMAGE(&quot;http://f.shopee.vn/fil…</td><td>&quot;=IMAGE(&quot;http://f.shopee.vn/fil…</td><td>0.833308</td><td>0.833308</td><td>0.772246</td><td>5</td><td>0.711185</td></tr></tbody></table></div>"
      ]
     },
     "execution_count": 13,
     "metadata": {},
     "output_type": "execute_result"
    }
   ],
   "execution_count": 13
  },
  {
   "metadata": {
    "ExecuteTime": {
     "end_time": "2024-11-25T10:09:44.223283Z",
     "start_time": "2024-11-25T10:09:40.835531Z"
    }
   },
   "cell_type": "code",
   "source": [
    "sh = '1JQiN33Z8hTPd_ENBAoqToMKXGr2Qp5ZU0rjvFPHCTAI'\n",
    "update_df(df.head(1000), 'sample', sh)"
   ],
   "id": "7ffa1b43fc792ba4",
   "outputs": [
    {
     "data": {
      "text/plain": [
       "\u001B[38;5;40m🐶 Sheet\u001B[0m Update values at: sample!A1:U\n"
      ],
      "text/html": [
       "<pre style=\"white-space:pre;overflow-x:auto;line-height:normal;font-family:Menlo,'DejaVu Sans Mono',consolas,'Courier New',monospace\"><span style=\"color: #00d700; text-decoration-color: #00d700\">🐶 Sheet</span> Update values at: sample!A1:U\n",
       "</pre>\n"
      ]
     },
     "metadata": {},
     "output_type": "display_data"
    }
   ],
   "execution_count": 14
  },
  {
   "metadata": {
    "ExecuteTime": {
     "end_time": "2024-11-25T10:09:44.238164Z",
     "start_time": "2024-11-25T10:09:44.236728Z"
    }
   },
   "cell_type": "code",
   "source": "",
   "id": "4ecbad74818a17a0",
   "outputs": [],
   "execution_count": null
  },
  {
   "metadata": {},
   "cell_type": "code",
   "outputs": [],
   "execution_count": null,
   "source": "",
   "id": "5741602acfbb3030"
  }
 ],
 "metadata": {
  "kernelspec": {
   "display_name": "Python 3",
   "language": "python",
   "name": "python3"
  },
  "language_info": {
   "codemirror_mode": {
    "name": "ipython",
    "version": 2
   },
   "file_extension": ".py",
   "mimetype": "text/x-python",
   "name": "python",
   "nbconvert_exporter": "python",
   "pygments_lexer": "ipython2",
   "version": "2.7.6"
  }
 },
 "nbformat": 4,
 "nbformat_minor": 5
}
