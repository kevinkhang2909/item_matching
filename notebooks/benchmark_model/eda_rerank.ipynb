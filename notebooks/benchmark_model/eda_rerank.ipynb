{
 "cells": [
  {
   "cell_type": "code",
   "id": "initial_id",
   "metadata": {
    "collapsed": true,
    "ExecuteTime": {
     "end_time": "2024-11-26T03:11:33.872406Z",
     "start_time": "2024-11-26T03:11:33.415039Z"
    }
   },
   "source": [
    "from core_pro.ultilities import make_sync_folder, update_df\n",
    "import duckdb"
   ],
   "outputs": [],
   "execution_count": 2
  },
  {
   "metadata": {
    "ExecuteTime": {
     "end_time": "2024-11-26T03:11:33.890027Z",
     "start_time": "2024-11-26T03:11:33.880268Z"
    }
   },
   "cell_type": "code",
   "source": [
    "path = make_sync_folder('Item_Matching_Test')\n",
    "file = path / 'result_match_rerank/Beauty__Skincare__Acne Treatment.parquet'\n",
    "\n",
    "query = f\"\"\"\n",
    "select * exclude(q_images, db_images, q_description, db_description)\n",
    "from read_parquet('{file}')\n",
    "where score_mean >= .8\n",
    "\"\"\"\n",
    "df = duckdb.sql(query).pl()\n",
    "df.head()"
   ],
   "id": "c6be0264096ce7bf",
   "outputs": [
    {
     "data": {
      "text/plain": [
       "shape: (5, 20)\n",
       "┌────────────┬───────────┬───────────┬───────────┬───┬───────────┬───────────┬───────────┬─────────┐\n",
       "│ q_category ┆ q_cluster ┆ q_item_id ┆ q_item_na ┆ … ┆ score_ima ┆ score_mea ┆ score_tex ┆ ranking │\n",
       "│ ---        ┆ ---       ┆ ---       ┆ me        ┆   ┆ ge        ┆ n         ┆ t         ┆ ---     │\n",
       "│ str        ┆ str       ┆ i64       ┆ ---       ┆   ┆ ---       ┆ ---       ┆ ---       ┆ i64     │\n",
       "│            ┆           ┆           ┆ str       ┆   ┆ f64       ┆ f64       ┆ f64       ┆         │\n",
       "╞════════════╪═══════════╪═══════════╪═══════════╪═══╪═══════════╪═══════════╪═══════════╪═════════╡\n",
       "│ Beauty__Sk ┆ FMCG      ┆ 245197347 ┆ Kem giảm  ┆ … ┆ 0.850296  ┆ 0.903966  ┆ 0.957635  ┆ 1       │\n",
       "│ incare__Ac ┆           ┆ 74        ┆ mụn       ┆   ┆           ┆           ┆           ┆         │\n",
       "│ ne         ┆           ┆           ┆ Acnederm  ┆   ┆           ┆           ┆           ┆         │\n",
       "│ Treatme…   ┆           ┆           ┆ Azelaic … ┆   ┆           ┆           ┆           ┆         │\n",
       "│ Beauty__Sk ┆ FMCG      ┆ 245197347 ┆ Kem giảm  ┆ … ┆ 0.779139  ┆ 0.855725  ┆ 0.932311  ┆ 2       │\n",
       "│ incare__Ac ┆           ┆ 74        ┆ mụn       ┆   ┆           ┆           ┆           ┆         │\n",
       "│ ne         ┆           ┆           ┆ Acnederm  ┆   ┆           ┆           ┆           ┆         │\n",
       "│ Treatme…   ┆           ┆           ┆ Azelaic … ┆   ┆           ┆           ┆           ┆         │\n",
       "│ Beauty__Sk ┆ FMCG      ┆ 245197347 ┆ Kem giảm  ┆ … ┆ 0.835277  ┆ 0.853207  ┆ 0.871137  ┆ 3       │\n",
       "│ incare__Ac ┆           ┆ 74        ┆ mụn       ┆   ┆           ┆           ┆           ┆         │\n",
       "│ ne         ┆           ┆           ┆ Acnederm  ┆   ┆           ┆           ┆           ┆         │\n",
       "│ Treatme…   ┆           ┆           ┆ Azelaic … ┆   ┆           ┆           ┆           ┆         │\n",
       "│ Beauty__Sk ┆ FMCG      ┆ 245197347 ┆ Kem giảm  ┆ … ┆ 0.795076  ┆ 0.83432   ┆ 0.873564  ┆ 4       │\n",
       "│ incare__Ac ┆           ┆ 74        ┆ mụn       ┆   ┆           ┆           ┆           ┆         │\n",
       "│ ne         ┆           ┆           ┆ Acnederm  ┆   ┆           ┆           ┆           ┆         │\n",
       "│ Treatme…   ┆           ┆           ┆ Azelaic … ┆   ┆           ┆           ┆           ┆         │\n",
       "│ Beauty__Sk ┆ FMCG      ┆ 245344302 ┆ [Hàng mới ┆ … ┆ 0.976691  ┆ 0.988337  ┆ 0.999982  ┆ 1       │\n",
       "│ incare__Ac ┆           ┆ 68        ┆ về] Set   ┆   ┆           ┆           ┆           ┆         │\n",
       "│ ne         ┆           ┆           ┆ 10 miếng  ┆   ┆           ┆           ┆           ┆         │\n",
       "│ Treatme…   ┆           ┆           ┆ dán…      ┆   ┆           ┆           ┆           ┆         │\n",
       "└────────────┴───────────┴───────────┴───────────┴───┴───────────┴───────────┴───────────┴─────────┘"
      ],
      "text/html": [
       "<div><style>\n",
       ".dataframe > thead > tr,\n",
       ".dataframe > tbody > tr {\n",
       "  text-align: right;\n",
       "  white-space: pre-wrap;\n",
       "}\n",
       "</style>\n",
       "<small>shape: (5, 20)</small><table border=\"1\" class=\"dataframe\"><thead><tr><th>q_category</th><th>q_cluster</th><th>q_item_id</th><th>q_item_name</th><th>q_shop_id</th><th>q_shop_name</th><th>q_url</th><th>db_category</th><th>db_cluster</th><th>db_item_id</th><th>db_item_name</th><th>db_shop_id</th><th>db_shop_name</th><th>db_url</th><th>q_image_url</th><th>db_image_url</th><th>score_image</th><th>score_mean</th><th>score_text</th><th>ranking</th></tr><tr><td>str</td><td>str</td><td>i64</td><td>str</td><td>i64</td><td>str</td><td>str</td><td>str</td><td>str</td><td>i64</td><td>str</td><td>i64</td><td>str</td><td>str</td><td>str</td><td>str</td><td>f64</td><td>f64</td><td>f64</td><td>i64</td></tr></thead><tbody><tr><td>&quot;Beauty__Skincare__Acne&nbsp;Treatme…</td><td>&quot;FMCG&quot;</td><td>24519734774</td><td>&quot;Kem&nbsp;giảm&nbsp;mụn&nbsp;Acnederm&nbsp;Azelaic&nbsp;…</td><td>1209963571</td><td>&quot;Lê_Lam_Cosmetic&quot;</td><td>&quot;https://shopee.vn/product/1209…</td><td>&quot;Beauty__Skincare__Acne&nbsp;Treatme…</td><td>&quot;FMCG&quot;</td><td>23575788847</td><td>&quot;Kem&nbsp;giảm&nbsp;mụn&nbsp;Acnederm&nbsp;Azelaic&nbsp;…</td><td>902684563</td><td>&quot;Tuệ&nbsp;tâm&nbsp;Pharmart&quot;</td><td>&quot;https://shopee.vn/product/9026…</td><td>&quot;=IMAGE(&quot;http://f.shopee.vn/fil…</td><td>&quot;=IMAGE(&quot;http://f.shopee.vn/fil…</td><td>0.850296</td><td>0.903966</td><td>0.957635</td><td>1</td></tr><tr><td>&quot;Beauty__Skincare__Acne&nbsp;Treatme…</td><td>&quot;FMCG&quot;</td><td>24519734774</td><td>&quot;Kem&nbsp;giảm&nbsp;mụn&nbsp;Acnederm&nbsp;Azelaic&nbsp;…</td><td>1209963571</td><td>&quot;Lê_Lam_Cosmetic&quot;</td><td>&quot;https://shopee.vn/product/1209…</td><td>&quot;Beauty__Skincare__Acne&nbsp;Treatme…</td><td>&quot;FMCG&quot;</td><td>29564706507</td><td>&quot;Acne&nbsp;Derm&nbsp;Kem&nbsp;Giảm&nbsp;Mụn&nbsp;Acneder…</td><td>1173269550</td><td>&quot;Moon&nbsp;Official·&quot;</td><td>&quot;https://shopee.vn/product/1173…</td><td>&quot;=IMAGE(&quot;http://f.shopee.vn/fil…</td><td>&quot;=IMAGE(&quot;http://f.shopee.vn/fil…</td><td>0.779139</td><td>0.855725</td><td>0.932311</td><td>2</td></tr><tr><td>&quot;Beauty__Skincare__Acne&nbsp;Treatme…</td><td>&quot;FMCG&quot;</td><td>24519734774</td><td>&quot;Kem&nbsp;giảm&nbsp;mụn&nbsp;Acnederm&nbsp;Azelaic&nbsp;…</td><td>1209963571</td><td>&quot;Lê_Lam_Cosmetic&quot;</td><td>&quot;https://shopee.vn/product/1209…</td><td>&quot;Beauty__Skincare__Acne&nbsp;Treatme…</td><td>&quot;FMCG&quot;</td><td>28250708250</td><td>&quot;Acne&nbsp;Derm&nbsp;-&nbsp;Kem&nbsp;giảm&nbsp;mụn,&nbsp;làm&nbsp;…</td><td>1231227597</td><td>&quot;Unilover&nbsp;Việt&nbsp;Nam&nbsp;Cosmetic&quot;</td><td>&quot;https://shopee.vn/product/1231…</td><td>&quot;=IMAGE(&quot;http://f.shopee.vn/fil…</td><td>&quot;=IMAGE(&quot;http://f.shopee.vn/fil…</td><td>0.835277</td><td>0.853207</td><td>0.871137</td><td>3</td></tr><tr><td>&quot;Beauty__Skincare__Acne&nbsp;Treatme…</td><td>&quot;FMCG&quot;</td><td>24519734774</td><td>&quot;Kem&nbsp;giảm&nbsp;mụn&nbsp;Acnederm&nbsp;Azelaic&nbsp;…</td><td>1209963571</td><td>&quot;Lê_Lam_Cosmetic&quot;</td><td>&quot;https://shopee.vn/product/1209…</td><td>&quot;Beauty__Skincare__Acne&nbsp;Treatme…</td><td>&quot;FMCG&quot;</td><td>17372026244</td><td>&quot;[20g]&nbsp;Kem&nbsp;giảm&nbsp;mụn,&nbsp;mờ&nbsp;thâm&nbsp;AC…</td><td>20018783</td><td>&quot;Healthy&nbsp;Skin&nbsp;-&nbsp;Dr&nbsp;Thảo&quot;</td><td>&quot;https://shopee.vn/product/2001…</td><td>&quot;=IMAGE(&quot;http://f.shopee.vn/fil…</td><td>&quot;=IMAGE(&quot;http://f.shopee.vn/fil…</td><td>0.795076</td><td>0.83432</td><td>0.873564</td><td>4</td></tr><tr><td>&quot;Beauty__Skincare__Acne&nbsp;Treatme…</td><td>&quot;FMCG&quot;</td><td>24534430268</td><td>&quot;[Hàng&nbsp;mới&nbsp;về]&nbsp;Set&nbsp;10&nbsp;miếng&nbsp;dán…</td><td>965987772</td><td>&quot;XUANXIANG&quot;</td><td>&quot;https://shopee.vn/product/9659…</td><td>&quot;Beauty__Skincare__Acne&nbsp;Treatme…</td><td>&quot;FMCG&quot;</td><td>13931072739</td><td>&quot;[Hàng&nbsp;mới&nbsp;về]&nbsp;Set&nbsp;10&nbsp;miếng&nbsp;dán…</td><td>164772700</td><td>&quot;Paipai.vn&quot;</td><td>&quot;https://shopee.vn/product/1647…</td><td>&quot;=IMAGE(&quot;http://f.shopee.vn/fil…</td><td>&quot;=IMAGE(&quot;http://f.shopee.vn/fil…</td><td>0.976691</td><td>0.988337</td><td>0.999982</td><td>1</td></tr></tbody></table></div>"
      ]
     },
     "execution_count": 3,
     "metadata": {},
     "output_type": "execute_result"
    }
   ],
   "execution_count": 3
  },
  {
   "metadata": {
    "ExecuteTime": {
     "end_time": "2024-11-26T03:11:45.489786Z",
     "start_time": "2024-11-26T03:11:41.121417Z"
    }
   },
   "cell_type": "code",
   "source": [
    "sh = '1JQiN33Z8hTPd_ENBAoqToMKXGr2Qp5ZU0rjvFPHCTAI'\n",
    "update_df(df.head(1000), 'sample', sh)"
   ],
   "id": "7ffa1b43fc792ba4",
   "outputs": [
    {
     "data": {
      "text/plain": [
       "\u001B[38;5;40m🐶 Sheet\u001B[0m Update values at: sample!A1:T\n"
      ],
      "text/html": [
       "<pre style=\"white-space:pre;overflow-x:auto;line-height:normal;font-family:Menlo,'DejaVu Sans Mono',consolas,'Courier New',monospace\"><span style=\"color: #00d700; text-decoration-color: #00d700\">🐶 Sheet</span> Update values at: sample!A1:T\n",
       "</pre>\n"
      ]
     },
     "metadata": {},
     "output_type": "display_data"
    }
   ],
   "execution_count": 5
  },
  {
   "metadata": {
    "ExecuteTime": {
     "end_time": "2024-11-25T10:26:08.055957Z",
     "start_time": "2024-11-25T10:26:04.989093Z"
    }
   },
   "cell_type": "code",
   "source": [
    "path = make_sync_folder('Item_Matching_Test')\n",
    "file = path / 'result_match_rerank/Baby & Kids Fashion__Boy Shoes__Sneakers.parquet'\n",
    "\n",
    "query = f\"\"\"\n",
    "select * exclude(q_images, db_images, q_description, db_description)\n",
    "from read_parquet('{file}')\n",
    "where score_mean >= .8\n",
    "\"\"\"\n",
    "df = duckdb.sql(query).pl()\n",
    "update_df(df.head(1000), 'sample_2', sh)"
   ],
   "id": "4ecbad74818a17a0",
   "outputs": [
    {
     "data": {
      "text/plain": [
       "\u001B[38;5;40m🐶 Sheet\u001B[0m Create New Sheet: sample_2\n"
      ],
      "text/html": [
       "<pre style=\"white-space:pre;overflow-x:auto;line-height:normal;font-family:Menlo,'DejaVu Sans Mono',consolas,'Courier New',monospace\"><span style=\"color: #00d700; text-decoration-color: #00d700\">🐶 Sheet</span> Create New Sheet: sample_2\n",
       "</pre>\n"
      ]
     },
     "metadata": {},
     "output_type": "display_data"
    },
    {
     "data": {
      "text/plain": [
       "\u001B[38;5;40m🐶 Sheet\u001B[0m Update values at: sample_2!A1:T\n"
      ],
      "text/html": [
       "<pre style=\"white-space:pre;overflow-x:auto;line-height:normal;font-family:Menlo,'DejaVu Sans Mono',consolas,'Courier New',monospace\"><span style=\"color: #00d700; text-decoration-color: #00d700\">🐶 Sheet</span> Update values at: sample_2!A1:T\n",
       "</pre>\n"
      ]
     },
     "metadata": {},
     "output_type": "display_data"
    }
   ],
   "execution_count": 7
  },
  {
   "metadata": {
    "ExecuteTime": {
     "end_time": "2024-11-25T10:35:40.813393Z",
     "start_time": "2024-11-25T10:35:37.063370Z"
    }
   },
   "cell_type": "code",
   "source": [
    "path = make_sync_folder('Item_Matching_Test')\n",
    "file = path / 'result_match_rerank/Mobile & Gadgets__Accessories__Cases, Covers, & Skins.parquet'\n",
    "\n",
    "query = f\"\"\"\n",
    "select * exclude(q_images, db_images, q_description, db_description)\n",
    "from read_parquet('{file}')\n",
    "where score_mean >= .8\n",
    "\"\"\"\n",
    "df = duckdb.sql(query).pl()\n",
    "update_df(df.head(1000), 'sample_2', sh)"
   ],
   "id": "38630b3994c5bb5d",
   "outputs": [
    {
     "data": {
      "text/plain": [
       "\u001B[38;5;40m🐶 Sheet\u001B[0m Update values at: sample_2!A1:T\n"
      ],
      "text/html": [
       "<pre style=\"white-space:pre;overflow-x:auto;line-height:normal;font-family:Menlo,'DejaVu Sans Mono',consolas,'Courier New',monospace\"><span style=\"color: #00d700; text-decoration-color: #00d700\">🐶 Sheet</span> Update values at: sample_2!A1:T\n",
       "</pre>\n"
      ]
     },
     "metadata": {},
     "output_type": "display_data"
    }
   ],
   "execution_count": 8
  },
  {
   "metadata": {
    "ExecuteTime": {
     "end_time": "2024-11-25T10:23:24.531402Z",
     "start_time": "2024-11-25T10:23:24.529520Z"
    }
   },
   "cell_type": "code",
   "source": "",
   "id": "5741602acfbb3030",
   "outputs": [],
   "execution_count": null
  }
 ],
 "metadata": {
  "kernelspec": {
   "display_name": "Python 3",
   "language": "python",
   "name": "python3"
  },
  "language_info": {
   "codemirror_mode": {
    "name": "ipython",
    "version": 2
   },
   "file_extension": ".py",
   "mimetype": "text/x-python",
   "name": "python",
   "nbconvert_exporter": "python",
   "pygments_lexer": "ipython2",
   "version": "2.7.6"
  }
 },
 "nbformat": 4,
 "nbformat_minor": 5
}
