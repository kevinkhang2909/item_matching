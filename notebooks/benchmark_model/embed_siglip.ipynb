{
 "cells": [
  {
   "cell_type": "code",
   "execution_count": 1,
   "id": "28f6df8c7caed3f9",
   "metadata": {
    "ExecuteTime": {
     "end_time": "2024-10-17T08:37:42.434016Z",
     "start_time": "2024-10-17T08:37:41.665893Z"
    },
    "collapsed": false,
    "jupyter": {
     "outputs_hidden": false
    }
   },
   "outputs": [],
   "source": [
    "from pathlib import Path\n",
    "import polars as pl\n",
    "import duckdb\n",
    "from datasets import Dataset, concatenate_datasets, load_from_disk\n",
    "import numpy as np\n",
    "from autofaiss import build_index\n",
    "import sys\n",
    "sys.path.extend([Path.home() / 'PycharmProjects/item_matching'])\n",
    "\n",
    "# from src.item_matching.build_index.func_img import PipelineImage\n",
    "from item_matching.model.model import Model\n",
    "# from func import draw_images"
   ]
  },
  {
   "cell_type": "markdown",
   "id": "6fb85ea4eb5faddf",
   "metadata": {
    "collapsed": false,
    "jupyter": {
     "outputs_hidden": false
    }
   },
   "source": [
    "## 1) Data \n",
    "\n",
    "Prepare 2 datasets: Database and Query"
   ]
  },
  {
   "cell_type": "code",
   "execution_count": 2,
   "id": "initial_id",
   "metadata": {
    "ExecuteTime": {
     "end_time": "2024-04-10T08:13:25.826588Z",
     "start_time": "2024-04-10T08:13:01.283332Z"
    }
   },
   "outputs": [
    {
     "data": {
      "text/html": [
       "<div><style>\n",
       ".dataframe > thead > tr,\n",
       ".dataframe > tbody > tr {\n",
       "  text-align: right;\n",
       "  white-space: pre-wrap;\n",
       "}\n",
       "</style>\n",
       "<small>shape: (5, 11)</small><table border=\"1\" class=\"dataframe\"><thead><tr><th>q_l0_category</th><th>q_model_id</th><th>q_item_name</th><th>q_model_name</th><th>q_model_price</th><th>q_image_show</th><th>q_item_url</th><th>q_image_url</th><th>q_item_name_clean</th><th>q_file_path</th><th>q_exists</th></tr><tr><td>str</td><td>i64</td><td>str</td><td>str</td><td>i64</td><td>str</td><td>str</td><td>str</td><td>str</td><td>str</td><td>bool</td></tr></thead><tbody><tr><td>&quot;Lifestyle&quot;</td><td>158663010693</td><td>&quot;Chăn Hè Cotton Đũi Choice Việt…</td><td>&quot;Quả Táo&quot;</td><td>102200</td><td>&quot;https://cf.shopee.sg/file/sg-1…</td><td>&quot;https://shopee.vn/product/8511…</td><td>&quot;https://cf.shopee.sg/file/sg-1…</td><td>&quot;chăn hè cotton đũi choice việt…</td><td>&quot;/media/kevin/data_4t/item_matc…</td><td>true</td></tr><tr><td>&quot;Fashion&quot;</td><td>79755460523</td><td>&quot;Áo bra nữ Choice Việt Nam BRS0…</td><td>&quot;Ghi&quot;</td><td>16800</td><td>&quot;https://cf.shopee.sg/file/vn-1…</td><td>&quot;https://shopee.vn/product/8511…</td><td>&quot;https://cf.shopee.sg/file/vn-1…</td><td>&quot;áo bra nữ choice việt nam brs0…</td><td>&quot;/media/kevin/data_4t/item_matc…</td><td>true</td></tr><tr><td>&quot;Fashion&quot;</td><td>256169922336</td><td>&quot;[COMBO 2] Quần gen nịt bụng dư…</td><td>&quot;Đen,S&quot;</td><td>42000</td><td>&quot;https://cf.shopee.sg/file/sg-1…</td><td>&quot;https://shopee.vn/product/8511…</td><td>&quot;https://cf.shopee.sg/file/sg-1…</td><td>&quot;quần gen nịt bụng dưới choice …</td><td>&quot;/media/kevin/data_4t/item_matc…</td><td>true</td></tr><tr><td>&quot;Fashion&quot;</td><td>256169922336</td><td>&quot;[COMBO 2] Quần gen nịt bụng dư…</td><td>&quot;Đen,S&quot;</td><td>42000</td><td>&quot;https://cf.shopee.sg/file/sg-1…</td><td>&quot;https://shopee.vn/product/8511…</td><td>&quot;https://cf.shopee.sg/file/sg-1…</td><td>&quot;quần gen nịt bụng dưới choice …</td><td>&quot;/media/kevin/data_4t/item_matc…</td><td>true</td></tr><tr><td>&quot;Fashion&quot;</td><td>256169922336</td><td>&quot;[COMBO 2] Quần gen nịt bụng dư…</td><td>&quot;Đen,S&quot;</td><td>42000</td><td>&quot;https://cf.shopee.sg/file/sg-1…</td><td>&quot;https://shopee.vn/product/8511…</td><td>&quot;https://cf.shopee.sg/file/sg-1…</td><td>&quot;quần gen nịt bụng dưới choice …</td><td>&quot;/media/kevin/data_4t/item_matc…</td><td>true</td></tr></tbody></table></div>"
      ],
      "text/plain": [
       "shape: (5, 11)\n",
       "┌───────────┬───────────┬───────────┬───────────┬───┬───────────┬───────────┬───────────┬──────────┐\n",
       "│ q_l0_cate ┆ q_model_i ┆ q_item_na ┆ q_model_n ┆ … ┆ q_image_u ┆ q_item_na ┆ q_file_pa ┆ q_exists │\n",
       "│ gory      ┆ d         ┆ me        ┆ ame       ┆   ┆ rl        ┆ me_clean  ┆ th        ┆ ---      │\n",
       "│ ---       ┆ ---       ┆ ---       ┆ ---       ┆   ┆ ---       ┆ ---       ┆ ---       ┆ bool     │\n",
       "│ str       ┆ i64       ┆ str       ┆ str       ┆   ┆ str       ┆ str       ┆ str       ┆          │\n",
       "╞═══════════╪═══════════╪═══════════╪═══════════╪═══╪═══════════╪═══════════╪═══════════╪══════════╡\n",
       "│ Lifestyle ┆ 158663010 ┆ Chăn Hè   ┆ Quả Táo   ┆ … ┆ https://c ┆ chăn hè   ┆ /media/ke ┆ true     │\n",
       "│           ┆ 693       ┆ Cotton    ┆           ┆   ┆ f.shopee. ┆ cotton    ┆ vin/data_ ┆          │\n",
       "│           ┆           ┆ Đũi       ┆           ┆   ┆ sg/file/s ┆ đũi       ┆ 4t/item_m ┆          │\n",
       "│           ┆           ┆ Choice    ┆           ┆   ┆ g-1…      ┆ choice    ┆ atc…      ┆          │\n",
       "│           ┆           ┆ Việt…     ┆           ┆   ┆           ┆ việt…     ┆           ┆          │\n",
       "│ Fashion   ┆ 797554605 ┆ Áo bra nữ ┆ Ghi       ┆ … ┆ https://c ┆ áo bra nữ ┆ /media/ke ┆ true     │\n",
       "│           ┆ 23        ┆ Choice    ┆           ┆   ┆ f.shopee. ┆ choice    ┆ vin/data_ ┆          │\n",
       "│           ┆           ┆ Việt Nam  ┆           ┆   ┆ sg/file/v ┆ việt nam  ┆ 4t/item_m ┆          │\n",
       "│           ┆           ┆ BRS0…     ┆           ┆   ┆ n-1…      ┆ brs0…     ┆ atc…      ┆          │\n",
       "│ Fashion   ┆ 256169922 ┆ [COMBO 2] ┆ Đen,S     ┆ … ┆ https://c ┆ quần gen  ┆ /media/ke ┆ true     │\n",
       "│           ┆ 336       ┆ Quần gen  ┆           ┆   ┆ f.shopee. ┆ nịt bụng  ┆ vin/data_ ┆          │\n",
       "│           ┆           ┆ nịt bụng  ┆           ┆   ┆ sg/file/s ┆ dưới      ┆ 4t/item_m ┆          │\n",
       "│           ┆           ┆ dư…       ┆           ┆   ┆ g-1…      ┆ choice …  ┆ atc…      ┆          │\n",
       "│ Fashion   ┆ 256169922 ┆ [COMBO 2] ┆ Đen,S     ┆ … ┆ https://c ┆ quần gen  ┆ /media/ke ┆ true     │\n",
       "│           ┆ 336       ┆ Quần gen  ┆           ┆   ┆ f.shopee. ┆ nịt bụng  ┆ vin/data_ ┆          │\n",
       "│           ┆           ┆ nịt bụng  ┆           ┆   ┆ sg/file/s ┆ dưới      ┆ 4t/item_m ┆          │\n",
       "│           ┆           ┆ dư…       ┆           ┆   ┆ g-1…      ┆ choice …  ┆ atc…      ┆          │\n",
       "│ Fashion   ┆ 256169922 ┆ [COMBO 2] ┆ Đen,S     ┆ … ┆ https://c ┆ quần gen  ┆ /media/ke ┆ true     │\n",
       "│           ┆ 336       ┆ Quần gen  ┆           ┆   ┆ f.shopee. ┆ nịt bụng  ┆ vin/data_ ┆          │\n",
       "│           ┆           ┆ nịt bụng  ┆           ┆   ┆ sg/file/s ┆ dưới      ┆ 4t/item_m ┆          │\n",
       "│           ┆           ┆ dư…       ┆           ┆   ┆ g-1…      ┆ choice …  ┆ atc…      ┆          │\n",
       "└───────────┴───────────┴───────────┴───────────┴───┴───────────┴───────────┴───────────┴──────────┘"
      ]
     },
     "execution_count": 2,
     "metadata": {},
     "output_type": "execute_result"
    }
   ],
   "source": [
    "path = Path('/media/kevin/data_4t/item_match_datasets')\n",
    "path_db = path / 'db_clean.parquet'\n",
    "\n",
    "# db\n",
    "query = f\"\"\"\n",
    "select *\n",
    "from parquet_scan('{str(path_db)}')\n",
    "\"\"\"\n",
    "df_db = (\n",
    "    duckdb.sql(query).pl()\n",
    ")\n",
    "\n",
    "# q\n",
    "df_q = df_db.clone()\n",
    "df_q.columns = [f'q_{i.split('db_')[1]}' for i in df_db.columns]\n",
    "df_q.head()"
   ]
  },
  {
   "cell_type": "markdown",
   "id": "539fe7f71bc59b80",
   "metadata": {
    "collapsed": false,
    "jupyter": {
     "outputs_hidden": false
    }
   },
   "source": [
    "## 2) Embeddings\n",
    "\n",
    "Use datasets and clip to transform images to vectors"
   ]
  },
  {
   "cell_type": "code",
   "execution_count": 3,
   "id": "70a41ebe42d746ca",
   "metadata": {
    "ExecuteTime": {
     "end_time": "2024-04-10T08:13:29.861670Z",
     "start_time": "2024-04-10T08:13:25.827429Z"
    },
    "collapsed": false,
    "jupyter": {
     "outputs_hidden": false
    }
   },
   "outputs": [
    {
     "name": "stdout",
     "output_type": "stream",
     "text": [
      "\u001b[1mINFO\u001b[0m | \u001b[36m__init__\u001b[0m | \u001b[1m[Model] Run on: cuda\u001b[0m\n"
     ]
    }
   ],
   "source": [
    "model = Model()\n",
    "model.get_img_model()"
   ]
  },
  {
   "cell_type": "code",
   "execution_count": 7,
   "id": "b95e12aa6944cd3e",
   "metadata": {
    "ExecuteTime": {
     "end_time": "2024-04-10T08:14:32.207776Z",
     "start_time": "2024-04-10T08:13:29.862425Z"
    },
    "collapsed": false,
    "jupyter": {
     "outputs_hidden": false
    }
   },
   "outputs": [
    {
     "data": {
      "application/vnd.jupyter.widget-view+json": {
       "model_id": "e35cbaf59ae6420d95d832dd03fdf4e0",
       "version_major": 2,
       "version_minor": 0
      },
      "text/plain": [
       "Map:   0%|          | 0/145 [00:00<?, ? examples/s]"
      ]
     },
     "metadata": {},
     "output_type": "display_data"
    },
    {
     "data": {
      "application/vnd.jupyter.widget-view+json": {
       "model_id": "cb06a9020abe49b385af569f5047ab98",
       "version_major": 2,
       "version_minor": 0
      },
      "text/plain": [
       "Map:   0%|          | 0/145 [00:00<?, ? examples/s]"
      ]
     },
     "metadata": {},
     "output_type": "display_data"
    },
    {
     "data": {
      "application/vnd.jupyter.widget-view+json": {
       "model_id": "836e74db81df431eaa095edc513c7771",
       "version_major": 2,
       "version_minor": 0
      },
      "text/plain": [
       "Saving the dataset (0/1 shards):   0%|          | 0/145 [00:00<?, ? examples/s]"
      ]
     },
     "metadata": {},
     "output_type": "display_data"
    }
   ],
   "source": [
    "dataset = Dataset.from_polars(df_db)\n",
    "dataset = dataset.map(\n",
    "    model.process_image,\n",
    "    batch_size=512,\n",
    "    batched=True,\n",
    "    fn_kwargs={'col': 'db_file_path'}\n",
    ")\n",
    "\n",
    "dataset.set_format(type='torch', columns=['image_embed'], output_all_columns=True)\n",
    "dataset = dataset.map(model.pp_normalize, batched=True, fn_kwargs={'col': 'image_embed'})\n",
    "dataset.set_format(type='numpy', columns=['image_embed'], output_all_columns=True)\n",
    "\n",
    "# save to disk\n",
    "path_tmp_array = Path('tmp/array')\n",
    "path_tmp_ds = Path('tmp/ds')\n",
    "np.save(path_tmp_array / 'array.npy', dataset['image_embed'])\n",
    "dataset.save_to_disk(path_tmp_ds / 'ds')"
   ]
  },
  {
   "cell_type": "markdown",
   "id": "2f5934d701125e88",
   "metadata": {
    "collapsed": false,
    "jupyter": {
     "outputs_hidden": false
    }
   },
   "source": [
    "## 3) Indexing\n",
    "\n",
    "Build index to search items"
   ]
  },
  {
   "cell_type": "code",
   "execution_count": 8,
   "id": "96cc5afcf31a1e6a",
   "metadata": {
    "ExecuteTime": {
     "end_time": "2024-04-10T08:14:43.761881Z",
     "start_time": "2024-04-10T08:14:32.208512Z"
    },
    "collapsed": false,
    "jupyter": {
     "outputs_hidden": false
    }
   },
   "outputs": [
    {
     "name": "stderr",
     "output_type": "stream",
     "text": [
      "100%|████████████████████████████████████████████████████████████████████| 1/1 [00:00<00:00, 2172.09it/s]\n",
      "100%|█████████████████████████████████████████████████████████████████████| 1/1 [00:00<00:00, 172.64it/s]\n",
      "  0%|                                                                              | 0/1 [00:00<?, ?it/s]\n"
     ]
    },
    {
     "data": {
      "text/plain": [
       "(<faiss.swigfaiss_avx2.IndexFlat; proxy of <Swig Object of type 'faiss::IndexFlat *' at 0x7c37e5fba670> >,\n",
       " {'index_key': 'Flat',\n",
       "  'index_param': '',\n",
       "  'index_path': 'tmp/index/ip.index',\n",
       "  'size in bytes': 445485,\n",
       "  'avg_search_speed_ms': 0.01423576567293342,\n",
       "  '99p_search_speed_ms': 0.03772199779632523,\n",
       "  'reconstruction error %': 0.0,\n",
       "  'nb vectors': 145,\n",
       "  'vectors dimension': 768,\n",
       "  'compression ratio': 0.9998989864978619})"
      ]
     },
     "execution_count": 8,
     "metadata": {},
     "output_type": "execute_result"
    }
   ],
   "source": [
    "path_index = Path('tmp/index')\n",
    "build_index(\n",
    "    str(path_tmp_array),\n",
    "    index_path=str(path_index / f'ip.index'),\n",
    "    index_infos_path=str(path_index / f'index.json'),\n",
    "    save_on_disk=True,\n",
    "    metric_type='ip',\n",
    "    verbose=30,\n",
    ")"
   ]
  },
  {
   "cell_type": "markdown",
   "id": "61b78720de597863",
   "metadata": {
    "collapsed": false,
    "jupyter": {
     "outputs_hidden": false
    }
   },
   "source": [
    "Load index into datasets"
   ]
  },
  {
   "cell_type": "code",
   "execution_count": 9,
   "id": "6efdce62f49c27b9",
   "metadata": {
    "ExecuteTime": {
     "end_time": "2024-04-10T08:14:43.779095Z",
     "start_time": "2024-04-10T08:14:43.762761Z"
    },
    "collapsed": false,
    "jupyter": {
     "outputs_hidden": false
    }
   },
   "outputs": [],
   "source": [
    "dataset_db = concatenate_datasets([\n",
    "    load_from_disk(str(f)) for f in sorted(path_tmp_ds.glob('*'))\n",
    "])\n",
    "\n",
    "# add index\n",
    "dataset_db.load_faiss_index('img_embed', path_index / f'ip.index')"
   ]
  },
  {
   "cell_type": "markdown",
   "id": "1790f349c3dd80ea",
   "metadata": {
    "collapsed": false,
    "jupyter": {
     "outputs_hidden": false
    }
   },
   "source": [
    "## 4) Retrieve"
   ]
  },
  {
   "cell_type": "markdown",
   "id": "8b9699dadfcbd348",
   "metadata": {
    "collapsed": false,
    "jupyter": {
     "outputs_hidden": false
    }
   },
   "source": [
    "Batch search top-k from datasets"
   ]
  },
  {
   "cell_type": "code",
   "execution_count": 10,
   "id": "3bcba75a987dd8c2",
   "metadata": {
    "ExecuteTime": {
     "end_time": "2024-04-10T08:14:46.201566Z",
     "start_time": "2024-04-10T08:14:43.779756Z"
    },
    "collapsed": false,
    "jupyter": {
     "outputs_hidden": false
    }
   },
   "outputs": [
    {
     "ename": "KeyError",
     "evalue": "\"Column img_embed not in the dataset. Current columns in the dataset: ['db_l0_category', 'db_model_id', 'db_item_name', 'db_model_name', 'db_model_price', 'db_image_show', 'db_item_url', 'db_image_url', 'db_item_name_clean', 'db_file_path', 'db_exists', 'image_embed']\"",
     "output_type": "error",
     "traceback": [
      "\u001b[0;31m---------------------------------------------------------------------------\u001b[0m",
      "\u001b[0;31mKeyError\u001b[0m                                  Traceback (most recent call last)",
      "Cell \u001b[0;32mIn[10], line 3\u001b[0m\n\u001b[1;32m      1\u001b[0m score, result \u001b[38;5;241m=\u001b[39m dataset_db\u001b[38;5;241m.\u001b[39mget_nearest_examples_batch(\n\u001b[1;32m      2\u001b[0m     \u001b[38;5;124m'\u001b[39m\u001b[38;5;124mimg_embed\u001b[39m\u001b[38;5;124m'\u001b[39m,\n\u001b[0;32m----> 3\u001b[0m     np\u001b[38;5;241m.\u001b[39masarray(\u001b[43mdataset_db\u001b[49m\u001b[43m[\u001b[49m\u001b[38;5;124;43m'\u001b[39;49m\u001b[38;5;124;43mimg_embed\u001b[39;49m\u001b[38;5;124;43m'\u001b[39;49m\u001b[43m]\u001b[49m),\n\u001b[1;32m      4\u001b[0m     k\u001b[38;5;241m=\u001b[39m\u001b[38;5;241m5\u001b[39m\n\u001b[1;32m      5\u001b[0m )\n\u001b[1;32m      7\u001b[0m dict_ \u001b[38;5;241m=\u001b[39m {\u001b[38;5;124m'\u001b[39m\u001b[38;5;124mscore_img\u001b[39m\u001b[38;5;124m'\u001b[39m: [\u001b[38;5;28mlist\u001b[39m(i) \u001b[38;5;28;01mfor\u001b[39;00m i \u001b[38;5;129;01min\u001b[39;00m score]}\n\u001b[1;32m      8\u001b[0m df_score \u001b[38;5;241m=\u001b[39m pl\u001b[38;5;241m.\u001b[39mDataFrame(dict_)\n",
      "File \u001b[0;32m~/miniforge3/envs/item/lib/python3.12/site-packages/datasets/arrow_dataset.py:2742\u001b[0m, in \u001b[0;36mDataset.__getitem__\u001b[0;34m(self, key)\u001b[0m\n\u001b[1;32m   2740\u001b[0m \u001b[38;5;28;01mdef\u001b[39;00m \u001b[38;5;21m__getitem__\u001b[39m(\u001b[38;5;28mself\u001b[39m, key):  \u001b[38;5;66;03m# noqa: F811\u001b[39;00m\n\u001b[1;32m   2741\u001b[0m \u001b[38;5;250m    \u001b[39m\u001b[38;5;124;03m\"\"\"Can be used to index columns (by string names) or rows (by integer index or iterable of indices or bools).\"\"\"\u001b[39;00m\n\u001b[0;32m-> 2742\u001b[0m     \u001b[38;5;28;01mreturn\u001b[39;00m \u001b[38;5;28;43mself\u001b[39;49m\u001b[38;5;241;43m.\u001b[39;49m\u001b[43m_getitem\u001b[49m\u001b[43m(\u001b[49m\u001b[43mkey\u001b[49m\u001b[43m)\u001b[49m\n",
      "File \u001b[0;32m~/miniforge3/envs/item/lib/python3.12/site-packages/datasets/arrow_dataset.py:2726\u001b[0m, in \u001b[0;36mDataset._getitem\u001b[0;34m(self, key, **kwargs)\u001b[0m\n\u001b[1;32m   2724\u001b[0m format_kwargs \u001b[38;5;241m=\u001b[39m format_kwargs \u001b[38;5;28;01mif\u001b[39;00m format_kwargs \u001b[38;5;129;01mis\u001b[39;00m \u001b[38;5;129;01mnot\u001b[39;00m \u001b[38;5;28;01mNone\u001b[39;00m \u001b[38;5;28;01melse\u001b[39;00m {}\n\u001b[1;32m   2725\u001b[0m formatter \u001b[38;5;241m=\u001b[39m get_formatter(format_type, features\u001b[38;5;241m=\u001b[39m\u001b[38;5;28mself\u001b[39m\u001b[38;5;241m.\u001b[39m_info\u001b[38;5;241m.\u001b[39mfeatures, \u001b[38;5;241m*\u001b[39m\u001b[38;5;241m*\u001b[39mformat_kwargs)\n\u001b[0;32m-> 2726\u001b[0m pa_subtable \u001b[38;5;241m=\u001b[39m \u001b[43mquery_table\u001b[49m\u001b[43m(\u001b[49m\u001b[38;5;28;43mself\u001b[39;49m\u001b[38;5;241;43m.\u001b[39;49m\u001b[43m_data\u001b[49m\u001b[43m,\u001b[49m\u001b[43m \u001b[49m\u001b[43mkey\u001b[49m\u001b[43m,\u001b[49m\u001b[43m \u001b[49m\u001b[43mindices\u001b[49m\u001b[38;5;241;43m=\u001b[39;49m\u001b[38;5;28;43mself\u001b[39;49m\u001b[38;5;241;43m.\u001b[39;49m\u001b[43m_indices\u001b[49m\u001b[43m)\u001b[49m\n\u001b[1;32m   2727\u001b[0m formatted_output \u001b[38;5;241m=\u001b[39m format_table(\n\u001b[1;32m   2728\u001b[0m     pa_subtable, key, formatter\u001b[38;5;241m=\u001b[39mformatter, format_columns\u001b[38;5;241m=\u001b[39mformat_columns, output_all_columns\u001b[38;5;241m=\u001b[39moutput_all_columns\n\u001b[1;32m   2729\u001b[0m )\n\u001b[1;32m   2730\u001b[0m \u001b[38;5;28;01mreturn\u001b[39;00m formatted_output\n",
      "File \u001b[0;32m~/miniforge3/envs/item/lib/python3.12/site-packages/datasets/formatting/formatting.py:590\u001b[0m, in \u001b[0;36mquery_table\u001b[0;34m(table, key, indices)\u001b[0m\n\u001b[1;32m    588\u001b[0m         _raise_bad_key_type(key)\n\u001b[1;32m    589\u001b[0m \u001b[38;5;28;01mif\u001b[39;00m \u001b[38;5;28misinstance\u001b[39m(key, \u001b[38;5;28mstr\u001b[39m):\n\u001b[0;32m--> 590\u001b[0m     \u001b[43m_check_valid_column_key\u001b[49m\u001b[43m(\u001b[49m\u001b[43mkey\u001b[49m\u001b[43m,\u001b[49m\u001b[43m \u001b[49m\u001b[43mtable\u001b[49m\u001b[38;5;241;43m.\u001b[39;49m\u001b[43mcolumn_names\u001b[49m\u001b[43m)\u001b[49m\n\u001b[1;32m    591\u001b[0m \u001b[38;5;28;01melse\u001b[39;00m:\n\u001b[1;32m    592\u001b[0m     size \u001b[38;5;241m=\u001b[39m indices\u001b[38;5;241m.\u001b[39mnum_rows \u001b[38;5;28;01mif\u001b[39;00m indices \u001b[38;5;129;01mis\u001b[39;00m \u001b[38;5;129;01mnot\u001b[39;00m \u001b[38;5;28;01mNone\u001b[39;00m \u001b[38;5;28;01melse\u001b[39;00m table\u001b[38;5;241m.\u001b[39mnum_rows\n",
      "File \u001b[0;32m~/miniforge3/envs/item/lib/python3.12/site-packages/datasets/formatting/formatting.py:527\u001b[0m, in \u001b[0;36m_check_valid_column_key\u001b[0;34m(key, columns)\u001b[0m\n\u001b[1;32m    525\u001b[0m \u001b[38;5;28;01mdef\u001b[39;00m \u001b[38;5;21m_check_valid_column_key\u001b[39m(key: \u001b[38;5;28mstr\u001b[39m, columns: List[\u001b[38;5;28mstr\u001b[39m]) \u001b[38;5;241m-\u001b[39m\u001b[38;5;241m>\u001b[39m \u001b[38;5;28;01mNone\u001b[39;00m:\n\u001b[1;32m    526\u001b[0m     \u001b[38;5;28;01mif\u001b[39;00m key \u001b[38;5;129;01mnot\u001b[39;00m \u001b[38;5;129;01min\u001b[39;00m columns:\n\u001b[0;32m--> 527\u001b[0m         \u001b[38;5;28;01mraise\u001b[39;00m \u001b[38;5;167;01mKeyError\u001b[39;00m(\u001b[38;5;124mf\u001b[39m\u001b[38;5;124m\"\u001b[39m\u001b[38;5;124mColumn \u001b[39m\u001b[38;5;132;01m{\u001b[39;00mkey\u001b[38;5;132;01m}\u001b[39;00m\u001b[38;5;124m not in the dataset. Current columns in the dataset: \u001b[39m\u001b[38;5;132;01m{\u001b[39;00mcolumns\u001b[38;5;132;01m}\u001b[39;00m\u001b[38;5;124m\"\u001b[39m)\n",
      "\u001b[0;31mKeyError\u001b[0m: \"Column img_embed not in the dataset. Current columns in the dataset: ['db_l0_category', 'db_model_id', 'db_item_name', 'db_model_name', 'db_model_price', 'db_image_show', 'db_item_url', 'db_image_url', 'db_item_name_clean', 'db_file_path', 'db_exists', 'image_embed']\""
     ]
    }
   ],
   "source": [
    "score, result = dataset_db.get_nearest_examples_batch(\n",
    "    'img_embed',\n",
    "    np.asarray(dataset_db['img_embed']),\n",
    "    k=5\n",
    ")\n",
    "\n",
    "dict_ = {'score_img': [list(i) for i in score]}\n",
    "df_score = pl.DataFrame(dict_)\n",
    "df_result = pl.DataFrame(result).drop(['img_embed'])"
   ]
  },
  {
   "cell_type": "markdown",
   "id": "b879e463bb688c29",
   "metadata": {
    "collapsed": false,
    "jupyter": {
     "outputs_hidden": false
    }
   },
   "source": [
    "## 5) Post process"
   ]
  },
  {
   "cell_type": "code",
   "execution_count": 8,
   "id": "ae3b4d1db34781b3",
   "metadata": {
    "ExecuteTime": {
     "end_time": "2024-04-10T08:14:46.204753Z",
     "start_time": "2024-04-10T08:14:46.202316Z"
    },
    "collapsed": false,
    "jupyter": {
     "outputs_hidden": false
    }
   },
   "outputs": [],
   "source": [
    "df_match = pl.concat([df_q, df_result, df_score], how='horizontal')\n",
    "col_explode = [i for i in df_match.columns if 'db' in i] + ['score_img']\n",
    "df_match = df_match.explode(col_explode)"
   ]
  },
  {
   "cell_type": "code",
   "execution_count": 12,
   "id": "c77a28d769f090a8",
   "metadata": {
    "ExecuteTime": {
     "end_time": "2024-04-10T08:20:35.305316Z",
     "start_time": "2024-04-10T08:20:35.237024Z"
    },
    "collapsed": false,
    "jupyter": {
     "outputs_hidden": false
    }
   },
   "outputs": [],
   "source": [
    "df_match.to_pandas()"
   ]
  },
  {
   "cell_type": "code",
   "execution_count": 17,
   "id": "a0e4684a2951fd81",
   "metadata": {
    "ExecuteTime": {
     "end_time": "2024-04-10T08:21:41.733283Z",
     "start_time": "2024-04-10T08:21:41.380253Z"
    }
   },
   "outputs": [],
   "source": [
    "draw_images(df_match, 2999787165)"
   ]
  },
  {
   "cell_type": "code",
   "execution_count": 16,
   "id": "79fd508420578e15",
   "metadata": {
    "ExecuteTime": {
     "end_time": "2024-04-10T08:21:31.345460Z",
     "start_time": "2024-04-10T08:21:30.920363Z"
    }
   },
   "outputs": [],
   "source": [
    "draw_images(df_match, 3099789245)"
   ]
  },
  {
   "cell_type": "code",
   "execution_count": 14,
   "id": "8983812434526555",
   "metadata": {
    "ExecuteTime": {
     "end_time": "2024-04-10T08:20:50.919999Z",
     "start_time": "2024-04-10T08:20:50.534938Z"
    }
   },
   "outputs": [],
   "source": [
    "draw_images(df_match, 2999838844)"
   ]
  },
  {
   "cell_type": "code",
   "execution_count": 15,
   "id": "b7113dbfed8218ac",
   "metadata": {
    "ExecuteTime": {
     "end_time": "2024-04-10T08:21:09.512599Z",
     "start_time": "2024-04-10T08:21:09.219131Z"
    }
   },
   "outputs": [],
   "source": [
    "draw_images(df_match, 3099458499)"
   ]
  },
  {
   "cell_type": "code",
   "execution_count": 11,
   "id": "2dacba735258ef3d",
   "metadata": {
    "collapsed": false,
    "jupyter": {
     "outputs_hidden": false
    }
   },
   "outputs": [],
   "source": [
    "# df_match.write_csv(path / 'match.csv')"
   ]
  }
 ],
 "metadata": {
  "kernelspec": {
   "display_name": "Python 3 (ipykernel)",
   "language": "python",
   "name": "python3"
  },
  "language_info": {
   "codemirror_mode": {
    "name": "ipython",
    "version": 3
   },
   "file_extension": ".py",
   "mimetype": "text/x-python",
   "name": "python",
   "nbconvert_exporter": "python",
   "pygments_lexer": "ipython3",
   "version": "3.12.7"
  }
 },
 "nbformat": 4,
 "nbformat_minor": 5
}
