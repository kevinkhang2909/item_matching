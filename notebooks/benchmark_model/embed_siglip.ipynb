{
 "cells": [
  {
   "cell_type": "code",
   "id": "28f6df8c7caed3f9",
   "metadata": {
    "collapsed": false,
    "jupyter": {
     "outputs_hidden": false
    },
    "ExecuteTime": {
     "end_time": "2025-01-11T07:08:06.005216Z",
     "start_time": "2025-01-11T07:07:56.106040Z"
    }
   },
   "source": [
    "from pathlib import Path\n",
    "import polars as pl\n",
    "import duckdb\n",
    "from datasets import Dataset, concatenate_datasets, load_from_disk\n",
    "import numpy as np\n",
    "from autofaiss import build_index\n",
    "from core_pro.ultilities import make_sync_folder\n",
    "import sys\n",
    "sys.path.extend([str(Path.home() / 'PycharmProjects/item_matching')])\n",
    "\n",
    "# from src.item_matching.build_index.func_img import PipelineImage\n",
    "# from item_matching.model.model import Model\n",
    "# from func import draw_images"
   ],
   "outputs": [],
   "execution_count": 1
  },
  {
   "cell_type": "code",
   "id": "initial_id",
   "metadata": {
    "ExecuteTime": {
     "end_time": "2025-01-11T07:09:11.249604Z",
     "start_time": "2025-01-11T07:09:10.540966Z"
    }
   },
   "source": [
    "path = make_sync_folder('Item_Matching_Test')\n",
    "path_db = path / 'data_sample_ELHA.parquet'\n",
    "\n",
    "# db\n",
    "query = f\"\"\"\n",
    "select *\n",
    "from parquet_scan('{str(path_db)}')\n",
    "\"\"\"\n",
    "df_db = (\n",
    "    duckdb.sql(query).pl()\n",
    "    .select(pl.all().name.prefix('db_'))\n",
    ")\n",
    "\n",
    "# q\n",
    "df_q = df_db.clone()\n",
    "df_q.columns = [f'q_{i.split('db_')[1]}' for i in df_db.columns]\n",
    "df_q.head()"
   ],
   "outputs": [
    {
     "data": {
      "text/plain": [
       "shape: (5, 10)\n",
       "┌───────────┬───────────┬───────────┬───────────┬───┬───────────┬───────────┬───────────┬──────────┐\n",
       "│ q_item_id ┆ q_item_na ┆ q_shop_id ┆ q_shop_na ┆ … ┆ q_level3_ ┆ q_cluster ┆ q_descrip ┆ q_images │\n",
       "│ ---       ┆ me        ┆ ---       ┆ me        ┆   ┆ global_be ┆ ---       ┆ tion      ┆ ---      │\n",
       "│ i64       ┆ ---       ┆ i64       ┆ ---       ┆   ┆ _category ┆ str       ┆ ---       ┆ str      │\n",
       "│           ┆ str       ┆           ┆ str       ┆   ┆ ---       ┆           ┆ str       ┆          │\n",
       "│           ┆           ┆           ┆           ┆   ┆ str       ┆           ┆           ┆          │\n",
       "╞═══════════╪═══════════╪═══════════╪═══════════╪═══╪═══════════╪═══════════╪═══════════╪══════════╡\n",
       "│ 200848140 ┆ Ultra Ốp  ┆ 264148388 ┆ DESN.VN   ┆ … ┆ Cases,    ┆ ELHA      ┆ [{\"t\":\"Ch ┆ cn-11134 │\n",
       "│ 19        ┆ Điện      ┆           ┆           ┆   ┆ Covers, & ┆           ┆ ú ý! Chú  ┆ 207-7r98 │\n",
       "│           ┆ Thoại pc  ┆           ┆           ┆   ┆ Skins     ┆           ┆ ý! Chú    ┆ o-lmem65 │\n",
       "│           ┆ Silicon…  ┆           ┆           ┆   ┆           ┆           ┆ ý!\\nN…    ┆ 8l6u5e…  │\n",
       "│ 242756446 ┆ Mowin -   ┆ 179790847 ┆ mowin.vn  ┆ … ┆ Cases,    ┆ ELHA      ┆ [{\"i\":\"sg ┆ sg-11134 │\n",
       "│ 57        ┆ Dành cho  ┆           ┆           ┆   ┆ Covers, & ┆           ┆ -11134202 ┆ 201-7rd6 │\n",
       "│           ┆ iPhone 15 ┆           ┆           ┆   ┆ Skins     ┆           ┆ -7rd5u-lu ┆ h-lubuws │\n",
       "│           ┆ Pro…      ┆           ┆           ┆   ┆           ┆           ┆ bux…      ┆ fjov3r…  │\n",
       "│ 258547595 ┆ Ốp lưng   ┆ 102460756 ┆ kirby0527 ┆ … ┆ Cases,    ┆ ELHA      ┆ [{\"t\":\"💕 ┆ sg-11134 │\n",
       "│ 39        ┆ iphone    ┆ 1         ┆ .vn       ┆   ┆ Covers, & ┆           ┆ Chào mừng ┆ 201-7rbm │\n",
       "│           ┆ trau dồi  ┆           ┆           ┆   ┆ Skins     ┆           ┆ đến với   ┆ y-lplxvs │\n",
       "│           ┆ 11 12 …   ┆           ┆           ┆   ┆           ┆           ┆ cửa …     ┆ l3lbcl…  │\n",
       "│ 192572721 ┆ [HÀNG     ┆ 190253918 ┆ Phụ Kiện  ┆ … ┆ Cables,   ┆ ELHA      ┆ [{\"t\":\"DÂ ┆ vn-11134 │\n",
       "│ 85        ┆ LOẠI TỐT] ┆           ┆ Chấn      ┆   ┆ Chargers  ┆           ┆ Y SẠC HỖ  ┆ 207-7r98 │\n",
       "│           ┆ Dây cáp   ┆           ┆ Thiên     ┆   ┆ & Convert ┆           ┆ TRỢ SẠC   ┆ o-lu5uom │\n",
       "│           ┆ sạc dà…   ┆           ┆           ┆   ┆ ers       ┆           ┆ CHO …     ┆ vfvdht…  │\n",
       "│ 248724381 ┆ Dây Cáp   ┆ 718584929 ┆ ANBELER   ┆ … ┆ Cables,   ┆ ELHA      ┆ [{\"t\":\"✅ ┆ vn-11134 │\n",
       "│ 41        ┆ Sạc Nhanh ┆           ┆           ┆   ┆ Chargers  ┆           ┆ Dây Cáp   ┆ 207-7r98 │\n",
       "│           ┆ 2 Đầu     ┆           ┆           ┆   ┆ & Convert ┆           ┆ Sạc Nhanh ┆ o-lwfi09 │\n",
       "│           ┆ Type C…   ┆           ┆           ┆   ┆ ers       ┆           ┆ 2 Đ…      ┆ 222ok9…  │\n",
       "└───────────┴───────────┴───────────┴───────────┴───┴───────────┴───────────┴───────────┴──────────┘"
      ],
      "text/html": [
       "<div><style>\n",
       ".dataframe > thead > tr,\n",
       ".dataframe > tbody > tr {\n",
       "  text-align: right;\n",
       "  white-space: pre-wrap;\n",
       "}\n",
       "</style>\n",
       "<small>shape: (5, 10)</small><table border=\"1\" class=\"dataframe\"><thead><tr><th>q_item_id</th><th>q_item_name</th><th>q_shop_id</th><th>q_shop_name</th><th>q_level1_global_be_category</th><th>q_level2_global_be_category</th><th>q_level3_global_be_category</th><th>q_cluster</th><th>q_description</th><th>q_images</th></tr><tr><td>i64</td><td>str</td><td>i64</td><td>str</td><td>str</td><td>str</td><td>str</td><td>str</td><td>str</td><td>str</td></tr></thead><tbody><tr><td>20084814019</td><td>&quot;Ultra Ốp Điện Thoại pc Silicon…</td><td>264148388</td><td>&quot;DESN.VN&quot;</td><td>&quot;Mobile &amp; Gadgets&quot;</td><td>&quot;Accessories&quot;</td><td>&quot;Cases, Covers, &amp; Skins&quot;</td><td>&quot;ELHA&quot;</td><td>&quot;[{&quot;t&quot;:&quot;Chú ý! Chú ý! Chú ý!\\nN…</td><td>&quot;cn-11134207-7r98o-lmem658l6u5e…</td></tr><tr><td>24275644657</td><td>&quot;Mowin - Dành cho iPhone 15 Pro…</td><td>179790847</td><td>&quot;mowin.vn&quot;</td><td>&quot;Mobile &amp; Gadgets&quot;</td><td>&quot;Accessories&quot;</td><td>&quot;Cases, Covers, &amp; Skins&quot;</td><td>&quot;ELHA&quot;</td><td>&quot;[{&quot;i&quot;:&quot;sg-11134202-7rd5u-lubux…</td><td>&quot;sg-11134201-7rd6h-lubuwsfjov3r…</td></tr><tr><td>25854759539</td><td>&quot;Ốp lưng iphone trau dồi 11 12 …</td><td>1024607561</td><td>&quot;kirby0527.vn&quot;</td><td>&quot;Mobile &amp; Gadgets&quot;</td><td>&quot;Accessories&quot;</td><td>&quot;Cases, Covers, &amp; Skins&quot;</td><td>&quot;ELHA&quot;</td><td>&quot;[{&quot;t&quot;:&quot;💕Chào mừng đến với cửa …</td><td>&quot;sg-11134201-7rbmy-lplxvsl3lbcl…</td></tr><tr><td>19257272185</td><td>&quot;[HÀNG LOẠI TỐT] Dây cáp sạc dà…</td><td>190253918</td><td>&quot;Phụ Kiện Chấn Thiên&quot;</td><td>&quot;Mobile &amp; Gadgets&quot;</td><td>&quot;Accessories&quot;</td><td>&quot;Cables, Chargers &amp; Converters&quot;</td><td>&quot;ELHA&quot;</td><td>&quot;[{&quot;t&quot;:&quot;DÂY SẠC HỖ TRỢ SẠC CHO …</td><td>&quot;vn-11134207-7r98o-lu5uomvfvdht…</td></tr><tr><td>24872438141</td><td>&quot;Dây Cáp Sạc Nhanh 2 Đầu Type C…</td><td>718584929</td><td>&quot;ANBELER&quot;</td><td>&quot;Mobile &amp; Gadgets&quot;</td><td>&quot;Accessories&quot;</td><td>&quot;Cables, Chargers &amp; Converters&quot;</td><td>&quot;ELHA&quot;</td><td>&quot;[{&quot;t&quot;:&quot;✅ Dây Cáp Sạc Nhanh 2 Đ…</td><td>&quot;vn-11134207-7r98o-lwfi09222ok9…</td></tr></tbody></table></div>"
      ]
     },
     "execution_count": 5,
     "metadata": {},
     "output_type": "execute_result"
    }
   ],
   "execution_count": 5
  },
  {
   "metadata": {
    "ExecuteTime": {
     "end_time": "2025-01-11T07:09:11.453343Z",
     "start_time": "2025-01-11T07:09:11.442550Z"
    }
   },
   "cell_type": "code",
   "source": "df_db.columns",
   "id": "9398481820a50326",
   "outputs": [
    {
     "data": {
      "text/plain": [
       "['db_item_id',\n",
       " 'db_item_name',\n",
       " 'db_shop_id',\n",
       " 'db_shop_name',\n",
       " 'db_level1_global_be_category',\n",
       " 'db_level2_global_be_category',\n",
       " 'db_level3_global_be_category',\n",
       " 'db_cluster',\n",
       " 'db_description',\n",
       " 'db_images']"
      ]
     },
     "execution_count": 6,
     "metadata": {},
     "output_type": "execute_result"
    }
   ],
   "execution_count": 6
  },
  {
   "cell_type": "markdown",
   "id": "539fe7f71bc59b80",
   "metadata": {
    "collapsed": false,
    "jupyter": {
     "outputs_hidden": false
    }
   },
   "source": [
    "## 2) Embeddings\n",
    "\n",
    "Use datasets and clip to transform images to vectors"
   ]
  },
  {
   "cell_type": "code",
   "execution_count": 3,
   "id": "70a41ebe42d746ca",
   "metadata": {
    "ExecuteTime": {
     "end_time": "2024-04-10T08:13:29.861670Z",
     "start_time": "2024-04-10T08:13:25.827429Z"
    },
    "collapsed": false,
    "jupyter": {
     "outputs_hidden": false
    }
   },
   "outputs": [
    {
     "name": "stdout",
     "output_type": "stream",
     "text": [
      "\u001B[1mINFO\u001B[0m | \u001B[36m__init__\u001B[0m | \u001B[1m[Model] Run on: cuda\u001B[0m\n"
     ]
    }
   ],
   "source": [
    "model = Model()\n",
    "model.get_img_model()"
   ]
  },
  {
   "cell_type": "code",
   "execution_count": 7,
   "id": "b95e12aa6944cd3e",
   "metadata": {
    "ExecuteTime": {
     "end_time": "2024-04-10T08:14:32.207776Z",
     "start_time": "2024-04-10T08:13:29.862425Z"
    },
    "collapsed": false,
    "jupyter": {
     "outputs_hidden": false
    }
   },
   "outputs": [
    {
     "data": {
      "application/vnd.jupyter.widget-view+json": {
       "model_id": "e35cbaf59ae6420d95d832dd03fdf4e0",
       "version_major": 2,
       "version_minor": 0
      },
      "text/plain": [
       "Map:   0%|          | 0/145 [00:00<?, ? examples/s]"
      ]
     },
     "metadata": {},
     "output_type": "display_data"
    },
    {
     "data": {
      "application/vnd.jupyter.widget-view+json": {
       "model_id": "cb06a9020abe49b385af569f5047ab98",
       "version_major": 2,
       "version_minor": 0
      },
      "text/plain": [
       "Map:   0%|          | 0/145 [00:00<?, ? examples/s]"
      ]
     },
     "metadata": {},
     "output_type": "display_data"
    },
    {
     "data": {
      "application/vnd.jupyter.widget-view+json": {
       "model_id": "836e74db81df431eaa095edc513c7771",
       "version_major": 2,
       "version_minor": 0
      },
      "text/plain": [
       "Saving the dataset (0/1 shards):   0%|          | 0/145 [00:00<?, ? examples/s]"
      ]
     },
     "metadata": {},
     "output_type": "display_data"
    }
   ],
   "source": [
    "dataset = Dataset.from_polars(df_db)\n",
    "dataset = dataset.map(\n",
    "    model.process_image,\n",
    "    batch_size=512,\n",
    "    batched=True,\n",
    "    fn_kwargs={'col': 'db_file_path'}\n",
    ")\n",
    "\n",
    "dataset.set_format(type='torch', columns=['image_embed'], output_all_columns=True)\n",
    "dataset = dataset.map(model.pp_normalize, batched=True, fn_kwargs={'col': 'image_embed'})\n",
    "dataset.set_format(type='numpy', columns=['image_embed'], output_all_columns=True)\n",
    "\n",
    "# save to disk\n",
    "path_tmp_array = Path('tmp/array')\n",
    "path_tmp_ds = Path('tmp/ds')\n",
    "np.save(path_tmp_array / 'array.npy', dataset['image_embed'])\n",
    "dataset.save_to_disk(path_tmp_ds / 'ds')"
   ]
  },
  {
   "cell_type": "markdown",
   "id": "2f5934d701125e88",
   "metadata": {
    "collapsed": false,
    "jupyter": {
     "outputs_hidden": false
    }
   },
   "source": [
    "## 3) Indexing\n",
    "\n",
    "Build index to search items"
   ]
  },
  {
   "cell_type": "code",
   "execution_count": 8,
   "id": "96cc5afcf31a1e6a",
   "metadata": {
    "ExecuteTime": {
     "end_time": "2024-04-10T08:14:43.761881Z",
     "start_time": "2024-04-10T08:14:32.208512Z"
    },
    "collapsed": false,
    "jupyter": {
     "outputs_hidden": false
    }
   },
   "outputs": [
    {
     "name": "stderr",
     "output_type": "stream",
     "text": [
      "100%|████████████████████████████████████████████████████████████████████| 1/1 [00:00<00:00, 2172.09it/s]\n",
      "100%|█████████████████████████████████████████████████████████████████████| 1/1 [00:00<00:00, 172.64it/s]\n",
      "  0%|                                                                              | 0/1 [00:00<?, ?it/s]\n"
     ]
    },
    {
     "data": {
      "text/plain": [
       "(<faiss.swigfaiss_avx2.IndexFlat; proxy of <Swig Object of type 'faiss::IndexFlat *' at 0x7c37e5fba670> >,\n",
       " {'index_key': 'Flat',\n",
       "  'index_param': '',\n",
       "  'index_path': 'tmp/index/ip.index',\n",
       "  'size in bytes': 445485,\n",
       "  'avg_search_speed_ms': 0.01423576567293342,\n",
       "  '99p_search_speed_ms': 0.03772199779632523,\n",
       "  'reconstruction error %': 0.0,\n",
       "  'nb vectors': 145,\n",
       "  'vectors dimension': 768,\n",
       "  'compression ratio': 0.9998989864978619})"
      ]
     },
     "execution_count": 8,
     "metadata": {},
     "output_type": "execute_result"
    }
   ],
   "source": [
    "path_index = Path('tmp/index')\n",
    "build_index(\n",
    "    str(path_tmp_array),\n",
    "    index_path=str(path_index / f'ip.index'),\n",
    "    index_infos_path=str(path_index / f'index.json'),\n",
    "    save_on_disk=True,\n",
    "    metric_type='ip',\n",
    "    verbose=30,\n",
    ")"
   ]
  },
  {
   "cell_type": "markdown",
   "id": "61b78720de597863",
   "metadata": {
    "collapsed": false,
    "jupyter": {
     "outputs_hidden": false
    }
   },
   "source": [
    "Load index into datasets"
   ]
  },
  {
   "cell_type": "code",
   "execution_count": 9,
   "id": "6efdce62f49c27b9",
   "metadata": {
    "ExecuteTime": {
     "end_time": "2024-04-10T08:14:43.779095Z",
     "start_time": "2024-04-10T08:14:43.762761Z"
    },
    "collapsed": false,
    "jupyter": {
     "outputs_hidden": false
    }
   },
   "outputs": [],
   "source": [
    "dataset_db = concatenate_datasets([\n",
    "    load_from_disk(str(f)) for f in sorted(path_tmp_ds.glob('*'))\n",
    "])\n",
    "\n",
    "# add index\n",
    "dataset_db.load_faiss_index('img_embed', path_index / f'ip.index')"
   ]
  },
  {
   "cell_type": "markdown",
   "id": "1790f349c3dd80ea",
   "metadata": {
    "collapsed": false,
    "jupyter": {
     "outputs_hidden": false
    }
   },
   "source": [
    "## 4) Retrieve"
   ]
  },
  {
   "cell_type": "markdown",
   "id": "8b9699dadfcbd348",
   "metadata": {
    "collapsed": false,
    "jupyter": {
     "outputs_hidden": false
    }
   },
   "source": [
    "Batch search top-k from datasets"
   ]
  },
  {
   "cell_type": "code",
   "execution_count": 10,
   "id": "3bcba75a987dd8c2",
   "metadata": {
    "ExecuteTime": {
     "end_time": "2024-04-10T08:14:46.201566Z",
     "start_time": "2024-04-10T08:14:43.779756Z"
    },
    "collapsed": false,
    "jupyter": {
     "outputs_hidden": false
    }
   },
   "outputs": [
    {
     "ename": "KeyError",
     "evalue": "\"Column img_embed not in the dataset. Current columns in the dataset: ['db_l0_category', 'db_model_id', 'db_item_name', 'db_model_name', 'db_model_price', 'db_image_show', 'db_item_url', 'db_image_url', 'db_item_name_clean', 'db_file_path', 'db_exists', 'image_embed']\"",
     "output_type": "error",
     "traceback": [
      "\u001B[0;31m---------------------------------------------------------------------------\u001B[0m",
      "\u001B[0;31mKeyError\u001B[0m                                  Traceback (most recent call last)",
      "Cell \u001B[0;32mIn[10], line 3\u001B[0m\n\u001B[1;32m      1\u001B[0m score, result \u001B[38;5;241m=\u001B[39m dataset_db\u001B[38;5;241m.\u001B[39mget_nearest_examples_batch(\n\u001B[1;32m      2\u001B[0m     \u001B[38;5;124m'\u001B[39m\u001B[38;5;124mimg_embed\u001B[39m\u001B[38;5;124m'\u001B[39m,\n\u001B[0;32m----> 3\u001B[0m     np\u001B[38;5;241m.\u001B[39masarray(\u001B[43mdataset_db\u001B[49m\u001B[43m[\u001B[49m\u001B[38;5;124;43m'\u001B[39;49m\u001B[38;5;124;43mimg_embed\u001B[39;49m\u001B[38;5;124;43m'\u001B[39;49m\u001B[43m]\u001B[49m),\n\u001B[1;32m      4\u001B[0m     k\u001B[38;5;241m=\u001B[39m\u001B[38;5;241m5\u001B[39m\n\u001B[1;32m      5\u001B[0m )\n\u001B[1;32m      7\u001B[0m dict_ \u001B[38;5;241m=\u001B[39m {\u001B[38;5;124m'\u001B[39m\u001B[38;5;124mscore_img\u001B[39m\u001B[38;5;124m'\u001B[39m: [\u001B[38;5;28mlist\u001B[39m(i) \u001B[38;5;28;01mfor\u001B[39;00m i \u001B[38;5;129;01min\u001B[39;00m score]}\n\u001B[1;32m      8\u001B[0m df_score \u001B[38;5;241m=\u001B[39m pl\u001B[38;5;241m.\u001B[39mDataFrame(dict_)\n",
      "File \u001B[0;32m~/miniforge3/envs/item/lib/python3.12/site-packages/datasets/arrow_dataset.py:2742\u001B[0m, in \u001B[0;36mDataset.__getitem__\u001B[0;34m(self, key)\u001B[0m\n\u001B[1;32m   2740\u001B[0m \u001B[38;5;28;01mdef\u001B[39;00m \u001B[38;5;21m__getitem__\u001B[39m(\u001B[38;5;28mself\u001B[39m, key):  \u001B[38;5;66;03m# noqa: F811\u001B[39;00m\n\u001B[1;32m   2741\u001B[0m \u001B[38;5;250m    \u001B[39m\u001B[38;5;124;03m\"\"\"Can be used to index columns (by string names) or rows (by integer index or iterable of indices or bools).\"\"\"\u001B[39;00m\n\u001B[0;32m-> 2742\u001B[0m     \u001B[38;5;28;01mreturn\u001B[39;00m \u001B[38;5;28;43mself\u001B[39;49m\u001B[38;5;241;43m.\u001B[39;49m\u001B[43m_getitem\u001B[49m\u001B[43m(\u001B[49m\u001B[43mkey\u001B[49m\u001B[43m)\u001B[49m\n",
      "File \u001B[0;32m~/miniforge3/envs/item/lib/python3.12/site-packages/datasets/arrow_dataset.py:2726\u001B[0m, in \u001B[0;36mDataset._getitem\u001B[0;34m(self, key, **kwargs)\u001B[0m\n\u001B[1;32m   2724\u001B[0m format_kwargs \u001B[38;5;241m=\u001B[39m format_kwargs \u001B[38;5;28;01mif\u001B[39;00m format_kwargs \u001B[38;5;129;01mis\u001B[39;00m \u001B[38;5;129;01mnot\u001B[39;00m \u001B[38;5;28;01mNone\u001B[39;00m \u001B[38;5;28;01melse\u001B[39;00m {}\n\u001B[1;32m   2725\u001B[0m formatter \u001B[38;5;241m=\u001B[39m get_formatter(format_type, features\u001B[38;5;241m=\u001B[39m\u001B[38;5;28mself\u001B[39m\u001B[38;5;241m.\u001B[39m_info\u001B[38;5;241m.\u001B[39mfeatures, \u001B[38;5;241m*\u001B[39m\u001B[38;5;241m*\u001B[39mformat_kwargs)\n\u001B[0;32m-> 2726\u001B[0m pa_subtable \u001B[38;5;241m=\u001B[39m \u001B[43mquery_table\u001B[49m\u001B[43m(\u001B[49m\u001B[38;5;28;43mself\u001B[39;49m\u001B[38;5;241;43m.\u001B[39;49m\u001B[43m_data\u001B[49m\u001B[43m,\u001B[49m\u001B[43m \u001B[49m\u001B[43mkey\u001B[49m\u001B[43m,\u001B[49m\u001B[43m \u001B[49m\u001B[43mindices\u001B[49m\u001B[38;5;241;43m=\u001B[39;49m\u001B[38;5;28;43mself\u001B[39;49m\u001B[38;5;241;43m.\u001B[39;49m\u001B[43m_indices\u001B[49m\u001B[43m)\u001B[49m\n\u001B[1;32m   2727\u001B[0m formatted_output \u001B[38;5;241m=\u001B[39m format_table(\n\u001B[1;32m   2728\u001B[0m     pa_subtable, key, formatter\u001B[38;5;241m=\u001B[39mformatter, format_columns\u001B[38;5;241m=\u001B[39mformat_columns, output_all_columns\u001B[38;5;241m=\u001B[39moutput_all_columns\n\u001B[1;32m   2729\u001B[0m )\n\u001B[1;32m   2730\u001B[0m \u001B[38;5;28;01mreturn\u001B[39;00m formatted_output\n",
      "File \u001B[0;32m~/miniforge3/envs/item/lib/python3.12/site-packages/datasets/formatting/formatting.py:590\u001B[0m, in \u001B[0;36mquery_table\u001B[0;34m(table, key, indices)\u001B[0m\n\u001B[1;32m    588\u001B[0m         _raise_bad_key_type(key)\n\u001B[1;32m    589\u001B[0m \u001B[38;5;28;01mif\u001B[39;00m \u001B[38;5;28misinstance\u001B[39m(key, \u001B[38;5;28mstr\u001B[39m):\n\u001B[0;32m--> 590\u001B[0m     \u001B[43m_check_valid_column_key\u001B[49m\u001B[43m(\u001B[49m\u001B[43mkey\u001B[49m\u001B[43m,\u001B[49m\u001B[43m \u001B[49m\u001B[43mtable\u001B[49m\u001B[38;5;241;43m.\u001B[39;49m\u001B[43mcolumn_names\u001B[49m\u001B[43m)\u001B[49m\n\u001B[1;32m    591\u001B[0m \u001B[38;5;28;01melse\u001B[39;00m:\n\u001B[1;32m    592\u001B[0m     size \u001B[38;5;241m=\u001B[39m indices\u001B[38;5;241m.\u001B[39mnum_rows \u001B[38;5;28;01mif\u001B[39;00m indices \u001B[38;5;129;01mis\u001B[39;00m \u001B[38;5;129;01mnot\u001B[39;00m \u001B[38;5;28;01mNone\u001B[39;00m \u001B[38;5;28;01melse\u001B[39;00m table\u001B[38;5;241m.\u001B[39mnum_rows\n",
      "File \u001B[0;32m~/miniforge3/envs/item/lib/python3.12/site-packages/datasets/formatting/formatting.py:527\u001B[0m, in \u001B[0;36m_check_valid_column_key\u001B[0;34m(key, columns)\u001B[0m\n\u001B[1;32m    525\u001B[0m \u001B[38;5;28;01mdef\u001B[39;00m \u001B[38;5;21m_check_valid_column_key\u001B[39m(key: \u001B[38;5;28mstr\u001B[39m, columns: List[\u001B[38;5;28mstr\u001B[39m]) \u001B[38;5;241m-\u001B[39m\u001B[38;5;241m>\u001B[39m \u001B[38;5;28;01mNone\u001B[39;00m:\n\u001B[1;32m    526\u001B[0m     \u001B[38;5;28;01mif\u001B[39;00m key \u001B[38;5;129;01mnot\u001B[39;00m \u001B[38;5;129;01min\u001B[39;00m columns:\n\u001B[0;32m--> 527\u001B[0m         \u001B[38;5;28;01mraise\u001B[39;00m \u001B[38;5;167;01mKeyError\u001B[39;00m(\u001B[38;5;124mf\u001B[39m\u001B[38;5;124m\"\u001B[39m\u001B[38;5;124mColumn \u001B[39m\u001B[38;5;132;01m{\u001B[39;00mkey\u001B[38;5;132;01m}\u001B[39;00m\u001B[38;5;124m not in the dataset. Current columns in the dataset: \u001B[39m\u001B[38;5;132;01m{\u001B[39;00mcolumns\u001B[38;5;132;01m}\u001B[39;00m\u001B[38;5;124m\"\u001B[39m)\n",
      "\u001B[0;31mKeyError\u001B[0m: \"Column img_embed not in the dataset. Current columns in the dataset: ['db_l0_category', 'db_model_id', 'db_item_name', 'db_model_name', 'db_model_price', 'db_image_show', 'db_item_url', 'db_image_url', 'db_item_name_clean', 'db_file_path', 'db_exists', 'image_embed']\""
     ]
    }
   ],
   "source": [
    "score, result = dataset_db.get_nearest_examples_batch(\n",
    "    'img_embed',\n",
    "    np.asarray(dataset_db['img_embed']),\n",
    "    k=5\n",
    ")\n",
    "\n",
    "dict_ = {'score_img': [list(i) for i in score]}\n",
    "df_score = pl.DataFrame(dict_)\n",
    "df_result = pl.DataFrame(result).drop(['img_embed'])"
   ]
  },
  {
   "cell_type": "markdown",
   "id": "b879e463bb688c29",
   "metadata": {
    "collapsed": false,
    "jupyter": {
     "outputs_hidden": false
    }
   },
   "source": [
    "## 5) Post process"
   ]
  },
  {
   "cell_type": "code",
   "execution_count": 8,
   "id": "ae3b4d1db34781b3",
   "metadata": {
    "ExecuteTime": {
     "end_time": "2024-04-10T08:14:46.204753Z",
     "start_time": "2024-04-10T08:14:46.202316Z"
    },
    "collapsed": false,
    "jupyter": {
     "outputs_hidden": false
    }
   },
   "outputs": [],
   "source": [
    "df_match = pl.concat([df_q, df_result, df_score], how='horizontal')\n",
    "col_explode = [i for i in df_match.columns if 'db' in i] + ['score_img']\n",
    "df_match = df_match.explode(col_explode)"
   ]
  },
  {
   "cell_type": "code",
   "execution_count": 12,
   "id": "c77a28d769f090a8",
   "metadata": {
    "ExecuteTime": {
     "end_time": "2024-04-10T08:20:35.305316Z",
     "start_time": "2024-04-10T08:20:35.237024Z"
    },
    "collapsed": false,
    "jupyter": {
     "outputs_hidden": false
    }
   },
   "outputs": [],
   "source": [
    "df_match.to_pandas()"
   ]
  },
  {
   "cell_type": "code",
   "execution_count": 17,
   "id": "a0e4684a2951fd81",
   "metadata": {
    "ExecuteTime": {
     "end_time": "2024-04-10T08:21:41.733283Z",
     "start_time": "2024-04-10T08:21:41.380253Z"
    }
   },
   "outputs": [],
   "source": [
    "draw_images(df_match, 2999787165)"
   ]
  },
  {
   "cell_type": "code",
   "execution_count": 16,
   "id": "79fd508420578e15",
   "metadata": {
    "ExecuteTime": {
     "end_time": "2024-04-10T08:21:31.345460Z",
     "start_time": "2024-04-10T08:21:30.920363Z"
    }
   },
   "outputs": [],
   "source": [
    "draw_images(df_match, 3099789245)"
   ]
  },
  {
   "cell_type": "code",
   "execution_count": 14,
   "id": "8983812434526555",
   "metadata": {
    "ExecuteTime": {
     "end_time": "2024-04-10T08:20:50.919999Z",
     "start_time": "2024-04-10T08:20:50.534938Z"
    }
   },
   "outputs": [],
   "source": [
    "draw_images(df_match, 2999838844)"
   ]
  },
  {
   "cell_type": "code",
   "execution_count": 15,
   "id": "b7113dbfed8218ac",
   "metadata": {
    "ExecuteTime": {
     "end_time": "2024-04-10T08:21:09.512599Z",
     "start_time": "2024-04-10T08:21:09.219131Z"
    }
   },
   "outputs": [],
   "source": [
    "draw_images(df_match, 3099458499)"
   ]
  },
  {
   "cell_type": "code",
   "execution_count": 11,
   "id": "2dacba735258ef3d",
   "metadata": {
    "collapsed": false,
    "jupyter": {
     "outputs_hidden": false
    }
   },
   "outputs": [],
   "source": [
    "# df_match.write_csv(path / 'match.csv')"
   ]
  }
 ],
 "metadata": {
  "kernelspec": {
   "display_name": "Python 3 (ipykernel)",
   "language": "python",
   "name": "python3"
  },
  "language_info": {
   "codemirror_mode": {
    "name": "ipython",
    "version": 3
   },
   "file_extension": ".py",
   "mimetype": "text/x-python",
   "name": "python",
   "nbconvert_exporter": "python",
   "pygments_lexer": "ipython3",
   "version": "3.12.7"
  }
 },
 "nbformat": 4,
 "nbformat_minor": 5
}
