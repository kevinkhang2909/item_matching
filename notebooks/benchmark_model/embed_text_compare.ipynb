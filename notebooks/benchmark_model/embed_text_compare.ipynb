{
 "cells": [
  {
   "cell_type": "code",
   "execution_count": 1,
   "id": "28f6df8c7caed3f9",
   "metadata": {
    "ExecuteTime": {
     "end_time": "2025-04-04T08:27:27.149212Z",
     "start_time": "2025-04-04T08:27:24.646099Z"
    },
    "collapsed": false,
    "jupyter": {
     "outputs_hidden": false
    }
   },
   "outputs": [],
   "source": [
    "import polars as pl\n",
    "import duckdb\n",
    "from core_pro.ultilities import make_sync_folder\n",
    "from create_index import create_search_result"
   ]
  },
  {
   "cell_type": "code",
   "execution_count": 2,
   "id": "5c3e4a05690aebce",
   "metadata": {
    "ExecuteTime": {
     "end_time": "2025-04-04T08:27:27.170724Z",
     "start_time": "2025-04-04T08:27:27.152971Z"
    }
   },
   "outputs": [
    {
     "data": {
      "text/html": [
       "<div><style>\n",
       ".dataframe > thead > tr,\n",
       ".dataframe > tbody > tr {\n",
       "  text-align: right;\n",
       "  white-space: pre-wrap;\n",
       "}\n",
       "</style>\n",
       "<small>shape: (5, 2)</small><table border=\"1\" class=\"dataframe\"><thead><tr><th>item_id</th><th>item_name</th></tr><tr><td>i64</td><td>str</td></tr></thead><tbody><tr><td>21740433922</td><td>&quot;Băng vệ sinh cho mẹ sau sinh M…</td></tr><tr><td>22380668240</td><td>&quot;(tặng quà) Vitamin D3 K2 Bioam…</td></tr><tr><td>12552302079</td><td>&quot;Kẹo thập cẩm dẻo đặc sản Langf…</td></tr><tr><td>28355345290</td><td>&quot;Trà thảo mộc detox HERA MATE c…</td></tr><tr><td>15130518417</td><td>&quot;Ngũ Cốc Mè Đen Damtuh Hàn Quốc…</td></tr></tbody></table></div>"
      ],
      "text/plain": [
       "shape: (5, 2)\n",
       "┌─────────────┬─────────────────────────────────┐\n",
       "│ item_id     ┆ item_name                       │\n",
       "│ ---         ┆ ---                             │\n",
       "│ i64         ┆ str                             │\n",
       "╞═════════════╪═════════════════════════════════╡\n",
       "│ 21740433922 ┆ Băng vệ sinh cho mẹ sau sinh M… │\n",
       "│ 22380668240 ┆ (tặng quà) Vitamin D3 K2 Bioam… │\n",
       "│ 12552302079 ┆ Kẹo thập cẩm dẻo đặc sản Langf… │\n",
       "│ 28355345290 ┆ Trà thảo mộc detox HERA MATE c… │\n",
       "│ 15130518417 ┆ Ngũ Cốc Mè Đen Damtuh Hàn Quốc… │\n",
       "└─────────────┴─────────────────────────────────┘"
      ]
     },
     "execution_count": 2,
     "metadata": {},
     "output_type": "execute_result"
    }
   ],
   "source": [
    "path = make_sync_folder(\"dataset/item_matching\")\n",
    "file = path / \"data_sample_FMCG_clean.parquet\"\n",
    "\n",
    "query = f\"\"\"\n",
    "select item_id\n",
    ", item_name\n",
    "from read_parquet('{file}')\n",
    "\"\"\"\n",
    "df = duckdb.sql(query).pl()\n",
    "df.head()"
   ]
  },
  {
   "cell_type": "code",
   "execution_count": 3,
   "id": "96cc5afcf31a1e6a",
   "metadata": {
    "ExecuteTime": {
     "end_time": "2025-04-04T08:28:00.474295Z",
     "start_time": "2025-04-04T08:27:27.270745Z"
    },
    "collapsed": false,
    "jupyter": {
     "outputs_hidden": false
    }
   },
   "outputs": [
    {
     "name": "stdout",
     "output_type": "stream",
     "text": [
      "(78265, 512)\n"
     ]
    },
    {
     "name": "stderr",
     "output_type": "stream",
     "text": [
      "100%|████████████████████████████████████████████████████████| 1/1 [00:00<00:00, 26715.31it/s]\n",
      "100%|███████████████████████████████████████████████████████████| 4/4 [00:01<00:00,  2.56it/s]\n",
      "  0%|                                                                   | 0/1 [00:00<?, ?it/s]\n"
     ]
    }
   ],
   "source": [
    "file_embed = path / \"bgem3_compress_embeds.npy\"\n",
    "df_match = create_search_result(path=path, file_embed=file_embed, data=df)"
   ]
  },
  {
   "cell_type": "code",
   "execution_count": 4,
   "id": "25dcda02e0f98511",
   "metadata": {
    "ExecuteTime": {
     "end_time": "2025-04-04T08:28:37.820536Z",
     "start_time": "2025-04-04T08:28:00.485307Z"
    }
   },
   "outputs": [
    {
     "name": "stdout",
     "output_type": "stream",
     "text": [
      "(78265, 1024)\n"
     ]
    },
    {
     "name": "stderr",
     "output_type": "stream",
     "text": [
      "100%|████████████████████████████████████████████████████████| 1/1 [00:00<00:00, 23301.69it/s]\n",
      "100%|███████████████████████████████████████████████████████████| 7/7 [00:03<00:00,  1.80it/s]\n",
      "  0%|                                                                   | 0/1 [00:00<?, ?it/s]\n"
     ]
    }
   ],
   "source": [
    "file_embed = path / \"bgem3_embeds.npy\"\n",
    "df_match_bge = create_search_result(path=path, file_embed=file_embed, data=df)"
   ]
  },
  {
   "cell_type": "code",
   "execution_count": 5,
   "id": "d7e28de9-a860-4c75-910f-d56c257cd1bb",
   "metadata": {},
   "outputs": [],
   "source": [
    "dict_bgecom = df_match.to_dicts()\n",
    "dict_bge = df_match_bge.to_dicts()"
   ]
  },
  {
   "cell_type": "code",
   "execution_count": 10,
   "id": "14a7749a-0e7b-4734-a24e-6895535dcf2b",
   "metadata": {},
   "outputs": [
    {
     "data": {
      "text/html": [
       "<div><style>\n",
       ".dataframe > thead > tr,\n",
       ".dataframe > tbody > tr {\n",
       "  text-align: right;\n",
       "  white-space: pre-wrap;\n",
       "}\n",
       "</style>\n",
       "<small>shape: (5, 6)</small><table border=\"1\" class=\"dataframe\"><thead><tr><th>item_id</th><th>item_name</th><th>embed</th><th>db_item_id</th><th>db_item_name</th><th>score</th></tr><tr><td>i64</td><td>str</td><td>array[f32, 512]</td><td>list[i64]</td><td>list[str]</td><td>list[f32]</td></tr></thead><tbody><tr><td>21740433922</td><td>&quot;Băng vệ sinh cho mẹ sau sinh M…</td><td>[-0.052929, 0.019345, … -0.000745]</td><td>[21740433922, 28471465187, … 19891380892]</td><td>[&quot;Băng vệ sinh cho mẹ sau sinh MAMA&quot;, &quot;Kẹp Phồng Chân Tóc Tự Dính,Uốn Mái Thưa Phong Cách Hàn Quốc - KAYFIA&quot;, … &quot;Sữa Tắm Giảm Mụn Lưng, Viêm Nang Lông Giúp Cải Thiện Da Sau 2 Tuần Sử Dụng- 210ml&quot;]</td><td>[1.0, 0.96463, … 0.712332]</td></tr><tr><td>22380668240</td><td>&quot;(tặng quà) Vitamin D3 K2 Bioam…</td><td>[0.106106, -0.04425, … -0.013286]</td><td>[22380668240, 27408617454, … 21586376516]</td><td>[&quot;(tặng quà) Vitamin D3 K2 Bioamicus 10ml giúp bé phát triển chiều cao&quot;, &quot;Bột Diếp Cá Nguyên Chất Ngừa Mụn, Giảm Các Vết Thâm Và Thanh Nhiệt Cơ Thể Túi 100g&quot;, … &quot;Mặt Nạ BANOBAGI Cấp Ẩm Da Căng Bóng Super Collagen Mask 30ml - SUPER Aqua&quot;]</td><td>[1.0, 0.737776, … 0.700294]</td></tr><tr><td>12552302079</td><td>&quot;Kẹo thập cẩm dẻo đặc sản Langf…</td><td>[0.089142, -0.35271, … -0.001693]</td><td>[12552302079, 22250090102, … 20077914840]</td><td>[&quot;Kẹo thập cẩm dẻo đặc sản Langfarm - Thơm ngon, ít ngọt, an toàn vệ sinh, nguồn gốc rõ ràng&quot;, &quot;Kính áp tròng Lan Hạ màu nâu cam sáng trong veo Hàn Quốc hãng Dabae&quot;, … &quot;Sáp Ngăn Mùi NIVEA MEN Phân Tử Bạc (50 ml) - 83181&quot;]</td><td>[1.0, 0.972615, … 0.769207]</td></tr><tr><td>28355345290</td><td>&quot;Trà thảo mộc detox HERA MATE c…</td><td>[0.230578, -0.454291, … -0.008817]</td><td>[28355345290, 4537529012, … 25363162363]</td><td>[&quot;Trà thảo mộc detox HERA MATE chính hãng hộp 30 gói&quot;, &quot;NAKIZ LIVELY BUTT 〡 Kem thoa thâm, mụn Mông, Bẹn, Nách, Lưng, Nhũ hoa, Cùi chỏ, Đầu gối .... Thái Lan&quot;, … &quot;Combo tắm gội dưỡng sinh Wonmom ( 1 Dầu Gội Cốt Bồ Kết + 1 Sữa tắm Cho Mẹ + 1 Dung Dịch Vệ Sinh )&quot;]</td><td>[1.0, 0.901268, … 0.888879]</td></tr><tr><td>15130518417</td><td>&quot;Ngũ Cốc Mè Đen Damtuh Hàn Quốc…</td><td>[0.123364, -0.376138, … -0.012691]</td><td>[15130518417, 8689421259, … 20268690513]</td><td>[&quot;Ngũ Cốc Mè Đen Damtuh Hàn Quốc - Hộp 40 Gói&quot;, &quot;Kẹo mút Chupa Chups hình dáng Bó hoa hồng hương trái cây (19 que kẹo) phù hợp tặng người thương nhân dịp đặc biệt&quot;, … &quot;Kem chống nắng Heliocare 360° Water Gel 50ml SPF 50+ cho mọi loại da&quot;]</td><td>[1.0, 0.987829, … 0.825651]</td></tr></tbody></table></div>"
      ],
      "text/plain": [
       "shape: (5, 6)\n",
       "┌─────────────┬────────────────┬────────────────┬────────────────┬────────────────┬────────────────┐\n",
       "│ item_id     ┆ item_name      ┆ embed          ┆ db_item_id     ┆ db_item_name   ┆ score          │\n",
       "│ ---         ┆ ---            ┆ ---            ┆ ---            ┆ ---            ┆ ---            │\n",
       "│ i64         ┆ str            ┆ array[f32,     ┆ list[i64]      ┆ list[str]      ┆ list[f32]      │\n",
       "│             ┆                ┆ 512]           ┆                ┆                ┆                │\n",
       "╞═════════════╪════════════════╪════════════════╪════════════════╪════════════════╪════════════════╡\n",
       "│ 21740433922 ┆ Băng vệ sinh   ┆ [-0.052929,    ┆ [21740433922,  ┆ [\"Băng vệ sinh ┆ [1.0, 0.96463, │\n",
       "│             ┆ cho mẹ sau     ┆ 0.019345, …    ┆ 28471465187, … ┆ cho mẹ sau     ┆ … 0.712332]    │\n",
       "│             ┆ sinh M…        ┆ -0.000…        ┆ 1…             ┆ sinh…          ┆                │\n",
       "│ 22380668240 ┆ (tặng quà)     ┆ [0.106106,     ┆ [22380668240,  ┆ [\"(tặng quà)   ┆ [1.0,          │\n",
       "│             ┆ Vitamin D3 K2  ┆ -0.04425, …    ┆ 27408617454, … ┆ Vitamin D3 K2  ┆ 0.737776, …    │\n",
       "│             ┆ Bioam…         ┆ -0.0132…       ┆ 2…             ┆ Bio…           ┆ 0.700294]      │\n",
       "│ 12552302079 ┆ Kẹo thập cẩm   ┆ [0.089142,     ┆ [12552302079,  ┆ [\"Kẹo thập cẩm ┆ [1.0,          │\n",
       "│             ┆ dẻo đặc sản    ┆ -0.35271, …    ┆ 22250090102, … ┆ dẻo đặc sản    ┆ 0.972615, …    │\n",
       "│             ┆ Langf…         ┆ -0.0016…       ┆ 2…             ┆ Lan…           ┆ 0.769207]      │\n",
       "│ 28355345290 ┆ Trà thảo mộc   ┆ [0.230578,     ┆ [28355345290,  ┆ [\"Trà thảo mộc ┆ [1.0,          │\n",
       "│             ┆ detox HERA     ┆ -0.454291, …   ┆ 4537529012, …  ┆ detox HERA     ┆ 0.901268, …    │\n",
       "│             ┆ MATE c…        ┆ -0.008…        ┆ 25…            ┆ MATE…          ┆ 0.888879]      │\n",
       "│ 15130518417 ┆ Ngũ Cốc Mè Đen ┆ [0.123364,     ┆ [15130518417,  ┆ [\"Ngũ Cốc Mè   ┆ [1.0,          │\n",
       "│             ┆ Damtuh Hàn     ┆ -0.376138, …   ┆ 8689421259, …  ┆ Đen Damtuh Hàn ┆ 0.987829, …    │\n",
       "│             ┆ Quốc…          ┆ -0.012…        ┆ 20…            ┆ Qu…            ┆ 0.825651]      │\n",
       "└─────────────┴────────────────┴────────────────┴────────────────┴────────────────┴────────────────┘"
      ]
     },
     "execution_count": 10,
     "metadata": {},
     "output_type": "execute_result"
    }
   ],
   "source": [
    "df_match.head()"
   ]
  },
  {
   "cell_type": "code",
   "execution_count": 24,
   "id": "3f7b8495-f6f6-4cac-b322-d6db018743ee",
   "metadata": {},
   "outputs": [
    {
     "name": "stdout",
     "output_type": "stream",
     "text": [
      "Orginal: Sữa Tăng Cân Cho Trẻ Em Appeton Weight Gain Junior hương Vanila 450g\n",
      "- Sữa Tăng Cân Cho Trẻ Em Appeton Weight Gain Junior hương Vanila 450g -- 1.000\n",
      "- PESSLOK   Miếng dán rốn giảm cân màu vàng kiểu cách độc đáo mới -- 1.000\n",
      "- Mascara Focallure chuốt mi cong vút và dài hơn 24h nhanh khô chống thấm nước và mồ hôi lâu trôi 7.5g -- 0.795\n",
      "- Xe Đẩy Gấp Gọn COBY SV-8, Khung Hợp Kim Nhôm, Ghế Nằm Ngồi, Đảo Chiều, Có Đệm Kèm Mái Che, BH 1 Năm -- 0.777\n",
      "- Dầu xả khô dưỡng tóc tóc khô xơ không cần xả lại với nước Re-form Treatment Essence 15ml | Goldilocks -- 0.765\n",
      "====\n",
      "- Sữa Tăng Cân Cho Trẻ Em Appeton Weight Gain Junior hương Vanila 450g -- 1.000\n",
      "- PESSLOK   Miếng dán rốn giảm cân màu vàng kiểu cách độc đáo mới -- 1.000\n",
      "- Sirô Norikid Plus Cho Bé Ăn Ngon, Tăng Cân, Táo Bón, Tăng Cường Đề Kháng -- 0.788\n",
      "- Cọ Trang Điểm Kẻ Chân Mày Kẻ Mắt Sợi Mảnh Tiện Lợi - Dụng Cụ Trang Điểm - COVERGIRL -- 0.788\n",
      "- [GIÁ 582K LIVE AN PHƯƠNG] Trắng răng Smilee Extra, trắng răng từ 3-6 tone sau một liệu trình. Hàng chính hãng -- 0.739\n"
     ]
    }
   ],
   "source": [
    "idx = 69\n",
    "print(f\"Orginal: {dict_bge[idx][\"item_name\"]}\")\n",
    "for i, s in zip(dict_bge[idx][\"db_item_name\"], dict_bge[idx][\"score\"]):\n",
    "    print(f\"- {i} -- {s:,.3f}\")\n",
    "print(\"====\")\n",
    "for i, s in zip(dict_bgecom[idx][\"db_item_name\"], dict_bgecom[idx][\"score\"]):\n",
    "    print(f\"- {i} -- {s:,.3f}\")"
   ]
  },
  {
   "cell_type": "code",
   "execution_count": null,
   "id": "793a3ab93c973fc1",
   "metadata": {},
   "outputs": [],
   "source": []
  }
 ],
 "metadata": {
  "kernelspec": {
   "display_name": "Python 3 (ipykernel)",
   "language": "python",
   "name": "python3"
  },
  "language_info": {
   "codemirror_mode": {
    "name": "ipython",
    "version": 3
   },
   "file_extension": ".py",
   "mimetype": "text/x-python",
   "name": "python",
   "nbconvert_exporter": "python",
   "pygments_lexer": "ipython3",
   "version": "3.12.9"
  }
 },
 "nbformat": 4,
 "nbformat_minor": 5
}
