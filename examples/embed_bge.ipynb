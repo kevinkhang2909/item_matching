{
 "cells": [
  {
   "cell_type": "code",
   "outputs": [],
   "source": [
    "from pathlib import Path\n",
    "import polars as pl\n",
    "from datasets import Dataset, concatenate_datasets, load_from_disk\n",
    "import numpy as np\n",
    "from autofaiss import build_index\n",
    "from src.item_matching.build_index.model import Model"
   ],
   "metadata": {
    "collapsed": false,
    "ExecuteTime": {
     "end_time": "2024-03-09T07:19:49.429414Z",
     "start_time": "2024-03-09T07:19:47.749234Z"
    }
   },
   "id": "28f6df8c7caed3f9",
   "execution_count": 1
  },
  {
   "cell_type": "markdown",
   "source": [
    "## 1) Data \n",
    "\n",
    "Prepare 2 datasets: Database and Query"
   ],
   "metadata": {
    "collapsed": false
   },
   "id": "6fb85ea4eb5faddf"
  },
  {
   "cell_type": "code",
   "execution_count": 2,
   "id": "initial_id",
   "metadata": {
    "collapsed": true,
    "ExecuteTime": {
     "end_time": "2024-03-09T07:19:50.893133Z",
     "start_time": "2024-03-09T07:19:49.430269Z"
    }
   },
   "outputs": [
    {
     "data": {
      "text/plain": "shape: (5, 2)\n┌────────────┬───────────────────────────────────┐\n│ db_item_id ┆ db_item_name                      │\n│ ---        ┆ ---                               │\n│ i64        ┆ str                               │\n╞════════════╪═══════════════════════════════════╡\n│ 120347     ┆ Hộp đựng bông tẩy trang, bông tă… │\n│ 120348     ┆ Khay để son 28 ô tháp đứng trong… │\n│ 171553     ┆ Mullet ren hoa                    │\n│ 246058     ┆ Drap giường giá rẻ cho cả nhà m6… │\n│ 247718     ┆ Bộ drap bông hồng chanel m8*2m    │\n└────────────┴───────────────────────────────────┘",
      "text/html": "<div><style>\n.dataframe > thead > tr,\n.dataframe > tbody > tr {\n  text-align: right;\n  white-space: pre-wrap;\n}\n</style>\n<small>shape: (5, 2)</small><table border=\"1\" class=\"dataframe\"><thead><tr><th>db_item_id</th><th>db_item_name</th></tr><tr><td>i64</td><td>str</td></tr></thead><tbody><tr><td>120347</td><td>&quot;Hộp đựng bông …</td></tr><tr><td>120348</td><td>&quot;Khay để son 28…</td></tr><tr><td>171553</td><td>&quot;Mullet ren hoa…</td></tr><tr><td>246058</td><td>&quot;Drap giường gi…</td></tr><tr><td>247718</td><td>&quot;Bộ drap bông h…</td></tr></tbody></table></div>"
     },
     "execution_count": 2,
     "metadata": {},
     "output_type": "execute_result"
    }
   ],
   "source": [
    "path = Path.home() / 'Downloads/yang'\n",
    "path_db = path / 'fss_itemid_Home & Living.csv'\n",
    "\n",
    "col = ['item_id', 'item_name']\n",
    "df_db = (\n",
    "    pl.read_csv(path_db)\n",
    "    .sort('item_id')\n",
    "    .select(pl.col(c).name.prefix('db_') for c in col)\n",
    "    .head(10_000)\n",
    ")\n",
    "\n",
    "df_q = (\n",
    "    pl.read_csv(path_db)\n",
    "    .sort('item_id')\n",
    "    .select(pl.col(c).name.prefix('q_') for c in col)\n",
    "    .head(10_000)\n",
    ")\n",
    "df_db.head()"
   ]
  },
  {
   "cell_type": "markdown",
   "source": [
    "## 2) Embeddings\n",
    "\n",
    "Use datasets and tfidf to transform texts to vectors"
   ],
   "metadata": {
    "collapsed": false
   },
   "id": "539fe7f71bc59b80"
  },
  {
   "cell_type": "code",
   "outputs": [
    {
     "name": "stdout",
     "output_type": "stream",
     "text": [
      "\u001B[32m14:20:18\u001B[0m | \u001B[1mINFO\u001B[0m | \u001B[36m__init__\u001B[0m | \u001B[1m[Model] Run on: mps\u001B[0m\n"
     ]
    },
    {
     "data": {
      "text/plain": "Fetching 23 files:   0%|          | 0/23 [00:00<?, ?it/s]",
      "application/vnd.jupyter.widget-view+json": {
       "version_major": 2,
       "version_minor": 0,
       "model_id": "f4c8fb1079724ae5bd81f438d86fdb3c"
      }
     },
     "metadata": {},
     "output_type": "display_data"
    },
    {
     "name": "stdout",
     "output_type": "stream",
     "text": [
      "loading existing colbert_linear and sparse_linear---------\n"
     ]
    }
   ],
   "source": [
    "text_model = Model().get_text_model()"
   ],
   "metadata": {
    "collapsed": false,
    "ExecuteTime": {
     "end_time": "2024-03-09T07:20:24.118050Z",
     "start_time": "2024-03-09T07:20:18.680771Z"
    }
   },
   "id": "b5c0b4be44c2e92e",
   "execution_count": 4
  },
  {
   "cell_type": "code",
   "outputs": [
    {
     "name": "stdout",
     "output_type": "stream",
     "text": [
      "\u001B[32m14:20:24\u001B[0m | \u001B[1mINFO\u001B[0m | \u001B[36m__init__\u001B[0m | \u001B[1m[Model] Run on: mps\u001B[0m\n"
     ]
    },
    {
     "data": {
      "text/plain": "Map:   0%|          | 0/10000 [00:00<?, ? examples/s]",
      "application/vnd.jupyter.widget-view+json": {
       "version_major": 2,
       "version_minor": 0,
       "model_id": "da5feca122544d798b3001c52143e65d"
      }
     },
     "metadata": {},
     "output_type": "display_data"
    },
    {
     "name": "stderr",
     "output_type": "stream",
     "text": [
      "\n",
      "Inference Embeddings:   0%|          | 0/1 [00:00<?, ?it/s]\u001B[A\n",
      "Inference Embeddings: 100%|██████████| 1/1 [00:04<00:00,  4.80s/it]\u001B[A\n",
      "\n",
      "Inference Embeddings:   0%|          | 0/1 [00:00<?, ?it/s]\u001B[A\n",
      "Inference Embeddings: 100%|██████████| 1/1 [00:03<00:00,  3.90s/it]\u001B[A\n",
      "\n",
      "Inference Embeddings:   0%|          | 0/1 [00:00<?, ?it/s]\u001B[A\n",
      "Inference Embeddings: 100%|██████████| 1/1 [00:05<00:00,  5.24s/it]\u001B[A\n",
      "\n",
      "Inference Embeddings:   0%|          | 0/1 [00:00<?, ?it/s]\u001B[A\n",
      "Inference Embeddings: 100%|██████████| 1/1 [00:03<00:00,  3.83s/it]\u001B[A\n",
      "\n",
      "Inference Embeddings:   0%|          | 0/1 [00:00<?, ?it/s]\u001B[A\n",
      "Inference Embeddings: 100%|██████████| 1/1 [00:04<00:00,  4.22s/it]\u001B[A\n",
      "\n",
      "Inference Embeddings:   0%|          | 0/1 [00:00<?, ?it/s]\u001B[A\n",
      "Inference Embeddings: 100%|██████████| 1/1 [00:04<00:00,  4.55s/it]\u001B[A\n",
      "\n",
      "Inference Embeddings:   0%|          | 0/1 [00:00<?, ?it/s]\u001B[A\n",
      "Inference Embeddings: 100%|██████████| 1/1 [00:04<00:00,  4.33s/it]\u001B[A\n",
      "\n",
      "Inference Embeddings:   0%|          | 0/1 [00:00<?, ?it/s]\u001B[A\n",
      "Inference Embeddings: 100%|██████████| 1/1 [00:04<00:00,  4.50s/it]\u001B[A\n",
      "\n",
      "Inference Embeddings:   0%|          | 0/1 [00:00<?, ?it/s]\u001B[A\n",
      "Inference Embeddings: 100%|██████████| 1/1 [00:04<00:00,  4.85s/it]\u001B[A\n",
      "\n",
      "Inference Embeddings:   0%|          | 0/1 [00:00<?, ?it/s]\u001B[A\n",
      "Inference Embeddings: 100%|██████████| 1/1 [00:04<00:00,  4.92s/it]\u001B[A\n",
      "\n",
      "Inference Embeddings:   0%|          | 0/1 [00:00<?, ?it/s]\u001B[A\n",
      "Inference Embeddings: 100%|██████████| 1/1 [00:04<00:00,  4.70s/it]\u001B[A\n",
      "\n",
      "Inference Embeddings:   0%|          | 0/1 [00:00<?, ?it/s]\u001B[A\n",
      "Inference Embeddings: 100%|██████████| 1/1 [00:06<00:00,  6.21s/it]\u001B[A\n",
      "\n",
      "Inference Embeddings:   0%|          | 0/1 [00:00<?, ?it/s]\u001B[A\n",
      "Inference Embeddings: 100%|██████████| 1/1 [00:05<00:00,  5.40s/it]\u001B[A\n",
      "\n",
      "Inference Embeddings:   0%|          | 0/1 [00:00<?, ?it/s]\u001B[A\n",
      "Inference Embeddings: 100%|██████████| 1/1 [00:04<00:00,  4.51s/it]\u001B[A\n",
      "\n",
      "Inference Embeddings:   0%|          | 0/1 [00:00<?, ?it/s]\u001B[A\n",
      "Inference Embeddings: 100%|██████████| 1/1 [00:04<00:00,  4.51s/it]\u001B[A\n",
      "\n",
      "Inference Embeddings:   0%|          | 0/1 [00:00<?, ?it/s]\u001B[A\n",
      "Inference Embeddings: 100%|██████████| 1/1 [00:04<00:00,  4.65s/it]\u001B[A\n",
      "\n",
      "Inference Embeddings:   0%|          | 0/1 [00:00<?, ?it/s]\u001B[A\n",
      "Inference Embeddings: 100%|██████████| 1/1 [00:07<00:00,  7.30s/it]\u001B[A\n",
      "\n",
      "Inference Embeddings:   0%|          | 0/1 [00:00<?, ?it/s]\u001B[A\n",
      "Inference Embeddings: 100%|██████████| 1/1 [00:04<00:00,  4.96s/it]\u001B[A\n",
      "\n",
      "Inference Embeddings:   0%|          | 0/1 [00:00<?, ?it/s]\u001B[A\n",
      "Inference Embeddings: 100%|██████████| 1/1 [00:04<00:00,  4.23s/it]\u001B[A\n",
      "\n",
      "Inference Embeddings:   0%|          | 0/1 [00:00<?, ?it/s]\u001B[A\n",
      "Inference Embeddings: 100%|██████████| 1/1 [00:02<00:00,  2.65s/it]\u001B[A\n"
     ]
    },
    {
     "data": {
      "text/plain": "Saving the dataset (0/1 shards):   0%|          | 0/10000 [00:00<?, ? examples/s]",
      "application/vnd.jupyter.widget-view+json": {
       "version_major": 2,
       "version_minor": 0,
       "model_id": "8dcd933db6cf4fea9166180d79c65d33"
      }
     },
     "metadata": {},
     "output_type": "display_data"
    }
   ],
   "source": [
    "dataset = Dataset.from_pandas(df_db.to_pandas())\n",
    "fn_kwargs = {'col': 'db_item_name', 'model': text_model}\n",
    "dataset = dataset.map(Model().pp_dense, batched=True, batch_size=512, fn_kwargs=fn_kwargs)\n",
    "dataset.set_format(type='numpy', columns=['dense_embed'], output_all_columns=True)\n",
    "\n",
    "# save to disk\n",
    "path_tmp_array = Path('tmp/array')\n",
    "path_tmp_ds = Path('tmp/ds')\n",
    "np.save(path_tmp_array / 'array.npy', dataset['dense_embed'])\n",
    "dataset.save_to_disk(path_tmp_ds / 'ds')"
   ],
   "metadata": {
    "collapsed": false,
    "ExecuteTime": {
     "end_time": "2024-03-09T07:22:03.308239Z",
     "start_time": "2024-03-09T07:20:24.119250Z"
    }
   },
   "id": "b95e12aa6944cd3e",
   "execution_count": 5
  },
  {
   "cell_type": "markdown",
   "source": [
    "## 3) Indexing\n",
    "\n",
    "Build index to search items"
   ],
   "metadata": {
    "collapsed": false
   },
   "id": "2f5934d701125e88"
  },
  {
   "cell_type": "code",
   "outputs": [
    {
     "name": "stderr",
     "output_type": "stream",
     "text": [
      "100%|██████████| 1/1 [00:00<00:00, 21290.88it/s]\n",
      "100%|██████████| 1/1 [00:00<00:00,  2.03it/s]\n",
      "  0%|          | 0/1 [00:00<?, ?it/s]\n"
     ]
    },
    {
     "data": {
      "text/plain": "(<faiss.swigfaiss.IndexHNSWFlat; proxy of <Swig Object of type 'faiss::IndexHNSWFlat *' at 0x2aa473d80> >,\n {'index_key': 'HNSW32',\n  'index_param': 'efSearch=3092',\n  'index_path': 'tmp/index/ip.index',\n  'size in bytes': 43677858,\n  'avg_search_speed_ms': 10.272223917739677,\n  '99p_search_speed_ms': 15.392375045339557,\n  'reconstruction error %': 0.0,\n  'nb vectors': 10000,\n  'vectors dimension': 1024,\n  'compression ratio': 0.9377749247685178})"
     },
     "execution_count": 6,
     "metadata": {},
     "output_type": "execute_result"
    }
   ],
   "source": [
    "path_index = Path('tmp/index')\n",
    "build_index(\n",
    "    str(path_tmp_array),\n",
    "    index_path=str(path_index / f'ip.index'),\n",
    "    index_infos_path=str(path_index / f'index.json'),\n",
    "    save_on_disk=True,\n",
    "    metric_type='ip',\n",
    "    verbose=30,\n",
    ")"
   ],
   "metadata": {
    "collapsed": false,
    "ExecuteTime": {
     "end_time": "2024-03-09T07:26:44.733470Z",
     "start_time": "2024-03-09T07:26:25.545095Z"
    }
   },
   "id": "96cc5afcf31a1e6a",
   "execution_count": 6
  },
  {
   "cell_type": "markdown",
   "source": [
    "Load index into datasets"
   ],
   "metadata": {
    "collapsed": false
   },
   "id": "61b78720de597863"
  },
  {
   "cell_type": "code",
   "outputs": [],
   "source": [
    "dataset_db = concatenate_datasets([\n",
    "    load_from_disk(str(f)) for f in sorted(path_tmp_ds.glob('*'))\n",
    "])\n",
    "\n",
    "# add index\n",
    "dataset_db.load_faiss_index('dense_embed', path_index / f'ip.index')"
   ],
   "metadata": {
    "collapsed": false,
    "ExecuteTime": {
     "end_time": "2024-03-09T07:26:44.754507Z",
     "start_time": "2024-03-09T07:26:44.734801Z"
    }
   },
   "id": "6efdce62f49c27b9",
   "execution_count": 7
  },
  {
   "cell_type": "markdown",
   "source": [
    "## 4) Retrieve"
   ],
   "metadata": {
    "collapsed": false
   },
   "id": "1790f349c3dd80ea"
  },
  {
   "cell_type": "markdown",
   "source": [
    "Batch search top-k from datasets"
   ],
   "metadata": {
    "collapsed": false
   },
   "id": "8b9699dadfcbd348"
  },
  {
   "cell_type": "code",
   "outputs": [],
   "source": [
    "score, result = dataset_db.get_nearest_examples_batch(\n",
    "    'dense_embed',\n",
    "    np.asarray(dataset_db['dense_embed']),\n",
    "    k=5\n",
    ")\n",
    "\n",
    "dict_ = {'score': [list(i) for i in score]}\n",
    "df_score = pl.DataFrame(dict_)\n",
    "df_result = pl.DataFrame(result).drop(['dense_embed'])"
   ],
   "metadata": {
    "collapsed": false,
    "ExecuteTime": {
     "end_time": "2024-03-09T07:27:05.375449Z",
     "start_time": "2024-03-09T07:26:44.755648Z"
    }
   },
   "id": "3bcba75a987dd8c2",
   "execution_count": 8
  },
  {
   "cell_type": "markdown",
   "source": [
    "## 5) Post process"
   ],
   "metadata": {
    "collapsed": false
   },
   "id": "b879e463bb688c29"
  },
  {
   "cell_type": "code",
   "outputs": [],
   "source": [
    "df_match = pl.concat([df_q, df_result, df_score], how='horizontal')\n",
    "col_explode = [i for i in df_match.columns if 'db' in i] + ['score']\n",
    "df_match = df_match.explode(col_explode)"
   ],
   "metadata": {
    "collapsed": false,
    "ExecuteTime": {
     "end_time": "2024-03-09T07:27:05.382418Z",
     "start_time": "2024-03-09T07:27:05.376675Z"
    }
   },
   "id": "ae3b4d1db34781b3",
   "execution_count": 9
  },
  {
   "cell_type": "code",
   "outputs": [
    {
     "data": {
      "text/plain": "shape: (50_000, 5)\n┌───────────┬──────────────────────────┬────────────┬───────────────────────────────────┬──────────┐\n│ q_item_id ┆ q_item_name              ┆ db_item_id ┆ db_item_name                      ┆ score    │\n│ ---       ┆ ---                      ┆ ---        ┆ ---                               ┆ ---      │\n│ i64       ┆ str                      ┆ i64        ┆ str                               ┆ f32      │\n╞═══════════╪══════════════════════════╪════════════╪═══════════════════════════════════╪══════════╡\n│ 120347    ┆ Hộp đựng bông tẩy trang, ┆ 120347     ┆ Hộp đựng bông tẩy trang, bông tă… ┆ 0.999996 │\n│           ┆ bông tă…                 ┆            ┆                                   ┆          │\n│ 120347    ┆ Hộp đựng bông tẩy trang, ┆ 87320247   ┆ Hộp đựng bông tăm và bông tẩy tr… ┆ 0.83048  │\n│           ┆ bông tă…                 ┆            ┆                                   ┆          │\n│ 120347    ┆ Hộp đựng bông tẩy trang, ┆ 42204991   ┆ Túi đựng mỹ phẩm nhiều ngăn tiện… ┆ 0.731331 │\n│           ┆ bông tă…                 ┆            ┆                                   ┆          │\n│ 120347    ┆ Hộp đựng bông tẩy trang, ┆ 52038487   ┆ Hộp đựng đồ trang điểm cỡ nhỏ     ┆ 0.688779 │\n│           ┆ bông tă…                 ┆            ┆                                   ┆          │\n│ 120347    ┆ Hộp đựng bông tẩy trang, ┆ 60057254   ┆ combo 2 giỏ đựng dụng cụ rửa bát… ┆ 0.685374 │\n│           ┆ bông tă…                 ┆            ┆                                   ┆          │\n│ …         ┆ …                        ┆ …          ┆ …                                 ┆ …        │\n│ 90001175  ┆ [BST Nến trang trí Noel  ┆ 90001175   ┆ [BST Nến trang trí Noel 2023] Ly… ┆ 1.000433 │\n│           ┆ 2023] Ly…                ┆            ┆                                   ┆          │\n│ 90001175  ┆ [BST Nến trang trí Noel  ┆ 79062287   ┆ Nến thơm Miss Candle FTRAMART ED… ┆ 0.746305 │\n│           ┆ 2023] Ly…                ┆            ┆                                   ┆          │\n│ 90001175  ┆ [BST Nến trang trí Noel  ┆ 90001171   ┆ Ly nến thủy tinh Miss Candle Ftr… ┆ 0.738861 │\n│           ┆ 2023] Ly…                ┆            ┆                                   ┆          │\n│ 90001175  ┆ [BST Nến trang trí Noel  ┆ 89989891   ┆ Set 3 nến thơm trụ tròn D5H8 Mis… ┆ 0.732089 │\n│           ┆ 2023] Ly…                ┆            ┆                                   ┆          │\n│ 90001175  ┆ [BST Nến trang trí Noel  ┆ 90001168   ┆ Ly nến thủy tinh Miss Candle Ftr… ┆ 0.712368 │\n│           ┆ 2023] Ly…                ┆            ┆                                   ┆          │\n└───────────┴──────────────────────────┴────────────┴───────────────────────────────────┴──────────┘",
      "text/html": "<div><style>\n.dataframe > thead > tr,\n.dataframe > tbody > tr {\n  text-align: right;\n  white-space: pre-wrap;\n}\n</style>\n<small>shape: (50_000, 5)</small><table border=\"1\" class=\"dataframe\"><thead><tr><th>q_item_id</th><th>q_item_name</th><th>db_item_id</th><th>db_item_name</th><th>score</th></tr><tr><td>i64</td><td>str</td><td>i64</td><td>str</td><td>f32</td></tr></thead><tbody><tr><td>120347</td><td>&quot;Hộp đựng bông …</td><td>120347</td><td>&quot;Hộp đựng bông …</td><td>0.999996</td></tr><tr><td>120347</td><td>&quot;Hộp đựng bông …</td><td>87320247</td><td>&quot;Hộp đựng bông …</td><td>0.83048</td></tr><tr><td>120347</td><td>&quot;Hộp đựng bông …</td><td>42204991</td><td>&quot;Túi đựng mỹ ph…</td><td>0.731331</td></tr><tr><td>120347</td><td>&quot;Hộp đựng bông …</td><td>52038487</td><td>&quot;Hộp đựng đồ tr…</td><td>0.688779</td></tr><tr><td>120347</td><td>&quot;Hộp đựng bông …</td><td>60057254</td><td>&quot;combo 2 giỏ đự…</td><td>0.685374</td></tr><tr><td>120348</td><td>&quot;Khay để son 28…</td><td>120348</td><td>&quot;Khay để son 28…</td><td>0.999821</td></tr><tr><td>120348</td><td>&quot;Khay để son 28…</td><td>77862423</td><td>&quot;khay đựng son …</td><td>0.780724</td></tr><tr><td>120348</td><td>&quot;Khay để son 28…</td><td>11854809</td><td>&quot;Khay 24 ô để s…</td><td>0.722672</td></tr><tr><td>120348</td><td>&quot;Khay để son 28…</td><td>87311846</td><td>&quot;Khay đựng son …</td><td>0.716589</td></tr><tr><td>120348</td><td>&quot;Khay để son 28…</td><td>33973471</td><td>&quot;Khay son 24 ô …</td><td>0.700865</td></tr><tr><td>171553</td><td>&quot;Mullet ren hoa…</td><td>171553</td><td>&quot;Mullet ren hoa…</td><td>0.99998</td></tr><tr><td>171553</td><td>&quot;Mullet ren hoa…</td><td>22587810</td><td>&quot;Set hoa sen&quot;</td><td>0.637375</td></tr><tr><td>&hellip;</td><td>&hellip;</td><td>&hellip;</td><td>&hellip;</td><td>&hellip;</td></tr><tr><td>90001168</td><td>&quot;Ly nến thủy ti…</td><td>89989891</td><td>&quot;Set 3 nến thơm…</td><td>0.739393</td></tr><tr><td>90001168</td><td>&quot;Ly nến thủy ti…</td><td>90001165</td><td>&quot;Ly nến thơm tr…</td><td>0.737287</td></tr><tr><td>90001171</td><td>&quot;Ly nến thủy ti…</td><td>90001171</td><td>&quot;Ly nến thủy ti…</td><td>1.000482</td></tr><tr><td>90001171</td><td>&quot;Ly nến thủy ti…</td><td>90001168</td><td>&quot;Ly nến thủy ti…</td><td>0.900588</td></tr><tr><td>90001171</td><td>&quot;Ly nến thủy ti…</td><td>90001165</td><td>&quot;Ly nến thơm tr…</td><td>0.740627</td></tr><tr><td>90001171</td><td>&quot;Ly nến thủy ti…</td><td>90001175</td><td>&quot;[BST Nến trang…</td><td>0.738861</td></tr><tr><td>90001171</td><td>&quot;Ly nến thủy ti…</td><td>89989891</td><td>&quot;Set 3 nến thơm…</td><td>0.723683</td></tr><tr><td>90001175</td><td>&quot;[BST Nến trang…</td><td>90001175</td><td>&quot;[BST Nến trang…</td><td>1.000433</td></tr><tr><td>90001175</td><td>&quot;[BST Nến trang…</td><td>79062287</td><td>&quot;Nến thơm Miss …</td><td>0.746305</td></tr><tr><td>90001175</td><td>&quot;[BST Nến trang…</td><td>90001171</td><td>&quot;Ly nến thủy ti…</td><td>0.738861</td></tr><tr><td>90001175</td><td>&quot;[BST Nến trang…</td><td>89989891</td><td>&quot;Set 3 nến thơm…</td><td>0.732089</td></tr><tr><td>90001175</td><td>&quot;[BST Nến trang…</td><td>90001168</td><td>&quot;Ly nến thủy ti…</td><td>0.712368</td></tr></tbody></table></div>"
     },
     "execution_count": 10,
     "metadata": {},
     "output_type": "execute_result"
    }
   ],
   "source": [
    "df_match"
   ],
   "metadata": {
    "collapsed": false,
    "ExecuteTime": {
     "end_time": "2024-03-09T07:27:05.386709Z",
     "start_time": "2024-03-09T07:27:05.383041Z"
    }
   },
   "id": "c77a28d769f090a8",
   "execution_count": 10
  },
  {
   "cell_type": "code",
   "outputs": [],
   "source": [],
   "metadata": {
    "collapsed": false,
    "ExecuteTime": {
     "end_time": "2024-03-06T03:58:14.374648Z",
     "start_time": "2024-03-06T03:58:14.373449Z"
    }
   },
   "id": "2dacba735258ef3d",
   "execution_count": 10
  }
 ],
 "metadata": {
  "kernelspec": {
   "display_name": "Python 3",
   "language": "python",
   "name": "python3"
  },
  "language_info": {
   "codemirror_mode": {
    "name": "ipython",
    "version": 2
   },
   "file_extension": ".py",
   "mimetype": "text/x-python",
   "name": "python",
   "nbconvert_exporter": "python",
   "pygments_lexer": "ipython2",
   "version": "2.7.6"
  }
 },
 "nbformat": 4,
 "nbformat_minor": 5
}
