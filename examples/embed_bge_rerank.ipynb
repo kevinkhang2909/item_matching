{
 "cells": [
  {
   "cell_type": "code",
   "source": [
    "from pathlib import Path\n",
    "import polars as pl\n",
    "from datasets import Dataset, concatenate_datasets, load_from_disk\n",
    "import numpy as np\n",
    "from autofaiss import build_index\n",
    "from src.item_matching.build_index.model import Model"
   ],
   "metadata": {
    "collapsed": false,
    "ExecuteTime": {
     "end_time": "2024-04-11T13:21:02.270849Z",
     "start_time": "2024-04-11T13:21:00.972498Z"
    }
   },
   "id": "28f6df8c7caed3f9",
   "outputs": [
    {
     "name": "stderr",
     "output_type": "stream",
     "text": [
      "/home/kevin/PycharmProjects/item_matching/src/item_matching/build_index/func.py:8: SyntaxWarning: invalid escape sequence '\\('\n",
      "  regex = \"[\\(\\[\\<\\\"].*?[\\)\\]\\>\\\"]\"\n"
     ]
    }
   ],
   "execution_count": 2
  },
  {
   "cell_type": "code",
   "id": "initial_id",
   "metadata": {
    "collapsed": true,
    "ExecuteTime": {
     "end_time": "2024-04-11T13:21:20.975638Z",
     "start_time": "2024-04-11T13:21:20.554960Z"
    }
   },
   "source": [
    "path = Path.home() / 'Downloads/cb'\n",
    "path_db = path / 'cb_2024-03-07.parquet'\n",
    "\n",
    "col = ['item_id', 'item_name']\n",
    "df_db = (\n",
    "    pl.read_parquet(path_db)\n",
    "    # .sort('item_id')\n",
    "    # .select(pl.col(c).name.prefix('db_') for c in col)\n",
    "    .head(10_000)\n",
    ")"
   ],
   "outputs": [],
   "execution_count": 5
  },
  {
   "metadata": {
    "ExecuteTime": {
     "end_time": "2024-04-11T13:25:12.622059Z",
     "start_time": "2024-04-11T13:25:12.615451Z"
    }
   },
   "cell_type": "code",
   "source": [
    "items = df_db['item_name'].unique().to_list()\n",
    "items[:6]"
   ],
   "id": "7157ac85eab42be3",
   "outputs": [
    {
     "data": {
      "text/plain": [
       "['Xe Cứu Hộ Đồ Chơi Cỡ Lớn Hình Khủng Long Cho Bé',\n",
       " 'Maynee Bồn ngâm chân có thể gập lại 5 lớp cách nhiệt đa chức năng du lịch di động cho',\n",
       " 'SweetBunny Keo Dán Nối Mi Giả Nhanh Khô 10ml',\n",
       " 'ANNIEMAL Bộ công cụ chỉnh sửa móng chân mọc ngược 10 chiếc 20mm Móng Corrector Dải nẹp đôi kết thúc tập tin có nâng lên',\n",
       " 'Fred Segal quần jean nam ống rộng quần nam ống rộng quần 2023 NEW MNK2410914 2Z240111',\n",
       " 'Clemine Bộ Dụng Cụ Làm Móng Tay Cầm Bằng cotton Tiện Dụng']"
      ]
     },
     "execution_count": 18,
     "metadata": {},
     "output_type": "execute_result"
    }
   ],
   "execution_count": 18
  },
  {
   "metadata": {
    "ExecuteTime": {
     "end_time": "2024-04-11T13:22:03.796415Z",
     "start_time": "2024-04-11T13:21:23.395411Z"
    }
   },
   "cell_type": "code",
   "source": [
    "from FlagEmbedding import FlagReranker\n",
    "reranker = FlagReranker('BAAI/bge-reranker-v2-m3', use_fp16=True)"
   ],
   "id": "256902b18cf1e0af",
   "outputs": [
    {
     "data": {
      "text/plain": [
       "tokenizer_config.json:   0%|          | 0.00/1.17k [00:00<?, ?B/s]"
      ],
      "application/vnd.jupyter.widget-view+json": {
       "version_major": 2,
       "version_minor": 0,
       "model_id": "cc7b46a8bb1a4eb5a885deefbb9bd66f"
      }
     },
     "metadata": {},
     "output_type": "display_data"
    },
    {
     "data": {
      "text/plain": [
       "sentencepiece.bpe.model:   0%|          | 0.00/5.07M [00:00<?, ?B/s]"
      ],
      "application/vnd.jupyter.widget-view+json": {
       "version_major": 2,
       "version_minor": 0,
       "model_id": "7a4e165ea91944849efbda4b2e616cae"
      }
     },
     "metadata": {},
     "output_type": "display_data"
    },
    {
     "data": {
      "text/plain": [
       "tokenizer.json:   0%|          | 0.00/17.1M [00:00<?, ?B/s]"
      ],
      "application/vnd.jupyter.widget-view+json": {
       "version_major": 2,
       "version_minor": 0,
       "model_id": "18ee6daf7ef542158089a47d7c4728cc"
      }
     },
     "metadata": {},
     "output_type": "display_data"
    },
    {
     "data": {
      "text/plain": [
       "special_tokens_map.json:   0%|          | 0.00/964 [00:00<?, ?B/s]"
      ],
      "application/vnd.jupyter.widget-view+json": {
       "version_major": 2,
       "version_minor": 0,
       "model_id": "489134e35cd746829bd280119d50fb2e"
      }
     },
     "metadata": {},
     "output_type": "display_data"
    },
    {
     "data": {
      "text/plain": [
       "config.json:   0%|          | 0.00/795 [00:00<?, ?B/s]"
      ],
      "application/vnd.jupyter.widget-view+json": {
       "version_major": 2,
       "version_minor": 0,
       "model_id": "aad3021097df4754937e76e09cdd9a38"
      }
     },
     "metadata": {},
     "output_type": "display_data"
    },
    {
     "data": {
      "text/plain": [
       "model.safetensors:   0%|          | 0.00/2.27G [00:00<?, ?B/s]"
      ],
      "application/vnd.jupyter.widget-view+json": {
       "version_major": 2,
       "version_minor": 0,
       "model_id": "482cf8fa2e224619bf632adbaf1dda3b"
      }
     },
     "metadata": {},
     "output_type": "display_data"
    }
   ],
   "execution_count": 7
  },
  {
   "metadata": {
    "ExecuteTime": {
     "end_time": "2024-04-11T13:26:33.780972Z",
     "start_time": "2024-04-11T13:26:33.769505Z"
    }
   },
   "cell_type": "code",
   "source": [
    "lst_pair = [(i , v) for i in items[:2] for v in items]\n",
    "lst_pair[:6]"
   ],
   "id": "96e034d2ee981cf2",
   "outputs": [
    {
     "data": {
      "text/plain": [
       "[('Xe Cứu Hộ Đồ Chơi Cỡ Lớn Hình Khủng Long Cho Bé',\n",
       "  'Xe Cứu Hộ Đồ Chơi Cỡ Lớn Hình Khủng Long Cho Bé'),\n",
       " ('Xe Cứu Hộ Đồ Chơi Cỡ Lớn Hình Khủng Long Cho Bé',\n",
       "  'Maynee Bồn ngâm chân có thể gập lại 5 lớp cách nhiệt đa chức năng du lịch di động cho'),\n",
       " ('Xe Cứu Hộ Đồ Chơi Cỡ Lớn Hình Khủng Long Cho Bé',\n",
       "  'SweetBunny Keo Dán Nối Mi Giả Nhanh Khô 10ml'),\n",
       " ('Xe Cứu Hộ Đồ Chơi Cỡ Lớn Hình Khủng Long Cho Bé',\n",
       "  'ANNIEMAL Bộ công cụ chỉnh sửa móng chân mọc ngược 10 chiếc 20mm Móng Corrector Dải nẹp đôi kết thúc tập tin có nâng lên'),\n",
       " ('Xe Cứu Hộ Đồ Chơi Cỡ Lớn Hình Khủng Long Cho Bé',\n",
       "  'Fred Segal quần jean nam ống rộng quần nam ống rộng quần 2023 NEW MNK2410914 2Z240111'),\n",
       " ('Xe Cứu Hộ Đồ Chơi Cỡ Lớn Hình Khủng Long Cho Bé',\n",
       "  'Clemine Bộ Dụng Cụ Làm Móng Tay Cầm Bằng cotton Tiện Dụng')]"
      ]
     },
     "execution_count": 22,
     "metadata": {},
     "output_type": "execute_result"
    }
   ],
   "execution_count": 22
  },
  {
   "metadata": {
    "ExecuteTime": {
     "end_time": "2024-04-11T13:27:17.973670Z",
     "start_time": "2024-04-11T13:26:35.175949Z"
    }
   },
   "cell_type": "code",
   "source": "score = reranker.compute_score(lst_pair, normalize=True, max_length=80)",
   "id": "39e27eb2102de28a",
   "outputs": [
    {
     "name": "stderr",
     "output_type": "stream",
     "text": [
      "Compute Scores: 100%|██████████| 78/78 [00:42<00:00,  1.82it/s]\n"
     ]
    }
   ],
   "execution_count": 23
  },
  {
   "metadata": {
    "ExecuteTime": {
     "end_time": "2024-04-11T13:27:22.080969Z",
     "start_time": "2024-04-11T13:27:21.983080Z"
    }
   },
   "cell_type": "code",
   "source": [
    "data = (\n",
    "    pl.DataFrame(lst_pair).transpose()\n",
    "    .with_columns(pl.Series(values=score, name='score'))\n",
    "    .sort(['score'], descending=True)\n",
    ")\n",
    "data"
   ],
   "id": "83f21f0338e6a932",
   "outputs": [
    {
     "data": {
      "text/plain": [
       "shape: (19_938, 3)\n",
       "┌───────────────────────────────────┬───────────────────────────────────┬──────────┐\n",
       "│ column_0                          ┆ column_1                          ┆ score    │\n",
       "│ ---                               ┆ ---                               ┆ ---      │\n",
       "│ str                               ┆ str                               ┆ f64      │\n",
       "╞═══════════════════════════════════╪═══════════════════════════════════╪══════════╡\n",
       "│ Xe Cứu Hộ Đồ Chơi Cỡ Lớn Hình Kh… ┆ Xe Cứu Hộ Đồ Chơi Cỡ Lớn Hình Kh… ┆ 0.999979 │\n",
       "│ Maynee Bồn ngâm chân có thể gập … ┆ Maynee Bồn ngâm chân có thể gập … ┆ 0.999979 │\n",
       "│ Maynee Bồn ngâm chân có thể gập … ┆ Texas053 Bồn ngâm chân có thể gậ… ┆ 0.970296 │\n",
       "│ Xe Cứu Hộ Đồ Chơi Cỡ Lớn Hình Kh… ┆ Babycare Đồ chơi ô tô vận chuyển… ┆ 0.964987 │\n",
       "│ Xe Cứu Hộ Đồ Chơi Cỡ Lớn Hình Kh… ┆ Haoerwu Đồ Chơi Khủng Long Đá Qu… ┆ 0.831691 │\n",
       "│ …                                 ┆ …                                 ┆ …        │\n",
       "│ Maynee Bồn ngâm chân có thể gập … ┆ Paul fitzgerald Quần Jean Dài Họ… ┆ 0.000016 │\n",
       "│ Maynee Bồn ngâm chân có thể gập … ┆ Quần Jean In Chữ Phong Cách Hip … ┆ 0.000016 │\n",
       "│ Xe Cứu Hộ Đồ Chơi Cỡ Lớn Hình Kh… ┆ Dầu Gội Sữa Dê Nuacinamide Làm S… ┆ 0.000016 │\n",
       "│ Xe Cứu Hộ Đồ Chơi Cỡ Lớn Hình Kh… ┆ Nước Hoa Mới Của Phụ Nữ Eau De L… ┆ 0.000016 │\n",
       "│ Xe Cứu Hộ Đồ Chơi Cỡ Lớn Hình Kh… ┆ Tinh Chất Làm Trắng Da Và Chống … ┆ 0.000016 │\n",
       "└───────────────────────────────────┴───────────────────────────────────┴──────────┘"
      ],
      "text/html": [
       "<div><style>\n",
       ".dataframe > thead > tr,\n",
       ".dataframe > tbody > tr {\n",
       "  text-align: right;\n",
       "  white-space: pre-wrap;\n",
       "}\n",
       "</style>\n",
       "<small>shape: (19_938, 3)</small><table border=\"1\" class=\"dataframe\"><thead><tr><th>column_0</th><th>column_1</th><th>score</th></tr><tr><td>str</td><td>str</td><td>f64</td></tr></thead><tbody><tr><td>&quot;Xe Cứu Hộ Đồ C…</td><td>&quot;Xe Cứu Hộ Đồ C…</td><td>0.999979</td></tr><tr><td>&quot;Maynee Bồn ngâ…</td><td>&quot;Maynee Bồn ngâ…</td><td>0.999979</td></tr><tr><td>&quot;Maynee Bồn ngâ…</td><td>&quot;Texas053 Bồn n…</td><td>0.970296</td></tr><tr><td>&quot;Xe Cứu Hộ Đồ C…</td><td>&quot;Babycare Đồ ch…</td><td>0.964987</td></tr><tr><td>&quot;Xe Cứu Hộ Đồ C…</td><td>&quot;Haoerwu Đồ Chơ…</td><td>0.831691</td></tr><tr><td>&hellip;</td><td>&hellip;</td><td>&hellip;</td></tr><tr><td>&quot;Maynee Bồn ngâ…</td><td>&quot;Paul fitzgeral…</td><td>0.000016</td></tr><tr><td>&quot;Maynee Bồn ngâ…</td><td>&quot;Quần Jean In C…</td><td>0.000016</td></tr><tr><td>&quot;Xe Cứu Hộ Đồ C…</td><td>&quot;Dầu Gội Sữa Dê…</td><td>0.000016</td></tr><tr><td>&quot;Xe Cứu Hộ Đồ C…</td><td>&quot;Nước Hoa Mới C…</td><td>0.000016</td></tr><tr><td>&quot;Xe Cứu Hộ Đồ C…</td><td>&quot;Tinh Chất Làm …</td><td>0.000016</td></tr></tbody></table></div>"
      ]
     },
     "execution_count": 25,
     "metadata": {},
     "output_type": "execute_result"
    }
   ],
   "execution_count": 25
  },
  {
   "metadata": {},
   "cell_type": "code",
   "outputs": [],
   "execution_count": null,
   "source": "",
   "id": "b9803cfd0e2a3d9"
  }
 ],
 "metadata": {
  "kernelspec": {
   "display_name": "Python 3",
   "language": "python",
   "name": "python3"
  },
  "language_info": {
   "codemirror_mode": {
    "name": "ipython",
    "version": 2
   },
   "file_extension": ".py",
   "mimetype": "text/x-python",
   "name": "python",
   "nbconvert_exporter": "python",
   "pygments_lexer": "ipython2",
   "version": "2.7.6"
  }
 },
 "nbformat": 4,
 "nbformat_minor": 5
}
