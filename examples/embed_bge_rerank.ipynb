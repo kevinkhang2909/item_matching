{
 "cells": [
  {
   "cell_type": "code",
   "source": [
    "from pathlib import Path\n",
    "import polars as pl\n",
    "from datasets import Dataset, concatenate_datasets, load_from_disk\n",
    "import numpy as np\n",
    "from autofaiss import build_index\n",
    "from src.item_matching.build_index.model import Model"
   ],
   "metadata": {
    "collapsed": false,
    "ExecuteTime": {
     "end_time": "2024-04-11T13:17:52.901149Z",
     "start_time": "2024-04-11T13:17:50.658257Z"
    }
   },
   "id": "28f6df8c7caed3f9",
   "outputs": [],
   "execution_count": 3
  },
  {
   "cell_type": "code",
   "id": "initial_id",
   "metadata": {
    "collapsed": true,
    "ExecuteTime": {
     "end_time": "2024-04-11T13:17:54.004927Z",
     "start_time": "2024-04-11T13:17:52.902046Z"
    }
   },
   "source": [
    "path = Path.home() / 'Downloads/item_match'\n",
    "path_db = path / 'Shoes SKUs - Phan Mai Anh.csv'\n",
    "\n",
    "col = ['item_id', 'item_name']\n",
    "df_db = (\n",
    "    pl.read_csv(path_db)\n",
    "    # .sort('item_id')\n",
    "    # .select(pl.col(c).name.prefix('db_') for c in col)\n",
    "    .head(10_000)\n",
    ")"
   ],
   "outputs": [],
   "execution_count": 4
  },
  {
   "metadata": {
    "ExecuteTime": {
     "end_time": "2024-04-11T13:17:54.022506Z",
     "start_time": "2024-04-11T13:17:54.005611Z"
    }
   },
   "cell_type": "code",
   "source": [
    "items = df_db['item_name'].unique().to_list()[:100]\n",
    "items[:6]"
   ],
   "id": "7157ac85eab42be3",
   "outputs": [
    {
     "data": {
      "text/plain": [
       "['dép Hm nam 1:1',\n",
       " 'Sandal Nữ Bánh Mì Quai Dán (form to)',\n",
       " 'Dép đi trong nhà tolet chất liệu nhựa dẻo cao cấp êm chân không xẹp lún TT400',\n",
       " '[Ảnh thật] Giày Cao Gót Da Mềm Mũi Vuông Tag Xích Gót Vuông 7p– SuBim.Store',\n",
       " 'Dép kẹp chim công nhiều màu cao 10cm Cầu Vồng Shop - Bảo hành 12 tháng',\n",
       " 'Giày MC Queen Trắng Gót Đen Đế Cao Giày Sneaker Nam Nữ Trắng MCQueen MCQ ĐI Học Đi Chơi']"
      ]
     },
     "execution_count": 5,
     "metadata": {},
     "output_type": "execute_result"
    }
   ],
   "execution_count": 5
  },
  {
   "metadata": {
    "jupyter": {
     "is_executing": true
    },
    "ExecuteTime": {
     "start_time": "2024-04-11T13:18:32.305031Z"
    }
   },
   "cell_type": "code",
   "source": [
    "from FlagEmbedding import FlagReranker\n",
    "reranker = FlagReranker('BAAI/bge-reranker-v2-m3', use_fp16=True)"
   ],
   "id": "256902b18cf1e0af",
   "outputs": [],
   "execution_count": null
  },
  {
   "metadata": {
    "ExecuteTime": {
     "end_time": "2024-04-11T13:18:20.247596Z",
     "start_time": "2024-04-11T13:18:20.243045Z"
    }
   },
   "cell_type": "code",
   "source": [
    "lst_pair = [[i , v] for i in items for v in items]\n",
    "lst_pair[:6]"
   ],
   "id": "96e034d2ee981cf2",
   "outputs": [
    {
     "data": {
      "text/plain": [
       "[['dép Hm nam 1:1', 'dép Hm nam 1:1'],\n",
       " ['dép Hm nam 1:1', 'Sandal Nữ Bánh Mì Quai Dán (form to)'],\n",
       " ['dép Hm nam 1:1',\n",
       "  'Dép đi trong nhà tolet chất liệu nhựa dẻo cao cấp êm chân không xẹp lún TT400'],\n",
       " ['dép Hm nam 1:1',\n",
       "  '[Ảnh thật] Giày Cao Gót Da Mềm Mũi Vuông Tag Xích Gót Vuông 7p– SuBim.Store'],\n",
       " ['dép Hm nam 1:1',\n",
       "  'Dép kẹp chim công nhiều màu cao 10cm Cầu Vồng Shop - Bảo hành 12 tháng'],\n",
       " ['dép Hm nam 1:1',\n",
       "  'Giày MC Queen Trắng Gót Đen Đế Cao Giày Sneaker Nam Nữ Trắng MCQueen MCQ ĐI Học Đi Chơi']]"
      ]
     },
     "execution_count": 10,
     "metadata": {},
     "output_type": "execute_result"
    }
   ],
   "execution_count": 10
  },
  {
   "metadata": {
    "ExecuteTime": {
     "end_time": "2024-04-11T13:18:31.004480Z",
     "start_time": "2024-04-11T13:18:30.964326Z"
    }
   },
   "cell_type": "code",
   "source": "score = reranker.compute_score(lst_pair, normalize=True)",
   "id": "39e27eb2102de28a",
   "outputs": [
    {
     "ename": "NameError",
     "evalue": "name 'reranker' is not defined",
     "output_type": "error",
     "traceback": [
      "\u001B[0;31m---------------------------------------------------------------------------\u001B[0m",
      "\u001B[0;31mNameError\u001B[0m                                 Traceback (most recent call last)",
      "Cell \u001B[0;32mIn[11], line 1\u001B[0m\n\u001B[0;32m----> 1\u001B[0m score \u001B[38;5;241m=\u001B[39m \u001B[43mreranker\u001B[49m\u001B[38;5;241m.\u001B[39mcompute_score(lst_pair, normalize\u001B[38;5;241m=\u001B[39m\u001B[38;5;28;01mTrue\u001B[39;00m)\n",
      "\u001B[0;31mNameError\u001B[0m: name 'reranker' is not defined"
     ]
    }
   ],
   "execution_count": 11
  },
  {
   "metadata": {},
   "cell_type": "code",
   "outputs": [],
   "execution_count": null,
   "source": "",
   "id": "83f21f0338e6a932"
  }
 ],
 "metadata": {
  "kernelspec": {
   "display_name": "Python 3",
   "language": "python",
   "name": "python3"
  },
  "language_info": {
   "codemirror_mode": {
    "name": "ipython",
    "version": 2
   },
   "file_extension": ".py",
   "mimetype": "text/x-python",
   "name": "python",
   "nbconvert_exporter": "python",
   "pygments_lexer": "ipython2",
   "version": "2.7.6"
  }
 },
 "nbformat": 4,
 "nbformat_minor": 5
}
