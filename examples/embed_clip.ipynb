{
 "cells": [
  {
   "cell_type": "code",
   "outputs": [],
   "source": [
    "from pathlib import Path\n",
    "import polars as pl\n",
    "import duckdb\n",
    "from datasets import Dataset, concatenate_datasets, load_from_disk\n",
    "import numpy as np\n",
    "from autofaiss import build_index\n",
    "from src.item_matching.build_index.func import load_images\n",
    "from src.item_matching.build_index.model import Model"
   ],
   "metadata": {
    "collapsed": false,
    "ExecuteTime": {
     "end_time": "2024-03-07T09:37:56.080463Z",
     "start_time": "2024-03-07T09:37:54.587887Z"
    }
   },
   "id": "28f6df8c7caed3f9",
   "execution_count": 1
  },
  {
   "cell_type": "markdown",
   "source": [
    "## 1) Data \n",
    "\n",
    "Prepare 2 datasets: Database and Query"
   ],
   "metadata": {
    "collapsed": false
   },
   "id": "6fb85ea4eb5faddf"
  },
  {
   "cell_type": "code",
   "execution_count": 2,
   "id": "initial_id",
   "metadata": {
    "collapsed": true,
    "ExecuteTime": {
     "end_time": "2024-03-07T09:38:32.312925Z",
     "start_time": "2024-03-07T09:37:56.081427Z"
    }
   },
   "outputs": [
    {
     "data": {
      "text/plain": "shape: (5, 8)\n┌────────────┬────────────┬───────────┬────────────┬────────────┬───────────┬───────────┬──────────┐\n│ q_item_id  ┆ q_item_nam ┆ q_shop_id ┆ q_level1_g ┆ q_create_d ┆ q_image_u ┆ q_file_pa ┆ q_exists │\n│ ---        ┆ e          ┆ ---       ┆ lobal_be_c ┆ atetime    ┆ rl        ┆ th        ┆ ---      │\n│ i64        ┆ ---        ┆ i64       ┆ ategory    ┆ ---        ┆ ---       ┆ ---       ┆ bool     │\n│            ┆ str        ┆           ┆ ---        ┆ date       ┆ str       ┆ str       ┆          │\n│            ┆            ┆           ┆ str        ┆            ┆           ┆           ┆          │\n╞════════════╪════════════╪═══════════╪════════════╪════════════╪═══════════╪═══════════╪══════════╡\n│ 2998791564 ┆ 🍎FREE SHI ┆ 619038499 ┆ Fashion    ┆ 2022-03-16 ┆ http://f. ┆ /home/kev ┆ true     │\n│            ┆ P🍎Lithium ┆           ┆ Accessorie ┆            ┆ shopee.vn ┆ in/Downlo ┆          │\n│            ┆ 067        ┆           ┆ s          ┆            ┆ /file/020 ┆ ads/cb/im ┆          │\n│            ┆ 24Pcs/Bag  ┆           ┆            ┆            ┆ b2fb3…    ┆ g_cb_…    ┆          │\n│            ┆ …          ┆           ┆            ┆            ┆           ┆           ┆          │\n│ 2999430969 ┆ Dụng cụ    ┆ 619035621 ┆ Home &     ┆ 2022-05-26 ┆ http://f. ┆ /home/kev ┆ true     │\n│            ┆ cắt rau củ ┆           ┆ Living     ┆            ┆ shopee.vn ┆ in/Downlo ┆          │\n│            ┆ đa năng    ┆           ┆            ┆            ┆ /file/cn- ┆ ads/cb/im ┆          │\n│            ┆ dụng …     ┆           ┆            ┆            ┆ 11134…    ┆ g_cb_…    ┆          │\n│ 2999568833 ┆ Bộ 50 Món  ┆ 779448044 ┆ Beauty     ┆ 2022-07-20 ┆ http://f. ┆ /home/kev ┆ true     │\n│            ┆ Dụng Cụ    ┆           ┆            ┆            ┆ shopee.vn ┆ in/Downlo ┆          │\n│            ┆ Làm Sạch   ┆           ┆            ┆            ┆ /file/sg- ┆ ads/cb/im ┆          │\n│            ┆ Răng …     ┆           ┆            ┆            ┆ 11134…    ┆ g_cb_…    ┆          │\n│ 2999714346 ┆ [Hàng HOT] ┆ 619019560 ┆ Automobile ┆ 2022-09-27 ┆ http://f. ┆ /home/kev ┆ true     │\n│            ┆ Giá đỡ     ┆           ┆ s          ┆            ┆ shopee.vn ┆ in/Downlo ┆          │\n│            ┆ điện thoại ┆           ┆            ┆            ┆ /file/sg- ┆ ads/cb/im ┆          │\n│            ┆ Gắn…       ┆           ┆            ┆            ┆ 11134…    ┆ g_cb_…    ┆          │\n│ 2999787165 ┆ SUPERCUTE  ┆ 881303265 ┆ Women Bags ┆ 2022-11-18 ┆ http://f. ┆ /home/kev ┆ true     │\n│            ┆ Túi Vải    ┆           ┆            ┆            ┆ shopee.vn ┆ in/Downlo ┆          │\n│            ┆ canvas Đeo ┆           ┆            ┆            ┆ /file/e0c ┆ ads/cb/im ┆          │\n│            ┆ Vai…       ┆           ┆            ┆            ┆ 117e6…    ┆ g_cb_…    ┆          │\n└────────────┴────────────┴───────────┴────────────┴────────────┴───────────┴───────────┴──────────┘",
      "text/html": "<div><style>\n.dataframe > thead > tr,\n.dataframe > tbody > tr {\n  text-align: right;\n  white-space: pre-wrap;\n}\n</style>\n<small>shape: (5, 8)</small><table border=\"1\" class=\"dataframe\"><thead><tr><th>q_item_id</th><th>q_item_name</th><th>q_shop_id</th><th>q_level1_global_be_category</th><th>q_create_datetime</th><th>q_image_url</th><th>q_file_path</th><th>q_exists</th></tr><tr><td>i64</td><td>str</td><td>i64</td><td>str</td><td>date</td><td>str</td><td>str</td><td>bool</td></tr></thead><tbody><tr><td>2998791564</td><td>&quot;🍎FREE SHIP🍎Lit…</td><td>619038499</td><td>&quot;Fashion Access…</td><td>2022-03-16</td><td>&quot;http://f.shope…</td><td>&quot;/home/kevin/Do…</td><td>true</td></tr><tr><td>2999430969</td><td>&quot;Dụng cụ cắt ra…</td><td>619035621</td><td>&quot;Home &amp; Living&quot;</td><td>2022-05-26</td><td>&quot;http://f.shope…</td><td>&quot;/home/kevin/Do…</td><td>true</td></tr><tr><td>2999568833</td><td>&quot;Bộ 50 Món Dụng…</td><td>779448044</td><td>&quot;Beauty&quot;</td><td>2022-07-20</td><td>&quot;http://f.shope…</td><td>&quot;/home/kevin/Do…</td><td>true</td></tr><tr><td>2999714346</td><td>&quot;[Hàng HOT] Giá…</td><td>619019560</td><td>&quot;Automobiles&quot;</td><td>2022-09-27</td><td>&quot;http://f.shope…</td><td>&quot;/home/kevin/Do…</td><td>true</td></tr><tr><td>2999787165</td><td>&quot;SUPERCUTE Túi …</td><td>881303265</td><td>&quot;Women Bags&quot;</td><td>2022-11-18</td><td>&quot;http://f.shope…</td><td>&quot;/home/kevin/Do…</td><td>true</td></tr></tbody></table></div>"
     },
     "execution_count": 2,
     "metadata": {},
     "output_type": "execute_result"
    }
   ],
   "source": [
    "path = Path('/home/kevin/Downloads/cb')\n",
    "path_db = path / 'cb_2024-03-07.parquet'\n",
    "\n",
    "query = f\"\"\"\n",
    "select *\n",
    ",concat('http://f.shopee.vn/file/', UNNEST(array_slice(string_split(images, ','), 1, 1))) image_url\n",
    "from parquet_scan('{str(path_db)}')\n",
    "order by item_id, images\n",
    "\"\"\"\n",
    "df_db = (\n",
    "    duckdb.sql(query).pl()\n",
    "    .head(10_000)\n",
    ")\n",
    "df_img_db = load_images(path / 'img_cb_2024-03-07', 'db', 'image_url')\n",
    "df_db = (\n",
    "    df_db.drop(['images'])\n",
    "    .select(pl.all().name.prefix(f'db_'))\n",
    "    .join(df_img_db, on='db_image_url', how='left')\n",
    "    .filter(pl.col('db_exists'))\n",
    ")\n",
    "\n",
    "\n",
    "df_q = (\n",
    "    duckdb.sql(query).pl()\n",
    "    .head(10_000)\n",
    ")\n",
    "df_img_q = load_images(path / 'img_cb_2024-03-07', 'q', 'image_url')\n",
    "df_q = (\n",
    "    df_q.drop(['images'])\n",
    "    .select(pl.all().name.prefix(f'q_'))\n",
    "    .join(df_img_q, on='q_image_url', how='left')\n",
    "    .filter(pl.col('q_exists'))\n",
    ")\n",
    "df_q.head()"
   ]
  },
  {
   "cell_type": "markdown",
   "source": [
    "## 2) Embeddings\n",
    "\n",
    "Use datasets and clip to transform images to vectors"
   ],
   "metadata": {
    "collapsed": false
   },
   "id": "539fe7f71bc59b80"
  },
  {
   "cell_type": "code",
   "outputs": [
    {
     "name": "stdout",
     "output_type": "stream",
     "text": [
      "\u001B[32m16:38:32\u001B[0m | \u001B[1mINFO\u001B[0m | \u001B[36m__init__\u001B[0m | \u001B[1m[Model] Run on: cuda\u001B[0m\n",
      "\u001B[32m16:38:36\u001B[0m | \u001B[1mINFO\u001B[0m | \u001B[36mget_img\u001B[0m | \u001B[1mImage model: openai/clip-vit-base-patch32\u001B[0m\n"
     ]
    }
   ],
   "source": [
    "img_model, img_processor = Model().get_img(model_id='openai/clip-vit-base-patch32')"
   ],
   "metadata": {
    "collapsed": false,
    "ExecuteTime": {
     "end_time": "2024-03-07T09:38:36.700169Z",
     "start_time": "2024-03-07T09:38:32.313501Z"
    }
   },
   "id": "70a41ebe42d746ca",
   "execution_count": 3
  },
  {
   "cell_type": "code",
   "outputs": [
    {
     "name": "stdout",
     "output_type": "stream",
     "text": [
      "\u001B[32m16:38:36\u001B[0m | \u001B[1mINFO\u001B[0m | \u001B[36m__init__\u001B[0m | \u001B[1m[Model] Run on: cuda\u001B[0m\n"
     ]
    },
    {
     "data": {
      "text/plain": "Map:   0%|          | 0/10192 [00:00<?, ? examples/s]",
      "application/vnd.jupyter.widget-view+json": {
       "version_major": 2,
       "version_minor": 0,
       "model_id": "5c67f6375676463fa9624420abdedced"
      }
     },
     "metadata": {},
     "output_type": "display_data"
    },
    {
     "data": {
      "text/plain": "Saving the dataset (0/1 shards):   0%|          | 0/10192 [00:00<?, ? examples/s]",
      "application/vnd.jupyter.widget-view+json": {
       "version_major": 2,
       "version_minor": 0,
       "model_id": "3494eb3de9884d6d98d89ac966de7ac4"
      }
     },
     "metadata": {},
     "output_type": "display_data"
    }
   ],
   "source": [
    "dataset = Dataset.from_pandas(df_db.to_pandas())\n",
    "fn_kwargs = {'col': f'db_file_path', 'processor': img_processor, 'model': img_model}\n",
    "dataset = dataset.map(Model().pp_img, batched=True, batch_size=768, fn_kwargs=fn_kwargs)\n",
    "dataset.set_format(type='numpy', columns=['img_embed'], output_all_columns=True)\n",
    "\n",
    "# save to disk\n",
    "path_tmp_array = Path('tmp/array')\n",
    "path_tmp_ds = Path('tmp/ds')\n",
    "np.save(path_tmp_array / 'array.npy', dataset['img_embed'])\n",
    "dataset.save_to_disk(path_tmp_ds / 'ds')"
   ],
   "metadata": {
    "collapsed": false,
    "ExecuteTime": {
     "end_time": "2024-03-07T09:39:14.007019Z",
     "start_time": "2024-03-07T09:38:36.701018Z"
    }
   },
   "id": "b95e12aa6944cd3e",
   "execution_count": 4
  },
  {
   "cell_type": "markdown",
   "source": [
    "## 3) Indexing\n",
    "\n",
    "Build index to search items"
   ],
   "metadata": {
    "collapsed": false
   },
   "id": "2f5934d701125e88"
  },
  {
   "cell_type": "code",
   "outputs": [
    {
     "name": "stderr",
     "output_type": "stream",
     "text": [
      "100%|██████████| 1/1 [00:00<00:00, 5356.71it/s]\n",
      "100%|██████████| 1/1 [00:00<00:00,  5.54it/s]\n",
      "  0%|          | 0/1 [00:00<?, ?it/s]\n"
     ]
    },
    {
     "data": {
      "text/plain": "(<faiss.swigfaiss_avx2.IndexHNSWFlat; proxy of <Swig Object of type 'faiss::IndexHNSWFlat *' at 0x7f1268d06cd0> >,\n {'index_key': 'HNSW32',\n  'index_param': 'efSearch=986',\n  'index_path': 'tmp/index/ip.index',\n  'size in bytes': 34080034,\n  'avg_search_speed_ms': 6.132795656043631,\n  '99p_search_speed_ms': 20.589535099952627,\n  'reconstruction error %': 0.0,\n  'nb vectors': 10192,\n  'vectors dimension': 768,\n  'compression ratio': 0.918714576399777})"
     },
     "execution_count": 5,
     "metadata": {},
     "output_type": "execute_result"
    }
   ],
   "source": [
    "path_index = Path('tmp/index')\n",
    "build_index(\n",
    "    str(path_tmp_array),\n",
    "    index_path=str(path_index / f'ip.index'),\n",
    "    index_infos_path=str(path_index / f'index.json'),\n",
    "    save_on_disk=True,\n",
    "    metric_type='ip',\n",
    "    verbose=30,\n",
    ")"
   ],
   "metadata": {
    "collapsed": false,
    "ExecuteTime": {
     "end_time": "2024-03-07T09:39:30.627407Z",
     "start_time": "2024-03-07T09:39:14.007767Z"
    }
   },
   "id": "96cc5afcf31a1e6a",
   "execution_count": 5
  },
  {
   "cell_type": "markdown",
   "source": [
    "Load index into datasets"
   ],
   "metadata": {
    "collapsed": false
   },
   "id": "61b78720de597863"
  },
  {
   "cell_type": "code",
   "outputs": [],
   "source": [
    "dataset_db = concatenate_datasets([\n",
    "    load_from_disk(str(f)) for f in sorted(path_tmp_ds.glob('*'))\n",
    "])\n",
    "\n",
    "# add index\n",
    "dataset_db.load_faiss_index('img_embed', path_index / f'ip.index')"
   ],
   "metadata": {
    "collapsed": false,
    "ExecuteTime": {
     "end_time": "2024-03-07T09:39:30.658759Z",
     "start_time": "2024-03-07T09:39:30.631916Z"
    }
   },
   "id": "6efdce62f49c27b9",
   "execution_count": 6
  },
  {
   "cell_type": "markdown",
   "source": [
    "## 4) Retrieve"
   ],
   "metadata": {
    "collapsed": false
   },
   "id": "1790f349c3dd80ea"
  },
  {
   "cell_type": "markdown",
   "source": [
    "Batch search top-k from datasets"
   ],
   "metadata": {
    "collapsed": false
   },
   "id": "8b9699dadfcbd348"
  },
  {
   "cell_type": "code",
   "outputs": [],
   "source": [
    "score, result = dataset_db.get_nearest_examples_batch(\n",
    "    'img_embed',\n",
    "    np.asarray(dataset_db['img_embed']),\n",
    "    k=5\n",
    ")\n",
    "\n",
    "dict_ = {'score_img': [list(i) for i in score]}\n",
    "df_score = pl.DataFrame(dict_)\n",
    "df_result = pl.DataFrame(result).drop(['img_embed'])"
   ],
   "metadata": {
    "collapsed": false,
    "ExecuteTime": {
     "end_time": "2024-03-07T09:39:35.829041Z",
     "start_time": "2024-03-07T09:39:30.659557Z"
    }
   },
   "id": "3bcba75a987dd8c2",
   "execution_count": 7
  },
  {
   "cell_type": "markdown",
   "source": [
    "## 5) Post process"
   ],
   "metadata": {
    "collapsed": false
   },
   "id": "b879e463bb688c29"
  },
  {
   "cell_type": "code",
   "outputs": [],
   "source": [
    "df_match = pl.concat([df_q, df_result, df_score], how='horizontal')\n",
    "col_explode = [i for i in df_match.columns if 'db' in i] + ['score_img']\n",
    "df_match = df_match.explode(col_explode)"
   ],
   "metadata": {
    "collapsed": false,
    "ExecuteTime": {
     "end_time": "2024-03-07T09:39:35.831940Z",
     "start_time": "2024-03-07T09:39:35.829699Z"
    }
   },
   "id": "ae3b4d1db34781b3",
   "execution_count": 8
  },
  {
   "cell_type": "code",
   "outputs": [
    {
     "data": {
      "text/plain": "shape: (50_960, 17)\n┌───────────┬───────────┬───────────┬───────────┬───┬───────────┬───────────┬───────────┬──────────┐\n│ q_item_id ┆ q_item_na ┆ q_shop_id ┆ q_level1_ ┆ … ┆ db_image_ ┆ db_file_p ┆ db_exists ┆ score_im │\n│ ---       ┆ me        ┆ ---       ┆ global_be ┆   ┆ url       ┆ ath       ┆ ---       ┆ g        │\n│ i64       ┆ ---       ┆ i64       ┆ _category ┆   ┆ ---       ┆ ---       ┆ bool      ┆ ---      │\n│           ┆ str       ┆           ┆ ---       ┆   ┆ str       ┆ str       ┆           ┆ f32      │\n│           ┆           ┆           ┆ str       ┆   ┆           ┆           ┆           ┆          │\n╞═══════════╪═══════════╪═══════════╪═══════════╪═══╪═══════════╪═══════════╪═══════════╪══════════╡\n│ 299879156 ┆ 🍎FREE    ┆ 619038499 ┆ Fashion   ┆ … ┆ http://f. ┆ /home/kev ┆ true      ┆ 1.0      │\n│ 4         ┆ SHIP🍎Lit ┆           ┆ Accessori ┆   ┆ shopee.vn ┆ in/Downlo ┆           ┆          │\n│           ┆ hium067   ┆           ┆ es        ┆   ┆ /file/020 ┆ ads/cb/im ┆           ┆          │\n│           ┆ 24Pcs/Bag ┆           ┆           ┆   ┆ b2fb3…    ┆ g_cb_…    ┆           ┆          │\n│           ┆ …         ┆           ┆           ┆   ┆           ┆           ┆           ┆          │\n│ 299879156 ┆ 🍎FREE    ┆ 619038499 ┆ Fashion   ┆ … ┆ http://f. ┆ /home/kev ┆ true      ┆ 0.674531 │\n│ 4         ┆ SHIP🍎Lit ┆           ┆ Accessori ┆   ┆ shopee.vn ┆ in/Downlo ┆           ┆          │\n│           ┆ hium067   ┆           ┆ es        ┆   ┆ /file/sg- ┆ ads/cb/im ┆           ┆          │\n│           ┆ 24Pcs/Bag ┆           ┆           ┆   ┆ 11134…    ┆ g_cb_…    ┆           ┆          │\n│           ┆ …         ┆           ┆           ┆   ┆           ┆           ┆           ┆          │\n│ 299879156 ┆ 🍎FREE    ┆ 619038499 ┆ Fashion   ┆ … ┆ http://f. ┆ /home/kev ┆ true      ┆ 0.580695 │\n│ 4         ┆ SHIP🍎Lit ┆           ┆ Accessori ┆   ┆ shopee.vn ┆ in/Downlo ┆           ┆          │\n│           ┆ hium067   ┆           ┆ es        ┆   ┆ /file/297 ┆ ads/cb/im ┆           ┆          │\n│           ┆ 24Pcs/Bag ┆           ┆           ┆   ┆ ca348…    ┆ g_cb_…    ┆           ┆          │\n│           ┆ …         ┆           ┆           ┆   ┆           ┆           ┆           ┆          │\n│ 299879156 ┆ 🍎FREE    ┆ 619038499 ┆ Fashion   ┆ … ┆ http://f. ┆ /home/kev ┆ true      ┆ 0.569684 │\n│ 4         ┆ SHIP🍎Lit ┆           ┆ Accessori ┆   ┆ shopee.vn ┆ in/Downlo ┆           ┆          │\n│           ┆ hium067   ┆           ┆ es        ┆   ┆ /file/e16 ┆ ads/cb/im ┆           ┆          │\n│           ┆ 24Pcs/Bag ┆           ┆           ┆   ┆ a4c21…    ┆ g_cb_…    ┆           ┆          │\n│           ┆ …         ┆           ┆           ┆   ┆           ┆           ┆           ┆          │\n│ 299879156 ┆ 🍎FREE    ┆ 619038499 ┆ Fashion   ┆ … ┆ http://f. ┆ /home/kev ┆ true      ┆ 0.568764 │\n│ 4         ┆ SHIP🍎Lit ┆           ┆ Accessori ┆   ┆ shopee.vn ┆ in/Downlo ┆           ┆          │\n│           ┆ hium067   ┆           ┆ es        ┆   ┆ /file/59a ┆ ads/cb/im ┆           ┆          │\n│           ┆ 24Pcs/Bag ┆           ┆           ┆   ┆ a6d0e…    ┆ g_cb_…    ┆           ┆          │\n│           ┆ …         ┆           ┆           ┆   ┆           ┆           ┆           ┆          │\n│ …         ┆ …         ┆ …         ┆ …         ┆ … ┆ …         ┆ …         ┆ …         ┆ …        │\n│ 142987584 ┆ WHYME Đồ  ┆ 946581486 ┆ Mom &     ┆ … ┆ http://f. ┆ /home/kev ┆ true      ┆ 1.0      │\n│ 17        ┆ chơi rối  ┆           ┆ Baby      ┆   ┆ shopee.vn ┆ in/Downlo ┆           ┆          │\n│           ┆ tay động  ┆           ┆           ┆   ┆ /file/cn- ┆ ads/cb/im ┆           ┆          │\n│           ┆ vật h…    ┆           ┆           ┆   ┆ 11134…    ┆ g_cb_…    ┆           ┆          │\n│ 142987584 ┆ WHYME Đồ  ┆ 946581486 ┆ Mom &     ┆ … ┆ http://f. ┆ /home/kev ┆ true      ┆ 0.675363 │\n│ 17        ┆ chơi rối  ┆           ┆ Baby      ┆   ┆ shopee.vn ┆ in/Downlo ┆           ┆          │\n│           ┆ tay động  ┆           ┆           ┆   ┆ /file/cn- ┆ ads/cb/im ┆           ┆          │\n│           ┆ vật h…    ┆           ┆           ┆   ┆ 11134…    ┆ g_cb_…    ┆           ┆          │\n│ 142987584 ┆ WHYME Đồ  ┆ 946581486 ┆ Mom &     ┆ … ┆ http://f. ┆ /home/kev ┆ true      ┆ 0.672375 │\n│ 17        ┆ chơi rối  ┆           ┆ Baby      ┆   ┆ shopee.vn ┆ in/Downlo ┆           ┆          │\n│           ┆ tay động  ┆           ┆           ┆   ┆ /file/cn- ┆ ads/cb/im ┆           ┆          │\n│           ┆ vật h…    ┆           ┆           ┆   ┆ 11134…    ┆ g_cb_…    ┆           ┆          │\n│ 142987584 ┆ WHYME Đồ  ┆ 946581486 ┆ Mom &     ┆ … ┆ http://f. ┆ /home/kev ┆ true      ┆ 0.671396 │\n│ 17        ┆ chơi rối  ┆           ┆ Baby      ┆   ┆ shopee.vn ┆ in/Downlo ┆           ┆          │\n│           ┆ tay động  ┆           ┆           ┆   ┆ /file/cn- ┆ ads/cb/im ┆           ┆          │\n│           ┆ vật h…    ┆           ┆           ┆   ┆ 11134…    ┆ g_cb_…    ┆           ┆          │\n│ 142987584 ┆ WHYME Đồ  ┆ 946581486 ┆ Mom &     ┆ … ┆ http://f. ┆ /home/kev ┆ true      ┆ 0.654112 │\n│ 17        ┆ chơi rối  ┆           ┆ Baby      ┆   ┆ shopee.vn ┆ in/Downlo ┆           ┆          │\n│           ┆ tay động  ┆           ┆           ┆   ┆ /file/cn- ┆ ads/cb/im ┆           ┆          │\n│           ┆ vật h…    ┆           ┆           ┆   ┆ 11134…    ┆ g_cb_…    ┆           ┆          │\n└───────────┴───────────┴───────────┴───────────┴───┴───────────┴───────────┴───────────┴──────────┘",
      "text/html": "<div><style>\n.dataframe > thead > tr,\n.dataframe > tbody > tr {\n  text-align: right;\n  white-space: pre-wrap;\n}\n</style>\n<small>shape: (50_960, 17)</small><table border=\"1\" class=\"dataframe\"><thead><tr><th>q_item_id</th><th>q_item_name</th><th>q_shop_id</th><th>q_level1_global_be_category</th><th>q_create_datetime</th><th>q_image_url</th><th>q_file_path</th><th>q_exists</th><th>db_item_id</th><th>db_item_name</th><th>db_shop_id</th><th>db_level1_global_be_category</th><th>db_create_datetime</th><th>db_image_url</th><th>db_file_path</th><th>db_exists</th><th>score_img</th></tr><tr><td>i64</td><td>str</td><td>i64</td><td>str</td><td>date</td><td>str</td><td>str</td><td>bool</td><td>i64</td><td>str</td><td>i64</td><td>str</td><td>datetime[μs]</td><td>str</td><td>str</td><td>bool</td><td>f32</td></tr></thead><tbody><tr><td>2998791564</td><td>&quot;🍎FREE SHIP🍎Lit…</td><td>619038499</td><td>&quot;Fashion Access…</td><td>2022-03-16</td><td>&quot;http://f.shope…</td><td>&quot;/home/kevin/Do…</td><td>true</td><td>2998791564</td><td>&quot;🍎FREE SHIP🍎Lit…</td><td>619038499</td><td>&quot;Fashion Access…</td><td>2022-03-16 00:00:00</td><td>&quot;http://f.shope…</td><td>&quot;/home/kevin/Do…</td><td>true</td><td>1.0</td></tr><tr><td>2998791564</td><td>&quot;🍎FREE SHIP🍎Lit…</td><td>619038499</td><td>&quot;Fashion Access…</td><td>2022-03-16</td><td>&quot;http://f.shope…</td><td>&quot;/home/kevin/Do…</td><td>true</td><td>13793061194</td><td>&quot;[Hàng mới về] …</td><td>619038499</td><td>&quot;Beauty&quot;</td><td>2022-05-27 00:00:00</td><td>&quot;http://f.shope…</td><td>&quot;/home/kevin/Do…</td><td>true</td><td>0.674531</td></tr><tr><td>2998791564</td><td>&quot;🍎FREE SHIP🍎Lit…</td><td>619038499</td><td>&quot;Fashion Access…</td><td>2022-03-16</td><td>&quot;http://f.shope…</td><td>&quot;/home/kevin/Do…</td><td>true</td><td>8599704681</td><td>&quot;Lithium067 2 c…</td><td>619038499</td><td>&quot;Stationery&quot;</td><td>2022-09-26 00:00:00</td><td>&quot;http://f.shope…</td><td>&quot;/home/kevin/Do…</td><td>true</td><td>0.580695</td></tr><tr><td>2998791564</td><td>&quot;🍎FREE SHIP🍎Lit…</td><td>619038499</td><td>&quot;Fashion Access…</td><td>2022-03-16</td><td>&quot;http://f.shope…</td><td>&quot;/home/kevin/Do…</td><td>true</td><td>13194351208</td><td>&quot;Lithium067 Lit…</td><td>619038499</td><td>&quot;Beauty&quot;</td><td>2022-06-21 00:00:00</td><td>&quot;http://f.shope…</td><td>&quot;/home/kevin/Do…</td><td>true</td><td>0.569684</td></tr><tr><td>2998791564</td><td>&quot;🍎FREE SHIP🍎Lit…</td><td>619038499</td><td>&quot;Fashion Access…</td><td>2022-03-16</td><td>&quot;http://f.shope…</td><td>&quot;/home/kevin/Do…</td><td>true</td><td>11596967860</td><td>&quot;Lithium067 Bệ …</td><td>619038499</td><td>&quot;Mom &amp; Baby&quot;</td><td>2022-07-04 00:00:00</td><td>&quot;http://f.shope…</td><td>&quot;/home/kevin/Do…</td><td>true</td><td>0.568764</td></tr><tr><td>&hellip;</td><td>&hellip;</td><td>&hellip;</td><td>&hellip;</td><td>&hellip;</td><td>&hellip;</td><td>&hellip;</td><td>&hellip;</td><td>&hellip;</td><td>&hellip;</td><td>&hellip;</td><td>&hellip;</td><td>&hellip;</td><td>&hellip;</td><td>&hellip;</td><td>&hellip;</td><td>&hellip;</td></tr><tr><td>14298758417</td><td>&quot;WHYME Đồ chơi …</td><td>946581486</td><td>&quot;Mom &amp; Baby&quot;</td><td>2023-05-06</td><td>&quot;http://f.shope…</td><td>&quot;/home/kevin/Do…</td><td>true</td><td>14298758417</td><td>&quot;WHYME Đồ chơi …</td><td>946581486</td><td>&quot;Mom &amp; Baby&quot;</td><td>2023-05-06 00:00:00</td><td>&quot;http://f.shope…</td><td>&quot;/home/kevin/Do…</td><td>true</td><td>1.0</td></tr><tr><td>14298758417</td><td>&quot;WHYME Đồ chơi …</td><td>946581486</td><td>&quot;Mom &amp; Baby&quot;</td><td>2023-05-06</td><td>&quot;http://f.shope…</td><td>&quot;/home/kevin/Do…</td><td>true</td><td>13799431108</td><td>&quot;WHYME Điện Dễ …</td><td>946581486</td><td>&quot;Baby &amp; Kids Fa…</td><td>2023-05-06 00:00:00</td><td>&quot;http://f.shope…</td><td>&quot;/home/kevin/Do…</td><td>true</td><td>0.675363</td></tr><tr><td>14298758417</td><td>&quot;WHYME Đồ chơi …</td><td>946581486</td><td>&quot;Mom &amp; Baby&quot;</td><td>2023-05-06</td><td>&quot;http://f.shope…</td><td>&quot;/home/kevin/Do…</td><td>true</td><td>13599719843</td><td>&quot;[Hàng cao cấp]…</td><td>946581486</td><td>&quot;Mom &amp; Baby&quot;</td><td>2023-08-15 00:00:00</td><td>&quot;http://f.shope…</td><td>&quot;/home/kevin/Do…</td><td>true</td><td>0.672375</td></tr><tr><td>14298758417</td><td>&quot;WHYME Đồ chơi …</td><td>946581486</td><td>&quot;Mom &amp; Baby&quot;</td><td>2023-05-06</td><td>&quot;http://f.shope…</td><td>&quot;/home/kevin/Do…</td><td>true</td><td>14099225413</td><td>&quot;[Hàng cao cấp]…</td><td>946581486</td><td>&quot;Mom &amp; Baby&quot;</td><td>2023-08-02 00:00:00</td><td>&quot;http://f.shope…</td><td>&quot;/home/kevin/Do…</td><td>true</td><td>0.671396</td></tr><tr><td>14298758417</td><td>&quot;WHYME Đồ chơi …</td><td>946581486</td><td>&quot;Mom &amp; Baby&quot;</td><td>2023-05-06</td><td>&quot;http://f.shope…</td><td>&quot;/home/kevin/Do…</td><td>true</td><td>13699668119</td><td>&quot;[SẴN] Gối ôm g…</td><td>946581486</td><td>&quot;Mom &amp; Baby&quot;</td><td>2023-08-10 00:00:00</td><td>&quot;http://f.shope…</td><td>&quot;/home/kevin/Do…</td><td>true</td><td>0.654112</td></tr></tbody></table></div>"
     },
     "execution_count": 9,
     "metadata": {},
     "output_type": "execute_result"
    }
   ],
   "source": [
    "df_match"
   ],
   "metadata": {
    "collapsed": false,
    "ExecuteTime": {
     "end_time": "2024-03-07T09:39:35.849433Z",
     "start_time": "2024-03-07T09:39:35.832408Z"
    }
   },
   "id": "c77a28d769f090a8",
   "execution_count": 9
  },
  {
   "cell_type": "code",
   "outputs": [],
   "source": [
    "# df_match.write_csv(path / 'match.csv')"
   ],
   "metadata": {
    "collapsed": false,
    "ExecuteTime": {
     "end_time": "2024-03-07T09:39:35.884786Z",
     "start_time": "2024-03-07T09:39:35.850251Z"
    }
   },
   "id": "2dacba735258ef3d",
   "execution_count": 10
  }
 ],
 "metadata": {
  "kernelspec": {
   "display_name": "Python 3",
   "language": "python",
   "name": "python3"
  },
  "language_info": {
   "codemirror_mode": {
    "name": "ipython",
    "version": 2
   },
   "file_extension": ".py",
   "mimetype": "text/x-python",
   "name": "python",
   "nbconvert_exporter": "python",
   "pygments_lexer": "ipython2",
   "version": "2.7.6"
  }
 },
 "nbformat": 4,
 "nbformat_minor": 5
}
