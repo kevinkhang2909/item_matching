{
 "cells": [
  {
   "cell_type": "code",
   "source": [
    "from pathlib import Path\n",
    "import polars as pl\n",
    "from datasets import Dataset, concatenate_datasets, load_from_disk\n",
    "import numpy as np\n",
    "from autofaiss import build_index\n",
    "from src.item_matching.build_index.model import Model\n",
    "from core_pro.ultilities import make_dir"
   ],
   "metadata": {
    "collapsed": false,
    "ExecuteTime": {
     "end_time": "2024-05-10T07:41:43.193352Z",
     "start_time": "2024-05-10T07:41:41.132026Z"
    }
   },
   "id": "28f6df8c7caed3f9",
   "outputs": [],
   "execution_count": 1
  },
  {
   "cell_type": "markdown",
   "source": [
    "## 1) Data \n",
    "\n",
    "Prepare 2 datasets: Database and Query"
   ],
   "metadata": {
    "collapsed": false
   },
   "id": "6fb85ea4eb5faddf"
  },
  {
   "cell_type": "code",
   "id": "initial_id",
   "metadata": {
    "collapsed": true,
    "ExecuteTime": {
     "end_time": "2024-05-10T07:41:45.044961Z",
     "start_time": "2024-05-10T07:41:43.194768Z"
    }
   },
   "source": [
    "path = Path.home() / 'Downloads/item_match'\n",
    "path_db = path / 'fa fss - Nguyen Truong Son.csv'\n",
    "\n",
    "col = ['item_id', 'item_name']\n",
    "df_db = (\n",
    "    pl.read_csv(path_db)\n",
    "    .sort('item_id')\n",
    "    .select(pl.col(c).name.prefix('db_') for c in col)\n",
    "    # .head(10_000)\n",
    ")\n",
    "\n",
    "df_q = (\n",
    "    pl.read_csv(path_db)\n",
    "    .sort('item_id')\n",
    "    .select(pl.col(c).name.prefix('q_') for c in col)\n",
    "    # .head(10_000)\n",
    ")\n",
    "df_db.head()"
   ],
   "outputs": [
    {
     "data": {
      "text/plain": [
       "shape: (5, 2)\n",
       "┌────────────┬───────────────────────────────────┐\n",
       "│ db_item_id ┆ db_item_name                      │\n",
       "│ ---        ┆ ---                               │\n",
       "│ i64        ┆ str                               │\n",
       "╞════════════╪═══════════════════════════════════╡\n",
       "│ 151886     ┆ Sơ mi công sở rvca                │\n",
       "│ 152626     ┆ Mã: TK187 - Khuyên tai cỏ 4 lá    │\n",
       "│ 153221     ┆ Áo thun in gấu LittleMon          │\n",
       "│ 153223     ┆ Bộ áo thun Gấu panda quần vải ca… │\n",
       "│ 153225     ┆ Bộ Team kèm nón kết lưới          │\n",
       "└────────────┴───────────────────────────────────┘"
      ],
      "text/html": [
       "<div><style>\n",
       ".dataframe > thead > tr,\n",
       ".dataframe > tbody > tr {\n",
       "  text-align: right;\n",
       "  white-space: pre-wrap;\n",
       "}\n",
       "</style>\n",
       "<small>shape: (5, 2)</small><table border=\"1\" class=\"dataframe\"><thead><tr><th>db_item_id</th><th>db_item_name</th></tr><tr><td>i64</td><td>str</td></tr></thead><tbody><tr><td>151886</td><td>&quot;Sơ mi công sở …</td></tr><tr><td>152626</td><td>&quot;Mã: TK187 - Kh…</td></tr><tr><td>153221</td><td>&quot;Áo thun in gấu…</td></tr><tr><td>153223</td><td>&quot;Bộ áo thun Gấu…</td></tr><tr><td>153225</td><td>&quot;Bộ Team kèm nó…</td></tr></tbody></table></div>"
      ]
     },
     "execution_count": 2,
     "metadata": {},
     "output_type": "execute_result"
    }
   ],
   "execution_count": 2
  },
  {
   "cell_type": "markdown",
   "source": [
    "## 2) Embeddings\n",
    "\n",
    "Use datasets and tfidf to transform texts to vectors"
   ],
   "metadata": {
    "collapsed": false
   },
   "id": "539fe7f71bc59b80"
  },
  {
   "cell_type": "code",
   "source": [
    "from FlagEmbedding import BGEM3FlagModel\n",
    "\n",
    "model = BGEM3FlagModel('BAAI/bge-m3', use_fp16=True)"
   ],
   "metadata": {
    "collapsed": false,
    "jupyter": {
     "is_executing": true
    },
    "ExecuteTime": {
     "start_time": "2024-05-10T07:41:45.045838Z"
    }
   },
   "id": "b5c0b4be44c2e92e",
   "outputs": [],
   "execution_count": null
  },
  {
   "metadata": {
    "jupyter": {
     "is_executing": true
    }
   },
   "cell_type": "code",
   "source": "df_db.shape",
   "id": "b12eef371d8f22c2",
   "outputs": [],
   "execution_count": null
  },
  {
   "metadata": {
    "jupyter": {
     "is_executing": true
    }
   },
   "cell_type": "code",
   "source": [
    "import torch\n",
    "from torch.nn import functional as F\n",
    "\n",
    "embeddings = model.encode(\n",
    "    df_db['db_item_name'].unique().to_list(),\n",
    "    batch_size=512,\n",
    "    max_length=80,\n",
    "    return_dense=True,\n",
    "    return_sparse=False,\n",
    "    return_colbert_vecs=False\n",
    ")['dense_vecs']\n",
    "embeddings = F.normalize(torch.tensor(embeddings), p=2, dim=1).cpu().numpy()"
   ],
   "id": "221b61297efcc3e0",
   "outputs": [],
   "execution_count": null
  },
  {
   "cell_type": "code",
   "source": [
    "# dataset = Dataset.from_pandas(df_db.to_pandas())\n",
    "# fn_kwargs = {'col': 'db_item_name', 'model': text_model}\n",
    "# dataset = dataset.map(Model().pp_dense, batched=True, batch_size=512, fn_kwargs=fn_kwargs)\n",
    "# dataset.set_format(type='numpy', columns=['dense_embed'], output_all_columns=True)\n",
    "\n",
    "# save to disk\n",
    "# path_tmp_array = Path('tmp/array')\n",
    "# path_tmp_ds = Path('tmp/ds')\n",
    "# make_dir(path_tmp_ds)\n",
    "# make_dir(path_tmp_array)\n",
    "# np.save(path_tmp_array / 'array.npy', dataset['dense_embed'])\n",
    "# dataset.save_to_disk(path_tmp_ds / 'ds')"
   ],
   "metadata": {
    "collapsed": false,
    "jupyter": {
     "is_executing": true
    }
   },
   "id": "b95e12aa6944cd3e",
   "execution_count": null,
   "outputs": []
  },
  {
   "cell_type": "markdown",
   "source": [
    "## 3) Indexing\n",
    "\n",
    "Build index to search items"
   ],
   "metadata": {
    "collapsed": false
   },
   "id": "2f5934d701125e88"
  },
  {
   "cell_type": "code",
   "source": [
    "# path_index = Path('tmp/index')\n",
    "# build_index(\n",
    "#     str(path_tmp_array),\n",
    "#     index_path=str(path_index / f'ip.index'),\n",
    "#     index_infos_path=str(path_index / f'index.json'),\n",
    "#     save_on_disk=True,\n",
    "#     metric_type='ip',\n",
    "#     verbose=30,\n",
    "# )"
   ],
   "metadata": {
    "collapsed": false,
    "jupyter": {
     "is_executing": true
    }
   },
   "id": "96cc5afcf31a1e6a",
   "execution_count": null,
   "outputs": []
  },
  {
   "cell_type": "markdown",
   "source": [
    "Load index into datasets"
   ],
   "metadata": {
    "collapsed": false
   },
   "id": "61b78720de597863"
  },
  {
   "cell_type": "code",
   "source": [
    "# dataset_db = concatenate_datasets([\n",
    "#     load_from_disk(str(f)) for f in sorted(path_tmp_ds.glob('*'))\n",
    "# ])\n",
    "# \n",
    "# # add index\n",
    "# dataset_db.load_faiss_index('dense_embed', path_index / f'ip.index')"
   ],
   "metadata": {
    "collapsed": false,
    "jupyter": {
     "is_executing": true
    }
   },
   "id": "6efdce62f49c27b9",
   "execution_count": null,
   "outputs": []
  },
  {
   "cell_type": "markdown",
   "source": [
    "## 4) Retrieve"
   ],
   "metadata": {
    "collapsed": false
   },
   "id": "1790f349c3dd80ea"
  },
  {
   "cell_type": "markdown",
   "source": [
    "Batch search top-k from datasets"
   ],
   "metadata": {
    "collapsed": false
   },
   "id": "8b9699dadfcbd348"
  },
  {
   "cell_type": "code",
   "source": [
    "# score, result = dataset_db.get_nearest_examples_batch(\n",
    "#     'dense_embed',\n",
    "#     np.asarray(dataset_db['dense_embed']),\n",
    "#     k=5\n",
    "# )\n",
    "# \n",
    "# dict_ = {'score': [list(i) for i in score]}\n",
    "# df_score = pl.DataFrame(dict_)\n",
    "# df_result = pl.DataFrame(result).drop(['dense_embed'])"
   ],
   "metadata": {
    "collapsed": false,
    "jupyter": {
     "is_executing": true
    }
   },
   "id": "3bcba75a987dd8c2",
   "execution_count": null,
   "outputs": []
  },
  {
   "cell_type": "markdown",
   "source": [
    "## 5) Post process"
   ],
   "metadata": {
    "collapsed": false
   },
   "id": "b879e463bb688c29"
  },
  {
   "cell_type": "code",
   "source": [
    "# df_match = pl.concat([df_q, df_result, df_score], how='horizontal')\n",
    "# col_explode = [i for i in df_match.columns if 'db' in i] + ['score']\n",
    "# df_match = df_match.explode(col_explode)"
   ],
   "metadata": {
    "collapsed": false,
    "jupyter": {
     "is_executing": true
    }
   },
   "id": "ae3b4d1db34781b3",
   "execution_count": null,
   "outputs": []
  },
  {
   "cell_type": "code",
   "source": "# df_match",
   "metadata": {
    "collapsed": false,
    "jupyter": {
     "is_executing": true
    }
   },
   "id": "c77a28d769f090a8",
   "execution_count": null,
   "outputs": []
  },
  {
   "cell_type": "code",
   "source": [],
   "metadata": {
    "collapsed": false,
    "jupyter": {
     "is_executing": true
    }
   },
   "id": "2dacba735258ef3d",
   "execution_count": null,
   "outputs": []
  }
 ],
 "metadata": {
  "kernelspec": {
   "display_name": "Python 3",
   "language": "python",
   "name": "python3"
  },
  "language_info": {
   "codemirror_mode": {
    "name": "ipython",
    "version": 2
   },
   "file_extension": ".py",
   "mimetype": "text/x-python",
   "name": "python",
   "nbconvert_exporter": "python",
   "pygments_lexer": "ipython2",
   "version": "2.7.6"
  }
 },
 "nbformat": 4,
 "nbformat_minor": 5
}
