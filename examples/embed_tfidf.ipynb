{
 "cells": [
  {
   "cell_type": "code",
   "outputs": [],
   "source": [
    "from pathlib import Path\n",
    "import polars as pl\n",
    "from datasets import Dataset, concatenate_datasets, load_from_disk\n",
    "import numpy as np\n",
    "from autofaiss import build_index\n",
    "from src.item_matching.build_index.func import tfidf\n",
    "from src.item_matching.build_index.model import Model"
   ],
   "metadata": {
    "collapsed": false,
    "ExecuteTime": {
     "end_time": "2024-03-06T03:58:05.375226Z",
     "start_time": "2024-03-06T03:58:03.871710Z"
    }
   },
   "id": "28f6df8c7caed3f9",
   "execution_count": 1
  },
  {
   "cell_type": "markdown",
   "source": [
    "## 1) Data \n",
    "\n",
    "Prepare 2 datasets: Database and Query"
   ],
   "metadata": {
    "collapsed": false
   },
   "id": "6fb85ea4eb5faddf"
  },
  {
   "cell_type": "code",
   "execution_count": 2,
   "id": "initial_id",
   "metadata": {
    "collapsed": true,
    "ExecuteTime": {
     "end_time": "2024-03-06T03:58:05.808804Z",
     "start_time": "2024-03-06T03:58:05.376197Z"
    }
   },
   "outputs": [
    {
     "data": {
      "text/plain": "shape: (5, 2)\n┌────────────┬───────────────────────────────────┐\n│ db_item_id ┆ db_item_name                      │\n│ ---        ┆ ---                               │\n│ i64        ┆ str                               │\n╞════════════╪═══════════════════════════════════╡\n│ 137996     ┆ Sữa rửa mặt táo Innisfree         │\n│ 168273     ┆ BB CREAM GARNIER CHO DA DẦU VÀ H… │\n│ 168274     ┆ BB Cream Garnier Miracle skin pe… │\n│ 168278     ┆ BỘ KEM DƯỠNG DA NIVEA CHỐNG LÃO … │\n│ 168279     ┆ NIVEA VITAL SOJA                  │\n└────────────┴───────────────────────────────────┘",
      "text/html": "<div><style>\n.dataframe > thead > tr,\n.dataframe > tbody > tr {\n  text-align: right;\n  white-space: pre-wrap;\n}\n</style>\n<small>shape: (5, 2)</small><table border=\"1\" class=\"dataframe\"><thead><tr><th>db_item_id</th><th>db_item_name</th></tr><tr><td>i64</td><td>str</td></tr></thead><tbody><tr><td>137996</td><td>&quot;Sữa rửa mặt tá…</td></tr><tr><td>168273</td><td>&quot;BB CREAM GARNI…</td></tr><tr><td>168274</td><td>&quot;BB Cream Garni…</td></tr><tr><td>168278</td><td>&quot;BỘ KEM DƯỠNG D…</td></tr><tr><td>168279</td><td>&quot;NIVEA VITAL SO…</td></tr></tbody></table></div>"
     },
     "execution_count": 2,
     "metadata": {},
     "output_type": "execute_result"
    }
   ],
   "source": [
    "path = Path('/home/kevin/Downloads/yang')\n",
    "path_db = '/home/kevin/Downloads/yang/fss (query)/fss_itemid_Beauty.csv'\n",
    "\n",
    "col = ['item_id', 'item_name']\n",
    "df_db = (\n",
    "    pl.read_csv(path_db)\n",
    "    .sort('item_id')\n",
    "    .select(pl.col(c).name.prefix('db_') for c in col)\n",
    "    .head(10_000)\n",
    ")\n",
    "\n",
    "df_q = (\n",
    "    pl.read_csv(path_db)\n",
    "    .sort('item_id')\n",
    "    .select(pl.col(c).name.prefix('q_') for c in col)\n",
    "    .head(10_000)\n",
    ")\n",
    "df_db.head()"
   ]
  },
  {
   "cell_type": "markdown",
   "source": [
    "Can skip this step if not using tfidf"
   ],
   "metadata": {
    "collapsed": false
   },
   "id": "92ecdfa01eb525df"
  },
  {
   "cell_type": "code",
   "outputs": [
    {
     "data": {
      "text/plain": "['Serum Trẻ Hoá Da Dành Cho Da Dầu - Face Rejuvenation Serum For Oily Skin 15ml',\n 'Kẹp mi Shu uemura',\n 'Phấn Tạo Khối Wet N Wild Megaglo Contouring']"
     },
     "execution_count": 3,
     "metadata": {},
     "output_type": "execute_result"
    }
   ],
   "source": [
    "items = df_db['db_item_name'].unique().to_list()\n",
    "items[:3]"
   ],
   "metadata": {
    "collapsed": false,
    "ExecuteTime": {
     "end_time": "2024-03-06T03:58:05.813819Z",
     "start_time": "2024-03-06T03:58:05.809472Z"
    }
   },
   "id": "186d8d5d3cdea261",
   "execution_count": 3
  },
  {
   "cell_type": "markdown",
   "source": [
    "## 2) Embeddings\n",
    "\n",
    "Use datasets and tfidf to transform texts to vectors"
   ],
   "metadata": {
    "collapsed": false
   },
   "id": "539fe7f71bc59b80"
  },
  {
   "cell_type": "code",
   "outputs": [],
   "source": [
    "vectorizer = tfidf(items, dim=512)"
   ],
   "metadata": {
    "collapsed": false,
    "ExecuteTime": {
     "end_time": "2024-03-06T03:58:06.187325Z",
     "start_time": "2024-03-06T03:58:05.814613Z"
    }
   },
   "id": "b5c0b4be44c2e92e",
   "execution_count": 4
  },
  {
   "cell_type": "code",
   "outputs": [
    {
     "name": "stdout",
     "output_type": "stream",
     "text": [
      "\u001B[32m10:58:06\u001B[0m | \u001B[1mINFO\u001B[0m | \u001B[36m__init__\u001B[0m | \u001B[1m[Model] Run on: cuda\u001B[0m\n"
     ]
    },
    {
     "data": {
      "text/plain": "Map:   0%|          | 0/10000 [00:00<?, ? examples/s]",
      "application/vnd.jupyter.widget-view+json": {
       "version_major": 2,
       "version_minor": 0,
       "model_id": "d3241924b8c44ceea596a68aac2b097e"
      }
     },
     "metadata": {},
     "output_type": "display_data"
    },
    {
     "data": {
      "text/plain": "Saving the dataset (0/1 shards):   0%|          | 0/10000 [00:00<?, ? examples/s]",
      "application/vnd.jupyter.widget-view+json": {
       "version_major": 2,
       "version_minor": 0,
       "model_id": "a87536babb6643a9aae7c01831cad887"
      }
     },
     "metadata": {},
     "output_type": "display_data"
    }
   ],
   "source": [
    "dataset = Dataset.from_pandas(df_db.to_pandas())\n",
    "fn_kwargs = {'col': 'db_item_name', 'vectorizer': vectorizer}\n",
    "dataset = dataset.map(Model().pp_sparse_tfidf, batched=True, batch_size=512, fn_kwargs=fn_kwargs)\n",
    "dataset.set_format(type='numpy', columns=['embeddings'], output_all_columns=True)\n",
    "\n",
    "# save to disk\n",
    "path_tmp_array = Path('tmp/array')\n",
    "path_tmp_ds = Path('tmp/ds')\n",
    "np.save(path_tmp_array / 'array.npy', dataset['embeddings'])\n",
    "dataset.save_to_disk(path_tmp_ds / 'ds')"
   ],
   "metadata": {
    "collapsed": false,
    "ExecuteTime": {
     "end_time": "2024-03-06T03:58:06.504738Z",
     "start_time": "2024-03-06T03:58:06.188008Z"
    }
   },
   "id": "b95e12aa6944cd3e",
   "execution_count": 5
  },
  {
   "cell_type": "markdown",
   "source": [
    "## 3) Indexing\n",
    "\n",
    "Build index to search items"
   ],
   "metadata": {
    "collapsed": false
   },
   "id": "2f5934d701125e88"
  },
  {
   "cell_type": "code",
   "outputs": [
    {
     "name": "stderr",
     "output_type": "stream",
     "text": [
      "100%|██████████| 1/1 [00:00<00:00, 29746.84it/s]\n",
      "100%|██████████| 1/1 [00:00<00:00,  3.94it/s]\n",
      "  0%|          | 0/1 [00:00<?, ?it/s]\n"
     ]
    },
    {
     "data": {
      "text/plain": "(<faiss.swigfaiss_avx2.IndexHNSWFlat; proxy of <Swig Object of type 'faiss::IndexHNSWFlat *' at 0x7f9165549590> >,\n {'index_key': 'HNSW32',\n  'index_param': 'efSearch=137',\n  'index_path': 'tmp/index/ip.index',\n  'size in bytes': 23197858,\n  'avg_search_speed_ms': 0.38646493599344467,\n  '99p_search_speed_ms': 15.412297680441043,\n  'reconstruction error %': 0.0,\n  'nb vectors': 10000,\n  'vectors dimension': 512,\n  'compression ratio': 0.8828401311879743})"
     },
     "execution_count": 6,
     "metadata": {},
     "output_type": "execute_result"
    }
   ],
   "source": [
    "path_index = Path('tmp/index')\n",
    "build_index(\n",
    "    str(path_tmp_array),\n",
    "    index_path=str(path_index / f'ip.index'),\n",
    "    index_infos_path=str(path_index / f'index.json'),\n",
    "    save_on_disk=True,\n",
    "    metric_type='ip',\n",
    "    verbose=30,\n",
    ")"
   ],
   "metadata": {
    "collapsed": false,
    "ExecuteTime": {
     "end_time": "2024-03-06T03:58:12.845481Z",
     "start_time": "2024-03-06T03:58:06.505430Z"
    }
   },
   "id": "96cc5afcf31a1e6a",
   "execution_count": 6
  },
  {
   "cell_type": "markdown",
   "source": [
    "Load index into datasets"
   ],
   "metadata": {
    "collapsed": false
   },
   "id": "61b78720de597863"
  },
  {
   "cell_type": "code",
   "outputs": [],
   "source": [
    "dataset_db = concatenate_datasets([\n",
    "    load_from_disk(str(f)) for f in sorted(path_tmp_ds.glob('*'))\n",
    "])\n",
    "\n",
    "# add index\n",
    "dataset_db.load_faiss_index('embeddings', path_index / f'ip.index')"
   ],
   "metadata": {
    "collapsed": false,
    "ExecuteTime": {
     "end_time": "2024-03-06T03:58:12.864378Z",
     "start_time": "2024-03-06T03:58:12.848190Z"
    }
   },
   "id": "6efdce62f49c27b9",
   "execution_count": 7
  },
  {
   "cell_type": "markdown",
   "source": [
    "## 4) Retrieve"
   ],
   "metadata": {
    "collapsed": false
   },
   "id": "1790f349c3dd80ea"
  },
  {
   "cell_type": "markdown",
   "source": [
    "Batch search top-k from datasets"
   ],
   "metadata": {
    "collapsed": false
   },
   "id": "8b9699dadfcbd348"
  },
  {
   "cell_type": "code",
   "outputs": [],
   "source": [
    "score, result = dataset_db.get_nearest_examples_batch(\n",
    "    'embeddings',\n",
    "    np.asarray(dataset_db['embeddings']),\n",
    "    k=5\n",
    ")\n",
    "\n",
    "dict_ = {'score': [list(i) for i in score]}\n",
    "df_score = pl.DataFrame(dict_)\n",
    "df_result = pl.DataFrame(result).drop(['embeddings'])"
   ],
   "metadata": {
    "collapsed": false,
    "ExecuteTime": {
     "end_time": "2024-03-06T03:58:14.361509Z",
     "start_time": "2024-03-06T03:58:12.864972Z"
    }
   },
   "id": "3bcba75a987dd8c2",
   "execution_count": 8
  },
  {
   "cell_type": "markdown",
   "source": [
    "## 5) Post process"
   ],
   "metadata": {
    "collapsed": false
   },
   "id": "b879e463bb688c29"
  },
  {
   "cell_type": "code",
   "outputs": [],
   "source": [
    "df_match = pl.concat([df_q, df_result, df_score], how='horizontal')\n",
    "col_explode = [i for i in df_match.columns if 'db' in i] + ['score']\n",
    "df_match = df_match.explode(col_explode)"
   ],
   "metadata": {
    "collapsed": false,
    "ExecuteTime": {
     "end_time": "2024-03-06T03:58:14.364222Z",
     "start_time": "2024-03-06T03:58:14.362140Z"
    }
   },
   "id": "ae3b4d1db34781b3",
   "execution_count": 9
  },
  {
   "cell_type": "code",
   "outputs": [
    {
     "data": {
      "text/plain": "shape: (50_000, 5)\n┌───────────┬───────────────────────────┬────────────┬──────────────────────────────────┬──────────┐\n│ q_item_id ┆ q_item_name               ┆ db_item_id ┆ db_item_name                     ┆ score    │\n│ ---       ┆ ---                       ┆ ---        ┆ ---                              ┆ ---      │\n│ i64       ┆ str                       ┆ i64        ┆ str                              ┆ f32      │\n╞═══════════╪═══════════════════════════╪════════════╪══════════════════════════════════╪══════════╡\n│ 137996    ┆ Sữa rửa mặt táo Innisfree ┆ 137996     ┆ Sữa rửa mặt táo Innisfree        ┆ 1.0      │\n│ 137996    ┆ Sữa rửa mặt táo Innisfree ┆ 2990626    ┆ Sữa rửa mặt trà xanh innisfree   ┆ 0.873776 │\n│ 137996    ┆ Sữa rửa mặt táo Innisfree ┆ 59721325   ┆ Sữa rửa mặt trà xanh innisfree   ┆ 0.873776 │\n│ 137996    ┆ Sữa rửa mặt táo Innisfree ┆ 4398267    ┆ Sữa rửa mặt chiết xuất táo xanh  ┆ 0.858371 │\n│           ┆                           ┆            ┆ …                                ┆          │\n│ 137996    ┆ Sữa rửa mặt táo Innisfree ┆ 11125426   ┆ Sữa rửa mặt táo innistfree       ┆ 0.846729 │\n│ …         ┆ …                         ┆ …          ┆ …                                ┆ …        │\n│ 63665777  ┆ Xà bông dầu dừa - cà phê  ┆ 63665777   ┆ Xà bông dầu dừa - cà phê         ┆ 1.0      │\n│ 63665777  ┆ Xà bông dầu dừa - cà phê  ┆ 63659109   ┆ Xà bông dầu dừa - bột gạo        ┆ 0.919509 │\n│ 63665777  ┆ Xà bông dầu dừa - cà phê  ┆ 63662419   ┆ Xà bông dầu dừa - bia            ┆ 0.919509 │\n│ 63665777  ┆ Xà bông dầu dừa - cà phê  ┆ 63662980   ┆ Xà bông dầu dừa - sả             ┆ 0.919509 │\n│ 63665777  ┆ Xà bông dầu dừa - cà phê  ┆ 63665098   ┆ Xà bông dầu dừa - sữa            ┆ 0.919509 │\n└───────────┴───────────────────────────┴────────────┴──────────────────────────────────┴──────────┘",
      "text/html": "<div><style>\n.dataframe > thead > tr,\n.dataframe > tbody > tr {\n  text-align: right;\n  white-space: pre-wrap;\n}\n</style>\n<small>shape: (50_000, 5)</small><table border=\"1\" class=\"dataframe\"><thead><tr><th>q_item_id</th><th>q_item_name</th><th>db_item_id</th><th>db_item_name</th><th>score</th></tr><tr><td>i64</td><td>str</td><td>i64</td><td>str</td><td>f32</td></tr></thead><tbody><tr><td>137996</td><td>&quot;Sữa rửa mặt tá…</td><td>137996</td><td>&quot;Sữa rửa mặt tá…</td><td>1.0</td></tr><tr><td>137996</td><td>&quot;Sữa rửa mặt tá…</td><td>2990626</td><td>&quot;Sữa rửa mặt tr…</td><td>0.873776</td></tr><tr><td>137996</td><td>&quot;Sữa rửa mặt tá…</td><td>59721325</td><td>&quot;Sữa rửa mặt tr…</td><td>0.873776</td></tr><tr><td>137996</td><td>&quot;Sữa rửa mặt tá…</td><td>4398267</td><td>&quot;Sữa rửa mặt ch…</td><td>0.858371</td></tr><tr><td>137996</td><td>&quot;Sữa rửa mặt tá…</td><td>11125426</td><td>&quot;Sữa rửa mặt tá…</td><td>0.846729</td></tr><tr><td>&hellip;</td><td>&hellip;</td><td>&hellip;</td><td>&hellip;</td><td>&hellip;</td></tr><tr><td>63665777</td><td>&quot;Xà bông dầu dừ…</td><td>63665777</td><td>&quot;Xà bông dầu dừ…</td><td>1.0</td></tr><tr><td>63665777</td><td>&quot;Xà bông dầu dừ…</td><td>63659109</td><td>&quot;Xà bông dầu dừ…</td><td>0.919509</td></tr><tr><td>63665777</td><td>&quot;Xà bông dầu dừ…</td><td>63662419</td><td>&quot;Xà bông dầu dừ…</td><td>0.919509</td></tr><tr><td>63665777</td><td>&quot;Xà bông dầu dừ…</td><td>63662980</td><td>&quot;Xà bông dầu dừ…</td><td>0.919509</td></tr><tr><td>63665777</td><td>&quot;Xà bông dầu dừ…</td><td>63665098</td><td>&quot;Xà bông dầu dừ…</td><td>0.919509</td></tr></tbody></table></div>"
     },
     "execution_count": 10,
     "metadata": {},
     "output_type": "execute_result"
    }
   ],
   "source": [
    "df_match"
   ],
   "metadata": {
    "collapsed": false,
    "ExecuteTime": {
     "end_time": "2024-03-06T03:58:14.373025Z",
     "start_time": "2024-03-06T03:58:14.365497Z"
    }
   },
   "id": "c77a28d769f090a8",
   "execution_count": 10
  },
  {
   "cell_type": "code",
   "outputs": [],
   "source": [],
   "metadata": {
    "collapsed": false,
    "ExecuteTime": {
     "end_time": "2024-03-06T03:58:14.374648Z",
     "start_time": "2024-03-06T03:58:14.373449Z"
    }
   },
   "id": "2dacba735258ef3d",
   "execution_count": 10
  }
 ],
 "metadata": {
  "kernelspec": {
   "display_name": "Python 3",
   "language": "python",
   "name": "python3"
  },
  "language_info": {
   "codemirror_mode": {
    "name": "ipython",
    "version": 2
   },
   "file_extension": ".py",
   "mimetype": "text/x-python",
   "name": "python",
   "nbconvert_exporter": "python",
   "pygments_lexer": "ipython2",
   "version": "2.7.6"
  }
 },
 "nbformat": 4,
 "nbformat_minor": 5
}
