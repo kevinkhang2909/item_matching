{
 "cells": [
  {
   "cell_type": "code",
   "source": [
    "from pathlib import Path\n",
    "import polars as pl\n",
    "from datasets import Dataset, concatenate_datasets, load_from_disk\n",
    "import numpy as np\n",
    "from autofaiss import build_index\n",
    "from src.item_matching.build_index.func import tfidf\n",
    "from src.item_matching.build_index.model import Model"
   ],
   "metadata": {
    "collapsed": false,
    "ExecuteTime": {
     "end_time": "2024-03-06T03:58:05.375226Z",
     "start_time": "2024-03-06T03:58:03.871710Z"
    }
   },
   "id": "28f6df8c7caed3f9",
   "execution_count": 1,
   "outputs": []
  },
  {
   "cell_type": "markdown",
   "source": [
    "## 1) Data \n",
    "\n",
    "Prepare 2 datasets: Database and Query"
   ],
   "metadata": {
    "collapsed": false
   },
   "id": "6fb85ea4eb5faddf"
  },
  {
   "cell_type": "code",
   "execution_count": 2,
   "id": "initial_id",
   "metadata": {
    "collapsed": true,
    "ExecuteTime": {
     "end_time": "2024-03-06T03:58:05.808804Z",
     "start_time": "2024-03-06T03:58:05.376197Z"
    }
   },
   "source": [
    "path = Path('/home/kevin/Downloads/yang')\n",
    "path_db = '/home/kevin/Downloads/yang/fss (query)/fss_itemid_Beauty.csv'\n",
    "\n",
    "col = ['item_id', 'item_name']\n",
    "df_db = (\n",
    "    pl.read_csv(path_db)\n",
    "    .sort('item_id')\n",
    "    .select(pl.col(c).name.prefix('db_') for c in col)\n",
    "    .head(10_000)\n",
    ")\n",
    "\n",
    "df_q = (\n",
    "    pl.read_csv(path_db)\n",
    "    .sort('item_id')\n",
    "    .select(pl.col(c).name.prefix('q_') for c in col)\n",
    "    .head(10_000)\n",
    ")\n",
    "df_db.head()"
   ],
   "outputs": []
  },
  {
   "cell_type": "markdown",
   "source": [
    "Can skip this step if not using tfidf"
   ],
   "metadata": {
    "collapsed": false
   },
   "id": "92ecdfa01eb525df"
  },
  {
   "cell_type": "code",
   "source": [
    "items = df_db['db_item_name'].unique().to_list()\n",
    "items[:3]"
   ],
   "metadata": {
    "collapsed": false,
    "ExecuteTime": {
     "end_time": "2024-03-06T03:58:05.813819Z",
     "start_time": "2024-03-06T03:58:05.809472Z"
    }
   },
   "id": "186d8d5d3cdea261",
   "execution_count": 3,
   "outputs": []
  },
  {
   "cell_type": "markdown",
   "source": [
    "## 2) Embeddings\n",
    "\n",
    "Use datasets and tfidf to transform texts to vectors"
   ],
   "metadata": {
    "collapsed": false
   },
   "id": "539fe7f71bc59b80"
  },
  {
   "cell_type": "code",
   "source": [
    "vectorizer = tfidf(items, dim=512)"
   ],
   "metadata": {
    "collapsed": false,
    "ExecuteTime": {
     "end_time": "2024-03-06T03:58:06.187325Z",
     "start_time": "2024-03-06T03:58:05.814613Z"
    }
   },
   "id": "b5c0b4be44c2e92e",
   "execution_count": 4,
   "outputs": []
  },
  {
   "cell_type": "code",
   "source": [
    "dataset = Dataset.from_pandas(df_db.to_pandas())\n",
    "fn_kwargs = {'col': 'db_item_name', 'vectorizer': vectorizer}\n",
    "dataset = dataset.map(Model().pp_sparse_tfidf, batched=True, batch_size=512, fn_kwargs=fn_kwargs)\n",
    "dataset.set_format(type='numpy', columns=['embeddings'], output_all_columns=True)\n",
    "\n",
    "# save to disk\n",
    "path_tmp_array = Path('tmp/array')\n",
    "path_tmp_ds = Path('tmp/ds')\n",
    "np.save(path_tmp_array / 'array.npy', dataset['embeddings'])\n",
    "dataset.save_to_disk(path_tmp_ds / 'ds')"
   ],
   "metadata": {
    "collapsed": false,
    "ExecuteTime": {
     "end_time": "2024-03-06T03:58:06.504738Z",
     "start_time": "2024-03-06T03:58:06.188008Z"
    }
   },
   "id": "b95e12aa6944cd3e",
   "execution_count": 5,
   "outputs": []
  },
  {
   "cell_type": "markdown",
   "source": [
    "## 3) Indexing\n",
    "\n",
    "Build index to search items"
   ],
   "metadata": {
    "collapsed": false
   },
   "id": "2f5934d701125e88"
  },
  {
   "cell_type": "code",
   "source": [
    "path_index = Path('tmp/index')\n",
    "build_index(\n",
    "    str(path_tmp_array),\n",
    "    index_path=str(path_index / f'ip.index'),\n",
    "    index_infos_path=str(path_index / f'index.json'),\n",
    "    save_on_disk=True,\n",
    "    metric_type='ip',\n",
    "    verbose=30,\n",
    ")"
   ],
   "metadata": {
    "collapsed": false,
    "ExecuteTime": {
     "end_time": "2024-03-06T03:58:12.845481Z",
     "start_time": "2024-03-06T03:58:06.505430Z"
    }
   },
   "id": "96cc5afcf31a1e6a",
   "execution_count": 6,
   "outputs": []
  },
  {
   "cell_type": "markdown",
   "source": [
    "Load index into datasets"
   ],
   "metadata": {
    "collapsed": false
   },
   "id": "61b78720de597863"
  },
  {
   "cell_type": "code",
   "source": [
    "dataset_db = concatenate_datasets([\n",
    "    load_from_disk(str(f)) for f in sorted(path_tmp_ds.glob('*'))\n",
    "])\n",
    "\n",
    "# add index\n",
    "dataset_db.load_faiss_index('embeddings', path_index / f'ip.index')"
   ],
   "metadata": {
    "collapsed": false,
    "ExecuteTime": {
     "end_time": "2024-03-06T03:58:12.864378Z",
     "start_time": "2024-03-06T03:58:12.848190Z"
    }
   },
   "id": "6efdce62f49c27b9",
   "execution_count": 7,
   "outputs": []
  },
  {
   "cell_type": "markdown",
   "source": [
    "## 4) Retrieve"
   ],
   "metadata": {
    "collapsed": false
   },
   "id": "1790f349c3dd80ea"
  },
  {
   "cell_type": "markdown",
   "source": [
    "Batch search top-k from datasets"
   ],
   "metadata": {
    "collapsed": false
   },
   "id": "8b9699dadfcbd348"
  },
  {
   "cell_type": "code",
   "source": [
    "score, result = dataset_db.get_nearest_examples_batch(\n",
    "    'embeddings',\n",
    "    np.asarray(dataset_db['embeddings']),\n",
    "    k=5\n",
    ")\n",
    "\n",
    "dict_ = {'score': [list(i) for i in score]}\n",
    "df_score = pl.DataFrame(dict_)\n",
    "df_result = pl.DataFrame(result).drop(['embeddings'])"
   ],
   "metadata": {
    "collapsed": false,
    "ExecuteTime": {
     "end_time": "2024-03-06T03:58:14.361509Z",
     "start_time": "2024-03-06T03:58:12.864972Z"
    }
   },
   "id": "3bcba75a987dd8c2",
   "execution_count": 8,
   "outputs": []
  },
  {
   "cell_type": "markdown",
   "source": [
    "## 5) Post process"
   ],
   "metadata": {
    "collapsed": false
   },
   "id": "b879e463bb688c29"
  },
  {
   "cell_type": "code",
   "source": [
    "df_match = pl.concat([df_q, df_result, df_score], how='horizontal')\n",
    "col_explode = [i for i in df_match.columns if 'db' in i] + ['score']\n",
    "df_match = df_match.explode(col_explode)"
   ],
   "metadata": {
    "collapsed": false,
    "ExecuteTime": {
     "end_time": "2024-03-06T03:58:14.364222Z",
     "start_time": "2024-03-06T03:58:14.362140Z"
    }
   },
   "id": "ae3b4d1db34781b3",
   "execution_count": 9,
   "outputs": []
  },
  {
   "cell_type": "code",
   "source": [
    "df_match"
   ],
   "metadata": {
    "collapsed": false,
    "ExecuteTime": {
     "end_time": "2024-03-06T03:58:14.373025Z",
     "start_time": "2024-03-06T03:58:14.365497Z"
    }
   },
   "id": "c77a28d769f090a8",
   "execution_count": 10,
   "outputs": []
  },
  {
   "cell_type": "code",
   "source": [],
   "metadata": {
    "collapsed": false,
    "ExecuteTime": {
     "end_time": "2024-03-06T03:58:14.374648Z",
     "start_time": "2024-03-06T03:58:14.373449Z"
    }
   },
   "id": "2dacba735258ef3d",
   "execution_count": 10,
   "outputs": []
  }
 ],
 "metadata": {
  "kernelspec": {
   "display_name": "Python 3",
   "language": "python",
   "name": "python3"
  },
  "language_info": {
   "codemirror_mode": {
    "name": "ipython",
    "version": 2
   },
   "file_extension": ".py",
   "mimetype": "text/x-python",
   "name": "python",
   "nbconvert_exporter": "python",
   "pygments_lexer": "ipython2",
   "version": "2.7.6"
  }
 },
 "nbformat": 4,
 "nbformat_minor": 5
}
