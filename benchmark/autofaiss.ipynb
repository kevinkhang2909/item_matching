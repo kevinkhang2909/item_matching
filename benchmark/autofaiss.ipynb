{
 "cells": [
  {
   "cell_type": "code",
   "execution_count": 1,
   "id": "initial_id",
   "metadata": {
    "jupyter": {
     "is_executing": true
    }
   },
   "outputs": [],
   "source": [
    "from datasets import Dataset\n",
    "from time import perf_counter\n",
    "from autofaiss import build_index\n",
    "from tqdm import tqdm\n",
    "import polars as pl\n",
    "import numpy as np\n",
    "from data_load import load, embed"
   ]
  },
  {
   "cell_type": "code",
   "execution_count": 2,
   "id": "6bcba965c08b9f7e",
   "metadata": {
    "jupyter": {
     "is_executing": true
    }
   },
   "outputs": [
    {
     "name": "stdout",
     "output_type": "stream",
     "text": [
      "Data Shape: (72110, 6)\n"
     ]
    },
    {
     "data": {
      "text/html": [
       "<div><style>\n",
       ".dataframe > thead > tr,\n",
       ".dataframe > tbody > tr {\n",
       "  text-align: right;\n",
       "  white-space: pre-wrap;\n",
       "}\n",
       "</style>\n",
       "<small>shape: (5, 6)</small><table border=\"1\" class=\"dataframe\"><thead><tr><th>id</th><th>q_item_id</th><th>q_level1_global_be_category</th><th>q_item_name</th><th>q_link_first_image</th><th>q_item_name_clean</th></tr><tr><td>u32</td><td>i64</td><td>str</td><td>str</td><td>str</td><td>str</td></tr></thead><tbody><tr><td>0</td><td>17185182528</td><td>&quot;Men Shoes&quot;</td><td>&quot;Giày Sandal Nam VENTO HYBIRD d…</td><td>&quot;https://cf.shopee.sg/file/3105…</td><td>&quot;giày sandal nam vento hybird d…</td></tr><tr><td>1</td><td>24128723386</td><td>&quot;Men Shoes&quot;</td><td>&quot;Sandal nhựa Thái Lan Red Apple…</td><td>&quot;https://cf.shopee.sg/file/vn-1…</td><td>&quot;sandal nhựa thái lan red apple…</td></tr><tr><td>2</td><td>11286133785</td><td>&quot;Men Shoes&quot;</td><td>&quot;Sticker jibbitz gắn dép sục Cr…</td><td>&quot;https://cf.shopee.sg/file/6c70…</td><td>&quot;sticker jibbitz gắn dép sục cr…</td></tr><tr><td>3</td><td>27000803082</td><td>&quot;Men Shoes&quot;</td><td>&quot;Túi 50 gói khăn ướt lau giày d…</td><td>&quot;https://cf.shopee.sg/file/vn-1…</td><td>&quot;túi 50 gói khăn ướt lau giày d…</td></tr><tr><td>4</td><td>24915597347</td><td>&quot;Men Shoes&quot;</td><td>&quot;SKECHERS - Giày sneakers nam c…</td><td>&quot;https://cf.shopee.sg/file/vn-1…</td><td>&quot;skechers - giày sneakers nam c…</td></tr></tbody></table></div>"
      ],
      "text/plain": [
       "shape: (5, 6)\n",
       "┌─────┬─────────────┬───────────────────┬───────────────────┬───────────────────┬──────────────────┐\n",
       "│ id  ┆ q_item_id   ┆ q_level1_global_b ┆ q_item_name       ┆ q_link_first_imag ┆ q_item_name_clea │\n",
       "│ --- ┆ ---         ┆ e_category        ┆ ---               ┆ e                 ┆ n                │\n",
       "│ u32 ┆ i64         ┆ ---               ┆ str               ┆ ---               ┆ ---              │\n",
       "│     ┆             ┆ str               ┆                   ┆ str               ┆ str              │\n",
       "╞═════╪═════════════╪═══════════════════╪═══════════════════╪═══════════════════╪══════════════════╡\n",
       "│ 0   ┆ 17185182528 ┆ Men Shoes         ┆ Giày Sandal Nam   ┆ https://cf.shopee ┆ giày sandal nam  │\n",
       "│     ┆             ┆                   ┆ VENTO HYBIRD d…   ┆ .sg/file/3105…    ┆ vento hybird d…  │\n",
       "│ 1   ┆ 24128723386 ┆ Men Shoes         ┆ Sandal nhựa Thái  ┆ https://cf.shopee ┆ sandal nhựa thái │\n",
       "│     ┆             ┆                   ┆ Lan Red Apple…    ┆ .sg/file/vn-1…    ┆ lan red apple…   │\n",
       "│ 2   ┆ 11286133785 ┆ Men Shoes         ┆ Sticker jibbitz   ┆ https://cf.shopee ┆ sticker jibbitz  │\n",
       "│     ┆             ┆                   ┆ gắn dép sục Cr…   ┆ .sg/file/6c70…    ┆ gắn dép sục cr…  │\n",
       "│ 3   ┆ 27000803082 ┆ Men Shoes         ┆ Túi 50 gói khăn   ┆ https://cf.shopee ┆ túi 50 gói khăn  │\n",
       "│     ┆             ┆                   ┆ ướt lau giày d…   ┆ .sg/file/vn-1…    ┆ ướt lau giày d…  │\n",
       "│ 4   ┆ 24915597347 ┆ Men Shoes         ┆ SKECHERS - Giày   ┆ https://cf.shopee ┆ skechers - giày  │\n",
       "│     ┆             ┆                   ┆ sneakers nam c…   ┆ .sg/file/vn-1…    ┆ sneakers nam c…  │\n",
       "└─────┴─────────────┴───────────────────┴───────────────────┴───────────────────┴──────────────────┘"
      ]
     },
     "execution_count": 2,
     "metadata": {},
     "output_type": "execute_result"
    }
   ],
   "source": [
    "df, col, path = load()\n",
    "df.head()"
   ]
  },
  {
   "cell_type": "code",
   "execution_count": 3,
   "id": "281bb77e71eb2e06",
   "metadata": {
    "jupyter": {
     "is_executing": true
    }
   },
   "outputs": [],
   "source": [
    "item = df['q_item_name_clean'].to_list()\n",
    "embeddings, file_embed, df = embed(df, path)"
   ]
  },
  {
   "cell_type": "code",
   "execution_count": 4,
   "id": "ed5812a36fe6f93d",
   "metadata": {},
   "outputs": [
    {
     "name": "stderr",
     "output_type": "stream",
     "text": [
      "100%|█████████████████████████████████████████████████████| 1/1 [00:00<00:00, 27962.03it/s]\n",
      "100%|████████████████████████████████████████████████████████| 3/3 [00:03<00:00,  1.08s/it]\n",
      "  0%|                                                                | 0/1 [00:00<?, ?it/s]\n"
     ]
    },
    {
     "name": "stdout",
     "output_type": "stream",
     "text": [
      "Total Index Time: 31s\n"
     ]
    }
   ],
   "source": [
    "start = perf_counter()\n",
    "\n",
    "file_index = str(path / 'ip.index')\n",
    "build_index(\n",
    "    str(file_embed.parent),\n",
    "    index_path=file_index,\n",
    "    index_infos_path=str(path / f'index.json'),\n",
    "    save_on_disk=True,\n",
    "    metric_type='ip',\n",
    "    verbose=30,\n",
    ")\n",
    "\n",
    "end = perf_counter() - start\n",
    "print(f'Total Index Time: {end:,.0f}s')"
   ]
  },
  {
   "cell_type": "code",
   "execution_count": 5,
   "id": "643a88cf440bcc80",
   "metadata": {},
   "outputs": [],
   "source": [
    "dataset = Dataset.from_polars(df)\n",
    "dataset.load_faiss_index('vector', file_index)"
   ]
  },
  {
   "cell_type": "code",
   "execution_count": 6,
   "id": "b1fa07b9-a596-44a0-88bf-6b5f9a7c403e",
   "metadata": {},
   "outputs": [
    {
     "name": "stdout",
     "output_type": "stream",
     "text": [
      "Total batches: 4, Batch size: 20,000\n"
     ]
    },
    {
     "name": "stderr",
     "output_type": "stream",
     "text": [
      "100%|████████████████████████████████████████████████████████| 4/4 [03:44<00:00, 56.21s/it]"
     ]
    },
    {
     "name": "stdout",
     "output_type": "stream",
     "text": [
      "Total Query Time: 225s\n"
     ]
    },
    {
     "name": "stderr",
     "output_type": "stream",
     "text": [
      "\n"
     ]
    }
   ],
   "source": [
    "start = perf_counter()\n",
    "\n",
    "total_sample = len(dataset)\n",
    "batch_size = 20_000\n",
    "num_batches = (total_sample + batch_size) // batch_size\n",
    "print(f'Total batches: {num_batches}, Batch size: {batch_size:,.0f}')\n",
    "for i, idx in tqdm(enumerate(range(num_batches), start=1), total=num_batches):\n",
    "    start_idx = idx * batch_size\n",
    "    end_idx = min(start_idx + batch_size, total_sample)\n",
    "    batch = embeddings[start_idx:end_idx]\n",
    "\n",
    "    score, result = dataset.get_nearest_examples_batch(\n",
    "        'vector',\n",
    "        batch,\n",
    "        k=10,\n",
    "    )\n",
    "    \n",
    "    df_result = pl.DataFrame(result)\n",
    "    dict_ = {f'score': [list(np.round(arr, 6)) for arr in score]}\n",
    "    df_score = pl.DataFrame(dict_)\n",
    "\n",
    "end = perf_counter() - start\n",
    "print(f'Total Query Time: {end:,.0f}s')"
   ]
  },
  {
   "cell_type": "code",
   "execution_count": 7,
   "id": "2f84adba56d5b91a",
   "metadata": {},
   "outputs": [
    {
     "data": {
      "text/html": [
       "<div><style>\n",
       ".dataframe > thead > tr,\n",
       ".dataframe > tbody > tr {\n",
       "  text-align: right;\n",
       "  white-space: pre-wrap;\n",
       "}\n",
       "</style>\n",
       "<small>shape: (12_110, 7)</small><table border=\"1\" class=\"dataframe\"><thead><tr><th>id</th><th>q_item_id</th><th>q_level1_global_be_category</th><th>q_item_name</th><th>q_link_first_image</th><th>q_item_name_clean</th><th>vector</th></tr><tr><td>list[i64]</td><td>list[i64]</td><td>list[str]</td><td>list[str]</td><td>list[str]</td><td>list[str]</td><td>list[list[f64]]</td></tr></thead><tbody><tr><td>[60000, 26822, … 44792]</td><td>[29956095623, 27051603542, … 29904291285]</td><td>[&quot;Men Shoes&quot;, &quot;Men Shoes&quot;, … &quot;Men Shoes&quot;]</td><td>[&quot;（Full Box）  Giày Thể Thao ấdidas^_^Originals Handball Spezial Dark Green 36-45&quot;, &quot;Dép Lê Hm - Dép Hm Sừng Trâu Gabriel Dép HM Bản Cao Cấp Hàng Supper 2024&quot;, … &quot;DÉP DA NAM QUAI NGANG DA NHÂN TẠO DẬP NHĂN ĐẾ EVA TOROSHOES SIÊU NHẸ MÃ TORO D22&quot;]</td><td>[&quot;https://cf.shopee.sg/file/sg-11134201-7rdxc-ly3e04hnwv3kea&quot;, &quot;https://cf.shopee.sg/file/vn-11134207-7r98o-lwk6frvf4lw94f&quot;, … &quot;https://cf.shopee.sg/file/vn-11134207-7r98o-lxngmn6504bd1d&quot;]</td><td>[&quot;（full box）  giày thể thao ấdidas^_^originals handball spezial dark green 36-45&quot;, &quot;dép lê hm - dép hm sừng trâu gabriel dép hm bản cao cấp hàng supper 2024&quot;, … &quot;dép da nam quai ngang da nhân tạo dập nhăn đế eva toroshoes siêu nhẹ mã toro d22&quot;]</td><td>[[0.019257, -0.001904, … 0.058044], [0.047272, -0.009453, … 0.03186], … [0.008972, -0.015282, … 0.063416]]</td></tr><tr><td>[60001, 41519, … 71940]</td><td>[29405929507, 27456095857, … 22044801222]</td><td>[&quot;Men Shoes&quot;, &quot;Men Shoes&quot;, … &quot;Men Shoes&quot;]</td><td>[&quot;Giày thể thao onitsuka tiger tokuken các màu hot nhất thị trường da lộn êm chân đủ size nam nữ&quot;, &quot;（Full Box）  Giày Thể Thao ấdidas^_^Originals Handball Spezial Blue White 36-45&quot;, … &quot;[FREE SHIP] Dép Nam Quai Ngang Đẹp, Dép ICON Chất Liệu Cao Su, Đế PU Chống Trơn Trượt Êm Chân Thoải Mái&quot;]</td><td>[&quot;https://cf.shopee.sg/file/vn-11134201-7r98o-ly0tez8binkpbf&quot;, &quot;https://cf.shopee.sg/file/sg-11134201-7rdx3-ly3e5nua6r5fb4&quot;, … &quot;https://cf.shopee.sg/file/vn-11134207-7qukw-lj8tjq2a1hjg0f&quot;]</td><td>[&quot;giày thể thao onitsuka tiger tokuken các màu hot nhất thị trường da lộn êm chân đủ size nam nữ&quot;, &quot;（full box）  giày thể thao ấdidas^_^originals handball spezial blue white 36-45&quot;, … &quot;dép nam quai ngang đẹp, dép icon chất liệu cao su, đế pu chống trơn trượt êm chân thoải mái&quot;]</td><td>[[0.003141, 0.020157, … -0.004375], [0.032532, 0.011391, … 0.000307], … [0.000973, 0.009018, … 0.004787]]</td></tr><tr><td>[60002, 39480, … 35341]</td><td>[24269366719, 1063630473, … 20019466082]</td><td>[&quot;Men Shoes&quot;, &quot;Men Shoes&quot;, … &quot;Men Shoes&quot;]</td><td>[&quot;GIÀY CHUNKY DERBY DA CỘT DÂY- CHUOTCONG 7716D&quot;, &quot;Giày sandal nhựa nam nữ&quot;, … &quot;(Bảo hành 1 năm) Giày Thể Thao Nam Nữ Tăng Chiều Cao Nờ Y ĐẾ Nâu Em Eo Bi   - Phiên Bản Cao Cấp&quot;]</td><td>[&quot;https://cf.shopee.sg/file/vn-11134207-7r98o-lsxr8h8ukzvd94&quot;, &quot;https://cf.shopee.sg/file/b880de9da61a47d10d44bb1d2402c3de&quot;, … &quot;https://cf.shopee.sg/file/5d90082237f7175aa45884bd462ea87e&quot;]</td><td>[&quot;giày chunky derby da cột dây- chuotcong 7716d&quot;, &quot;giày sandal nhựa nam nữ&quot;, … &quot;giày thể thao nam nữ tăng chiều cao nờ y đế nâu em eo bi   - phiên bản cao cấp&quot;]</td><td>[[-0.050354, 0.031235, … 0.017014], [-0.050262, 0.023941, … -0.017487], … [-0.034637, 0.03537, … -0.019882]]</td></tr><tr><td>[60003, 62649, … 3313]</td><td>[19389422644, 2974950900, … 24618850878]</td><td>[&quot;Men Shoes&quot;, &quot;Men Shoes&quot;, … &quot;Men Shoes&quot;]</td><td>[&quot;Dép cặp nam nữ&quot;, &quot;[XUẤT KHẨU_PHOM LỚN_SIÊU BỀN] Dép nhựa nam quai ngang chất lượng, êm chân SM004&quot;, … &quot;Dép nam GC xanh đỏ quai ngang cao su non-dép GC siêu phẩm 2024&quot;]</td><td>[&quot;https://cf.shopee.sg/file/vn-11134207-7qukw-lhk4lt7rixmp0c&quot;, &quot;https://cf.shopee.sg/file/vn-11134207-7r98o-lo548j8ps1yvf1&quot;, … &quot;https://cf.shopee.sg/file/vn-11134207-7r98o-ly208ovhntgb45&quot;]</td><td>[&quot;dép cặp nam nữ&quot;, &quot;dép nhựa nam quai ngang chất lượng, êm chân sm004&quot;, … &quot;dép nam gc xanh đỏ quai ngang cao su non-dép gc siêu phẩm 2024&quot;]</td><td>[[0.027557, -0.023743, … -0.029388], [0.027557, -0.023758, … -0.029526], … [0.032776, -0.023407, … -0.004501]]</td></tr><tr><td>[60004, 38525, … 48046]</td><td>[17438630484, 29053261141, … 24832663355]</td><td>[&quot;Men Shoes&quot;, &quot;Men Shoes&quot;, … &quot;Men Shoes&quot;]</td><td>[&quot;Giày Derby Nam công sở tăng chiều cao da bò thật CK022&quot;, &quot;Sneaker Nam - Giày thể thao nam thời trang chạy bộ thoáng khí nhiều màu sắc lựa chọn HKT457 Gnar Sneaker&quot;, … &quot;Fashion Giày thể thao Adidas Samba Classics OG White Halo Blue Tính cách&quot;]</td><td>[&quot;https://cf.shopee.sg/file/sg-11134201-22110-ue9jryc6l9jv65&quot;, &quot;https://cf.shopee.sg/file/sg-11134201-7rd3n-lwq0f6kz2vx5f0&quot;, … &quot;https://cf.shopee.sg/file/sg-11134201-7rd3o-lvcqdhy0432n83&quot;]</td><td>[&quot;giày derby nam công sở tăng chiều cao da bò thật ck022&quot;, &quot;sneaker nam - giày thể thao nam thời trang chạy bộ thoáng khí nhiều màu sắc lựa chọn hkt457 gnar sneaker&quot;, … &quot;fashion giày thể thao adidas samba classics og white halo blue tính cách&quot;]</td><td>[[0.015083, 0.035248, … 0.021683], [0.023926, 0.020172, … 0.025543], … [0.017929, 0.002922, … 0.007687]]</td></tr><tr><td>&hellip;</td><td>&hellip;</td><td>&hellip;</td><td>&hellip;</td><td>&hellip;</td><td>&hellip;</td><td>&hellip;</td></tr><tr><td>[72105, 9280, … 16033]</td><td>[29054403436, 18528118721, … 9911081872]</td><td>[&quot;Men Shoes&quot;, &quot;Men Shoes&quot;, … &quot;Men Shoes&quot;]</td><td>[&quot;[ Hàng Chính Hãng ] Giày*_Adidas Samba OG Rich and Sporty White Black   Nam Nữ&quot;, &quot;Giày bảo hộ lao động Jogger X1110 cổ thấp, da thật chống đinh, chống trượt Giày Jogger chính hãng&quot;, … &quot;GIÀY JOGGER BESTRUNG S3&quot;]</td><td>[&quot;https://cf.shopee.sg/file/sg-11134201-7rd42-lx9fvbvrm3u190&quot;, &quot;https://cf.shopee.sg/file/vn-11134207-7r98o-ln451vvrp908c2&quot;, … &quot;https://cf.shopee.sg/file/dd8621fd83dd05037c4bedf28f32e558&quot;]</td><td>[&quot;giày*_adidas samba og rich and sporty white black   nam nữ&quot;, &quot;giày bảo hộ lao động jogger x1110 cổ thấp, da thật chống đinh, chống trượt giày jogger chính hãng&quot;, … &quot;giày jogger bestrung s3&quot;]</td><td>[[-0.024719, 0.00281, … 0.000793], [-0.011459, -0.0084, … 0.00382], … [0.001041, 0.018204, … 0.030502]]</td></tr><tr><td>[72106, 53214, … 65629]</td><td>[24958620567, 28153087832, … 29850550638]</td><td>[&quot;Men Shoes&quot;, &quot;Men Shoes&quot;, … &quot;Men Shoes&quot;]</td><td>[&quot;Giày thể thao nam A-FLASHFOAM Anta 812315586&quot;, &quot;[Hàng Chính Hãng] Giày New Balance 530, NB 530 Sliver Navy Trắng Bạc Cho Nam và Nữ Hàng Chuẩn-Bao Check&quot;, … &quot;[ CHÍNH HÃNG ] Giày Adidas Samba OG ‘White Halo Blue’ ID2055&quot;]</td><td>[&quot;https://cf.shopee.sg/file/vn-11134207-7r98o-lqj48tm5meyf53&quot;, &quot;https://cf.shopee.sg/file/vn-11134207-7r98o-lx2r9yvgdn1735&quot;, … &quot;https://cf.shopee.sg/file/vn-11134207-7r98o-lvlfbqz9onbw33&quot;]</td><td>[&quot;giày thể thao nam a-flashfoam anta 812315586&quot;, &quot;giày new balance 530, nb 530 sliver navy trắng bạc cho nam và nữ hàng chuẩn-bao check&quot;, … &quot;giày adidas samba og ‘white halo blue’ id2055&quot;]</td><td>[[-0.029617, -0.009315, … 0.014107], [-0.035095, -0.000749, … 0.028015], … [-0.000746, -0.010368, … 0.012238]]</td></tr><tr><td>[72107, 22156, … 48693]</td><td>[18982394434, 29651674353, … 25964756388]</td><td>[&quot;Men Shoes&quot;, &quot;Men Shoes&quot;, … &quot;Men Shoes&quot;]</td><td>[&quot;Dép kẹp nam mẫu mới nền sọc quai cờ brazil siêu hot, dép đi biển dã ngoại&quot;, &quot;Giày Sneaker YSL Vải Đủ Size Nam Nữ, Full Box Bill A888&quot;, … &quot;Giày Thể Thao Sneaker_NI&#x27;KE_air_force 1,AF1 BEARBRICK,họa tiết đám mây full size nam nữ&quot;]</td><td>[&quot;https://cf.shopee.sg/file/vn-11134207-7qukw-ljrvgj8jvy82f9&quot;, &quot;https://cf.shopee.sg/file/sg-11134201-7rd69-lw317qcdf4ho69&quot;, … &quot;https://cf.shopee.sg/file/vn-11134201-7r98o-lsnk98nk2qebb8&quot;]</td><td>[&quot;dép kẹp nam mẫu mới nền sọc quai cờ brazil siêu hot, dép đi biển dã ngoại&quot;, &quot;giày sneaker ysl vải đủ size nam nữ, full box bill a888&quot;, … &quot;giày thể thao sneaker_ni&#x27;ke_air_force 1,af1 bearbrick,họa tiết đám mây full size nam nữ&quot;]</td><td>[[-0.039429, 0.015556, … 0.043304], [-0.03244, 0.017807, … 0.035645], … [-0.018951, 0.010735, … 0.05307]]</td></tr><tr><td>[72108, 70138, … 32485]</td><td>[27401384706, 24571667518, … 10357722729]</td><td>[&quot;Men Shoes&quot;, &quot;Men Shoes&quot;, … &quot;Men Shoes&quot;]</td><td>[&quot;[High Quality] Giày Thể Thao Nam Nữ NIK_E AirJordan1 Low GS Desery Berry&quot;, &quot;Giày Amiri nam, Phối xích, Sao, Hình Xương - Giày dây buộc, slipon mẫu mới, Hot 2023 trẻ trung năng động&quot;, … &quot;Dép Cross Unisex ❤️FREESHIP❤️ Dép sục nhựa cá độn đế đi mưa siêu nhẹ dép lỗ đi trong nhà cho cặp đôi nam nữ 7 màu&quot;]</td><td>[&quot;https://cf.shopee.sg/file/sg-11134201-7rd6y-lvx8eoopqk0h9d&quot;, &quot;https://cf.shopee.sg/file/vn-11134207-7r98o-ltx3cr09neh9c1&quot;, … &quot;https://cf.shopee.sg/file/8245d2e5ebe467c4509eb1f67ecfc6fe&quot;]</td><td>[&quot;giày thể thao nam nữ nik_e airjordan1 low gs desery berry&quot;, &quot;giày amiri nam, phối xích, sao, hình xương - giày dây buộc, slipon mẫu mới, hot 2023 trẻ trung năng động&quot;, … &quot;dép cross unisex ❤️freeship❤️ dép sục nhựa cá độn đế đi mưa siêu nhẹ dép lỗ đi trong nhà cho cặp đôi nam nữ 7 màu&quot;]</td><td>[[-0.076721, 0.003918, … 0.015945], [-0.079346, 0.007557, … 0.017227], … [-0.05545, 0.006409, … 0.004848]]</td></tr><tr><td>[72109, 3375, … 34800]</td><td>[16594644109, 21621485382, … 29650248264]</td><td>[&quot;Men Shoes&quot;, &quot;Men Shoes&quot;, … &quot;Men Shoes&quot;]</td><td>[&quot;Dép Đì ôr nam nữ, quai vải lót da đế PU chống trượt -Thiết kế Quai khoá nhám đẳng cấp sành điệu&quot;, &quot;Giày Lười Nam DA BỤNG CÁ SẤU ĐẸP CAO CẤP GL100D&quot;, … &quot;Giày Adidas Superstar - giày mũi sò thể thao nam nữ das sò&quot;]</td><td>[&quot;https://cf.shopee.sg/file/vn-11134207-7r98o-lvl7i80ezekx86&quot;, &quot;https://cf.shopee.sg/file/36944d18ec04e2d3563ce0fd918e5afd&quot;, … &quot;https://cf.shopee.sg/file/sg-11134201-7rd4h-lvevca50pj19f2&quot;]</td><td>[&quot;dép đì ôr nam nữ, quai vải lót da đế pu chống trượt -thiết kế quai khoá nhám đẳng cấp sành điệu&quot;, &quot;giày lười nam da bụng cá sấu đẹp cao cấp gl100d&quot;, … &quot;giày adidas superstar - giày mũi sò thể thao nam nữ das sò&quot;]</td><td>[[0.002815, -0.016281, … 0.052002], [0.010857, -0.015381, … 0.055847], … [-0.01619, -0.006607, … 0.032471]]</td></tr></tbody></table></div>"
      ],
      "text/plain": [
       "shape: (12_110, 7)\n",
       "┌──────────────┬─────────────┬─────────────┬─────────────┬─────────────┬─────────────┬─────────────┐\n",
       "│ id           ┆ q_item_id   ┆ q_level1_gl ┆ q_item_name ┆ q_link_firs ┆ q_item_name ┆ vector      │\n",
       "│ ---          ┆ ---         ┆ obal_be_cat ┆ ---         ┆ t_image     ┆ _clean      ┆ ---         │\n",
       "│ list[i64]    ┆ list[i64]   ┆ egory       ┆ list[str]   ┆ ---         ┆ ---         ┆ list[list[f │\n",
       "│              ┆             ┆ ---         ┆             ┆ list[str]   ┆ list[str]   ┆ 64]]        │\n",
       "│              ┆             ┆ list[str]   ┆             ┆             ┆             ┆             │\n",
       "╞══════════════╪═════════════╪═════════════╪═════════════╪═════════════╪═════════════╪═════════════╡\n",
       "│ [60000,      ┆ [2995609562 ┆ [\"Men       ┆ [\"（Full    ┆ [\"https://c ┆ [\"（full    ┆ [[0.019257, │\n",
       "│ 26822, …     ┆ 3, 27051603 ┆ Shoes\",     ┆ Box）  Giày ┆ f.shopee.sg ┆ box）  giày ┆ -0.001904,  │\n",
       "│ 44792]       ┆ 542, … 2…   ┆ \"Men        ┆ Thể Thao    ┆ /file/sg…   ┆ thể thao    ┆ … 0.058…    │\n",
       "│              ┆             ┆ Shoes\", …   ┆ ấd…         ┆             ┆ ấd…         ┆             │\n",
       "│              ┆             ┆ \"…          ┆             ┆             ┆             ┆             │\n",
       "│ [60001,      ┆ [2940592950 ┆ [\"Men       ┆ [\"Giày thể  ┆ [\"https://c ┆ [\"giày thể  ┆ [[0.003141, │\n",
       "│ 41519, …     ┆ 7, 27456095 ┆ Shoes\",     ┆ thao        ┆ f.shopee.sg ┆ thao        ┆ 0.020157, … │\n",
       "│ 71940]       ┆ 857, … 2…   ┆ \"Men        ┆ onitsuka    ┆ /file/vn…   ┆ onitsuka    ┆ -0.004…     │\n",
       "│              ┆             ┆ Shoes\", …   ┆ tiger…      ┆             ┆ tiger…      ┆             │\n",
       "│              ┆             ┆ \"…          ┆             ┆             ┆             ┆             │\n",
       "│ [60002,      ┆ [2426936671 ┆ [\"Men       ┆ [\"GIÀY      ┆ [\"https://c ┆ [\"giày      ┆ [[-0.050354 │\n",
       "│ 39480, …     ┆ 9,          ┆ Shoes\",     ┆ CHUNKY      ┆ f.shopee.sg ┆ chunky      ┆ , 0.031235, │\n",
       "│ 35341]       ┆ 1063630473, ┆ \"Men        ┆ DERBY DA    ┆ /file/vn…   ┆ derby da    ┆ … 0.017…    │\n",
       "│              ┆ … 20…       ┆ Shoes\", …   ┆ CỘT DÂY…    ┆             ┆ cột dây…    ┆             │\n",
       "│              ┆             ┆ \"…          ┆             ┆             ┆             ┆             │\n",
       "│ [60003,      ┆ [1938942264 ┆ [\"Men       ┆ [\"Dép cặp   ┆ [\"https://c ┆ [\"dép cặp   ┆ [[0.027557, │\n",
       "│ 62649, …     ┆ 4,          ┆ Shoes\",     ┆ nam nữ\",    ┆ f.shopee.sg ┆ nam nữ\",    ┆ -0.023743,  │\n",
       "│ 3313]        ┆ 2974950900, ┆ \"Men        ┆ \"[XUẤT      ┆ /file/vn…   ┆ \"dép nhựa   ┆ … -0.02…    │\n",
       "│              ┆ … 24…       ┆ Shoes\", …   ┆ KHẨU…       ┆             ┆ n…          ┆             │\n",
       "│              ┆             ┆ \"…          ┆             ┆             ┆             ┆             │\n",
       "│ [60004,      ┆ [1743863048 ┆ [\"Men       ┆ [\"Giày      ┆ [\"https://c ┆ [\"giày      ┆ [[0.015083, │\n",
       "│ 38525, …     ┆ 4, 29053261 ┆ Shoes\",     ┆ Derby Nam   ┆ f.shopee.sg ┆ derby nam   ┆ 0.035248, … │\n",
       "│ 48046]       ┆ 141, … 2…   ┆ \"Men        ┆ công sở     ┆ /file/sg…   ┆ công sở     ┆ 0.0216…     │\n",
       "│              ┆             ┆ Shoes\", …   ┆ tăng …      ┆             ┆ tăng …      ┆             │\n",
       "│              ┆             ┆ \"…          ┆             ┆             ┆             ┆             │\n",
       "│ …            ┆ …           ┆ …           ┆ …           ┆ …           ┆ …           ┆ …           │\n",
       "│ [72105,      ┆ [2905440343 ┆ [\"Men       ┆ [\"[ Hàng    ┆ [\"https://c ┆ [\"giày*_adi ┆ [[-0.024719 │\n",
       "│ 9280, …      ┆ 6, 18528118 ┆ Shoes\",     ┆ Chính Hãng  ┆ f.shopee.sg ┆ das samba   ┆ , 0.00281,  │\n",
       "│ 16033]       ┆ 721, … 9…   ┆ \"Men        ┆ ] Giày*_Ad… ┆ /file/sg…   ┆ og rich a…  ┆ … 0.0007…   │\n",
       "│              ┆             ┆ Shoes\", …   ┆             ┆             ┆             ┆             │\n",
       "│              ┆             ┆ \"…          ┆             ┆             ┆             ┆             │\n",
       "│ [72106,      ┆ [2495862056 ┆ [\"Men       ┆ [\"Giày thể  ┆ [\"https://c ┆ [\"giày thể  ┆ [[-0.029617 │\n",
       "│ 53214, …     ┆ 7, 28153087 ┆ Shoes\",     ┆ thao nam    ┆ f.shopee.sg ┆ thao nam    ┆ ,           │\n",
       "│ 65629]       ┆ 832, … 2…   ┆ \"Men        ┆ A-FLASHFOA… ┆ /file/vn…   ┆ a-flashfoa… ┆ -0.009315,  │\n",
       "│              ┆             ┆ Shoes\", …   ┆             ┆             ┆             ┆ … 0.01…     │\n",
       "│              ┆             ┆ \"…          ┆             ┆             ┆             ┆             │\n",
       "│ [72107,      ┆ [1898239443 ┆ [\"Men       ┆ [\"Dép kẹp   ┆ [\"https://c ┆ [\"dép kẹp   ┆ [[-0.039429 │\n",
       "│ 22156, …     ┆ 4, 29651674 ┆ Shoes\",     ┆ nam mẫu mới ┆ f.shopee.sg ┆ nam mẫu mới ┆ , 0.015556, │\n",
       "│ 48693]       ┆ 353, … 2…   ┆ \"Men        ┆ nền sọc …   ┆ /file/vn…   ┆ nền sọc …   ┆ … 0.043…    │\n",
       "│              ┆             ┆ Shoes\", …   ┆             ┆             ┆             ┆             │\n",
       "│              ┆             ┆ \"…          ┆             ┆             ┆             ┆             │\n",
       "│ [72108,      ┆ [2740138470 ┆ [\"Men       ┆ [\"[High     ┆ [\"https://c ┆ [\"giày thể  ┆ [[-0.076721 │\n",
       "│ 70138, …     ┆ 6, 24571667 ┆ Shoes\",     ┆ Quality]    ┆ f.shopee.sg ┆ thao nam nữ ┆ , 0.003918, │\n",
       "│ 32485]       ┆ 518, … 1…   ┆ \"Men        ┆ Giày Thể    ┆ /file/sg…   ┆ nik_e a…    ┆ … 0.015…    │\n",
       "│              ┆             ┆ Shoes\", …   ┆ Thao…       ┆             ┆             ┆             │\n",
       "│              ┆             ┆ \"…          ┆             ┆             ┆             ┆             │\n",
       "│ [72109,      ┆ [1659464410 ┆ [\"Men       ┆ [\"Dép Đì ôr ┆ [\"https://c ┆ [\"dép đì ôr ┆ [[0.002815, │\n",
       "│ 3375, …      ┆ 9, 21621485 ┆ Shoes\",     ┆ nam nữ,     ┆ f.shopee.sg ┆ nam nữ,     ┆ -0.016281,  │\n",
       "│ 34800]       ┆ 382, … 2…   ┆ \"Men        ┆ quai vải l… ┆ /file/vn…   ┆ quai vải l… ┆ … 0.052…    │\n",
       "│              ┆             ┆ Shoes\", …   ┆             ┆             ┆             ┆             │\n",
       "│              ┆             ┆ \"…          ┆             ┆             ┆             ┆             │\n",
       "└──────────────┴─────────────┴─────────────┴─────────────┴─────────────┴─────────────┴─────────────┘"
      ]
     },
     "execution_count": 7,
     "metadata": {},
     "output_type": "execute_result"
    }
   ],
   "source": [
    "df_result"
   ]
  }
 ],
 "metadata": {
  "kernelspec": {
   "display_name": "Python 3 (ipykernel)",
   "language": "python",
   "name": "python3"
  },
  "language_info": {
   "codemirror_mode": {
    "name": "ipython",
    "version": 3
   },
   "file_extension": ".py",
   "mimetype": "text/x-python",
   "name": "python",
   "nbconvert_exporter": "python",
   "pygments_lexer": "ipython3",
   "version": "3.12.6"
  }
 },
 "nbformat": 4,
 "nbformat_minor": 5
}
