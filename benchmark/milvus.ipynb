{
 "cells": [
  {
   "cell_type": "code",
   "execution_count": 1,
   "id": "initial_id",
   "metadata": {
    "jupyter": {
     "is_executing": true
    }
   },
   "outputs": [],
   "source": [
    "from tqdm import tqdm\n",
    "from time import perf_counter\n",
    "from pymilvus import MilvusClient\n",
    "from data_load import load, embed"
   ]
  },
  {
   "cell_type": "code",
   "execution_count": 2,
   "id": "6bcba965c08b9f7e",
   "metadata": {
    "jupyter": {
     "is_executing": true
    }
   },
   "outputs": [
    {
     "name": "stdout",
     "output_type": "stream",
     "text": [
      "Data Shape: (72110, 6)\n"
     ]
    },
    {
     "data": {
      "text/html": [
       "<div><style>\n",
       ".dataframe > thead > tr,\n",
       ".dataframe > tbody > tr {\n",
       "  text-align: right;\n",
       "  white-space: pre-wrap;\n",
       "}\n",
       "</style>\n",
       "<small>shape: (5, 6)</small><table border=\"1\" class=\"dataframe\"><thead><tr><th>id</th><th>q_item_id</th><th>q_level1_global_be_category</th><th>q_item_name</th><th>q_link_first_image</th><th>q_item_name_clean</th></tr><tr><td>u32</td><td>i64</td><td>str</td><td>str</td><td>str</td><td>str</td></tr></thead><tbody><tr><td>0</td><td>20837343532</td><td>&quot;Men Shoes&quot;</td><td>&quot;Giày Một vải Nước ngọt không d…</td><td>&quot;https://cf.shopee.sg/file/vn-1…</td><td>&quot;giày một vải nước ngọt không d…</td></tr><tr><td>1</td><td>29902674276</td><td>&quot;Men Shoes&quot;</td><td>&quot;（100% Auth ）Giày Sneaker Nam N…</td><td>&quot;https://cf.shopee.sg/file/sg-1…</td><td>&quot;（100% auth ）giày sneaker nam n…</td></tr><tr><td>2</td><td>28853113193</td><td>&quot;Men Shoes&quot;</td><td>&quot;/Hot/Giày thể thao *_Nike AirF…</td><td>&quot;https://cf.shopee.sg/file/sg-1…</td><td>&quot;/hot/giày thể thao *_nike airf…</td></tr><tr><td>3</td><td>23436040086</td><td>&quot;Men Shoes&quot;</td><td>&quot;Khăn Lau Giày Đa Năng THE WIPE…</td><td>&quot;https://cf.shopee.sg/file/vn-1…</td><td>&quot;khăn lau giày đa năng the wipe…</td></tr><tr><td>4</td><td>22561418198</td><td>&quot;Men Shoes&quot;</td><td>&quot;Cây giữ form giày chống nhăn d…</td><td>&quot;https://cf.shopee.sg/file/vn-1…</td><td>&quot;cây giữ form giày chống nhăn d…</td></tr></tbody></table></div>"
      ],
      "text/plain": [
       "shape: (5, 6)\n",
       "┌─────┬─────────────┬───────────────────┬───────────────────┬───────────────────┬──────────────────┐\n",
       "│ id  ┆ q_item_id   ┆ q_level1_global_b ┆ q_item_name       ┆ q_link_first_imag ┆ q_item_name_clea │\n",
       "│ --- ┆ ---         ┆ e_category        ┆ ---               ┆ e                 ┆ n                │\n",
       "│ u32 ┆ i64         ┆ ---               ┆ str               ┆ ---               ┆ ---              │\n",
       "│     ┆             ┆ str               ┆                   ┆ str               ┆ str              │\n",
       "╞═════╪═════════════╪═══════════════════╪═══════════════════╪═══════════════════╪══════════════════╡\n",
       "│ 0   ┆ 20837343532 ┆ Men Shoes         ┆ Giày Một vải Nước ┆ https://cf.shopee ┆ giày một vải     │\n",
       "│     ┆             ┆                   ┆ ngọt không d…     ┆ .sg/file/vn-1…    ┆ nước ngọt không  │\n",
       "│     ┆             ┆                   ┆                   ┆                   ┆ d…               │\n",
       "│ 1   ┆ 29902674276 ┆ Men Shoes         ┆ （100% Auth       ┆ https://cf.shopee ┆ （100% auth      │\n",
       "│     ┆             ┆                   ┆ ）Giày Sneaker    ┆ .sg/file/sg-1…    ┆ ）giày sneaker   │\n",
       "│     ┆             ┆                   ┆ Nam N…            ┆                   ┆ nam n…           │\n",
       "│ 2   ┆ 28853113193 ┆ Men Shoes         ┆ /Hot/Giày thể     ┆ https://cf.shopee ┆ /hot/giày thể    │\n",
       "│     ┆             ┆                   ┆ thao *_Nike AirF… ┆ .sg/file/sg-1…    ┆ thao *_nike      │\n",
       "│     ┆             ┆                   ┆                   ┆                   ┆ airf…            │\n",
       "│ 3   ┆ 23436040086 ┆ Men Shoes         ┆ Khăn Lau Giày Đa  ┆ https://cf.shopee ┆ khăn lau giày đa │\n",
       "│     ┆             ┆                   ┆ Năng THE WIPE…    ┆ .sg/file/vn-1…    ┆ năng the wipe…   │\n",
       "│ 4   ┆ 22561418198 ┆ Men Shoes         ┆ Cây giữ form giày ┆ https://cf.shopee ┆ cây giữ form     │\n",
       "│     ┆             ┆                   ┆ chống nhăn d…     ┆ .sg/file/vn-1…    ┆ giày chống nhăn  │\n",
       "│     ┆             ┆                   ┆                   ┆                   ┆ d…               │\n",
       "└─────┴─────────────┴───────────────────┴───────────────────┴───────────────────┴──────────────────┘"
      ]
     },
     "execution_count": 2,
     "metadata": {},
     "output_type": "execute_result"
    }
   ],
   "source": [
    "df, col, path = load()\n",
    "df.head()"
   ]
  },
  {
   "cell_type": "code",
   "execution_count": 3,
   "id": "281bb77e71eb2e06",
   "metadata": {
    "jupyter": {
     "is_executing": true
    }
   },
   "outputs": [],
   "source": [
    "item = df['q_item_name_clean'].to_list()\n",
    "embeddings, file_embed, df = embed(df, path)"
   ]
  },
  {
   "cell_type": "code",
   "execution_count": 4,
   "id": "4be31aa53424b95a",
   "metadata": {},
   "outputs": [],
   "source": [
    "client = MilvusClient(\"milvus_demo.db\")\n",
    "\n",
    "collection = 'demo_collection'\n",
    "if client.has_collection(collection_name=collection):\n",
    "    client.drop_collection(collection_name=collection)\n",
    "    \n",
    "client.create_collection(\n",
    "    collection_name=collection,\n",
    "    dimension=embeddings.shape[1],\n",
    "    metric_type=\"IP\"\n",
    ")"
   ]
  },
  {
   "cell_type": "code",
   "execution_count": 5,
   "id": "d0421af6-2db3-4a90-bb5c-00cb7b458ccf",
   "metadata": {},
   "outputs": [],
   "source": [
    "data = df.to_dicts()"
   ]
  },
  {
   "cell_type": "code",
   "execution_count": 6,
   "id": "006c0c1b-2169-42d3-892b-63cac31aff50",
   "metadata": {},
   "outputs": [
    {
     "name": "stdout",
     "output_type": "stream",
     "text": [
      "Total batches: 145, Batch size: 500\n"
     ]
    },
    {
     "name": "stderr",
     "output_type": "stream",
     "text": [
      "100%|████████████████████████████████████████████████████| 145/145 [00:15<00:00,  9.24it/s]"
     ]
    },
    {
     "name": "stdout",
     "output_type": "stream",
     "text": [
      "Total Index Time: 16s\n"
     ]
    },
    {
     "name": "stderr",
     "output_type": "stream",
     "text": [
      "\n"
     ]
    }
   ],
   "source": [
    "start = perf_counter()\n",
    "\n",
    "total_sample = len(data)\n",
    "batch_size = 500\n",
    "num_batches = (total_sample + batch_size) // batch_size\n",
    "print(f'Total batches: {num_batches}, Batch size: {batch_size:,.0f}')\n",
    "for i, idx in tqdm(enumerate(range(num_batches), start=1), total=num_batches):\n",
    "    start_idx = idx * batch_size\n",
    "    end_idx = min(start_idx + batch_size, total_sample)\n",
    "    batch = data[start_idx:end_idx]\n",
    "    res = client.insert(collection_name=\"demo_collection\", data=batch)\n",
    "    \n",
    "end = perf_counter() - start\n",
    "print(f'Total Index Time: {end:,.0f}s')"
   ]
  },
  {
   "cell_type": "code",
   "execution_count": 7,
   "id": "0d3057d2-f2f8-48e4-80b1-eec3d4d562b1",
   "metadata": {},
   "outputs": [
    {
     "name": "stdout",
     "output_type": "stream",
     "text": [
      "Total batches: 722, Batch size: 100\n"
     ]
    },
    {
     "name": "stderr",
     "output_type": "stream",
     "text": [
      "100%|████████████████████████████████████████████████████| 722/722 [01:16<00:00,  9.47it/s]"
     ]
    },
    {
     "name": "stdout",
     "output_type": "stream",
     "text": [
      "Total Query Time: 76s\n"
     ]
    },
    {
     "name": "stderr",
     "output_type": "stream",
     "text": [
      "\n"
     ]
    }
   ],
   "source": [
    "start = perf_counter()\n",
    "\n",
    "batch_size = 100\n",
    "num_batches = (total_sample + batch_size) // batch_size\n",
    "print(f'Total batches: {num_batches}, Batch size: {batch_size:,.0f}')\n",
    "for i, idx in tqdm(enumerate(range(num_batches), start=1), total=num_batches):\n",
    "    start_idx = idx * batch_size\n",
    "    end_idx = min(start_idx + batch_size, total_sample)\n",
    "    batch = embeddings[start_idx:end_idx].tolist()\n",
    "    res = client.search(\n",
    "        collection_name=collection,\n",
    "        data=batch,\n",
    "        limit=10,\n",
    "        search_params={\"metric_type\": \"IP\", \"params\": {}},\n",
    "        output_fields=col\n",
    "    )\n",
    "\n",
    "end = perf_counter() - start\n",
    "print(f'Total Query Time: {end:,.0f}s')"
   ]
  },
  {
   "cell_type": "code",
   "execution_count": 10,
   "id": "2cec0b77-69bb-4d25-9dad-34fe598e5930",
   "metadata": {},
   "outputs": [
    {
     "data": {
      "text/html": [
       "<div><style>\n",
       ".dataframe > thead > tr,\n",
       ".dataframe > tbody > tr {\n",
       "  text-align: right;\n",
       "  white-space: pre-wrap;\n",
       "}\n",
       "</style>\n",
       "<small>shape: (5, 7)</small><table border=\"1\" class=\"dataframe\"><thead><tr><th>id</th><th>q_item_id</th><th>q_level1_global_be_category</th><th>q_item_name</th><th>q_link_first_image</th><th>q_item_name_clean</th><th>vector</th></tr><tr><td>u32</td><td>i64</td><td>str</td><td>str</td><td>str</td><td>str</td><td>array[f32, 1024]</td></tr></thead><tbody><tr><td>72100</td><td>29352685061</td><td>&quot;Men Shoes&quot;</td><td>&quot;（100% Auth ）Giày Sneaker Nam N…</td><td>&quot;https://cf.shopee.sg/file/sg-1…</td><td>&quot;（100% auth ）giày sneaker nam n…</td><td>[0.039612, -0.024429, … 0.011963]</td></tr><tr><td>72101</td><td>25680344702</td><td>&quot;Men Shoes&quot;</td><td>&quot;Bình xịt khử mùi giày,tất bình…</td><td>&quot;https://cf.shopee.sg/file/vn-1…</td><td>&quot;bình xịt khử mùi giày,tất bình…</td><td>[0.017593, -0.000049, … 0.007217]</td></tr><tr><td>72102</td><td>5465959941</td><td>&quot;Men Shoes&quot;</td><td>&quot;Giày thể thao sneaker ultra bo…</td><td>&quot;https://cf.shopee.sg/file/f200…</td><td>&quot;giày thể thao sneaker ultra bo…</td><td>[0.015053, -0.012138, … 0.065979]</td></tr><tr><td>72103</td><td>19089276484</td><td>&quot;Men Shoes&quot;</td><td>&quot;Xịt khử mùi hôi giày dép công …</td><td>&quot;https://cf.shopee.sg/file/vn-1…</td><td>&quot;xịt khử mùi hôi giày dép công …</td><td>[-0.017456, -0.049622, … 0.01416]</td></tr><tr><td>72104</td><td>28402589440</td><td>&quot;Men Shoes&quot;</td><td>&quot;（100% Auth ）Giày Sneaker Nam N…</td><td>&quot;https://cf.shopee.sg/file/sg-1…</td><td>&quot;（100% auth ）giày sneaker nam n…</td><td>[-0.010597, -0.008514, … 0.000468]</td></tr></tbody></table></div>"
      ],
      "text/plain": [
       "shape: (5, 7)\n",
       "┌───────┬─────────────┬───────────────┬───────────────┬──────────────┬──────────────┬──────────────┐\n",
       "│ id    ┆ q_item_id   ┆ q_level1_glob ┆ q_item_name   ┆ q_link_first ┆ q_item_name_ ┆ vector       │\n",
       "│ ---   ┆ ---         ┆ al_be_categor ┆ ---           ┆ _image       ┆ clean        ┆ ---          │\n",
       "│ u32   ┆ i64         ┆ y             ┆ str           ┆ ---          ┆ ---          ┆ array[f32,   │\n",
       "│       ┆             ┆ ---           ┆               ┆ str          ┆ str          ┆ 1024]        │\n",
       "│       ┆             ┆ str           ┆               ┆              ┆              ┆              │\n",
       "╞═══════╪═════════════╪═══════════════╪═══════════════╪══════════════╪══════════════╪══════════════╡\n",
       "│ 72100 ┆ 29352685061 ┆ Men Shoes     ┆ （100% Auth   ┆ https://cf.s ┆ （100% auth  ┆ [0.039612,   │\n",
       "│       ┆             ┆               ┆ ）Giày        ┆ hopee.sg/fil ┆ ）giày       ┆ -0.024429, … │\n",
       "│       ┆             ┆               ┆ Sneaker Nam   ┆ e/sg-1…      ┆ sneaker nam  ┆ 0.0119…      │\n",
       "│       ┆             ┆               ┆ N…            ┆              ┆ n…           ┆              │\n",
       "│ 72101 ┆ 25680344702 ┆ Men Shoes     ┆ Bình xịt khử  ┆ https://cf.s ┆ bình xịt khử ┆ [0.017593,   │\n",
       "│       ┆             ┆               ┆ mùi giày,tất  ┆ hopee.sg/fil ┆ mùi giày,tất ┆ -0.000049, … │\n",
       "│       ┆             ┆               ┆ bình…         ┆ e/vn-1…      ┆ bình…        ┆ 0.0072…      │\n",
       "│ 72102 ┆ 5465959941  ┆ Men Shoes     ┆ Giày thể thao ┆ https://cf.s ┆ giày thể     ┆ [0.015053,   │\n",
       "│       ┆             ┆               ┆ sneaker ultra ┆ hopee.sg/fil ┆ thao sneaker ┆ -0.012138, … │\n",
       "│       ┆             ┆               ┆ bo…           ┆ e/f200…      ┆ ultra bo…    ┆ 0.0659…      │\n",
       "│ 72103 ┆ 19089276484 ┆ Men Shoes     ┆ Xịt khử mùi   ┆ https://cf.s ┆ xịt khử mùi  ┆ [-0.017456,  │\n",
       "│       ┆             ┆               ┆ hôi giày dép  ┆ hopee.sg/fil ┆ hôi giày dép ┆ -0.049622, … │\n",
       "│       ┆             ┆               ┆ công …        ┆ e/vn-1…      ┆ công …       ┆ 0.014…       │\n",
       "│ 72104 ┆ 28402589440 ┆ Men Shoes     ┆ （100% Auth   ┆ https://cf.s ┆ （100% auth  ┆ [-0.010597,  │\n",
       "│       ┆             ┆               ┆ ）Giày        ┆ hopee.sg/fil ┆ ）giày       ┆ -0.008514, … │\n",
       "│       ┆             ┆               ┆ Sneaker Nam   ┆ e/sg-1…      ┆ sneaker nam  ┆ 0.000…       │\n",
       "│       ┆             ┆               ┆ N…            ┆              ┆ n…           ┆              │\n",
       "└───────┴─────────────┴───────────────┴───────────────┴──────────────┴──────────────┴──────────────┘"
      ]
     },
     "execution_count": 10,
     "metadata": {},
     "output_type": "execute_result"
    }
   ],
   "source": [
    "df[start_idx:end_idx].head()"
   ]
  },
  {
   "cell_type": "code",
   "execution_count": 8,
   "id": "632cb71e-666a-42ac-b895-a5ea13feaf55",
   "metadata": {},
   "outputs": [
    {
     "data": {
      "text/plain": [
       "[{'id': 72101,\n",
       "  'distance': 0.9998304843902588,\n",
       "  'entity': {'q_item_id': 25680344702,\n",
       "   'q_level1_global_be_category': 'Men Shoes',\n",
       "   'q_item_name': 'Bình xịt khử mùi giày,tất bình xịt thể thao khử mùi hôi chân thơm mát,kháng khuẩn',\n",
       "   'q_link_first_image': 'https://cf.shopee.sg/file/vn-11134207-7r98o-lv92vrtokxrte1',\n",
       "   'q_item_name_clean': 'bình xịt khử mùi giày,tất bình xịt thể thao khử mùi hôi chân thơm mát,kháng khuẩn'}},\n",
       " {'id': 17097,\n",
       "  'distance': 0.9708941578865051,\n",
       "  'entity': {'q_item_id': 26954717704,\n",
       "   'q_level1_global_be_category': 'Men Shoes',\n",
       "   'q_item_name': 'Giày nam Da bò Lacos da trơn màu đen bản da cực mềm và êm chân, có kèm ảnh tại shop ảnh khách thử',\n",
       "   'q_link_first_image': 'https://cf.shopee.sg/file/vn-11134207-7r98o-lxf4462eu9qx7a',\n",
       "   'q_item_name_clean': 'giày nam da bò lacos da trơn màu đen bản da cực mềm và êm chân, có kèm ảnh tại shop ảnh khách thử'}},\n",
       " {'id': 48462,\n",
       "  'distance': 0.953707218170166,\n",
       "  'entity': {'q_item_id': 11064010076,\n",
       "   'q_level1_global_be_category': 'Men Shoes',\n",
       "   'q_item_name': 'HỒNG THẠNH - Giày Tây Xỏ Giả Cột Dây - 0187',\n",
       "   'q_link_first_image': 'https://cf.shopee.sg/file/vn-11134207-7r98o-lxji02joq5ll7d',\n",
       "   'q_item_name_clean': 'hồng thạnh - giày tây xỏ giả cột dây - 0187'}},\n",
       " {'id': 51369,\n",
       "  'distance': 0.9413108825683594,\n",
       "  'entity': {'q_item_id': 25072545553,\n",
       "   'q_level1_global_be_category': 'Men Shoes',\n",
       "   'q_item_name': 'Giày Adi.das Sam.ba Vàng Classic White, Giày Sam.ba Da Lộn Đủ Mẫu Hot Trend Đủ Size Nam Nữ 2024.',\n",
       "   'q_link_first_image': 'https://cf.shopee.sg/file/vn-11134201-7r98o-ltqt5w24uuj3a3',\n",
       "   'q_item_name_clean': 'giày adi.das sam.ba vàng classic white, giày sam.ba da lộn đủ mẫu hot trend đủ size nam nữ 2024'}},\n",
       " {'id': 8784,\n",
       "  'distance': 0.9399144649505615,\n",
       "  'entity': {'q_item_id': 28204560309,\n",
       "   'q_level1_global_be_category': 'Men Shoes',\n",
       "   'q_item_name': '| Classical | Giày *_Du.nk Low OW Lot 48 of 50 - 42 | Cao Cấp  / Full Box |',\n",
       "   'q_link_first_image': 'https://cf.shopee.sg/file/sg-11134201-7rd41-lxbzhn8yxfvja2',\n",
       "   'q_item_name_clean': '| classical | giày *_du.nk low ow lot 48 of 50 - 42 | cao cấp  / full box |'}},\n",
       " {'id': 44299,\n",
       "  'distance': 0.9382732510566711,\n",
       "  'entity': {'q_item_id': 698862203,\n",
       "   'q_level1_global_be_category': 'Men Shoes',\n",
       "   'q_item_name': 'Giày sandal nam 2 quai ngang Vento NV4906B màu đen',\n",
       "   'q_link_first_image': 'https://cf.shopee.sg/file/vn-11134201-7qukw-lfcp94dl8dpxc6',\n",
       "   'q_item_name_clean': 'giày sandal nam 2 quai ngang vento nv4906b màu đen'}},\n",
       " {'id': 24426,\n",
       "  'distance': 0.9380488395690918,\n",
       "  'entity': {'q_item_id': 26750977630,\n",
       "   'q_level1_global_be_category': 'Men Shoes',\n",
       "   'q_item_name': 'Dép Sandal Xỏ Ngón  Đế Dày, Mềm Mại ,Chống Trơn Trượt Thời Trang Mùa Hè 2024',\n",
       "   'q_link_first_image': 'https://cf.shopee.sg/file/vn-11134207-7r98o-ly373i4u3sux56',\n",
       "   'q_item_name_clean': 'dép sandal xỏ ngón  đế dày, mềm mại ,chống trơn trượt thời trang mùa hè 2024'}},\n",
       " {'id': 36454,\n",
       "  'distance': 0.9360968470573425,\n",
       "  'entity': {'q_item_id': 28200023877,\n",
       "   'q_level1_global_be_category': 'Men Shoes',\n",
       "   'q_item_name': 'Bàn chải đánh giày cao cấp cực bền,dụng cụ vệ sinh đồ da sạch sẽ, nên kết hợp với xi đánh giày để đạt hiệu quả cao nhất',\n",
       "   'q_link_first_image': 'https://cf.shopee.sg/file/vn-11134207-7r98o-lvbqld11x9ic54',\n",
       "   'q_item_name_clean': 'bàn chải đánh giày cao cấp cực bền,dụng cụ vệ sinh đồ da sạch sẽ, nên kết hợp với xi đánh giày để đạt hiệu quả cao nhất'}},\n",
       " {'id': 31077,\n",
       "  'distance': 0.9325118660926819,\n",
       "  'entity': {'q_item_id': 22987397082,\n",
       "   'q_level1_global_be_category': 'Men Shoes',\n",
       "   'q_item_name': 'Loafer Lucius Classic Brown - Giày lười nam da bò, đế khâu',\n",
       "   'q_link_first_image': 'https://cf.shopee.sg/file/vn-11134207-7r98o-lop3mb9m8qq8b6',\n",
       "   'q_item_name_clean': 'loafer lucius classic brown - giày lười nam da bò, đế khâu'}},\n",
       " {'id': 12632,\n",
       "  'distance': 0.9258083701133728,\n",
       "  'entity': {'q_item_id': 3391492905,\n",
       "   'q_level1_global_be_category': 'Men Shoes',\n",
       "   'q_item_name': '[Uy tín-bh 5 năm] Giày nam thể thao snekear cao cấp, giày nam da bò hàng nhập khẩu chính hãng asia, đế cao su khâu',\n",
       "   'q_link_first_image': 'https://cf.shopee.sg/file/823a2bb887e67122a6b6f6fcaa18dfd2',\n",
       "   'q_item_name_clean': 'giày nam thể thao snekear cao cấp, giày nam da bò hàng nhập khẩu chính hãng asia, đế cao su khâu'}}]"
      ]
     },
     "execution_count": 8,
     "metadata": {},
     "output_type": "execute_result"
    }
   ],
   "source": [
    "res[1]"
   ]
  },
  {
   "cell_type": "code",
   "execution_count": null,
   "id": "b1fa07b9-a596-44a0-88bf-6b5f9a7c403e",
   "metadata": {},
   "outputs": [],
   "source": []
  }
 ],
 "metadata": {
  "kernelspec": {
   "display_name": "Python 3 (ipykernel)",
   "language": "python",
   "name": "python3"
  },
  "language_info": {
   "codemirror_mode": {
    "name": "ipython",
    "version": 3
   },
   "file_extension": ".py",
   "mimetype": "text/x-python",
   "name": "python",
   "nbconvert_exporter": "python",
   "pygments_lexer": "ipython3",
   "version": "3.12.6"
  }
 },
 "nbformat": 4,
 "nbformat_minor": 5
}
